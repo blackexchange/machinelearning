{
  "nbformat": 4,
  "nbformat_minor": 0,
  "metadata": {
    "colab": {
      "provenance": [],
      "authorship_tag": "ABX9TyOsDv0VEk+IBySxzxwMOUmI",
      "include_colab_link": true
    },
    "kernelspec": {
      "name": "python3",
      "display_name": "Python 3"
    },
    "language_info": {
      "name": "python"
    }
  },
  "cells": [
    {
      "cell_type": "markdown",
      "metadata": {
        "id": "view-in-github",
        "colab_type": "text"
      },
      "source": [
        "<a href=\"https://colab.research.google.com/github/blackexchange/machinelearning/blob/main/Sefaz_Empenho.ipynb\" target=\"_parent\"><img src=\"https://colab.research.google.com/assets/colab-badge.svg\" alt=\"Open In Colab\"/></a>"
      ]
    },
    {
      "cell_type": "code",
      "execution_count": null,
      "metadata": {
        "id": "4watNy4y5MlF"
      },
      "outputs": [],
      "source": [
        "import pandas\n",
        "from sklearn import model_selection\n",
        "from sklearn.linear_model import LogisticRegression\n",
        "import sklearn\n",
        "from sklearn.linear_model import LinearRegression\n",
        "import joblib\n",
        "import matplotlib.pyplot as plt\n",
        "import tensorflow as tf"
      ]
    },
    {
      "cell_type": "code",
      "source": [
        "url ='http://www.transparencia.ba.gov.br/DadosAbertos/ObterDespesa/2022'\n",
        "ddf = pandas.read_csv(url, sep=\";\")\n"
      ],
      "metadata": {
        "id": "weCe_s096JQE",
        "outputId": "f6d2ff21-6514-45b8-faa7-a642956c0b07",
        "colab": {
          "base_uri": "https://localhost:8080/"
        }
      },
      "execution_count": null,
      "outputs": [
        {
          "output_type": "error",
          "ename": "NameError",
          "evalue": "ignored",
          "traceback": [
            "\u001b[0;31m---------------------------------------------------------------------------\u001b[0m",
            "\u001b[0;31mNameError\u001b[0m                                 Traceback (most recent call last)",
            "\u001b[0;32m<ipython-input-1-7597224863ed>\u001b[0m in \u001b[0;36m<module>\u001b[0;34m()\u001b[0m\n\u001b[1;32m      1\u001b[0m \u001b[0murl\u001b[0m \u001b[0;34m=\u001b[0m\u001b[0;34m'http://www.transparencia.ba.gov.br/DadosAbertos/ObterDespesa/2022'\u001b[0m\u001b[0;34m\u001b[0m\u001b[0;34m\u001b[0m\u001b[0m\n\u001b[0;32m----> 2\u001b[0;31m \u001b[0mddf\u001b[0m \u001b[0;34m=\u001b[0m \u001b[0mpandas\u001b[0m\u001b[0;34m.\u001b[0m\u001b[0mread_csv\u001b[0m\u001b[0;34m(\u001b[0m\u001b[0murl\u001b[0m\u001b[0;34m,\u001b[0m \u001b[0msep\u001b[0m\u001b[0;34m=\u001b[0m\u001b[0;34m\";\"\u001b[0m\u001b[0;34m)\u001b[0m\u001b[0;34m\u001b[0m\u001b[0;34m\u001b[0m\u001b[0m\n\u001b[0m",
            "\u001b[0;31mNameError\u001b[0m: name 'pandas' is not defined"
          ]
        }
      ]
    },
    {
      "cell_type": "code",
      "source": [
        "ddf.info()"
      ],
      "metadata": {
        "colab": {
          "base_uri": "https://localhost:8080/"
        },
        "id": "VdpVgTo-6oRX",
        "outputId": "df0a7027-79e8-4f6b-9d74-066ebafaa8a3"
      },
      "execution_count": null,
      "outputs": [
        {
          "output_type": "stream",
          "name": "stdout",
          "text": [
            "<class 'pandas.core.frame.DataFrame'>\n",
            "RangeIndex: 84563 entries, 0 to 84562\n",
            "Data columns (total 29 columns):\n",
            " #   Column                         Non-Null Count  Dtype  \n",
            "---  ------                         --------------  -----  \n",
            " 0   Código                         84563 non-null  object \n",
            " 1   Descrição_Elemento_de_Despesa  84563 non-null  object \n",
            " 2   Empenhado                      84563 non-null  float64\n",
            " 3   Liquidado                      84563 non-null  float64\n",
            " 4   Pago                           84563 non-null  float64\n",
            " 5   Cod_Poder                      84563 non-null  int64  \n",
            " 6   Poder                          84563 non-null  object \n",
            " 7   Cod_Órgão                      84563 non-null  int64  \n",
            " 8   Órgão                          84563 non-null  object \n",
            " 9   Cod_UnidadeOrçamentária        84563 non-null  int64  \n",
            " 10  nom_unidade_orcamentaria       84563 non-null  object \n",
            " 11  Cod_Função                     84563 non-null  int64  \n",
            " 12  Função                         84563 non-null  object \n",
            " 13  Cod_SubFunção                  84563 non-null  int64  \n",
            " 14  SubFunção                      84563 non-null  object \n",
            " 15  Cod_Categoria                  84563 non-null  int64  \n",
            " 16  Categoria                      84563 non-null  object \n",
            " 17  Cod_Grupo                      84563 non-null  int64  \n",
            " 18  Grupo                          84563 non-null  object \n",
            " 19  Cod_Modalidade                 84563 non-null  int64  \n",
            " 20  Modalidade                     84563 non-null  object \n",
            " 21  Cod_Elemento                   84563 non-null  int64  \n",
            " 22  Elemento                       84563 non-null  object \n",
            " 23  Cod_Fonte                      84563 non-null  int64  \n",
            " 24  Fonte                          84563 non-null  object \n",
            " 25  Cod_Programa                   84563 non-null  int64  \n",
            " 26  Programa                       84563 non-null  object \n",
            " 27  Cod_Ação                       84563 non-null  int64  \n",
            " 28  Ação                           84563 non-null  object \n",
            "dtypes: float64(3), int64(12), object(14)\n",
            "memory usage: 18.7+ MB\n"
          ]
        }
      ]
    },
    {
      "cell_type": "code",
      "source": [
        "df = ddf[['Poder','Empenhado','Liquidado', 'Pago']]"
      ],
      "metadata": {
        "id": "exZ-Y0ZL_hpH"
      },
      "execution_count": null,
      "outputs": []
    },
    {
      "cell_type": "code",
      "source": [
        "df.info()"
      ],
      "metadata": {
        "colab": {
          "base_uri": "https://localhost:8080/"
        },
        "id": "UVcpAnaB_liD",
        "outputId": "2e7df506-d5f3-47ca-9632-d2a9aeeb91d4"
      },
      "execution_count": null,
      "outputs": [
        {
          "output_type": "stream",
          "name": "stdout",
          "text": [
            "<class 'pandas.core.frame.DataFrame'>\n",
            "Int64Index: 84563 entries, 0 to 84562\n",
            "Data columns (total 4 columns):\n",
            " #   Column     Non-Null Count  Dtype  \n",
            "---  ------     --------------  -----  \n",
            " 0   Poder      84563 non-null  object \n",
            " 1   Empenhado  84563 non-null  float64\n",
            " 2   Liquidado  84563 non-null  float64\n",
            " 3   Pago       84563 non-null  float64\n",
            "dtypes: float64(3), object(1)\n",
            "memory usage: 5.2+ MB\n"
          ]
        }
      ]
    },
    {
      "cell_type": "code",
      "source": [
        "df.loc[50:100,:].groupby(by='Poder').sum()"
      ],
      "metadata": {
        "colab": {
          "base_uri": "https://localhost:8080/",
          "height": 128
        },
        "id": "hE45EVOAQlRU",
        "outputId": "1ef73184-77e0-4568-ad4c-cfce17a65806"
      },
      "execution_count": null,
      "outputs": [
        {
          "output_type": "execute_result",
          "data": {
            "text/plain": [
              "                Empenhado   Liquidado         Pago\n",
              "Poder                                             \n",
              "Legislativo  1.256044e+08  81295391.6  87289581.17"
            ],
            "text/html": [
              "\n",
              "  <div id=\"df-054cbdd3-59b5-406f-b6ae-9ebf5e2191cd\">\n",
              "    <div class=\"colab-df-container\">\n",
              "      <div>\n",
              "<style scoped>\n",
              "    .dataframe tbody tr th:only-of-type {\n",
              "        vertical-align: middle;\n",
              "    }\n",
              "\n",
              "    .dataframe tbody tr th {\n",
              "        vertical-align: top;\n",
              "    }\n",
              "\n",
              "    .dataframe thead th {\n",
              "        text-align: right;\n",
              "    }\n",
              "</style>\n",
              "<table border=\"1\" class=\"dataframe\">\n",
              "  <thead>\n",
              "    <tr style=\"text-align: right;\">\n",
              "      <th></th>\n",
              "      <th>Empenhado</th>\n",
              "      <th>Liquidado</th>\n",
              "      <th>Pago</th>\n",
              "    </tr>\n",
              "    <tr>\n",
              "      <th>Poder</th>\n",
              "      <th></th>\n",
              "      <th></th>\n",
              "      <th></th>\n",
              "    </tr>\n",
              "  </thead>\n",
              "  <tbody>\n",
              "    <tr>\n",
              "      <th>Legislativo</th>\n",
              "      <td>1.256044e+08</td>\n",
              "      <td>81295391.6</td>\n",
              "      <td>87289581.17</td>\n",
              "    </tr>\n",
              "  </tbody>\n",
              "</table>\n",
              "</div>\n",
              "      <button class=\"colab-df-convert\" onclick=\"convertToInteractive('df-054cbdd3-59b5-406f-b6ae-9ebf5e2191cd')\"\n",
              "              title=\"Convert this dataframe to an interactive table.\"\n",
              "              style=\"display:none;\">\n",
              "        \n",
              "  <svg xmlns=\"http://www.w3.org/2000/svg\" height=\"24px\"viewBox=\"0 0 24 24\"\n",
              "       width=\"24px\">\n",
              "    <path d=\"M0 0h24v24H0V0z\" fill=\"none\"/>\n",
              "    <path d=\"M18.56 5.44l.94 2.06.94-2.06 2.06-.94-2.06-.94-.94-2.06-.94 2.06-2.06.94zm-11 1L8.5 8.5l.94-2.06 2.06-.94-2.06-.94L8.5 2.5l-.94 2.06-2.06.94zm10 10l.94 2.06.94-2.06 2.06-.94-2.06-.94-.94-2.06-.94 2.06-2.06.94z\"/><path d=\"M17.41 7.96l-1.37-1.37c-.4-.4-.92-.59-1.43-.59-.52 0-1.04.2-1.43.59L10.3 9.45l-7.72 7.72c-.78.78-.78 2.05 0 2.83L4 21.41c.39.39.9.59 1.41.59.51 0 1.02-.2 1.41-.59l7.78-7.78 2.81-2.81c.8-.78.8-2.07 0-2.86zM5.41 20L4 18.59l7.72-7.72 1.47 1.35L5.41 20z\"/>\n",
              "  </svg>\n",
              "      </button>\n",
              "      \n",
              "  <style>\n",
              "    .colab-df-container {\n",
              "      display:flex;\n",
              "      flex-wrap:wrap;\n",
              "      gap: 12px;\n",
              "    }\n",
              "\n",
              "    .colab-df-convert {\n",
              "      background-color: #E8F0FE;\n",
              "      border: none;\n",
              "      border-radius: 50%;\n",
              "      cursor: pointer;\n",
              "      display: none;\n",
              "      fill: #1967D2;\n",
              "      height: 32px;\n",
              "      padding: 0 0 0 0;\n",
              "      width: 32px;\n",
              "    }\n",
              "\n",
              "    .colab-df-convert:hover {\n",
              "      background-color: #E2EBFA;\n",
              "      box-shadow: 0px 1px 2px rgba(60, 64, 67, 0.3), 0px 1px 3px 1px rgba(60, 64, 67, 0.15);\n",
              "      fill: #174EA6;\n",
              "    }\n",
              "\n",
              "    [theme=dark] .colab-df-convert {\n",
              "      background-color: #3B4455;\n",
              "      fill: #D2E3FC;\n",
              "    }\n",
              "\n",
              "    [theme=dark] .colab-df-convert:hover {\n",
              "      background-color: #434B5C;\n",
              "      box-shadow: 0px 1px 3px 1px rgba(0, 0, 0, 0.15);\n",
              "      filter: drop-shadow(0px 1px 2px rgba(0, 0, 0, 0.3));\n",
              "      fill: #FFFFFF;\n",
              "    }\n",
              "  </style>\n",
              "\n",
              "      <script>\n",
              "        const buttonEl =\n",
              "          document.querySelector('#df-054cbdd3-59b5-406f-b6ae-9ebf5e2191cd button.colab-df-convert');\n",
              "        buttonEl.style.display =\n",
              "          google.colab.kernel.accessAllowed ? 'block' : 'none';\n",
              "\n",
              "        async function convertToInteractive(key) {\n",
              "          const element = document.querySelector('#df-054cbdd3-59b5-406f-b6ae-9ebf5e2191cd');\n",
              "          const dataTable =\n",
              "            await google.colab.kernel.invokeFunction('convertToInteractive',\n",
              "                                                     [key], {});\n",
              "          if (!dataTable) return;\n",
              "\n",
              "          const docLinkHtml = 'Like what you see? Visit the ' +\n",
              "            '<a target=\"_blank\" href=https://colab.research.google.com/notebooks/data_table.ipynb>data table notebook</a>'\n",
              "            + ' to learn more about interactive tables.';\n",
              "          element.innerHTML = '';\n",
              "          dataTable['output_type'] = 'display_data';\n",
              "          await google.colab.output.renderOutput(dataTable, element);\n",
              "          const docLink = document.createElement('div');\n",
              "          docLink.innerHTML = docLinkHtml;\n",
              "          element.appendChild(docLink);\n",
              "        }\n",
              "      </script>\n",
              "    </div>\n",
              "  </div>\n",
              "  "
            ]
          },
          "metadata": {},
          "execution_count": 242
        }
      ]
    },
    {
      "cell_type": "code",
      "source": [
        "df.isna().any"
      ],
      "metadata": {
        "colab": {
          "base_uri": "https://localhost:8080/"
        },
        "id": "PLErjD_ZFJZ-",
        "outputId": "85131954-c03a-42e2-d23c-e4274b93be09"
      },
      "execution_count": null,
      "outputs": [
        {
          "output_type": "execute_result",
          "data": {
            "text/plain": [
              "<bound method NDFrame._add_numeric_operations.<locals>.any of        Poder  Empenhado  Liquidado   Pago\n",
              "0      False      False      False  False\n",
              "1      False      False      False  False\n",
              "2      False      False      False  False\n",
              "3      False      False      False  False\n",
              "4      False      False      False  False\n",
              "...      ...        ...        ...    ...\n",
              "84558  False      False      False  False\n",
              "84559  False      False      False  False\n",
              "84560  False      False      False  False\n",
              "84561  False      False      False  False\n",
              "84562  False      False      False  False\n",
              "\n",
              "[84563 rows x 4 columns]>"
            ]
          },
          "metadata": {},
          "execution_count": 243
        }
      ]
    },
    {
      "cell_type": "code",
      "source": [
        "li = 10\n",
        "ls = 16000\n",
        "df2 = df[ (df['Empenhado'] > li) & (df['Empenhado'] <ls ) & (df['Pago'] > li) & (df['Pago'] <ls ) & (df['Liquidado'] > li) & (df['Liquidado'] <ls ) ]"
      ],
      "metadata": {
        "id": "kUnv9OgNW36j"
      },
      "execution_count": null,
      "outputs": []
    },
    {
      "cell_type": "code",
      "source": [
        "pandas.set_option('display.float_format', lambda x: '%.2f' % x)\n"
      ],
      "metadata": {
        "id": "OZC5L5kjb4TH"
      },
      "execution_count": null,
      "outputs": []
    },
    {
      "cell_type": "code",
      "source": [
        "df3 = df.loc[(df[\"Empenhado\"] > 0) & (df[\"Liquidado\"] > 0)& (df[\"Pago\"] > 0)].reset_index()"
      ],
      "metadata": {
        "id": "fx_OmkBdjyu3"
      },
      "execution_count": null,
      "outputs": []
    },
    {
      "cell_type": "code",
      "source": [
        "df3.describe()"
      ],
      "metadata": {
        "colab": {
          "base_uri": "https://localhost:8080/",
          "height": 300
        },
        "id": "kfXNvka_jrrg",
        "outputId": "b60d0fa3-7ec5-4822-a5e2-bd2262a335ad"
      },
      "execution_count": null,
      "outputs": [
        {
          "output_type": "execute_result",
          "data": {
            "text/plain": [
              "         index    Empenhado    Liquidado         Pago\n",
              "count 28415.00     28415.00     28415.00     28415.00\n",
              "mean  42573.04   1151478.42   1084621.85   1059101.34\n",
              "std   24535.38  13350755.30  12854724.39  12736429.15\n",
              "min       3.00         0.02         0.13         0.13\n",
              "25%   21117.00      3708.55      3450.25      3374.12\n",
              "50%   43797.00     21434.15     19440.00     18851.52\n",
              "75%   61946.50    153704.69    138024.78    134856.33\n",
              "max   84562.00 723563341.38 723563341.38 723563341.38"
            ],
            "text/html": [
              "\n",
              "  <div id=\"df-b6274d02-1d2e-44dd-b908-463592ffe445\">\n",
              "    <div class=\"colab-df-container\">\n",
              "      <div>\n",
              "<style scoped>\n",
              "    .dataframe tbody tr th:only-of-type {\n",
              "        vertical-align: middle;\n",
              "    }\n",
              "\n",
              "    .dataframe tbody tr th {\n",
              "        vertical-align: top;\n",
              "    }\n",
              "\n",
              "    .dataframe thead th {\n",
              "        text-align: right;\n",
              "    }\n",
              "</style>\n",
              "<table border=\"1\" class=\"dataframe\">\n",
              "  <thead>\n",
              "    <tr style=\"text-align: right;\">\n",
              "      <th></th>\n",
              "      <th>index</th>\n",
              "      <th>Empenhado</th>\n",
              "      <th>Liquidado</th>\n",
              "      <th>Pago</th>\n",
              "    </tr>\n",
              "  </thead>\n",
              "  <tbody>\n",
              "    <tr>\n",
              "      <th>count</th>\n",
              "      <td>28415.00</td>\n",
              "      <td>28415.00</td>\n",
              "      <td>28415.00</td>\n",
              "      <td>28415.00</td>\n",
              "    </tr>\n",
              "    <tr>\n",
              "      <th>mean</th>\n",
              "      <td>42573.04</td>\n",
              "      <td>1151478.42</td>\n",
              "      <td>1084621.85</td>\n",
              "      <td>1059101.34</td>\n",
              "    </tr>\n",
              "    <tr>\n",
              "      <th>std</th>\n",
              "      <td>24535.38</td>\n",
              "      <td>13350755.30</td>\n",
              "      <td>12854724.39</td>\n",
              "      <td>12736429.15</td>\n",
              "    </tr>\n",
              "    <tr>\n",
              "      <th>min</th>\n",
              "      <td>3.00</td>\n",
              "      <td>0.02</td>\n",
              "      <td>0.13</td>\n",
              "      <td>0.13</td>\n",
              "    </tr>\n",
              "    <tr>\n",
              "      <th>25%</th>\n",
              "      <td>21117.00</td>\n",
              "      <td>3708.55</td>\n",
              "      <td>3450.25</td>\n",
              "      <td>3374.12</td>\n",
              "    </tr>\n",
              "    <tr>\n",
              "      <th>50%</th>\n",
              "      <td>43797.00</td>\n",
              "      <td>21434.15</td>\n",
              "      <td>19440.00</td>\n",
              "      <td>18851.52</td>\n",
              "    </tr>\n",
              "    <tr>\n",
              "      <th>75%</th>\n",
              "      <td>61946.50</td>\n",
              "      <td>153704.69</td>\n",
              "      <td>138024.78</td>\n",
              "      <td>134856.33</td>\n",
              "    </tr>\n",
              "    <tr>\n",
              "      <th>max</th>\n",
              "      <td>84562.00</td>\n",
              "      <td>723563341.38</td>\n",
              "      <td>723563341.38</td>\n",
              "      <td>723563341.38</td>\n",
              "    </tr>\n",
              "  </tbody>\n",
              "</table>\n",
              "</div>\n",
              "      <button class=\"colab-df-convert\" onclick=\"convertToInteractive('df-b6274d02-1d2e-44dd-b908-463592ffe445')\"\n",
              "              title=\"Convert this dataframe to an interactive table.\"\n",
              "              style=\"display:none;\">\n",
              "        \n",
              "  <svg xmlns=\"http://www.w3.org/2000/svg\" height=\"24px\"viewBox=\"0 0 24 24\"\n",
              "       width=\"24px\">\n",
              "    <path d=\"M0 0h24v24H0V0z\" fill=\"none\"/>\n",
              "    <path d=\"M18.56 5.44l.94 2.06.94-2.06 2.06-.94-2.06-.94-.94-2.06-.94 2.06-2.06.94zm-11 1L8.5 8.5l.94-2.06 2.06-.94-2.06-.94L8.5 2.5l-.94 2.06-2.06.94zm10 10l.94 2.06.94-2.06 2.06-.94-2.06-.94-.94-2.06-.94 2.06-2.06.94z\"/><path d=\"M17.41 7.96l-1.37-1.37c-.4-.4-.92-.59-1.43-.59-.52 0-1.04.2-1.43.59L10.3 9.45l-7.72 7.72c-.78.78-.78 2.05 0 2.83L4 21.41c.39.39.9.59 1.41.59.51 0 1.02-.2 1.41-.59l7.78-7.78 2.81-2.81c.8-.78.8-2.07 0-2.86zM5.41 20L4 18.59l7.72-7.72 1.47 1.35L5.41 20z\"/>\n",
              "  </svg>\n",
              "      </button>\n",
              "      \n",
              "  <style>\n",
              "    .colab-df-container {\n",
              "      display:flex;\n",
              "      flex-wrap:wrap;\n",
              "      gap: 12px;\n",
              "    }\n",
              "\n",
              "    .colab-df-convert {\n",
              "      background-color: #E8F0FE;\n",
              "      border: none;\n",
              "      border-radius: 50%;\n",
              "      cursor: pointer;\n",
              "      display: none;\n",
              "      fill: #1967D2;\n",
              "      height: 32px;\n",
              "      padding: 0 0 0 0;\n",
              "      width: 32px;\n",
              "    }\n",
              "\n",
              "    .colab-df-convert:hover {\n",
              "      background-color: #E2EBFA;\n",
              "      box-shadow: 0px 1px 2px rgba(60, 64, 67, 0.3), 0px 1px 3px 1px rgba(60, 64, 67, 0.15);\n",
              "      fill: #174EA6;\n",
              "    }\n",
              "\n",
              "    [theme=dark] .colab-df-convert {\n",
              "      background-color: #3B4455;\n",
              "      fill: #D2E3FC;\n",
              "    }\n",
              "\n",
              "    [theme=dark] .colab-df-convert:hover {\n",
              "      background-color: #434B5C;\n",
              "      box-shadow: 0px 1px 3px 1px rgba(0, 0, 0, 0.15);\n",
              "      filter: drop-shadow(0px 1px 2px rgba(0, 0, 0, 0.3));\n",
              "      fill: #FFFFFF;\n",
              "    }\n",
              "  </style>\n",
              "\n",
              "      <script>\n",
              "        const buttonEl =\n",
              "          document.querySelector('#df-b6274d02-1d2e-44dd-b908-463592ffe445 button.colab-df-convert');\n",
              "        buttonEl.style.display =\n",
              "          google.colab.kernel.accessAllowed ? 'block' : 'none';\n",
              "\n",
              "        async function convertToInteractive(key) {\n",
              "          const element = document.querySelector('#df-b6274d02-1d2e-44dd-b908-463592ffe445');\n",
              "          const dataTable =\n",
              "            await google.colab.kernel.invokeFunction('convertToInteractive',\n",
              "                                                     [key], {});\n",
              "          if (!dataTable) return;\n",
              "\n",
              "          const docLinkHtml = 'Like what you see? Visit the ' +\n",
              "            '<a target=\"_blank\" href=https://colab.research.google.com/notebooks/data_table.ipynb>data table notebook</a>'\n",
              "            + ' to learn more about interactive tables.';\n",
              "          element.innerHTML = '';\n",
              "          dataTable['output_type'] = 'display_data';\n",
              "          await google.colab.output.renderOutput(dataTable, element);\n",
              "          const docLink = document.createElement('div');\n",
              "          docLink.innerHTML = docLinkHtml;\n",
              "          element.appendChild(docLink);\n",
              "        }\n",
              "      </script>\n",
              "    </div>\n",
              "  </div>\n",
              "  "
            ]
          },
          "metadata": {},
          "execution_count": 426
        }
      ]
    },
    {
      "cell_type": "code",
      "source": [
        "li = 10\n",
        "ls = 16000\n",
        "x=df3.loc[(df3[\"Empenhado\"] < ls) & (df3[\"Empenhado\"] > li)].index\n",
        "y=df3.loc[(df3[\"Empenhado\"] < ls) & (df3[\"Empenhado\"] > li)].Empenhado\n",
        "\n",
        "plt.scatter(x,y ,alpha=0.5)\n",
        "#plt.scatter(x=df3.index,y=df3.Liquidado /1000000,alpha=0.5)\n",
        "#plt.scatter(x=df3.index,y=df3.Pago/1000000 ,alpha=0.5)\n",
        "\n",
        "plt.show()\n",
        "df3[['Empenhado']].loc[(df3[\"Empenhado\"] < ls) & (df3[\"Empenhado\"] > li)].boxplot()\n",
        "print(y.shape)"
      ],
      "metadata": {
        "colab": {
          "base_uri": "https://localhost:8080/",
          "height": 531
        },
        "id": "2U4vUmMu3s4z",
        "outputId": "b426f647-57e8-4599-92d4-4c277f485586"
      },
      "execution_count": null,
      "outputs": [
        {
          "output_type": "display_data",
          "data": {
            "text/plain": [
              "<Figure size 432x288 with 1 Axes>"
            ],
            "image/png": "[encoded data removed]"
          },
          "metadata": {
            "needs_background": "light"
          }
        },
        {
          "output_type": "stream",
          "name": "stdout",
          "text": [
            "(13070,)\n"
          ]
        },
        {
          "output_type": "display_data",
          "data": {
            "text/plain": [
              "<Figure size 432x288 with 1 Axes>"
            ],
            "image/png": "[encoded data removed]"
          },
          "metadata": {
            "needs_background": "light"
          }
        }
      ]
    },
    {
      "cell_type": "code",
      "source": [
        "df3.loc[(df3[\"Empenhado\"] > 100) & (df3[\"Liquidado\"] > 100)& (df3[\"Pago\"] > 100) &(df3[\"Empenhado\"] <150000) & (df3[\"Liquidado\"] <150000)& (df3[\"Pago\"] <150000)].hist()"
      ],
      "metadata": {
        "colab": {
          "base_uri": "https://localhost:8080/",
          "height": 372
        },
        "id": "RwCRyGSoXmvL",
        "outputId": "faebce83-d320-425d-a394-91c238771dce"
      },
      "execution_count": null,
      "outputs": [
        {
          "output_type": "execute_result",
          "data": {
            "text/plain": [
              "array([[<matplotlib.axes._subplots.AxesSubplot object at 0x7f73192011d0>,\n",
              "        <matplotlib.axes._subplots.AxesSubplot object at 0x7f731915f9d0>],\n",
              "       [<matplotlib.axes._subplots.AxesSubplot object at 0x7f731918eed0>,\n",
              "        <matplotlib.axes._subplots.AxesSubplot object at 0x7f731914c410>]],\n",
              "      dtype=object)"
            ]
          },
          "metadata": {},
          "execution_count": 406
        },
        {
          "output_type": "display_data",
          "data": {
            "text/plain": [
              "<Figure size 432x288 with 4 Axes>"
            ],
            "image/png": "[encoded data removed]"
          },
          "metadata": {
            "needs_background": "light"
          }
        }
      ]
    },
    {
      "cell_type": "markdown",
      "source": [
        "# New Section"
      ],
      "metadata": {
        "id": "jasVF9KvqwmN"
      }
    },
    {
      "cell_type": "code",
      "source": [],
      "metadata": {
        "id": "LCCB7fnxq1qo"
      },
      "execution_count": null,
      "outputs": []
    },
    {
      "cell_type": "code",
      "source": [],
      "metadata": {
        "id": "HNztpCM-E8r9"
      },
      "execution_count": null,
      "outputs": []
    },
    {
      "cell_type": "code",
      "source": [
        "for i in df2.columns:\n",
        "    if (i != 'Poder'):\n",
        "      \n",
        "      print (df2[i] <0)"
      ],
      "metadata": {
        "colab": {
          "base_uri": "https://localhost:8080/"
        },
        "id": "9GF_eCe7BFiU",
        "outputId": "ba9ecc8f-6500-4729-fbf2-c93fc3694e84"
      },
      "execution_count": null,
      "outputs": [
        {
          "output_type": "stream",
          "name": "stdout",
          "text": [
            "3        False\n",
            "5        False\n",
            "8        False\n",
            "11       False\n",
            "14       False\n",
            "         ...  \n",
            "84557    False\n",
            "84558    False\n",
            "84560    False\n",
            "84561    False\n",
            "84562    False\n",
            "Name: Empenhado, Length: 28636, dtype: bool\n",
            "3        False\n",
            "5        False\n",
            "8        False\n",
            "11       False\n",
            "14       False\n",
            "         ...  \n",
            "84557    False\n",
            "84558    False\n",
            "84560    False\n",
            "84561    False\n",
            "84562    False\n",
            "Name: Liquidado, Length: 28636, dtype: bool\n",
            "3        False\n",
            "5        False\n",
            "8        False\n",
            "11       False\n",
            "14       False\n",
            "         ...  \n",
            "84557    False\n",
            "84558    False\n",
            "84560    False\n",
            "84561    False\n",
            "84562    False\n",
            "Name: Pago, Length: 28636, dtype: bool\n"
          ]
        }
      ]
    },
    {
      "cell_type": "code",
      "source": [
        "df2.loc[df2.Poder=='Executivo'].boxplot(figsize=(7,7))"
      ],
      "metadata": {
        "colab": {
          "base_uri": "https://localhost:8080/",
          "height": 446
        },
        "id": "tWDT9lpwX6l5",
        "outputId": "01c82a27-f40d-4d44-cd94-9d25f8d7ed85"
      },
      "execution_count": null,
      "outputs": [
        {
          "output_type": "execute_result",
          "data": {
            "text/plain": [
              "<matplotlib.axes._subplots.AxesSubplot at 0x7f7317042510>"
            ]
          },
          "metadata": {},
          "execution_count": 502
        },
        {
          "output_type": "display_data",
          "data": {
            "text/plain": [
              "<Figure size 504x504 with 1 Axes>"
            ],
            "image/png": "[encoded data removed]"
          },
          "metadata": {
            "needs_background": "light"
          }
        }
      ]
    },
    {
      "cell_type": "code",
      "source": [
        "#multiple conditions\n",
        " \n",
        "df2[(df2['Liquidado'] >0) & (df2['Liquidado'] <100)].boxplot(figsize=(7,7))"
      ],
      "metadata": {
        "colab": {
          "base_uri": "https://localhost:8080/",
          "height": 446
        },
        "id": "Zv3OysIzedCD",
        "outputId": "1328acf0-25c3-4502-92c8-b966fd89b6ba"
      },
      "execution_count": null,
      "outputs": [
        {
          "output_type": "execute_result",
          "data": {
            "text/plain": [
              "<matplotlib.axes._subplots.AxesSubplot at 0x7f731abf6f50>"
            ]
          },
          "metadata": {},
          "execution_count": 355
        },
        {
          "output_type": "display_data",
          "data": {
            "text/plain": [
              "<Figure size 504x504 with 1 Axes>"
            ],
            "image/png": "[encoded data removed]"
          },
          "metadata": {
            "needs_background": "light"
          }
        }
      ]
    },
    {
      "cell_type": "code",
      "source": [
        "array = df2.values"
      ],
      "metadata": {
        "id": "WXvHrbFbG36q"
      },
      "execution_count": null,
      "outputs": []
    },
    {
      "cell_type": "code",
      "source": [
        "array.shape"
      ],
      "metadata": {
        "colab": {
          "base_uri": "https://localhost:8080/"
        },
        "id": "QaypXQ0WG-7e",
        "outputId": "d08a6141-7a71-4c74-8052-a37de88d4303"
      },
      "execution_count": null,
      "outputs": [
        {
          "output_type": "execute_result",
          "data": {
            "text/plain": [
              "(12368, 4)"
            ]
          },
          "metadata": {},
          "execution_count": 504
        }
      ]
    },
    {
      "cell_type": "code",
      "source": [
        "# Separando as dependentes Empenhado Liquidado\n",
        "X = array[:,1:3]\n",
        "y = array[:,3]"
      ],
      "metadata": {
        "id": "5d2O5h6b7X9E"
      },
      "execution_count": null,
      "outputs": []
    },
    {
      "cell_type": "code",
      "source": [
        "test_size = 0.20\n",
        "seed = 42\n",
        "X_train, X_test, Y_train, Y_test = model_selection.train_test_split(X, y, test_size=test_size, random_state=seed)\n"
      ],
      "metadata": {
        "id": "JCdMn7dz7-Sv",
        "outputId": "93b1395c-7d4e-47ca-fcda-58cb7429f550",
        "colab": {
          "base_uri": "https://localhost:8080/",
          "height": 200
        }
      },
      "execution_count": null,
      "outputs": [
        {
          "output_type": "error",
          "ename": "NameError",
          "evalue": "ignored",
          "traceback": [
            "\u001b[0;31m---------------------------------------------------------------------------\u001b[0m",
            "\u001b[0;31mNameError\u001b[0m                                 Traceback (most recent call last)",
            "\u001b[0;32m<ipython-input-1-d62d3f80988d>\u001b[0m in \u001b[0;36m<module>\u001b[0;34m()\u001b[0m\n\u001b[1;32m      1\u001b[0m \u001b[0mtest_size\u001b[0m \u001b[0;34m=\u001b[0m \u001b[0;36m0.20\u001b[0m\u001b[0;34m\u001b[0m\u001b[0;34m\u001b[0m\u001b[0m\n\u001b[1;32m      2\u001b[0m \u001b[0mseed\u001b[0m \u001b[0;34m=\u001b[0m \u001b[0;36m42\u001b[0m\u001b[0;34m\u001b[0m\u001b[0;34m\u001b[0m\u001b[0m\n\u001b[0;32m----> 3\u001b[0;31m \u001b[0mX_train\u001b[0m\u001b[0;34m,\u001b[0m \u001b[0mX_test\u001b[0m\u001b[0;34m,\u001b[0m \u001b[0mY_train\u001b[0m\u001b[0;34m,\u001b[0m \u001b[0mY_test\u001b[0m \u001b[0;34m=\u001b[0m \u001b[0mmodel_selection\u001b[0m\u001b[0;34m.\u001b[0m\u001b[0mtrain_test_split\u001b[0m\u001b[0;34m(\u001b[0m\u001b[0mX\u001b[0m\u001b[0;34m,\u001b[0m \u001b[0my\u001b[0m\u001b[0;34m,\u001b[0m \u001b[0mtest_size\u001b[0m\u001b[0;34m=\u001b[0m\u001b[0mtest_size\u001b[0m\u001b[0;34m,\u001b[0m \u001b[0mrandom_state\u001b[0m\u001b[0;34m=\u001b[0m\u001b[0mseed\u001b[0m\u001b[0;34m)\u001b[0m\u001b[0;34m\u001b[0m\u001b[0;34m\u001b[0m\u001b[0m\n\u001b[0m",
            "\u001b[0;31mNameError\u001b[0m: name 'model_selection' is not defined"
          ]
        }
      ]
    },
    {
      "cell_type": "code",
      "source": [
        "# Fit the model on training set\n",
        "model = LinearRegression()\n",
        "model.fit(X_train, Y_train)"
      ],
      "metadata": {
        "colab": {
          "base_uri": "https://localhost:8080/"
        },
        "id": "pt0hOE2V_Aqp",
        "outputId": "7f55129c-aa47-451b-8837-0cda61cb43f8"
      },
      "execution_count": null,
      "outputs": [
        {
          "output_type": "execute_result",
          "data": {
            "text/plain": [
              "LinearRegression()"
            ]
          },
          "metadata": {},
          "execution_count": 507
        }
      ]
    },
    {
      "cell_type": "code",
      "source": [
        "model.coef_"
      ],
      "metadata": {
        "colab": {
          "base_uri": "https://localhost:8080/"
        },
        "id": "bPUaJCbu_ITq",
        "outputId": "e86b15ec-486e-479c-8999-6a0125d16c4a"
      },
      "execution_count": null,
      "outputs": [
        {
          "output_type": "execute_result",
          "data": {
            "text/plain": [
              "array([0.02490178, 0.93828983])"
            ]
          },
          "metadata": {},
          "execution_count": 508
        }
      ]
    },
    {
      "cell_type": "code",
      "source": [
        "model.score(X_test,Y_test)"
      ],
      "metadata": {
        "colab": {
          "base_uri": "https://localhost:8080/"
        },
        "id": "MUnT0VpiIHho",
        "outputId": "f3acd552-4f24-4bb3-a675-57b7725be785"
      },
      "execution_count": null,
      "outputs": [
        {
          "output_type": "execute_result",
          "data": {
            "text/plain": [
              "0.9165039855123251"
            ]
          },
          "metadata": {},
          "execution_count": 509
        }
      ]
    },
    {
      "cell_type": "code",
      "source": [
        "y_pred = model.predict(X_test)\n",
        "\n",
        "model.predict([[483000000.84,468000000.60]])/1000"
      ],
      "metadata": {
        "colab": {
          "base_uri": "https://localhost:8080/"
        },
        "id": "9nbX7aUAJCs2",
        "outputId": "41445aa2-2a5a-41d5-a4e1-eb850c563c71"
      },
      "execution_count": null,
      "outputs": [
        {
          "output_type": "execute_result",
          "data": {
            "text/plain": [
              "array([451147.35728633])"
            ]
          },
          "metadata": {},
          "execution_count": 512
        }
      ]
    },
    {
      "cell_type": "code",
      "source": [
        "#plt.scatter(X_test, Y_test, color=\"black\")\n",
        "\n",
        "\n",
        "#plt.scatter(X_test[0], Y_test, color=\"black\")\n",
        "plt.plot(X_test, y_pred, color=\"blue\", linewidth=3)\n",
        "\n",
        "\n",
        "#plt.xticks(())\n",
        "#plt.yticks(())\n",
        "\n",
        "plt.show()"
      ],
      "metadata": {
        "colab": {
          "base_uri": "https://localhost:8080/",
          "height": 266
        },
        "id": "TLWDT5G5LxKv",
        "outputId": "1e81c942-1668-4a58-ee89-d2f8ca83add2"
      },
      "execution_count": null,
      "outputs": [
        {
          "output_type": "display_data",
          "data": {
            "text/plain": [
              "<Figure size 432x288 with 1 Axes>"
            ],
            "image/png": "[encoded data removed]"
          },
          "metadata": {
            "needs_background": "light"
          }
        }
      ]
    },
    {
      "cell_type": "code",
      "source": [
        "filename = 'model2.sav'\n",
        "joblib.dump(model, filename)\n",
        " "
      ],
      "metadata": {
        "colab": {
          "base_uri": "https://localhost:8080/"
        },
        "id": "FpF0lSSMTHzw",
        "outputId": "ab406d25-e700-4c69-835e-2748ee650f22"
      },
      "execution_count": null,
      "outputs": [
        {
          "output_type": "execute_result",
          "data": {
            "text/plain": [
              "['model2.sav']"
            ]
          },
          "metadata": {},
          "execution_count": 260
        }
      ]
    },
    {
      "cell_type": "code",
      "source": [],
      "metadata": {
        "id": "_e5C5yJfTM65"
      },
      "execution_count": null,
      "outputs": []
    }
  ]
}