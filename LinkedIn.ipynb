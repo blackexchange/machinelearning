{
  "nbformat": 4,
  "nbformat_minor": 0,
  "metadata": {
    "colab": {
      "provenance": [],
      "authorship_tag": "ABX9TyP6bdSehbUMFswc8tKdK/cP",
      "include_colab_link": true
    },
    "kernelspec": {
      "name": "python3",
      "display_name": "Python 3"
    },
    "language_info": {
      "name": "python"
    }
  },
  "cells": [
    {
      "cell_type": "markdown",
      "metadata": {
        "id": "view-in-github",
        "colab_type": "text"
      },
      "source": [
        "<a href=\"https://colab.research.google.com/github/blackexchange/machinelearning/blob/main/LinkedIn.ipynb\" target=\"_parent\"><img src=\"https://colab.research.google.com/assets/colab-badge.svg\" alt=\"Open In Colab\"/></a>"
      ]
    },
    {
      "cell_type": "code",
      "source": [
        "!pip install beautifulsoup4;\n",
        "\n"
      ],
      "metadata": {
        "colab": {
          "base_uri": "https://localhost:8080/"
        },
        "id": "D6wOcnVbYedL",
        "outputId": "ffb603b1-7273-425d-cd5d-dfd86a2d4472"
      },
      "execution_count": 1,
      "outputs": [
        {
          "output_type": "stream",
          "name": "stdout",
          "text": [
            "Looking in indexes: https://pypi.org/simple, https://us-python.pkg.dev/colab-wheels/public/simple/\n",
            "Requirement already satisfied: beautifulsoup4 in /usr/local/lib/python3.8/dist-packages (4.6.3)\n"
          ]
        }
      ]
    },
    {
      "cell_type": "code",
      "source": [
        "import requests"
      ],
      "metadata": {
        "id": "2NyDkaJ3uhLQ"
      },
      "execution_count": 1,
      "outputs": []
    },
    {
      "cell_type": "code",
      "source": [
        "from bs4 import BeautifulSoup\n"
      ],
      "metadata": {
        "id": "zghfhRN-uMXo"
      },
      "execution_count": 2,
      "outputs": []
    },
    {
      "cell_type": "code",
      "source": [
        "start_urls = 'https://www.linkedin.com/jobs/search/?currentJobId=3383767291&f_TPR=r86400&f_WT=2&geoId=106057199&keywords=dados&sortBy=R'\n",
        "\n"
      ],
      "metadata": {
        "id": "sB0Y9BgJYGwP"
      },
      "execution_count": 158,
      "outputs": []
    },
    {
      "cell_type": "code",
      "source": [
        "response = requests.get(start_urls)"
      ],
      "metadata": {
        "id": "lMIix21_ZeU3"
      },
      "execution_count": 159,
      "outputs": []
    },
    {
      "cell_type": "code",
      "source": [
        "content = response.content"
      ],
      "metadata": {
        "id": "MdNMi-oXZjTe"
      },
      "execution_count": 160,
      "outputs": []
    },
    {
      "cell_type": "code",
      "source": [
        "soup = BeautifulSoup(content, 'html.parser')"
      ],
      "metadata": {
        "id": "WSuCHJZIu9xP"
      },
      "execution_count": 161,
      "outputs": []
    },
    {
      "cell_type": "code",
      "source": [
        "print(soup.prettify())"
      ],
      "metadata": {
        "id": "lcSWztYkkVPQ"
      },
      "execution_count": null,
      "outputs": []
    },
    {
      "cell_type": "code",
      "source": [
        "[type(item) for item in list(soup.children)]"
      ],
      "metadata": {
        "colab": {
          "base_uri": "https://localhost:8080/"
        },
        "id": "s5ptqfGClp3z",
        "outputId": "23a8fe41-d0e0-4b88-db6c-27c9cd8a58cc"
      },
      "execution_count": 12,
      "outputs": [
        {
          "output_type": "execute_result",
          "data": {
            "text/plain": [
              "[bs4.element.Doctype,\n",
              " bs4.element.NavigableString,\n",
              " bs4.element.Tag,\n",
              " bs4.element.NavigableString]"
            ]
          },
          "metadata": {},
          "execution_count": 12
        }
      ]
    },
    {
      "cell_type": "code",
      "source": [
        "html = list(soup.children)[2]"
      ],
      "metadata": {
        "id": "ROj_T-R3lz5y"
      },
      "execution_count": 162,
      "outputs": []
    },
    {
      "cell_type": "code",
      "source": [
        "list(html.children)\n",
        "#div class=\"filter-values-container\" posicoes/qt\n",
        "#(\"li\", {\"class\": \"two-pane-serp-page__results-list\"}) vagas"
      ],
      "metadata": {
        "id": "LilDLS9dl1y8"
      },
      "execution_count": null,
      "outputs": []
    },
    {
      "cell_type": "code",
      "source": [],
      "metadata": {
        "id": "h3xSMnFzuMU5"
      },
      "execution_count": 66,
      "outputs": []
    },
    {
      "cell_type": "markdown",
      "source": [
        "## Cabeçalho de total de vagas"
      ],
      "metadata": {
        "id": "ERJrStSt6XuX"
      }
    },
    {
      "cell_type": "code",
      "source": [
        "total_vagas_x_grupo = html.find_all(\"div\", {\"class\": \"filter-values-container__filter-value\"})\n",
        "total_vagas=[]\n",
        "for item in total_vagas_x_grupo:\n",
        "  label = item.label.string.strip(), item.input.get('name')\n",
        "  total_vagas.append(label)\n",
        "print (total_vagas) "
      ],
      "metadata": {
        "colab": {
          "base_uri": "https://localhost:8080/"
        },
        "id": "Tf0AIxGbnUyH",
        "outputId": "cb3e868a-bfd1-4220-d703-39fb455df6a2"
      },
      "execution_count": 163,
      "outputs": [
        {
          "output_type": "stream",
          "name": "stdout",
          "text": [
            "[('Past 24 hours (110)', 'f_TPR'), ('Past Week (878)', 'f_TPR'), ('Past Month (2,831)', 'f_TPR'), ('Remote (110)', 'f_WT'), ('On-site (267)', 'f_WT'), ('Hybrid (66)', 'f_WT'), ('GeekHunter Brasil (84)', 'f_C'), ('BNE - Banco Nacional de Empregos (8)', 'f_C'), ('XP Inc. (4)', 'f_C'), ('Keyrus (2)', 'f_C'), ('Stringhini Marketing (1)', 'f_C'), ('São Paulo, SP (63)', 'f_PP'), ('Recife, PE (4)', 'f_PP'), ('Belém, PA (2)', 'f_PP'), ('Florianópolis, SC (2)', 'f_PP'), ('Barueri, SP (1)', 'f_PP'), ('Full-time (109)', 'f_JT'), ('Internship (1)', 'f_JT'), ('Internship (1)', 'f_E'), ('Entry level (63)', 'f_E'), ('Mid-Senior level (38)', 'f_E'), ('Director (1)', 'f_E')]\n"
          ]
        }
      ]
    },
    {
      "cell_type": "code",
      "source": [
        "total_encontrada_busca=html.find_all(\"span\", {\"class\": \"results-context-header__job-count\"})\n",
        "total_encontrada=total_encontrada_busca[0].get_text()\n",
        "print (total_encontrada)"
      ],
      "metadata": {
        "colab": {
          "base_uri": "https://localhost:8080/"
        },
        "id": "ZUZAhyrtpwVz",
        "outputId": "49b6a7fc-8e76-437b-8df4-cd931811a5a2"
      },
      "execution_count": 168,
      "outputs": [
        {
          "output_type": "stream",
          "name": "stdout",
          "text": [
            "110\n"
          ]
        }
      ]
    },
    {
      "cell_type": "code",
      "source": [
        "total_encontrada_busca"
      ],
      "metadata": {
        "colab": {
          "base_uri": "https://localhost:8080/"
        },
        "id": "FTvw4PSp-rYC",
        "outputId": "9cece1da-ec35-4ba3-88e0-1ed3d2965533"
      },
      "execution_count": 166,
      "outputs": [
        {
          "output_type": "execute_result",
          "data": {
            "text/plain": [
              "[<span class=\"results-context-header__job-count\">110</span>]"
            ]
          },
          "metadata": {},
          "execution_count": 166
        }
      ]
    },
    {
      "cell_type": "markdown",
      "source": [
        "## Listagem de vagas"
      ],
      "metadata": {
        "id": "qLGUj8Co6Tfj"
      }
    },
    {
      "cell_type": "code",
      "source": [
        "ul_result_vagas = html.find_all(\"ul\", {\"class\": \"jobs-search__results-list\"})\n"
      ],
      "metadata": {
        "id": "bdAEgp9Cx7v2"
      },
      "execution_count": 112,
      "outputs": []
    },
    {
      "cell_type": "code",
      "source": [
        "li_results_vagas = ul_result_vagas[0].find_all('li')"
      ],
      "metadata": {
        "id": "EqJy0OPPx8_d"
      },
      "execution_count": 119,
      "outputs": []
    },
    {
      "cell_type": "code",
      "source": [
        "li_results_vagas[1].a"
      ],
      "metadata": {
        "id": "TUb_xTZB00ZQ"
      },
      "execution_count": null,
      "outputs": []
    },
    {
      "cell_type": "code",
      "source": [
        "vagas=[]\n",
        "i=0\n",
        "for item in li_results_vagas:\n",
        "  link = item.a.get('href')\n",
        "  title = item.find('h3',{'class':\"base-search-card__title\"}).string.strip()\n",
        "  company =item.find('h4',{'class':\"base-search-card__subtitle\"}).a.string.strip()\n",
        "  local = item.find('span',{'class':\"job-search-card__location\"}).string.strip() \n",
        "  position = item.span.get('class')\n",
        " # benefits = item.find('span',{'class':\"result-benefits__text\"}).get_text()\n",
        "  time_list = item.time.string.strip()\n",
        "  vagas.append([title, company, link, local, time_list])\n"
      ],
      "metadata": {
        "id": "vRtX6mabqGvo"
      },
      "execution_count": 155,
      "outputs": []
    },
    {
      "cell_type": "code",
      "source": [
        "vagas"
      ],
      "metadata": {
        "colab": {
          "base_uri": "https://localhost:8080/"
        },
        "id": "JhhLmV5J5_d3",
        "outputId": "dd419a39-7673-4e8e-f8cb-c27da38e754f"
      },
      "execution_count": 157,
      "outputs": [
        {
          "output_type": "execute_result",
          "data": {
            "text/plain": [
              "[['Afirmativa para Mulheres | Business Analytics',\n",
              "  'XP Inc.',\n",
              "  'https://br.linkedin.com/jobs/view/afirmativa-para-mulheres-business-analytics-at-xp-inc-3121138675?refId=xwxlymPHAU0mfubfFrv%2Fug%3D%3D&trackingId=TE566Bto1yHghSz%2FN5XPkQ%3D%3D&position=1&pageNum=0&trk=public_jobs_jserp-result_search-card',\n",
              "  'Brazil',\n",
              "  '22 hours ago'],\n",
              " ['Analista de Dados ( Setor Marketing ) - Remoto',\n",
              "  'GeekHunter Brasil',\n",
              "  'https://br.linkedin.com/jobs/view/analista-de-dados-setor-marketing-remoto-at-geekhunter-3395942732?refId=xwxlymPHAU0mfubfFrv%2Fug%3D%3D&trackingId=vxv1sbAZhnR4aflX%2BioRow%3D%3D&position=2&pageNum=0&trk=public_jobs_jserp-result_search-card',\n",
              "  'São Paulo, São Paulo, Brazil',\n",
              "  '1 hour ago'],\n",
              " ['Afirmativa para Mulheres | Digital Analytics',\n",
              "  'XP Inc.',\n",
              "  'https://br.linkedin.com/jobs/view/afirmativa-para-mulheres-digital-analytics-at-xp-inc-3121138674?refId=xwxlymPHAU0mfubfFrv%2Fug%3D%3D&trackingId=evQx5tmWsl51d6%2B2Thx4tQ%3D%3D&position=3&pageNum=0&trk=public_jobs_jserp-result_search-card',\n",
              "  'Brazil',\n",
              "  '22 hours ago'],\n",
              " ['Analista de Sistemas (Remoto)',\n",
              "  'GeekHunter Brasil',\n",
              "  'https://br.linkedin.com/jobs/view/analista-de-sistemas-remoto-at-geekhunter-3395947146?refId=xwxlymPHAU0mfubfFrv%2Fug%3D%3D&trackingId=5IWcbi731VFCZBqelp2QVA%3D%3D&position=4&pageNum=0&trk=public_jobs_jserp-result_search-card',\n",
              "  'Florianópolis, Santa Catarina, Brazil',\n",
              "  '1 hour ago'],\n",
              " ['Analista de Suporte à Aplicação (Remoto)',\n",
              "  'GeekHunter Brasil',\n",
              "  'https://br.linkedin.com/jobs/view/analista-de-suporte-%C3%A0-aplica%C3%A7%C3%A3o-remoto-at-geekhunter-3395940735?refId=xwxlymPHAU0mfubfFrv%2Fug%3D%3D&trackingId=1xuzJYOVMnGF74dh6X1HMw%3D%3D&position=5&pageNum=0&trk=public_jobs_jserp-result_search-card',\n",
              "  'São Paulo, São Paulo, Brazil',\n",
              "  '1 hour ago'],\n",
              " ['Afirmativa para Pessoas Pretas/Pardas - Analista Júnior de Comunicação Interna',\n",
              "  'XP Inc.',\n",
              "  'https://br.linkedin.com/jobs/view/afirmativa-para-pessoas-pretas-pardas-analista-j%C3%BAnior-de-comunica%C3%A7%C3%A3o-interna-at-xp-inc-3360751479?refId=xwxlymPHAU0mfubfFrv%2Fug%3D%3D&trackingId=OChxcRU8ynwUUjeIl5JIdg%3D%3D&position=6&pageNum=0&trk=public_jobs_jserp-result_search-card',\n",
              "  'São Paulo, São Paulo, Brazil',\n",
              "  '21 hours ago'],\n",
              " ['Analista de Suporte Técnico',\n",
              "  'BNE - Banco Nacional de Empregos',\n",
              "  'https://br.linkedin.com/jobs/view/analista-de-suporte-t%C3%A9cnico-at-bne-banco-nacional-de-empregos-3395547550?refId=xwxlymPHAU0mfubfFrv%2Fug%3D%3D&trackingId=nW9quqriNnWj4vpkTWQ5hA%3D%3D&position=7&pageNum=0&trk=public_jobs_jserp-result_search-card',\n",
              "  'João Pessoa, Paraíba, Brazil',\n",
              "  '16 hours ago'],\n",
              " ['Analista de Suporte Técnico',\n",
              "  'BNE - Banco Nacional de Empregos',\n",
              "  'https://br.linkedin.com/jobs/view/analista-de-suporte-t%C3%A9cnico-at-bne-banco-nacional-de-empregos-3395545731?refId=xwxlymPHAU0mfubfFrv%2Fug%3D%3D&trackingId=U9LBJkIUr7QKLeTG04tUaw%3D%3D&position=8&pageNum=0&trk=public_jobs_jserp-result_search-card',\n",
              "  'Maceió, Alagoas, Brazil',\n",
              "  '16 hours ago'],\n",
              " ['Product Manager',\n",
              "  'Agência Digi',\n",
              "  'https://br.linkedin.com/jobs/view/product-manager-at-ag%C3%AAncia-digi-3391230914?refId=xwxlymPHAU0mfubfFrv%2Fug%3D%3D&trackingId=AyyOCFXPzzgbewAv8%2BwY7g%3D%3D&position=9&pageNum=0&trk=public_jobs_jserp-result_search-card',\n",
              "  'Greater São Paulo Area',\n",
              "  '16 hours ago'],\n",
              " ['Analista de Suporte Técnico',\n",
              "  'BNE - Banco Nacional de Empregos',\n",
              "  'https://br.linkedin.com/jobs/view/analista-de-suporte-t%C3%A9cnico-at-bne-banco-nacional-de-empregos-3395547520?refId=xwxlymPHAU0mfubfFrv%2Fug%3D%3D&trackingId=QwBhmMG151Hy1HCJWuwd1g%3D%3D&position=10&pageNum=0&trk=public_jobs_jserp-result_search-card',\n",
              "  'Fortaleza, Ceará, Brazil',\n",
              "  '16 hours ago'],\n",
              " ['Analista de Suporte Técnico',\n",
              "  'BNE - Banco Nacional de Empregos',\n",
              "  'https://br.linkedin.com/jobs/view/analista-de-suporte-t%C3%A9cnico-at-bne-banco-nacional-de-empregos-3395545753?refId=xwxlymPHAU0mfubfFrv%2Fug%3D%3D&trackingId=VUoRdVsvVY5oTHYJib79YA%3D%3D&position=11&pageNum=0&trk=public_jobs_jserp-result_search-card',\n",
              "  'Salvador, Bahia, Brazil',\n",
              "  '16 hours ago'],\n",
              " ['Analista de Suporte Técnico',\n",
              "  'BNE - Banco Nacional de Empregos',\n",
              "  'https://br.linkedin.com/jobs/view/analista-de-suporte-t%C3%A9cnico-at-bne-banco-nacional-de-empregos-3395543976?refId=xwxlymPHAU0mfubfFrv%2Fug%3D%3D&trackingId=qJ%2F6rVEZUqRIjio3vcSIxA%3D%3D&position=12&pageNum=0&trk=public_jobs_jserp-result_search-card',\n",
              "  'São Paulo, São Paulo, Brazil',\n",
              "  '16 hours ago'],\n",
              " ['Analista SysAdmin (Remoto)',\n",
              "  'GeekHunter Brasil',\n",
              "  'https://br.linkedin.com/jobs/view/analista-sysadmin-remoto-at-geekhunter-3395942798?refId=xwxlymPHAU0mfubfFrv%2Fug%3D%3D&trackingId=AQjz1aUV3lsMV5Q54eC%2FGg%3D%3D&position=13&pageNum=0&trk=public_jobs_jserp-result_search-card',\n",
              "  'Barueri, São Paulo, Brazil',\n",
              "  '1 hour ago'],\n",
              " ['Senior Business Analytics',\n",
              "  'XP Inc.',\n",
              "  'https://br.linkedin.com/jobs/view/senior-business-analytics-at-xp-inc-3121136455?refId=xwxlymPHAU0mfubfFrv%2Fug%3D%3D&trackingId=leHusRWY5bOWpJZVWnwz0A%3D%3D&position=14&pageNum=0&trk=public_jobs_jserp-result_search-card',\n",
              "  'São Paulo, São Paulo, Brazil',\n",
              "  '23 hours ago'],\n",
              " ['Analista de Suporte Técnico',\n",
              "  'BNE - Banco Nacional de Empregos',\n",
              "  'https://br.linkedin.com/jobs/view/analista-de-suporte-t%C3%A9cnico-at-bne-banco-nacional-de-empregos-3395549271?refId=xwxlymPHAU0mfubfFrv%2Fug%3D%3D&trackingId=5GVRiY2jDzWbnueTc2jFnA%3D%3D&position=15&pageNum=0&trk=public_jobs_jserp-result_search-card',\n",
              "  'Belém, Pará, Brazil',\n",
              "  '16 hours ago'],\n",
              " ['Afirmativa para Mulheres | Senior Business Analytics',\n",
              "  'XP Inc.',\n",
              "  'https://br.linkedin.com/jobs/view/afirmativa-para-mulheres-senior-business-analytics-at-xp-inc-3121131897?refId=xwxlymPHAU0mfubfFrv%2Fug%3D%3D&trackingId=YOynfpI6XR18weMC5zJRtw%3D%3D&position=16&pageNum=0&trk=public_jobs_jserp-result_search-card',\n",
              "  'Brazil',\n",
              "  '23 hours ago'],\n",
              " ['Analista de Dados Pleno a Sênior (Remoto)',\n",
              "  'GeekHunter Brasil',\n",
              "  'https://br.linkedin.com/jobs/view/analista-de-dados-pleno-a-s%C3%AAnior-remoto-at-geekhunter-3395942708?refId=xwxlymPHAU0mfubfFrv%2Fug%3D%3D&trackingId=vbeuw8mSLVa%2B2FblySLF0Q%3D%3D&position=17&pageNum=0&trk=public_jobs_jserp-result_search-card',\n",
              "  'Recife, Pernambuco, Brazil',\n",
              "  '1 hour ago'],\n",
              " ['Pessoa Desenvolvedora Back-end Python (Remoto)',\n",
              "  'GeekHunter Brasil',\n",
              "  'https://br.linkedin.com/jobs/view/pessoa-desenvolvedora-back-end-python-remoto-at-geekhunter-3395943634?refId=xwxlymPHAU0mfubfFrv%2Fug%3D%3D&trackingId=7Aydga28SEKivZgumMuF4g%3D%3D&position=18&pageNum=0&trk=public_jobs_jserp-result_search-card',\n",
              "  'São Paulo, São Paulo, Brazil',\n",
              "  '1 hour ago'],\n",
              " ['Analista de Suporte Técnico',\n",
              "  'BNE - Banco Nacional de Empregos',\n",
              "  'https://br.linkedin.com/jobs/view/analista-de-suporte-t%C3%A9cnico-at-bne-banco-nacional-de-empregos-3395543960?refId=xwxlymPHAU0mfubfFrv%2Fug%3D%3D&trackingId=84Jlaa4YcO6YKp%2Fio9HU3g%3D%3D&position=19&pageNum=0&trk=public_jobs_jserp-result_search-card',\n",
              "  'Uberlândia, Minas Gerais, Brazil',\n",
              "  '16 hours ago'],\n",
              " ['Pessoa Desenvolvedora Back-end Python (Remoto)',\n",
              "  'GeekHunter Brasil',\n",
              "  'https://br.linkedin.com/jobs/view/pessoa-desenvolvedora-back-end-python-remoto-at-geekhunter-3395944349?refId=xwxlymPHAU0mfubfFrv%2Fug%3D%3D&trackingId=cB%2B5p65utpM7xbQptaR6Vw%3D%3D&position=20&pageNum=0&trk=public_jobs_jserp-result_search-card',\n",
              "  'São Paulo, São Paulo, Brazil',\n",
              "  '1 hour ago'],\n",
              " ['QA (Remoto) AFNA55542',\n",
              "  'GeekHunter Brasil',\n",
              "  'https://br.linkedin.com/jobs/view/qa-remoto-afna55542-at-geekhunter-3395944426?refId=xwxlymPHAU0mfubfFrv%2Fug%3D%3D&trackingId=bfmIaiALtMC%2FKgQat9uCLQ%3D%3D&position=21&pageNum=0&trk=public_jobs_jserp-result_search-card',\n",
              "  'São Paulo, São Paulo, Brazil',\n",
              "  '1 hour ago'],\n",
              " ['Professor de inglês',\n",
              "  'JUST4YOU Personal English',\n",
              "  'https://br.linkedin.com/jobs/view/professor-de-ingl%C3%AAs-at-just4you-personal-english-3385164223?refId=xwxlymPHAU0mfubfFrv%2Fug%3D%3D&trackingId=fQPurqL%2BRCFjY7ZA08%2B7MQ%3D%3D&position=22&pageNum=0&trk=public_jobs_jserp-result_search-card',\n",
              "  'Brazil',\n",
              "  '9 hours ago'],\n",
              " ['Product Manager Júnior a Pleno (Remoto) - Vaga Afirmativa para Mulheres',\n",
              "  'GeekHunter Brasil',\n",
              "  'https://br.linkedin.com/jobs/view/product-manager-j%C3%BAnior-a-pleno-remoto-vaga-afirmativa-para-mulheres-at-geekhunter-3395946136?refId=xwxlymPHAU0mfubfFrv%2Fug%3D%3D&trackingId=p8VNs3VpsCykuRbd5anNYQ%3D%3D&position=23&pageNum=0&trk=public_jobs_jserp-result_search-card',\n",
              "  'São Paulo, São Paulo, Brazil',\n",
              "  '1 hour ago'],\n",
              " ['Analista de Sistemas SQL Server (Remoto)',\n",
              "  'GeekHunter Brasil',\n",
              "  'https://br.linkedin.com/jobs/view/analista-de-sistemas-sql-server-remoto-at-geekhunter-3395944335?refId=xwxlymPHAU0mfubfFrv%2Fug%3D%3D&trackingId=xTTfPRxa1cmXbIPQLULmUg%3D%3D&position=24&pageNum=0&trk=public_jobs_jserp-result_search-card',\n",
              "  'São Paulo, São Paulo, Brazil',\n",
              "  '1 hour ago'],\n",
              " ['Data Engineer (Remoto)',\n",
              "  'GeekHunter Brasil',\n",
              "  'https://br.linkedin.com/jobs/view/data-engineer-remoto-at-geekhunter-3395941806?refId=xwxlymPHAU0mfubfFrv%2Fug%3D%3D&trackingId=LoZgVQ7JCpdlAMKOfJ50MA%3D%3D&position=25&pageNum=0&trk=public_jobs_jserp-result_search-card',\n",
              "  'São Paulo, São Paulo, Brazil',\n",
              "  '1 hour ago']]"
            ]
          },
          "metadata": {},
          "execution_count": 157
        }
      ]
    },
    {
      "cell_type": "code",
      "source": [
        "\n",
        "vaga = []\n",
        "link = []\n",
        "empresa = []\n",
        "data = []"
      ],
      "metadata": {
        "id": "h4jpeBN4uLy7"
      },
      "execution_count": 8,
      "outputs": []
    },
    {
      "cell_type": "code",
      "execution_count": 49,
      "metadata": {
        "colab": {
          "base_uri": "https://localhost:8080/",
          "height": 385
        },
        "id": "92vl0zPWuFir",
        "outputId": "e63fd9ca-615b-4bfe-99b4-87f78f1023d9"
      },
      "outputs": [
        {
          "output_type": "stream",
          "name": "stdout",
          "text": [
            "\n",
            "\n"
          ]
        },
        {
          "output_type": "error",
          "ename": "KeyError",
          "evalue": "ignored",
          "traceback": [
            "\u001b[0;31m---------------------------------------------------------------------------\u001b[0m",
            "\u001b[0;31mKeyError\u001b[0m                                  Traceback (most recent call last)",
            "\u001b[0;32m<ipython-input-49-dacc79b1942c>\u001b[0m in \u001b[0;36m<module>\u001b[0;34m\u001b[0m\n\u001b[1;32m      1\u001b[0m \u001b[0;32mfor\u001b[0m \u001b[0mrow\u001b[0m \u001b[0;32min\u001b[0m \u001b[0mmydivs\u001b[0m\u001b[0;34m[\u001b[0m\u001b[0;36m0\u001b[0m\u001b[0;34m]\u001b[0m\u001b[0;34m.\u001b[0m\u001b[0mul\u001b[0m\u001b[0;34m:\u001b[0m\u001b[0;34m\u001b[0m\u001b[0;34m\u001b[0m\u001b[0m\n\u001b[0;32m----> 2\u001b[0;31m   \u001b[0mprint\u001b[0m \u001b[0;34m(\u001b[0m\u001b[0mrow\u001b[0m\u001b[0;34m[\u001b[0m\u001b[0;36m0\u001b[0m\u001b[0;34m]\u001b[0m\u001b[0;34m)\u001b[0m\u001b[0;34m\u001b[0m\u001b[0;34m\u001b[0m\u001b[0m\n\u001b[0m\u001b[1;32m      3\u001b[0m   \u001b[0;31m#link.append( row.li.a.get('href'))\u001b[0m\u001b[0;34m\u001b[0m\u001b[0;34m\u001b[0m\u001b[0;34m\u001b[0m\u001b[0m\n\u001b[1;32m      4\u001b[0m  \u001b[0;31m# dfAux=[mydivs[0].a.get('href'),mydivs[0].a.get('href'),mydivs[0].h3.string.strip()]\u001b[0m\u001b[0;34m\u001b[0m\u001b[0;34m\u001b[0m\u001b[0;34m\u001b[0m\u001b[0m\n\u001b[1;32m      5\u001b[0m   \u001b[0;31m#link.append(mydivs[0].a.get('href'))\u001b[0m\u001b[0;34m\u001b[0m\u001b[0;34m\u001b[0m\u001b[0;34m\u001b[0m\u001b[0m\n",
            "\u001b[0;32m/usr/local/lib/python3.8/dist-packages/bs4/element.py\u001b[0m in \u001b[0;36m__getitem__\u001b[0;34m(self, key)\u001b[0m\n\u001b[1;32m   1069\u001b[0m         \"\"\"tag[key] returns the value of the 'key' attribute for the tag,\n\u001b[1;32m   1070\u001b[0m         and throws an exception if it's not there.\"\"\"\n\u001b[0;32m-> 1071\u001b[0;31m         \u001b[0;32mreturn\u001b[0m \u001b[0mself\u001b[0m\u001b[0;34m.\u001b[0m\u001b[0mattrs\u001b[0m\u001b[0;34m[\u001b[0m\u001b[0mkey\u001b[0m\u001b[0;34m]\u001b[0m\u001b[0;34m\u001b[0m\u001b[0;34m\u001b[0m\u001b[0m\n\u001b[0m\u001b[1;32m   1072\u001b[0m \u001b[0;34m\u001b[0m\u001b[0m\n\u001b[1;32m   1073\u001b[0m     \u001b[0;32mdef\u001b[0m \u001b[0m__iter__\u001b[0m\u001b[0;34m(\u001b[0m\u001b[0mself\u001b[0m\u001b[0;34m)\u001b[0m\u001b[0;34m:\u001b[0m\u001b[0;34m\u001b[0m\u001b[0;34m\u001b[0m\u001b[0m\n",
            "\u001b[0;31mKeyError\u001b[0m: 0"
          ]
        }
      ],
      "source": [
        "for row in mydivs[0]:\n",
        "  print (row.li)\n",
        "  #link.append( row.li.a.get('href'))\n",
        " # dfAux=[mydivs[0].a.get('href'),mydivs[0].a.get('href'),mydivs[0].h3.string.strip()]\n",
        "  #link.append(mydivs[0].a.get('href'))\n",
        "  #data.append(mydivs[0].a.get('href'))\n",
        "  #vaga.append(mydivs[0].h3.string.strip())"
      ]
    },
    {
      "cell_type": "code",
      "source": [
        "a = mydivs[0].li.a.get('href')"
      ],
      "metadata": {
        "id": "zXmdR7xJvM55"
      },
      "execution_count": 39,
      "outputs": []
    },
    {
      "cell_type": "code",
      "source": [
        "mydivs[0]"
      ],
      "metadata": {
        "colab": {
          "base_uri": "https://localhost:8080/",
          "height": 164
        },
        "id": "AgO73kjfvZKl",
        "outputId": "6c8cdf01-527f-42cf-ed57-2fb1f70f1c19"
      },
      "execution_count": 10,
      "outputs": [
        {
          "output_type": "error",
          "ename": "IndexError",
          "evalue": "ignored",
          "traceback": [
            "\u001b[0;31m---------------------------------------------------------------------------\u001b[0m",
            "\u001b[0;31mIndexError\u001b[0m                                Traceback (most recent call last)",
            "\u001b[0;32m<ipython-input-10-93bc578d340e>\u001b[0m in \u001b[0;36m<module>\u001b[0;34m\u001b[0m\n\u001b[0;32m----> 1\u001b[0;31m \u001b[0mmydivs\u001b[0m\u001b[0;34m[\u001b[0m\u001b[0;36m0\u001b[0m\u001b[0;34m]\u001b[0m\u001b[0;34m\u001b[0m\u001b[0;34m\u001b[0m\u001b[0m\n\u001b[0m",
            "\u001b[0;31mIndexError\u001b[0m: list index out of range"
          ]
        }
      ]
    },
    {
      "cell_type": "code",
      "source": [],
      "metadata": {
        "id": "G6e_o31ix5V3"
      },
      "execution_count": null,
      "outputs": []
    }
  ]
}