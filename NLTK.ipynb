{
  "nbformat": 4,
  "nbformat_minor": 0,
  "metadata": {
    "colab": {
      "provenance": [],
      "authorship_tag": "ABX9TyPxpQNiVhXbrgT9KuRtcy6p",
      "include_colab_link": true
    },
    "kernelspec": {
      "name": "python3",
      "display_name": "Python 3"
    },
    "language_info": {
      "name": "python"
    }
  },
  "cells": [
    {
      "cell_type": "markdown",
      "metadata": {
        "id": "view-in-github",
        "colab_type": "text"
      },
      "source": [
        "<a href=\"https://colab.research.google.com/github/blackexchange/machinelearning/blob/main/NLTK.ipynb\" target=\"_parent\"><img src=\"https://colab.research.google.com/assets/colab-badge.svg\" alt=\"Open In Colab\"/></a>"
      ]
    },
    {
      "cell_type": "markdown",
      "source": [
        "## Biblioteca NLTK"
      ],
      "metadata": {
        "id": "km7oaTC9n_bS"
      }
    },
    {
      "cell_type": "code",
      "source": [
        "# Baixar lib\n",
        "!pip install nltk"
      ],
      "metadata": {
        "colab": {
          "base_uri": "https://localhost:8080/"
        },
        "id": "VhunFSccoB8L",
        "outputId": "0bab5ada-a8f4-46dd-ee96-21b303bc5878"
      },
      "execution_count": null,
      "outputs": [
        {
          "output_type": "stream",
          "name": "stdout",
          "text": [
            "Looking in indexes: https://pypi.org/simple, https://us-python.pkg.dev/colab-wheels/public/simple/\n",
            "Requirement already satisfied: nltk in /usr/local/lib/python3.8/dist-packages (3.7)\n",
            "Requirement already satisfied: regex>=2021.8.3 in /usr/local/lib/python3.8/dist-packages (from nltk) (2022.6.2)\n",
            "Requirement already satisfied: joblib in /usr/local/lib/python3.8/dist-packages (from nltk) (1.2.0)\n",
            "Requirement already satisfied: tqdm in /usr/local/lib/python3.8/dist-packages (from nltk) (4.64.1)\n",
            "Requirement already satisfied: click in /usr/local/lib/python3.8/dist-packages (from nltk) (7.1.2)\n"
          ]
        }
      ]
    },
    {
      "cell_type": "code",
      "source": [
        "\n",
        "#importar lib e baixar base\n",
        "import nltk\n",
        "nltk.download()"
      ],
      "metadata": {
        "colab": {
          "base_uri": "https://localhost:8080/"
        },
        "id": "7WFcIJgGqorl",
        "outputId": "3ddf5b4d-e8f5-4355-8cd9-45590771361f"
      },
      "execution_count": null,
      "outputs": [
        {
          "metadata": {
            "tags": null
          },
          "name": "stdout",
          "output_type": "stream",
          "text": [
            "NLTK Downloader\n",
            "---------------------------------------------------------------------------\n",
            "    d) Download   l) List    u) Update   c) Config   h) Help   q) Quit\n",
            "---------------------------------------------------------------------------\n",
            "\n",
            "Download which package (l=list; x=cancel)?\n",
            "Packages:\n",
            "  [ ] abc................. Australian Broadcasting Commission 2006\n",
            "  [ ] alpino.............. Alpino Dutch Treebank\n",
            "  [ ] averaged_perceptron_tagger Averaged Perceptron Tagger\n",
            "  [ ] averaged_perceptron_tagger_ru Averaged Perceptron Tagger (Russian)\n",
            "  [ ] basque_grammars..... Grammars for Basque\n",
            "  [ ] bcp47............... BCP-47 Language Tags\n",
            "  [ ] biocreative_ppi..... BioCreAtIvE (Critical Assessment of Information\n",
            "                           Extraction Systems in Biology)\n",
            "  [ ] bllip_wsj_no_aux.... BLLIP Parser: WSJ Model\n",
            "  [ ] book_grammars....... Grammars from NLTK Book\n",
            "  [ ] brown............... Brown Corpus\n",
            "  [ ] brown_tei........... Brown Corpus (TEI XML Version)\n",
            "  [ ] cess_cat............ CESS-CAT Treebank\n",
            "  [ ] cess_esp............ CESS-ESP Treebank\n",
            "  [ ] chat80.............. Chat-80 Data Files\n",
            "  [ ] city_database....... City Database\n",
            "  [ ] cmudict............. The Carnegie Mellon Pronouncing Dictionary (0.6)\n",
            "  [ ] comparative_sentences Comparative Sentence Dataset\n",
            "  [ ] comtrans............ ComTrans Corpus Sample\n",
            "  [ ] conll2000........... CONLL 2000 Chunking Corpus\n",
            "  [ ] conll2002........... CONLL 2002 Named Entity Recognition Corpus\n",
            "  [ ] conll2007........... Dependency Treebanks from CoNLL 2007 (Catalan\n",
            "                           and Basque Subset)\n",
            "  [ ] crubadan............ Crubadan Corpus\n",
            "  [ ] dependency_treebank. Dependency Parsed Treebank\n",
            "  [ ] dolch............... Dolch Word List\n",
            "  [ ] europarl_raw........ Sample European Parliament Proceedings Parallel\n",
            "                           Corpus\n",
            "  [ ] extended_omw........ Extended Open Multilingual WordNet\n",
            "  [ ] floresta............ Portuguese Treebank\n",
            "  [ ] framenet_v15........ FrameNet 1.5\n",
            "  [ ] framenet_v17........ FrameNet 1.7\n",
            "  [ ] gazetteers.......... Gazeteer Lists\n",
            "  [ ] genesis............. Genesis Corpus\n",
            "  [ ] gutenberg........... Project Gutenberg Selections\n",
            "  [ ] ieer................ NIST IE-ER DATA SAMPLE\n",
            "  [ ] inaugural........... C-Span Inaugural Address Corpus\n",
            "  [ ] indian.............. Indian Language POS-Tagged Corpus\n",
            "  [ ] jeita............... JEITA Public Morphologically Tagged Corpus (in\n",
            "                           ChaSen format)\n",
            "  [ ] kimmo............... PC-KIMMO Data Files\n",
            "\n",
            "Download which package (l=list; x=cancel)?\n",
            "\n",
            "---------------------------------------------------------------------------\n",
            "    d) Download   l) List    u) Update   c) Config   h) Help   q) Quit\n",
            "---------------------------------------------------------------------------\n",
            "\n",
            "Download which package (l=list; x=cancel)?\n"
          ]
        },
        {
          "metadata": {
            "tags": null
          },
          "name": "stderr",
          "output_type": "stream",
          "text": [
            "    Downloading collection 'all'\n",
            "       | \n",
            "       | Downloading package abc to /root/nltk_data...\n",
            "       |   Unzipping corpora/abc.zip.\n",
            "       | Downloading package alpino to /root/nltk_data...\n",
            "       |   Unzipping corpora/alpino.zip.\n",
            "       | Downloading package averaged_perceptron_tagger to\n",
            "       |     /root/nltk_data...\n",
            "       |   Unzipping taggers/averaged_perceptron_tagger.zip.\n",
            "       | Downloading package averaged_perceptron_tagger_ru to\n",
            "       |     /root/nltk_data...\n",
            "       |   Unzipping taggers/averaged_perceptron_tagger_ru.zip.\n",
            "       | Downloading package basque_grammars to /root/nltk_data...\n",
            "       |   Unzipping grammars/basque_grammars.zip.\n",
            "       | Downloading package bcp47 to /root/nltk_data...\n",
            "       | Downloading package biocreative_ppi to /root/nltk_data...\n",
            "       |   Unzipping corpora/biocreative_ppi.zip.\n",
            "       | Downloading package bllip_wsj_no_aux to /root/nltk_data...\n",
            "       |   Unzipping models/bllip_wsj_no_aux.zip.\n",
            "       | Downloading package book_grammars to /root/nltk_data...\n",
            "       |   Unzipping grammars/book_grammars.zip.\n",
            "       | Downloading package brown to /root/nltk_data...\n",
            "       |   Unzipping corpora/brown.zip.\n",
            "       | Downloading package brown_tei to /root/nltk_data...\n",
            "       |   Unzipping corpora/brown_tei.zip.\n",
            "       | Downloading package cess_cat to /root/nltk_data...\n",
            "       |   Unzipping corpora/cess_cat.zip.\n",
            "       | Downloading package cess_esp to /root/nltk_data...\n",
            "       |   Unzipping corpora/cess_esp.zip.\n",
            "       | Downloading package chat80 to /root/nltk_data...\n",
            "       |   Unzipping corpora/chat80.zip.\n",
            "       | Downloading package city_database to /root/nltk_data...\n",
            "       |   Unzipping corpora/city_database.zip.\n",
            "       | Downloading package cmudict to /root/nltk_data...\n",
            "       |   Unzipping corpora/cmudict.zip.\n",
            "       | Downloading package comparative_sentences to\n",
            "       |     /root/nltk_data...\n",
            "       |   Unzipping corpora/comparative_sentences.zip.\n",
            "       | Downloading package comtrans to /root/nltk_data...\n",
            "       | Downloading package conll2000 to /root/nltk_data...\n",
            "       |   Unzipping corpora/conll2000.zip.\n",
            "       | Downloading package conll2002 to /root/nltk_data...\n",
            "       |   Unzipping corpora/conll2002.zip.\n",
            "       | Downloading package conll2007 to /root/nltk_data...\n",
            "       | Downloading package crubadan to /root/nltk_data...\n",
            "       |   Unzipping corpora/crubadan.zip.\n",
            "       | Downloading package dependency_treebank to /root/nltk_data...\n",
            "       |   Unzipping corpora/dependency_treebank.zip.\n",
            "       | Downloading package dolch to /root/nltk_data...\n",
            "       |   Unzipping corpora/dolch.zip.\n",
            "       | Downloading package europarl_raw to /root/nltk_data...\n",
            "       |   Unzipping corpora/europarl_raw.zip.\n",
            "       | Downloading package extended_omw to /root/nltk_data...\n",
            "       | Downloading package floresta to /root/nltk_data...\n",
            "       |   Unzipping corpora/floresta.zip.\n",
            "       | Downloading package framenet_v15 to /root/nltk_data...\n",
            "       |   Unzipping corpora/framenet_v15.zip.\n",
            "       | Downloading package framenet_v17 to /root/nltk_data...\n",
            "       |   Unzipping corpora/framenet_v17.zip.\n",
            "       | Downloading package gazetteers to /root/nltk_data...\n",
            "       |   Unzipping corpora/gazetteers.zip.\n",
            "       | Downloading package genesis to /root/nltk_data...\n",
            "       |   Unzipping corpora/genesis.zip.\n",
            "       | Downloading package gutenberg to /root/nltk_data...\n",
            "       |   Unzipping corpora/gutenberg.zip.\n",
            "       | Downloading package ieer to /root/nltk_data...\n",
            "       |   Unzipping corpora/ieer.zip.\n",
            "       | Downloading package inaugural to /root/nltk_data...\n",
            "       |   Unzipping corpora/inaugural.zip.\n",
            "       | Downloading package indian to /root/nltk_data...\n",
            "       |   Unzipping corpora/indian.zip.\n",
            "       | Downloading package jeita to /root/nltk_data...\n",
            "       | Downloading package kimmo to /root/nltk_data...\n",
            "       |   Unzipping corpora/kimmo.zip.\n",
            "       | Downloading package knbc to /root/nltk_data...\n",
            "       | Downloading package large_grammars to /root/nltk_data...\n",
            "       |   Unzipping grammars/large_grammars.zip.\n",
            "       | Downloading package lin_thesaurus to /root/nltk_data...\n",
            "       |   Unzipping corpora/lin_thesaurus.zip.\n",
            "       | Downloading package mac_morpho to /root/nltk_data...\n",
            "       |   Unzipping corpora/mac_morpho.zip.\n",
            "       | Downloading package machado to /root/nltk_data...\n",
            "       | Downloading package masc_tagged to /root/nltk_data...\n",
            "       | Downloading package maxent_ne_chunker to /root/nltk_data...\n",
            "       |   Unzipping chunkers/maxent_ne_chunker.zip.\n",
            "       | Downloading package maxent_treebank_pos_tagger to\n",
            "       |     /root/nltk_data...\n",
            "       |   Unzipping taggers/maxent_treebank_pos_tagger.zip.\n",
            "       | Downloading package moses_sample to /root/nltk_data...\n",
            "       |   Unzipping models/moses_sample.zip.\n",
            "       | Downloading package movie_reviews to /root/nltk_data...\n",
            "       |   Unzipping corpora/movie_reviews.zip.\n",
            "       | Downloading package mte_teip5 to /root/nltk_data...\n",
            "       |   Unzipping corpora/mte_teip5.zip.\n",
            "       | Downloading package mwa_ppdb to /root/nltk_data...\n",
            "       |   Unzipping misc/mwa_ppdb.zip.\n",
            "       | Downloading package names to /root/nltk_data...\n",
            "       |   Unzipping corpora/names.zip.\n",
            "       | Downloading package nombank.1.0 to /root/nltk_data...\n",
            "       | Downloading package nonbreaking_prefixes to\n",
            "       |     /root/nltk_data...\n",
            "       |   Unzipping corpora/nonbreaking_prefixes.zip.\n",
            "       | Downloading package nps_chat to /root/nltk_data...\n",
            "       |   Unzipping corpora/nps_chat.zip.\n",
            "       | Downloading package omw to /root/nltk_data...\n",
            "       | Downloading package omw-1.4 to /root/nltk_data...\n",
            "       | Downloading package opinion_lexicon to /root/nltk_data...\n",
            "       |   Unzipping corpora/opinion_lexicon.zip.\n",
            "       | Downloading package panlex_swadesh to /root/nltk_data...\n",
            "       | Downloading package paradigms to /root/nltk_data...\n",
            "       |   Unzipping corpora/paradigms.zip.\n",
            "       | Downloading package pe08 to /root/nltk_data...\n",
            "       |   Unzipping corpora/pe08.zip.\n",
            "       | Downloading package perluniprops to /root/nltk_data...\n",
            "       |   Unzipping misc/perluniprops.zip.\n",
            "       | Downloading package pil to /root/nltk_data...\n",
            "       |   Unzipping corpora/pil.zip.\n",
            "       | Downloading package pl196x to /root/nltk_data...\n",
            "       |   Unzipping corpora/pl196x.zip.\n",
            "       | Downloading package porter_test to /root/nltk_data...\n",
            "       |   Unzipping stemmers/porter_test.zip.\n",
            "       | Downloading package ppattach to /root/nltk_data...\n",
            "       |   Unzipping corpora/ppattach.zip.\n",
            "       | Downloading package problem_reports to /root/nltk_data...\n",
            "       |   Unzipping corpora/problem_reports.zip.\n",
            "       | Downloading package product_reviews_1 to /root/nltk_data...\n",
            "       |   Unzipping corpora/product_reviews_1.zip.\n",
            "       | Downloading package product_reviews_2 to /root/nltk_data...\n",
            "       |   Unzipping corpora/product_reviews_2.zip.\n",
            "       | Downloading package propbank to /root/nltk_data...\n",
            "       | Downloading package pros_cons to /root/nltk_data...\n",
            "       |   Unzipping corpora/pros_cons.zip.\n",
            "       | Downloading package ptb to /root/nltk_data...\n",
            "       |   Unzipping corpora/ptb.zip.\n",
            "       | Downloading package punkt to /root/nltk_data...\n",
            "       |   Unzipping tokenizers/punkt.zip.\n",
            "       | Downloading package qc to /root/nltk_data...\n",
            "       |   Unzipping corpora/qc.zip.\n",
            "       | Downloading package reuters to /root/nltk_data...\n",
            "       | Downloading package rslp to /root/nltk_data...\n",
            "       |   Unzipping stemmers/rslp.zip.\n",
            "       | Downloading package rte to /root/nltk_data...\n",
            "       |   Unzipping corpora/rte.zip.\n",
            "       | Downloading package sample_grammars to /root/nltk_data...\n",
            "       |   Unzipping grammars/sample_grammars.zip.\n",
            "       | Downloading package semcor to /root/nltk_data...\n",
            "       | Downloading package senseval to /root/nltk_data...\n",
            "       |   Unzipping corpora/senseval.zip.\n",
            "       | Downloading package sentence_polarity to /root/nltk_data...\n",
            "       |   Unzipping corpora/sentence_polarity.zip.\n",
            "       | Downloading package sentiwordnet to /root/nltk_data...\n",
            "       |   Unzipping corpora/sentiwordnet.zip.\n",
            "       | Downloading package shakespeare to /root/nltk_data...\n",
            "       |   Unzipping corpora/shakespeare.zip.\n",
            "       | Downloading package sinica_treebank to /root/nltk_data...\n",
            "       |   Unzipping corpora/sinica_treebank.zip.\n",
            "       | Downloading package smultron to /root/nltk_data...\n",
            "       |   Unzipping corpora/smultron.zip.\n",
            "       | Downloading package snowball_data to /root/nltk_data...\n",
            "       | Downloading package spanish_grammars to /root/nltk_data...\n",
            "       |   Unzipping grammars/spanish_grammars.zip.\n",
            "       | Downloading package state_union to /root/nltk_data...\n",
            "       |   Unzipping corpora/state_union.zip.\n",
            "       | Downloading package stopwords to /root/nltk_data...\n",
            "       |   Unzipping corpora/stopwords.zip.\n",
            "       | Downloading package subjectivity to /root/nltk_data...\n",
            "       |   Unzipping corpora/subjectivity.zip.\n",
            "       | Downloading package swadesh to /root/nltk_data...\n",
            "       |   Unzipping corpora/swadesh.zip.\n",
            "       | Downloading package switchboard to /root/nltk_data...\n",
            "       |   Unzipping corpora/switchboard.zip.\n",
            "       | Downloading package tagsets to /root/nltk_data...\n",
            "       |   Unzipping help/tagsets.zip.\n",
            "       | Downloading package timit to /root/nltk_data...\n",
            "       |   Unzipping corpora/timit.zip.\n",
            "       | Downloading package toolbox to /root/nltk_data...\n",
            "       |   Unzipping corpora/toolbox.zip.\n",
            "       | Downloading package treebank to /root/nltk_data...\n",
            "       |   Unzipping corpora/treebank.zip.\n",
            "       | Downloading package twitter_samples to /root/nltk_data...\n",
            "       |   Unzipping corpora/twitter_samples.zip.\n",
            "       | Downloading package udhr to /root/nltk_data...\n",
            "       |   Unzipping corpora/udhr.zip.\n",
            "       | Downloading package udhr2 to /root/nltk_data...\n",
            "       |   Unzipping corpora/udhr2.zip.\n",
            "       | Downloading package unicode_samples to /root/nltk_data...\n",
            "       |   Unzipping corpora/unicode_samples.zip.\n",
            "       | Downloading package universal_tagset to /root/nltk_data...\n",
            "       |   Unzipping taggers/universal_tagset.zip.\n",
            "       | Downloading package universal_treebanks_v20 to\n",
            "       |     /root/nltk_data...\n",
            "       | Downloading package vader_lexicon to /root/nltk_data...\n",
            "       | Downloading package verbnet to /root/nltk_data...\n",
            "       |   Unzipping corpora/verbnet.zip.\n",
            "       | Downloading package verbnet3 to /root/nltk_data...\n",
            "       |   Unzipping corpora/verbnet3.zip.\n",
            "       | Downloading package webtext to /root/nltk_data...\n",
            "       |   Unzipping corpora/webtext.zip.\n",
            "       | Downloading package wmt15_eval to /root/nltk_data...\n",
            "       |   Unzipping models/wmt15_eval.zip.\n",
            "       | Downloading package word2vec_sample to /root/nltk_data...\n",
            "       |   Unzipping models/word2vec_sample.zip.\n",
            "       | Downloading package wordnet to /root/nltk_data...\n",
            "       | Downloading package wordnet2021 to /root/nltk_data...\n",
            "       | Downloading package wordnet31 to /root/nltk_data...\n",
            "       | Downloading package wordnet_ic to /root/nltk_data...\n",
            "       |   Unzipping corpora/wordnet_ic.zip.\n",
            "       | Downloading package words to /root/nltk_data...\n",
            "       |   Unzipping corpora/words.zip.\n",
            "       | Downloading package ycoe to /root/nltk_data...\n",
            "       |   Unzipping corpora/ycoe.zip.\n",
            "       | \n",
            "     Done downloading collection all\n"
          ]
        },
        {
          "metadata": {
            "tags": null
          },
          "name": "stdout",
          "output_type": "stream",
          "text": [
            "\n",
            "---------------------------------------------------------------------------\n",
            "    d) Download   l) List    u) Update   c) Config   h) Help   q) Quit\n",
            "---------------------------------------------------------------------------\n"
          ]
        }
      ]
    },
    {
      "cell_type": "code",
      "source": [
        "from nltk import FreqDist"
      ],
      "metadata": {
        "id": "ZIvx2qnPqDzz"
      },
      "execution_count": 11,
      "outputs": []
    },
    {
      "cell_type": "code",
      "source": [],
      "metadata": {
        "id": "A0DCHRKraoTQ"
      },
      "execution_count": null,
      "outputs": []
    },
    {
      "cell_type": "code",
      "source": [
        "frase = \"Eu amo minha filha\""
      ],
      "metadata": {
        "id": "QOWF9oq3oETK"
      },
      "execution_count": 12,
      "outputs": []
    },
    {
      "cell_type": "code",
      "source": [
        "palavras = nltk.word_tokenize(frase)"
      ],
      "metadata": {
        "id": "GaxWBEYYprFM"
      },
      "execution_count": 13,
      "outputs": []
    },
    {
      "cell_type": "code",
      "source": [
        "palavras"
      ],
      "metadata": {
        "colab": {
          "base_uri": "https://localhost:8080/"
        },
        "id": "7o_35nklpsdb",
        "outputId": "ff72c080-e2d4-4c03-98f1-2db627497bf4"
      },
      "execution_count": 14,
      "outputs": [
        {
          "output_type": "execute_result",
          "data": {
            "text/plain": [
              "['Eu', 'amo', 'minha', 'filha']"
            ]
          },
          "metadata": {},
          "execution_count": 14
        }
      ]
    },
    {
      "cell_type": "code",
      "source": [
        "len(palavras)"
      ],
      "metadata": {
        "colab": {
          "base_uri": "https://localhost:8080/"
        },
        "id": "A2khMSFlrM7b",
        "outputId": "7fd3f9d6-a9fd-40f0-8c56-bcba294d5da9"
      },
      "execution_count": 15,
      "outputs": [
        {
          "output_type": "execute_result",
          "data": {
            "text/plain": [
              "4"
            ]
          },
          "metadata": {},
          "execution_count": 15
        }
      ]
    },
    {
      "cell_type": "code",
      "source": [
        "#Frequancia de palavras\n",
        "freq = FreqDist(palavras)"
      ],
      "metadata": {
        "id": "5tLK1q-4rPdo"
      },
      "execution_count": 18,
      "outputs": []
    },
    {
      "cell_type": "code",
      "source": [
        "freq.values()"
      ],
      "metadata": {
        "colab": {
          "base_uri": "https://localhost:8080/"
        },
        "id": "qYHSTFC5rjtB",
        "outputId": "75625e15-0568-40e6-82f1-202075beb964"
      },
      "execution_count": 19,
      "outputs": [
        {
          "output_type": "execute_result",
          "data": {
            "text/plain": [
              "dict_values([1, 1, 1, 1])"
            ]
          },
          "metadata": {},
          "execution_count": 19
        }
      ]
    },
    {
      "cell_type": "code",
      "source": [
        "freq.max()"
      ],
      "metadata": {
        "colab": {
          "base_uri": "https://localhost:8080/",
          "height": 37
        },
        "id": "hTwBvkCSrz_J",
        "outputId": "d6b39b00-c0ee-47e4-cbf1-705f950fce08"
      },
      "execution_count": 20,
      "outputs": [
        {
          "output_type": "execute_result",
          "data": {
            "text/plain": [
              "'Eu'"
            ],
            "application/vnd.google.colaboratory.intrinsic+json": {
              "type": "string"
            }
          },
          "metadata": {},
          "execution_count": 20
        }
      ]
    },
    {
      "cell_type": "code",
      "source": [
        "freq.elements()"
      ],
      "metadata": {
        "colab": {
          "base_uri": "https://localhost:8080/"
        },
        "id": "fpToPh3Dr4Ey",
        "outputId": "e72b61bc-d51d-4aff-dd05-6c72cdff32e0"
      },
      "execution_count": 22,
      "outputs": [
        {
          "output_type": "execute_result",
          "data": {
            "text/plain": [
              "<itertools.chain at 0x7f9279e84940>"
            ]
          },
          "metadata": {},
          "execution_count": 22
        }
      ]
    },
    {
      "cell_type": "markdown",
      "source": [
        "## Plotando frequências de palavras"
      ],
      "metadata": {
        "id": "AgyxoC2CuhhK"
      }
    },
    {
      "cell_type": "code",
      "source": [
        "import numpy as np\n",
        "import matplotlib.pyplot as plt"
      ],
      "metadata": {
        "id": "GdNlss4SutV6"
      },
      "execution_count": 31,
      "outputs": []
    },
    {
      "cell_type": "code",
      "source": [
        "#obtendo palavras\n",
        "palavras= freq.keys()"
      ],
      "metadata": {
        "id": "o5QEe6Y7r5pP"
      },
      "execution_count": 29,
      "outputs": []
    },
    {
      "cell_type": "code",
      "source": [
        "palavras"
      ],
      "metadata": {
        "colab": {
          "base_uri": "https://localhost:8080/"
        },
        "id": "jQEouhFPsDQ-",
        "outputId": "4fa38850-8a3a-485b-f05a-47afc6fe3b6c"
      },
      "execution_count": 30,
      "outputs": [
        {
          "output_type": "execute_result",
          "data": {
            "text/plain": [
              "dict_keys(['Eu', 'amo', 'minha', 'filha'])"
            ]
          },
          "metadata": {},
          "execution_count": 30
        }
      ]
    },
    {
      "cell_type": "code",
      "source": [
        "# obtendo array de posicoes\n",
        "y_pos = np.arange(len(palavras))"
      ],
      "metadata": {
        "id": "-vDC9i_4uU6i"
      },
      "execution_count": 32,
      "outputs": []
    },
    {
      "cell_type": "code",
      "source": [
        "y_pos"
      ],
      "metadata": {
        "colab": {
          "base_uri": "https://localhost:8080/"
        },
        "id": "8VkfCKk4vbvc",
        "outputId": "1455275b-c924-40a2-d1d6-4b097e545982"
      },
      "execution_count": 33,
      "outputs": [
        {
          "output_type": "execute_result",
          "data": {
            "text/plain": [
              "array([0, 1, 2, 3])"
            ]
          },
          "metadata": {},
          "execution_count": 33
        }
      ]
    },
    {
      "cell_type": "code",
      "source": [
        "#contagem de cada palavra\n",
        "contagem = freq.values()"
      ],
      "metadata": {
        "id": "i3sA952evcVf"
      },
      "execution_count": 35,
      "outputs": []
    },
    {
      "cell_type": "code",
      "source": [
        "plt.bar(y_pos, contagem, align='center', alpha=0.5)\n",
        "plt.xticks(y_pos, palavras)\n",
        "plt.ylabel ('Frequencia')\n",
        "plt.title ('Frequencia das palavras')\n",
        "plt.show()"
      ],
      "metadata": {
        "colab": {
          "base_uri": "https://localhost:8080/",
          "height": 281
        },
        "id": "mglmkmKPvpFM",
        "outputId": "06a77cc0-886d-4d8c-a788-67ac4f300d99"
      },
      "execution_count": 38,
      "outputs": [
        {
          "output_type": "display_data",
          "data": {
            "text/plain": [
              "<Figure size 432x288 with 1 Axes>"
            ],
            "image/png": "[encoded data removed]"
          },
          "metadata": {
            "needs_background": "light"
          }
        }
      ]
    },
    {
      "cell_type": "code",
      "source": [],
      "metadata": {
        "id": "SWSWDlygwMEl"
      },
      "execution_count": null,
      "outputs": []
    },
    {
      "cell_type": "markdown",
      "source": [
        "## Pre-processamento com STEMMING"
      ],
      "metadata": {
        "id": "tyE5ZaqRwWeV"
      }
    },
    {
      "cell_type": "code",
      "source": [
        "stemmer = nltk.stem.RSLPStemmer()"
      ],
      "metadata": {
        "id": "1BDybFBswaLw"
      },
      "execution_count": 39,
      "outputs": []
    },
    {
      "cell_type": "code",
      "source": [
        "stemmer.stem('trabalhou')"
      ],
      "metadata": {
        "colab": {
          "base_uri": "https://localhost:8080/",
          "height": 37
        },
        "id": "B69VcEtpw5nC",
        "outputId": "4830c60d-1366-4b47-f800-49341c7a9781"
      },
      "execution_count": 40,
      "outputs": [
        {
          "output_type": "execute_result",
          "data": {
            "text/plain": [
              "'trabalh'"
            ],
            "application/vnd.google.colaboratory.intrinsic+json": {
              "type": "string"
            }
          },
          "metadata": {},
          "execution_count": 40
        }
      ]
    },
    {
      "cell_type": "code",
      "source": [
        "stemmer.stem('correria')"
      ],
      "metadata": {
        "colab": {
          "base_uri": "https://localhost:8080/",
          "height": 37
        },
        "id": "dJeYLFsNxBaO",
        "outputId": "74aee909-c6c7-459b-8925-b0e92eb0fbad"
      },
      "execution_count": 41,
      "outputs": [
        {
          "output_type": "execute_result",
          "data": {
            "text/plain": [
              "'corr'"
            ],
            "application/vnd.google.colaboratory.intrinsic+json": {
              "type": "string"
            }
          },
          "metadata": {},
          "execution_count": 41
        }
      ]
    },
    {
      "cell_type": "code",
      "source": [
        "#SnowBall\n",
        "stemmer = nltk.stem.SnowballStemmer('portuguese')"
      ],
      "metadata": {
        "id": "wEDs-N3JxYOU"
      },
      "execution_count": 43,
      "outputs": []
    },
    {
      "cell_type": "code",
      "source": [
        "stemmer.stem('comprar')"
      ],
      "metadata": {
        "colab": {
          "base_uri": "https://localhost:8080/",
          "height": 37
        },
        "id": "mASR--IqxhAJ",
        "outputId": "a166d692-a1ae-4871-a87f-e685429bda72"
      },
      "execution_count": 44,
      "outputs": [
        {
          "output_type": "execute_result",
          "data": {
            "text/plain": [
              "'compr'"
            ],
            "application/vnd.google.colaboratory.intrinsic+json": {
              "type": "string"
            }
          },
          "metadata": {},
          "execution_count": 44
        }
      ]
    },
    {
      "cell_type": "code",
      "source": [],
      "metadata": {
        "id": "NPw4WpYexpA6"
      },
      "execution_count": null,
      "outputs": []
    },
    {
      "cell_type": "markdown",
      "source": [
        "## Lematização\n",
        "Flexão da palavra em verbos, adjetivos, substantivos"
      ],
      "metadata": {
        "id": "lYOFnJZ5yFsT"
      }
    },
    {
      "cell_type": "code",
      "source": [
        "from nltk.stem import WordNetLemmatizer"
      ],
      "metadata": {
        "id": "QqbKRRLCyI1N"
      },
      "execution_count": 45,
      "outputs": []
    },
    {
      "cell_type": "code",
      "source": [
        "lemm = WordNetLemmatizer()"
      ],
      "metadata": {
        "id": "dtx7JPYiyOlP"
      },
      "execution_count": 46,
      "outputs": []
    },
    {
      "cell_type": "code",
      "source": [
        "lemm.lemmatize('cats')"
      ],
      "metadata": {
        "colab": {
          "base_uri": "https://localhost:8080/",
          "height": 37
        },
        "id": "Y_vw7FFNyTKa",
        "outputId": "4c3f50c8-d79f-453b-e45c-5ef2ce161557"
      },
      "execution_count": 47,
      "outputs": [
        {
          "output_type": "execute_result",
          "data": {
            "text/plain": [
              "'cat'"
            ],
            "application/vnd.google.colaboratory.intrinsic+json": {
              "type": "string"
            }
          },
          "metadata": {},
          "execution_count": 47
        }
      ]
    },
    {
      "cell_type": "code",
      "source": [
        "#Parametro que busca substantivo\n",
        "lemm.lemmatize('eating', pos='n')"
      ],
      "metadata": {
        "colab": {
          "base_uri": "https://localhost:8080/",
          "height": 37
        },
        "id": "aQBl8I_QyZXQ",
        "outputId": "7a5de571-b1df-45fc-ed3a-f27d74e223f2"
      },
      "execution_count": 49,
      "outputs": [
        {
          "output_type": "execute_result",
          "data": {
            "text/plain": [
              "'eating'"
            ],
            "application/vnd.google.colaboratory.intrinsic+json": {
              "type": "string"
            }
          },
          "metadata": {},
          "execution_count": 49
        }
      ]
    },
    {
      "cell_type": "code",
      "source": [
        "#Parametro que busca verbo\n",
        "lemm.lemmatize('eating', pos='v')"
      ],
      "metadata": {
        "colab": {
          "base_uri": "https://localhost:8080/",
          "height": 37
        },
        "id": "hduzGitKyw8I",
        "outputId": "8d37248c-7ec9-4ff6-aead-95a05a7ce0df"
      },
      "execution_count": 50,
      "outputs": [
        {
          "output_type": "execute_result",
          "data": {
            "text/plain": [
              "'eat'"
            ],
            "application/vnd.google.colaboratory.intrinsic+json": {
              "type": "string"
            }
          },
          "metadata": {},
          "execution_count": 50
        }
      ]
    },
    {
      "cell_type": "code",
      "source": [
        "#Parametro que busca adjetivo\n",
        "lemm.lemmatize('better', pos='a')"
      ],
      "metadata": {
        "colab": {
          "base_uri": "https://localhost:8080/",
          "height": 37
        },
        "id": "KXPOaBM1zAw0",
        "outputId": "73622486-b7a1-43b5-cb68-cbe3ff1732c1"
      },
      "execution_count": 54,
      "outputs": [
        {
          "output_type": "execute_result",
          "data": {
            "text/plain": [
              "'good'"
            ],
            "application/vnd.google.colaboratory.intrinsic+json": {
              "type": "string"
            }
          },
          "metadata": {},
          "execution_count": 54
        }
      ]
    },
    {
      "cell_type": "code",
      "source": [],
      "metadata": {
        "id": "hirST9U6zMUD"
      },
      "execution_count": null,
      "outputs": []
    },
    {
      "cell_type": "markdown",
      "source": [
        "#Stopwords\n",
        "Palavras que não significa muito pro texto"
      ],
      "metadata": {
        "id": "0xqHohMzzY_Q"
      }
    },
    {
      "cell_type": "code",
      "source": [
        "stopwords = nltk.corpus.stopwords.words('portuguese')"
      ],
      "metadata": {
        "id": "57pllH6Czh8i"
      },
      "execution_count": 72,
      "outputs": []
    },
    {
      "cell_type": "code",
      "source": [
        "def RemoveStops(instancia):\n",
        "  instancia = instancia.lower()\n",
        "  stopwords = set(nltk.corpus.stopwords.words('portuguese'))\n",
        "  palavras = [i for i in instancia.split() if not i in stopwords]\n",
        "  return (\" \".join(palavras))"
      ],
      "metadata": {
        "id": "pe0eGvM9zxIm"
      },
      "execution_count": 70,
      "outputs": []
    },
    {
      "cell_type": "code",
      "source": [
        "frase = \"richarlisson, neymar, vini, anthony, paquetá, você mereciam muito essa copa, mesmo. mas infelizmente não foi dessa vez. vocês ainda tem muito tempo, e nesses quatro anos vocês vão vir mais prontos do que nunca\""
      ],
      "metadata": {
        "id": "5WyJUE8e1YiI"
      },
      "execution_count": 75,
      "outputs": []
    },
    {
      "cell_type": "code",
      "source": [
        "RemoveStops(frase)"
      ],
      "metadata": {
        "colab": {
          "base_uri": "https://localhost:8080/",
          "height": 54
        },
        "id": "T0czUJlU0kN9",
        "outputId": "73e5e105-7f10-4712-d176-129d546ff054"
      },
      "execution_count": 76,
      "outputs": [
        {
          "output_type": "execute_result",
          "data": {
            "text/plain": [
              "'richarlisson, neymar, vini, anthony, paquetá, mereciam copa, mesmo. infelizmente dessa vez. ainda tempo, nesses quatro anos vão vir prontos nunca'"
            ],
            "application/vnd.google.colaboratory.intrinsic+json": {
              "type": "string"
            }
          },
          "metadata": {},
          "execution_count": 76
        }
      ]
    },
    {
      "cell_type": "code",
      "source": [],
      "metadata": {
        "id": "yOpAM1ex1JgA"
      },
      "execution_count": null,
      "outputs": []
    },
    {
      "cell_type": "markdown",
      "source": [
        "## Parte da fala\n",
        "Classifica as palavras gramaticalmente"
      ],
      "metadata": {
        "id": "_cqyqytM3hyr"
      }
    },
    {
      "cell_type": "code",
      "source": [
        "text = nltk.word_tokenize(frase)"
      ],
      "metadata": {
        "id": "FDPn4wnK3k16"
      },
      "execution_count": 77,
      "outputs": []
    },
    {
      "cell_type": "code",
      "source": [
        "nltk.pos_tag(text)"
      ],
      "metadata": {
        "colab": {
          "base_uri": "https://localhost:8080/"
        },
        "id": "H2todwzB3vTG",
        "outputId": "af36eb50-4e87-42ce-d0ca-4ef88fc15aa9"
      },
      "execution_count": 79,
      "outputs": [
        {
          "output_type": "execute_result",
          "data": {
            "text/plain": [
              "[('richarlisson', 'NN'),\n",
              " (',', ','),\n",
              " ('neymar', 'NN'),\n",
              " (',', ','),\n",
              " ('vini', 'NN'),\n",
              " (',', ','),\n",
              " ('anthony', 'NN'),\n",
              " (',', ','),\n",
              " ('paquetá', 'NN'),\n",
              " (',', ','),\n",
              " ('você', 'FW'),\n",
              " ('mereciam', 'FW'),\n",
              " ('muito', 'FW'),\n",
              " ('essa', 'FW'),\n",
              " ('copa', 'NN'),\n",
              " (',', ','),\n",
              " ('mesmo', 'NN'),\n",
              " ('.', '.'),\n",
              " ('mas', 'NN'),\n",
              " ('infelizmente', 'NN'),\n",
              " ('não', 'FW'),\n",
              " ('foi', 'NN'),\n",
              " ('dessa', 'NN'),\n",
              " ('vez', 'NN'),\n",
              " ('.', '.'),\n",
              " ('vocês', 'JJ'),\n",
              " ('ainda', 'JJ'),\n",
              " ('tem', 'NN'),\n",
              " ('muito', 'NN'),\n",
              " ('tempo', 'NN'),\n",
              " (',', ','),\n",
              " ('e', 'NN'),\n",
              " ('nesses', 'NNS'),\n",
              " ('quatro', 'VBP'),\n",
              " ('anos', 'JJ'),\n",
              " ('vocês', 'NN'),\n",
              " ('vão', 'NN'),\n",
              " ('vir', 'NN'),\n",
              " ('mais', 'NN'),\n",
              " ('prontos', 'NNS'),\n",
              " ('do', 'VBP'),\n",
              " ('que', 'RB'),\n",
              " ('nunca', 'VB')]"
            ]
          },
          "metadata": {},
          "execution_count": 79
        }
      ]
    },
    {
      "cell_type": "code",
      "source": [
        "nltk.help.upenn_tagset('NNS')"
      ],
      "metadata": {
        "colab": {
          "base_uri": "https://localhost:8080/"
        },
        "id": "GSH7ct-632D9",
        "outputId": "140bfd15-4417-42b0-ab67-29650f5c593d"
      },
      "execution_count": 80,
      "outputs": [
        {
          "output_type": "stream",
          "name": "stdout",
          "text": [
            "NNS: noun, common, plural\n",
            "    undergraduates scotches bric-a-brac products bodyguards facets coasts\n",
            "    divestitures storehouses designs clubs fragrances averages\n",
            "    subjectivists apprehensions muses factory-jobs ...\n"
          ]
        }
      ]
    },
    {
      "cell_type": "code",
      "source": [],
      "metadata": {
        "id": "RALdup9O5exR"
      },
      "execution_count": null,
      "outputs": []
    },
    {
      "cell_type": "markdown",
      "source": [
        "## WordNet"
      ],
      "metadata": {
        "id": "NIONvf3X6p7D"
      }
    },
    {
      "cell_type": "code",
      "source": [
        "from nltk.corpus import wordnet"
      ],
      "metadata": {
        "id": "9zK3Urzp6rlP"
      },
      "execution_count": 82,
      "outputs": []
    },
    {
      "cell_type": "code",
      "source": [
        "wordnet.synsets('bike')"
      ],
      "metadata": {
        "colab": {
          "base_uri": "https://localhost:8080/"
        },
        "id": "cx6C1lk16yES",
        "outputId": "386c2b52-adfd-4466-e651-0e1a98f81af5"
      },
      "execution_count": 90,
      "outputs": [
        {
          "output_type": "execute_result",
          "data": {
            "text/plain": [
              "[Synset('motorcycle.n.01'), Synset('bicycle.n.01'), Synset('bicycle.v.01')]"
            ]
          },
          "metadata": {},
          "execution_count": 90
        }
      ]
    },
    {
      "cell_type": "code",
      "source": [
        "wordnet.synset('motorcycle.n.01').definition()"
      ],
      "metadata": {
        "colab": {
          "base_uri": "https://localhost:8080/",
          "height": 37
        },
        "id": "65Bl2frZ66Sm",
        "outputId": "f3bbe2e7-64d8-4973-c150-df0f43a826c3"
      },
      "execution_count": 86,
      "outputs": [
        {
          "output_type": "execute_result",
          "data": {
            "text/plain": [
              "'a motor vehicle with two wheels and a strong frame'"
            ],
            "application/vnd.google.colaboratory.intrinsic+json": {
              "type": "string"
            }
          },
          "metadata": {},
          "execution_count": 86
        }
      ]
    },
    {
      "cell_type": "code",
      "source": [
        "#Hiponimos\n",
        "wordnet.synset('motorcycle.n.01').hyponyms()"
      ],
      "metadata": {
        "colab": {
          "base_uri": "https://localhost:8080/"
        },
        "id": "-go8jnD17GAu",
        "outputId": "50dd5d0b-f156-4c49-a7fb-bc26c5a83481"
      },
      "execution_count": 92,
      "outputs": [
        {
          "output_type": "execute_result",
          "data": {
            "text/plain": [
              "[Synset('minibike.n.01'), Synset('trail_bike.n.01')]"
            ]
          },
          "metadata": {},
          "execution_count": 92
        }
      ]
    },
    {
      "cell_type": "code",
      "source": [
        "#Hiperonimos\n",
        "wordnet.synset('bicycle.n.01').hypernyms()"
      ],
      "metadata": {
        "colab": {
          "base_uri": "https://localhost:8080/"
        },
        "id": "0_pJDKfo8rDx",
        "outputId": "680f95bb-5a81-40d9-dc12-a0ff716d7398"
      },
      "execution_count": 96,
      "outputs": [
        {
          "output_type": "execute_result",
          "data": {
            "text/plain": [
              "[Synset('wheeled_vehicle.n.01')]"
            ]
          },
          "metadata": {},
          "execution_count": 96
        }
      ]
    },
    {
      "cell_type": "code",
      "source": [
        "# Partes\n",
        "wordnet.synset('bike.n.01').part_meronyms()"
      ],
      "metadata": {
        "colab": {
          "base_uri": "https://localhost:8080/"
        },
        "id": "BISEfH9q81bT",
        "outputId": "2ee7f79b-8a35-4c74-f45b-1ed8b2d30704"
      },
      "execution_count": 105,
      "outputs": [
        {
          "output_type": "execute_result",
          "data": {
            "text/plain": [
              "[Synset('kick_starter.n.01'),\n",
              " Synset('kickstand.n.01'),\n",
              " Synset('mudguard.n.01')]"
            ]
          },
          "metadata": {},
          "execution_count": 105
        }
      ]
    },
    {
      "cell_type": "code",
      "source": [],
      "metadata": {
        "id": "Q4z_hlpkAbYv"
      },
      "execution_count": null,
      "outputs": []
    },
    {
      "cell_type": "markdown",
      "source": [
        "#Mineração de texto"
      ],
      "metadata": {
        "id": "1RwHAE_gAxG9"
      }
    },
    {
      "cell_type": "code",
      "source": [
        "from IPython.display import Image"
      ],
      "metadata": {
        "id": "-TLhQBelA0of"
      },
      "execution_count": 110,
      "outputs": []
    },
    {
      "cell_type": "code",
      "source": [
        "Image('nltk-downloader.jpg')"
      ],
      "metadata": {
        "colab": {
          "base_uri": "https://localhost:8080/",
          "height": 852
        },
        "id": "oI4C56yyA8Z_",
        "outputId": "e3e92750-f921-4265-a44c-5b6e18410bba"
      },
      "execution_count": 112,
      "outputs": [
        {
          "output_type": "error",
          "ename": "FileNotFoundError",
          "evalue": "ignored",
          "traceback": [
            "\u001b[0;31m---------------------------------------------------------------------------\u001b[0m",
            "\u001b[0;31mTypeError\u001b[0m                                 Traceback (most recent call last)",
            "\u001b[0;32m/usr/local/lib/python3.8/dist-packages/IPython/core/display.py\u001b[0m in \u001b[0;36m_data_and_metadata\u001b[0;34m(self, always_both)\u001b[0m\n\u001b[1;32m   1271\u001b[0m         \u001b[0;32mtry\u001b[0m\u001b[0;34m:\u001b[0m\u001b[0;34m\u001b[0m\u001b[0;34m\u001b[0m\u001b[0m\n\u001b[0;32m-> 1272\u001b[0;31m             \u001b[0mb64_data\u001b[0m \u001b[0;34m=\u001b[0m \u001b[0mb2a_base64\u001b[0m\u001b[0;34m(\u001b[0m\u001b[0mself\u001b[0m\u001b[0;34m.\u001b[0m\u001b[0mdata\u001b[0m\u001b[0;34m)\u001b[0m\u001b[0;34m.\u001b[0m\u001b[0mdecode\u001b[0m\u001b[0;34m(\u001b[0m\u001b[0;34m'ascii'\u001b[0m\u001b[0;34m)\u001b[0m\u001b[0;34m\u001b[0m\u001b[0;34m\u001b[0m\u001b[0m\n\u001b[0m\u001b[1;32m   1273\u001b[0m         \u001b[0;32mexcept\u001b[0m \u001b[0mTypeError\u001b[0m\u001b[0;34m:\u001b[0m\u001b[0;34m\u001b[0m\u001b[0;34m\u001b[0m\u001b[0m\n",
            "\u001b[0;31mTypeError\u001b[0m: a bytes-like object is required, not 'str'",
            "\nDuring handling of the above exception, another exception occurred:\n",
            "\u001b[0;31mFileNotFoundError\u001b[0m                         Traceback (most recent call last)",
            "\u001b[0;32m/usr/local/lib/python3.8/dist-packages/IPython/core/formatters.py\u001b[0m in \u001b[0;36m__call__\u001b[0;34m(self, obj, include, exclude)\u001b[0m\n\u001b[1;32m    968\u001b[0m \u001b[0;34m\u001b[0m\u001b[0m\n\u001b[1;32m    969\u001b[0m             \u001b[0;32mif\u001b[0m \u001b[0mmethod\u001b[0m \u001b[0;32mis\u001b[0m \u001b[0;32mnot\u001b[0m \u001b[0;32mNone\u001b[0m\u001b[0;34m:\u001b[0m\u001b[0;34m\u001b[0m\u001b[0;34m\u001b[0m\u001b[0m\n\u001b[0;32m--> 970\u001b[0;31m                 \u001b[0;32mreturn\u001b[0m \u001b[0mmethod\u001b[0m\u001b[0;34m(\u001b[0m\u001b[0minclude\u001b[0m\u001b[0;34m=\u001b[0m\u001b[0minclude\u001b[0m\u001b[0;34m,\u001b[0m \u001b[0mexclude\u001b[0m\u001b[0;34m=\u001b[0m\u001b[0mexclude\u001b[0m\u001b[0;34m)\u001b[0m\u001b[0;34m\u001b[0m\u001b[0;34m\u001b[0m\u001b[0m\n\u001b[0m\u001b[1;32m    971\u001b[0m             \u001b[0;32mreturn\u001b[0m \u001b[0;32mNone\u001b[0m\u001b[0;34m\u001b[0m\u001b[0;34m\u001b[0m\u001b[0m\n\u001b[1;32m    972\u001b[0m         \u001b[0;32melse\u001b[0m\u001b[0;34m:\u001b[0m\u001b[0;34m\u001b[0m\u001b[0;34m\u001b[0m\u001b[0m\n",
            "\u001b[0;32m/usr/local/lib/python3.8/dist-packages/IPython/core/display.py\u001b[0m in \u001b[0;36m_repr_mimebundle_\u001b[0;34m(self, include, exclude)\u001b[0m\n\u001b[1;32m   1260\u001b[0m         \u001b[0;32mif\u001b[0m \u001b[0mself\u001b[0m\u001b[0;34m.\u001b[0m\u001b[0membed\u001b[0m\u001b[0;34m:\u001b[0m\u001b[0;34m\u001b[0m\u001b[0;34m\u001b[0m\u001b[0m\n\u001b[1;32m   1261\u001b[0m             \u001b[0mmimetype\u001b[0m \u001b[0;34m=\u001b[0m \u001b[0mself\u001b[0m\u001b[0;34m.\u001b[0m\u001b[0m_mimetype\u001b[0m\u001b[0;34m\u001b[0m\u001b[0;34m\u001b[0m\u001b[0m\n\u001b[0;32m-> 1262\u001b[0;31m             \u001b[0mdata\u001b[0m\u001b[0;34m,\u001b[0m \u001b[0mmetadata\u001b[0m \u001b[0;34m=\u001b[0m \u001b[0mself\u001b[0m\u001b[0;34m.\u001b[0m\u001b[0m_data_and_metadata\u001b[0m\u001b[0;34m(\u001b[0m\u001b[0malways_both\u001b[0m\u001b[0;34m=\u001b[0m\u001b[0;32mTrue\u001b[0m\u001b[0;34m)\u001b[0m\u001b[0;34m\u001b[0m\u001b[0;34m\u001b[0m\u001b[0m\n\u001b[0m\u001b[1;32m   1263\u001b[0m             \u001b[0;32mif\u001b[0m \u001b[0mmetadata\u001b[0m\u001b[0;34m:\u001b[0m\u001b[0;34m\u001b[0m\u001b[0;34m\u001b[0m\u001b[0m\n\u001b[1;32m   1264\u001b[0m                 \u001b[0mmetadata\u001b[0m \u001b[0;34m=\u001b[0m \u001b[0;34m{\u001b[0m\u001b[0mmimetype\u001b[0m\u001b[0;34m:\u001b[0m \u001b[0mmetadata\u001b[0m\u001b[0;34m}\u001b[0m\u001b[0;34m\u001b[0m\u001b[0;34m\u001b[0m\u001b[0m\n",
            "\u001b[0;32m/usr/local/lib/python3.8/dist-packages/IPython/core/display.py\u001b[0m in \u001b[0;36m_data_and_metadata\u001b[0;34m(self, always_both)\u001b[0m\n\u001b[1;32m   1272\u001b[0m             \u001b[0mb64_data\u001b[0m \u001b[0;34m=\u001b[0m \u001b[0mb2a_base64\u001b[0m\u001b[0;34m(\u001b[0m\u001b[0mself\u001b[0m\u001b[0;34m.\u001b[0m\u001b[0mdata\u001b[0m\u001b[0;34m)\u001b[0m\u001b[0;34m.\u001b[0m\u001b[0mdecode\u001b[0m\u001b[0;34m(\u001b[0m\u001b[0;34m'ascii'\u001b[0m\u001b[0;34m)\u001b[0m\u001b[0;34m\u001b[0m\u001b[0;34m\u001b[0m\u001b[0m\n\u001b[1;32m   1273\u001b[0m         \u001b[0;32mexcept\u001b[0m \u001b[0mTypeError\u001b[0m\u001b[0;34m:\u001b[0m\u001b[0;34m\u001b[0m\u001b[0;34m\u001b[0m\u001b[0m\n\u001b[0;32m-> 1274\u001b[0;31m             raise FileNotFoundError(\n\u001b[0m\u001b[1;32m   1275\u001b[0m                 \"No such file or directory: '%s'\" % (self.data))\n\u001b[1;32m   1276\u001b[0m         \u001b[0mmd\u001b[0m \u001b[0;34m=\u001b[0m \u001b[0;34m{\u001b[0m\u001b[0;34m}\u001b[0m\u001b[0;34m\u001b[0m\u001b[0;34m\u001b[0m\u001b[0m\n",
            "\u001b[0;31mFileNotFoundError\u001b[0m: No such file or directory: 'nltk-downloader.jpg'"
          ]
        },
        {
          "output_type": "error",
          "ename": "FileNotFoundError",
          "evalue": "ignored",
          "traceback": [
            "\u001b[0;31m---------------------------------------------------------------------------\u001b[0m",
            "\u001b[0;31mTypeError\u001b[0m                                 Traceback (most recent call last)",
            "\u001b[0;32m/usr/local/lib/python3.8/dist-packages/IPython/core/display.py\u001b[0m in \u001b[0;36m_data_and_metadata\u001b[0;34m(self, always_both)\u001b[0m\n\u001b[1;32m   1271\u001b[0m         \u001b[0;32mtry\u001b[0m\u001b[0;34m:\u001b[0m\u001b[0;34m\u001b[0m\u001b[0;34m\u001b[0m\u001b[0m\n\u001b[0;32m-> 1272\u001b[0;31m             \u001b[0mb64_data\u001b[0m \u001b[0;34m=\u001b[0m \u001b[0mb2a_base64\u001b[0m\u001b[0;34m(\u001b[0m\u001b[0mself\u001b[0m\u001b[0;34m.\u001b[0m\u001b[0mdata\u001b[0m\u001b[0;34m)\u001b[0m\u001b[0;34m.\u001b[0m\u001b[0mdecode\u001b[0m\u001b[0;34m(\u001b[0m\u001b[0;34m'ascii'\u001b[0m\u001b[0;34m)\u001b[0m\u001b[0;34m\u001b[0m\u001b[0;34m\u001b[0m\u001b[0m\n\u001b[0m\u001b[1;32m   1273\u001b[0m         \u001b[0;32mexcept\u001b[0m \u001b[0mTypeError\u001b[0m\u001b[0;34m:\u001b[0m\u001b[0;34m\u001b[0m\u001b[0;34m\u001b[0m\u001b[0m\n",
            "\u001b[0;31mTypeError\u001b[0m: a bytes-like object is required, not 'str'",
            "\nDuring handling of the above exception, another exception occurred:\n",
            "\u001b[0;31mFileNotFoundError\u001b[0m                         Traceback (most recent call last)",
            "\u001b[0;32m/usr/local/lib/python3.8/dist-packages/IPython/core/formatters.py\u001b[0m in \u001b[0;36m__call__\u001b[0;34m(self, obj)\u001b[0m\n\u001b[1;32m    343\u001b[0m             \u001b[0mmethod\u001b[0m \u001b[0;34m=\u001b[0m \u001b[0mget_real_method\u001b[0m\u001b[0;34m(\u001b[0m\u001b[0mobj\u001b[0m\u001b[0;34m,\u001b[0m \u001b[0mself\u001b[0m\u001b[0;34m.\u001b[0m\u001b[0mprint_method\u001b[0m\u001b[0;34m)\u001b[0m\u001b[0;34m\u001b[0m\u001b[0;34m\u001b[0m\u001b[0m\n\u001b[1;32m    344\u001b[0m             \u001b[0;32mif\u001b[0m \u001b[0mmethod\u001b[0m \u001b[0;32mis\u001b[0m \u001b[0;32mnot\u001b[0m \u001b[0;32mNone\u001b[0m\u001b[0;34m:\u001b[0m\u001b[0;34m\u001b[0m\u001b[0;34m\u001b[0m\u001b[0m\n\u001b[0;32m--> 345\u001b[0;31m                 \u001b[0;32mreturn\u001b[0m \u001b[0mmethod\u001b[0m\u001b[0;34m(\u001b[0m\u001b[0;34m)\u001b[0m\u001b[0;34m\u001b[0m\u001b[0;34m\u001b[0m\u001b[0m\n\u001b[0m\u001b[1;32m    346\u001b[0m             \u001b[0;32mreturn\u001b[0m \u001b[0;32mNone\u001b[0m\u001b[0;34m\u001b[0m\u001b[0;34m\u001b[0m\u001b[0m\n\u001b[1;32m    347\u001b[0m         \u001b[0;32melse\u001b[0m\u001b[0;34m:\u001b[0m\u001b[0;34m\u001b[0m\u001b[0;34m\u001b[0m\u001b[0m\n",
            "\u001b[0;32m/usr/local/lib/python3.8/dist-packages/IPython/core/display.py\u001b[0m in \u001b[0;36m_repr_png_\u001b[0;34m(self)\u001b[0m\n\u001b[1;32m   1290\u001b[0m     \u001b[0;32mdef\u001b[0m \u001b[0m_repr_png_\u001b[0m\u001b[0;34m(\u001b[0m\u001b[0mself\u001b[0m\u001b[0;34m)\u001b[0m\u001b[0;34m:\u001b[0m\u001b[0;34m\u001b[0m\u001b[0;34m\u001b[0m\u001b[0m\n\u001b[1;32m   1291\u001b[0m         \u001b[0;32mif\u001b[0m \u001b[0mself\u001b[0m\u001b[0;34m.\u001b[0m\u001b[0membed\u001b[0m \u001b[0;32mand\u001b[0m \u001b[0mself\u001b[0m\u001b[0;34m.\u001b[0m\u001b[0mformat\u001b[0m \u001b[0;34m==\u001b[0m \u001b[0mself\u001b[0m\u001b[0;34m.\u001b[0m\u001b[0m_FMT_PNG\u001b[0m\u001b[0;34m:\u001b[0m\u001b[0;34m\u001b[0m\u001b[0;34m\u001b[0m\u001b[0m\n\u001b[0;32m-> 1292\u001b[0;31m             \u001b[0;32mreturn\u001b[0m \u001b[0mself\u001b[0m\u001b[0;34m.\u001b[0m\u001b[0m_data_and_metadata\u001b[0m\u001b[0;34m(\u001b[0m\u001b[0;34m)\u001b[0m\u001b[0;34m\u001b[0m\u001b[0;34m\u001b[0m\u001b[0m\n\u001b[0m\u001b[1;32m   1293\u001b[0m \u001b[0;34m\u001b[0m\u001b[0m\n\u001b[1;32m   1294\u001b[0m     \u001b[0;32mdef\u001b[0m \u001b[0m_repr_jpeg_\u001b[0m\u001b[0;34m(\u001b[0m\u001b[0mself\u001b[0m\u001b[0;34m)\u001b[0m\u001b[0;34m:\u001b[0m\u001b[0;34m\u001b[0m\u001b[0;34m\u001b[0m\u001b[0m\n",
            "\u001b[0;32m/usr/local/lib/python3.8/dist-packages/IPython/core/display.py\u001b[0m in \u001b[0;36m_data_and_metadata\u001b[0;34m(self, always_both)\u001b[0m\n\u001b[1;32m   1272\u001b[0m             \u001b[0mb64_data\u001b[0m \u001b[0;34m=\u001b[0m \u001b[0mb2a_base64\u001b[0m\u001b[0;34m(\u001b[0m\u001b[0mself\u001b[0m\u001b[0;34m.\u001b[0m\u001b[0mdata\u001b[0m\u001b[0;34m)\u001b[0m\u001b[0;34m.\u001b[0m\u001b[0mdecode\u001b[0m\u001b[0;34m(\u001b[0m\u001b[0;34m'ascii'\u001b[0m\u001b[0;34m)\u001b[0m\u001b[0;34m\u001b[0m\u001b[0;34m\u001b[0m\u001b[0m\n\u001b[1;32m   1273\u001b[0m         \u001b[0;32mexcept\u001b[0m \u001b[0mTypeError\u001b[0m\u001b[0;34m:\u001b[0m\u001b[0;34m\u001b[0m\u001b[0;34m\u001b[0m\u001b[0m\n\u001b[0;32m-> 1274\u001b[0;31m             raise FileNotFoundError(\n\u001b[0m\u001b[1;32m   1275\u001b[0m                 \"No such file or directory: '%s'\" % (self.data))\n\u001b[1;32m   1276\u001b[0m         \u001b[0mmd\u001b[0m \u001b[0;34m=\u001b[0m \u001b[0;34m{\u001b[0m\u001b[0;34m}\u001b[0m\u001b[0;34m\u001b[0m\u001b[0;34m\u001b[0m\u001b[0m\n",
            "\u001b[0;31mFileNotFoundError\u001b[0m: No such file or directory: 'nltk-downloader.jpg'"
          ]
        },
        {
          "output_type": "execute_result",
          "data": {
            "text/plain": [
              "<IPython.core.display.Image object>"
            ]
          },
          "metadata": {},
          "execution_count": 112
        }
      ]
    },
    {
      "cell_type": "code",
      "source": [
        "# importar dataset corpus com milhares de palavras\n",
        "\n",
        "from nltk.corpus import brown\n"
      ],
      "metadata": {
        "id": "b6MhnYtNBGj5"
      },
      "execution_count": 114,
      "outputs": []
    },
    {
      "cell_type": "code",
      "source": [
        "brown.categories()"
      ],
      "metadata": {
        "colab": {
          "base_uri": "https://localhost:8080/"
        },
        "id": "cK4AUaCEBjl1",
        "outputId": "00a5fa97-776a-4e76-e31c-5226ee07705d"
      },
      "execution_count": 117,
      "outputs": [
        {
          "output_type": "execute_result",
          "data": {
            "text/plain": [
              "['adventure',\n",
              " 'belles_lettres',\n",
              " 'editorial',\n",
              " 'fiction',\n",
              " 'government',\n",
              " 'hobbies',\n",
              " 'humor',\n",
              " 'learned',\n",
              " 'lore',\n",
              " 'mystery',\n",
              " 'news',\n",
              " 'religion',\n",
              " 'reviews',\n",
              " 'romance',\n",
              " 'science_fiction']"
            ]
          },
          "metadata": {},
          "execution_count": 117
        }
      ]
    },
    {
      "cell_type": "code",
      "source": [
        "#Palavras da categoria romance\n",
        "brown.words( categories='romance')"
      ],
      "metadata": {
        "colab": {
          "base_uri": "https://localhost:8080/"
        },
        "id": "lhOy_qubBocN",
        "outputId": "45b6d11c-65c7-4177-d7a3-18f713ece6ad"
      },
      "execution_count": 127,
      "outputs": [
        {
          "output_type": "execute_result",
          "data": {
            "text/plain": [
              "['They', 'neither', 'liked', 'nor', 'disliked', 'the', ...]"
            ]
          },
          "metadata": {},
          "execution_count": 127
        }
      ]
    },
    {
      "cell_type": "code",
      "source": [
        "#Sentenças da categoria romance\n",
        "brown.sents( categories='romance')"
      ],
      "metadata": {
        "colab": {
          "base_uri": "https://localhost:8080/"
        },
        "id": "kh57LjGGCD6j",
        "outputId": "371502a5-f181-4da4-ffc2-ccb74b5fe4b3"
      },
      "execution_count": 128,
      "outputs": [
        {
          "output_type": "execute_result",
          "data": {
            "text/plain": [
              "[['They', 'neither', 'liked', 'nor', 'disliked', 'the', 'Old', 'Man', '.'], ['To', 'them', 'he', 'could', 'have', 'been', 'the', 'broken', 'bell', 'in', 'the', 'church', 'tower', 'which', 'rang', 'before', 'and', 'after', 'Mass', ',', 'and', 'at', 'noon', ',', 'and', 'at', 'six', 'each', 'evening', '--', 'its', 'tone', ',', 'repetitive', ',', 'monotonous', ',', 'never', 'breaking', 'the', 'boredom', 'of', 'the', 'streets', '.'], ...]"
            ]
          },
          "metadata": {},
          "execution_count": 128
        }
      ]
    },
    {
      "cell_type": "code",
      "source": [
        "#Palavras da categoria romance\n",
        "palavras = brown.words( categories=['romance'])"
      ],
      "metadata": {
        "id": "V3VdWiNZC1A3"
      },
      "execution_count": 131,
      "outputs": []
    },
    {
      "cell_type": "code",
      "source": [
        "#Obter frequencia de palavras\n",
        "\n",
        "fdist = nltk.FreqDist(p.lower() for p in palavras)"
      ],
      "metadata": {
        "id": "yL3vCBoODMmp"
      },
      "execution_count": 132,
      "outputs": []
    },
    {
      "cell_type": "code",
      "source": [
        "fdist"
      ],
      "metadata": {
        "colab": {
          "base_uri": "https://localhost:8080/"
        },
        "id": "z_0dNg4nDq54",
        "outputId": "185423e6-f901-45d5-b23a-0357ebfd2cbe"
      },
      "execution_count": 134,
      "outputs": [
        {
          "output_type": "execute_result",
          "data": {
            "text/plain": [
              "FreqDist({',': 3899, '.': 3736, 'the': 2988, 'and': 1905, 'to': 1517, 'a': 1383, 'of': 1202, 'he': 1068, '``': 1045, \"''\": 1044, ...})"
            ]
          },
          "metadata": {},
          "execution_count": 134
        }
      ]
    },
    {
      "cell_type": "code",
      "source": [
        "#Primeitas maiores frequencias\n",
        "fdist.most_common(10)"
      ],
      "metadata": {
        "colab": {
          "base_uri": "https://localhost:8080/"
        },
        "id": "CEykP4pTDsLv",
        "outputId": "5a58a604-ad61-414f-fe34-fb250c6cb16d"
      },
      "execution_count": 135,
      "outputs": [
        {
          "output_type": "execute_result",
          "data": {
            "text/plain": [
              "[(',', 3899),\n",
              " ('.', 3736),\n",
              " ('the', 2988),\n",
              " ('and', 1905),\n",
              " ('to', 1517),\n",
              " ('a', 1383),\n",
              " ('of', 1202),\n",
              " ('he', 1068),\n",
              " ('``', 1045),\n",
              " (\"''\", 1044)]"
            ]
          },
          "metadata": {},
          "execution_count": 135
        }
      ]
    },
    {
      "cell_type": "code",
      "source": [
        "#Ordenar\n",
        "#Set limita contagem unica\n",
        "\n",
        "sorted(set(palavras))[0:50]"
      ],
      "metadata": {
        "colab": {
          "base_uri": "https://localhost:8080/"
        },
        "id": "XX-1_-bzD4qs",
        "outputId": "f842247b-3c77-4578-a0aa-e76b5e3c7192"
      },
      "execution_count": 139,
      "outputs": [
        {
          "output_type": "execute_result",
          "data": {
            "text/plain": [
              "['!',\n",
              " '&',\n",
              " \"'\",\n",
              " \"''\",\n",
              " \"'ello\",\n",
              " \"'em\",\n",
              " \"'most\",\n",
              " '(',\n",
              " ')',\n",
              " ',',\n",
              " '--',\n",
              " '.',\n",
              " '10',\n",
              " '141',\n",
              " '160',\n",
              " '1935',\n",
              " '1936',\n",
              " '1938',\n",
              " '1940',\n",
              " '1944',\n",
              " '230',\n",
              " '3',\n",
              " '4000-plus',\n",
              " \"6'\",\n",
              " ':',\n",
              " ';',\n",
              " '?',\n",
              " 'A',\n",
              " \"A's\",\n",
              " 'A-Z',\n",
              " \"A-Z's\",\n",
              " 'A.M.',\n",
              " 'A40-AjK',\n",
              " 'AA',\n",
              " 'Abernathy',\n",
              " 'Abernathys',\n",
              " 'About',\n",
              " 'Above',\n",
              " 'Abruptly',\n",
              " 'Absolution',\n",
              " 'Acala',\n",
              " 'Across',\n",
              " 'Acting',\n",
              " 'Actually',\n",
              " 'Adam',\n",
              " 'Adams',\n",
              " 'Adele',\n",
              " 'Adelia',\n",
              " 'Adrien',\n",
              " 'African']"
            ]
          },
          "metadata": {},
          "execution_count": 139
        }
      ]
    },
    {
      "cell_type": "code",
      "source": [
        "palavras.count('!')"
      ],
      "metadata": {
        "colab": {
          "base_uri": "https://localhost:8080/"
        },
        "id": "kwAdd9L4FFAE",
        "outputId": "a68a66fa-e043-4917-84c8-ac918bf1a72b"
      },
      "execution_count": 141,
      "outputs": [
        {
          "output_type": "execute_result",
          "data": {
            "text/plain": [
              "316"
            ]
          },
          "metadata": {},
          "execution_count": 141
        }
      ]
    },
    {
      "cell_type": "code",
      "source": [
        "palavras.count('hate')"
      ],
      "metadata": {
        "colab": {
          "base_uri": "https://localhost:8080/"
        },
        "id": "GCFiyLpNFUNX",
        "outputId": "82d67e41-9f3b-4143-dc85-7a95b19fbc81"
      },
      "execution_count": 142,
      "outputs": [
        {
          "output_type": "execute_result",
          "data": {
            "text/plain": [
              "9"
            ]
          },
          "metadata": {},
          "execution_count": 142
        }
      ]
    },
    {
      "cell_type": "code",
      "source": [],
      "metadata": {
        "id": "NOfwB1XlFiy2"
      },
      "execution_count": null,
      "outputs": []
    },
    {
      "cell_type": "markdown",
      "source": [
        "## Frequencia percencual de palavra no texto"
      ],
      "metadata": {
        "id": "gjKN_wtUFopm"
      }
    },
    {
      "cell_type": "code",
      "source": [
        "def palavras_freq(cont, ds):\n",
        "  total = len(ds)\n",
        "  return 100 * cont / total\n"
      ],
      "metadata": {
        "id": "nNtq1UudFzA7"
      },
      "execution_count": 145,
      "outputs": []
    },
    {
      "cell_type": "code",
      "source": [
        "palavras_freq ( palavras.count('!'), palavras)"
      ],
      "metadata": {
        "colab": {
          "base_uri": "https://localhost:8080/"
        },
        "id": "gMyURiA2GmcQ",
        "outputId": "221e395c-662c-4718-faca-43cdc2f9a92a"
      },
      "execution_count": 149,
      "outputs": [
        {
          "output_type": "execute_result",
          "data": {
            "text/plain": [
              "0.4512867384536289"
            ]
          },
          "metadata": {},
          "execution_count": 149
        }
      ]
    },
    {
      "cell_type": "code",
      "source": [
        "palavras = nltk.Text(palavras)"
      ],
      "metadata": {
        "id": "6KR-relDGtTq"
      },
      "execution_count": 150,
      "outputs": []
    },
    {
      "cell_type": "code",
      "source": [
        "palavras"
      ],
      "metadata": {
        "colab": {
          "base_uri": "https://localhost:8080/"
        },
        "id": "6TysEZjoJxow",
        "outputId": "fc363b7d-b0f8-4023-98f5-c26a938d7c9e"
      },
      "execution_count": 151,
      "outputs": [
        {
          "output_type": "execute_result",
          "data": {
            "text/plain": [
              "<Text: They neither liked nor disliked the Old Man...>"
            ]
          },
          "metadata": {},
          "execution_count": 151
        }
      ]
    },
    {
      "cell_type": "code",
      "source": [
        "#Palavras sililares, 10 primeiras\n",
        "palavras.similar('love', num=10)"
      ],
      "metadata": {
        "colab": {
          "base_uri": "https://localhost:8080/"
        },
        "id": "jsEvKEoVJy2Z",
        "outputId": "ae6f5778-d6b3-4a07-bb90-682535cc3682"
      },
      "execution_count": 162,
      "outputs": [
        {
          "output_type": "stream",
          "name": "stdout",
          "text": [
            "see that it place know tell want help understand telling\n"
          ]
        }
      ]
    },
    {
      "cell_type": "code",
      "source": [
        "# Colocações\n",
        "palavras.collocations()"
      ],
      "metadata": {
        "colab": {
          "base_uri": "https://localhost:8080/"
        },
        "id": "ClG0ohFOJ5AI",
        "outputId": "1d32d306-3664-45dc-da98-d02392828905"
      },
      "execution_count": 156,
      "outputs": [
        {
          "output_type": "stream",
          "name": "stdout",
          "text": [
            "New York; Old Man; Mike Deegan; Cousin Elec; Lucille Warren; old man;\n",
            "Poor John; Cousin Emma; Gratt Shafer; I've got; Mrs. Kirby; could see;\n",
            "Eddie Lee; Hanford College; young men; Miss Jen; Mr. Willis; Early\n",
            "Spring; Mrs. Salter; Gertrude Parker\n"
          ]
        }
      ]
    },
    {
      "cell_type": "code",
      "source": [
        "#Concordâncias\n",
        "palavras.concordance_list('love')"
      ],
      "metadata": {
        "colab": {
          "base_uri": "https://localhost:8080/"
        },
        "id": "m7n5wOzMKFFd",
        "outputId": "5a3551c6-add0-45e1-929d-91844ceb2e2b"
      },
      "execution_count": 161,
      "outputs": [
        {
          "output_type": "execute_result",
          "data": {
            "text/plain": [
              "[ConcordanceLine(left=[',', 'where', 'one', \"man's\", 'property', 'blended', 'with', 'the', 'next', 'to', 'form', 'courtyards', 'in', 'which', 'no', 'one', 'knew', 'privacy', '.'], query='Love', right=['and', 'hatred', 'and', 'fear', 'were', 'one', 'here', ',', 'shaded', 'only', 'by', 'fig', 'trees', 'and', 'grape', 'vines', '.', 'And'], offset=1207, left_print='yards in which no one knew privacy .', right_print='and hatred and fear were one here , ', line='yards in which no one knew privacy . Love and hatred and fear were one here , '),\n",
              " ConcordanceLine(left=[',', 'she', 'said', ',', 'smiling', 'up', 'at', 'him', ',', '``', \"I'll\", 'leave', 'you', \"''\", '.', '``', 'Sounds', 'like', 'real'], query='love', right=[\"''\", ',', 'Owen', 'said', '.', '``', 'It', 'sort', 'of', 'brings', 'a', 'lump', 'to', 'my', 'throat', \"''\", '.', '``'], offset=14450, left_print=\"l leave you '' . `` Sounds like real\", right_print=\"'' , Owen said . `` It sort of bring\", line=\"l leave you '' . `` Sounds like real love '' , Owen said . `` It sort of bring\"),\n",
              " ConcordanceLine(left=['his', 'naval', 'career', '.', 'Another', 'field', 'had', 'given', 'him', 'fame', 'enough', 'to', 'satisfy', 'any', 'egotist', '.', 'It', 'was', 'for'], query='love', right=['that', 'he', 'had', 'served', 'the', 'Navy', '.', 'To', 'have', 'someday', 'that', 'love', 'returned', 'was', 'what', 'he', 'had', 'lived'], offset=16096, left_print=' to satisfy any egotist . It was for', right_print='that he had served the Navy . To hav', line=' to satisfy any egotist . It was for love that he had served the Navy . To hav'),\n",
              " ConcordanceLine(left=['satisfy', 'any', 'egotist', '.', 'It', 'was', 'for', 'love', 'that', 'he', 'had', 'served', 'the', 'Navy', '.', 'To', 'have', 'someday', 'that'], query='love', right=['returned', 'was', 'what', 'he', 'had', 'lived', 'for', '.', 'Now', 'the', 'hope', 'was', 'gone', '.', 'Yes', ',', 'he', 'would'], offset=16108, left_print='rved the Navy . To have someday that', right_print='returned was what he had lived for .', line='rved the Navy . To have someday that love returned was what he had lived for .'),\n",
              " ConcordanceLine(left=['some', 'tramp', 'cracks', 'your', 'skull', '.', 'And', 'most', 'of', 'all', 'it', 'is', 'not', 'having', 'the', 'only', 'man', 'you', 'could'], query='love', right=[',', 'whether', 'he', 'drives', 'a', 'bread', 'truck', 'or', 'delivers', 'the', 'mail', 'or', 'checks', 'the', 'berry', 'crates', 'down', 'at'], offset=20029, left_print='is not having the only man you could', right_print=', whether he drives a bread truck or', line='is not having the only man you could love , whether he drives a bread truck or'),\n",
              " ConcordanceLine(left=['to', 'Memphis', ',', 'your', 'Gratt', 'Shafer', 'can', ',', 'and', 'you', 'discover', 'you', 'can', 'stay', 'alive', 'and', 'hate', 'him', 'and'], query='love', right=['him', 'and', 'want', 'him', 'even', 'if', 'it', 'means', 'you', 'want', 'him', '--', 'really', 'want', 'him', '--', 'dead', '.'], offset=20135, left_print=' you can stay alive and hate him and', right_print='him and want him even if it means yo', line=' you can stay alive and hate him and love him and want him even if it means yo'),\n",
              " ConcordanceLine(left=['else', 'can', 'have', 'him', '.', 'For', 'you', \"don't\", 'share', 'him', ',', 'not', 'even', 'with', 'God', '.', 'If', 'it', 'is'], query='love', right=[',', 'you', \"don't\", '.', 'And', \"I'll\", 'take', 'you', 'with', 'me', '.', 'Even', 'if', \"that's\", 'all', 'the', 'promise', 'he'], offset=20184, left_print='e him , not even with God . If it is', right_print=\", you don't . And I'll take you with\", line=\"e him , not even with God . If it is love , you don't . And I'll take you with\"),\n",
              " ConcordanceLine(left=['at', 'night', 'you', 'feel', 'when', 'he', 'is', 'asleep', 'or', 'with', 'the', 'other', 'woman', ',', 'the', 'one', 'that', 'never', 'could'], query='love', right=['him', 'the', 'way', 'you', 'do', ',', 'the', 'one', 'who', 'got', 'him', 'because', 'she', \"didn't\", 'particularly', 'give', 'a', 'damn'], offset=20353, left_print='her woman , the one that never could', right_print='him the way you do , the one who got', line='her woman , the one that never could love him the way you do , the one who got'),\n",
              " ConcordanceLine(left=['that', 'half-murmured', 'remark', ',', 'but', 'it', 'seemed', 'one', 'of', 'those', 'extreme', 'statements', 'women', 'under', 'stress', 'indulge', 'in', '.', 'I'], query='love', right=['you', ',', 'I', 'hate', 'you', ',', 'I', 'feel', 'like', 'killing', 'you', 'and', 'myself', ',', 'and', 'in', 'the', 'same'], offset=24108, left_print='ts women under stress indulge in . I', right_print='you , I hate you , I feel like killi', line='ts women under stress indulge in . I love you , I hate you , I feel like killi'),\n",
              " ConcordanceLine(left=[',', 'I', 'hate', 'you', ',', 'I', 'feel', 'like', 'killing', 'you', 'and', 'myself', ',', 'and', 'in', 'the', 'same', 'sequence', 'I'], query='love', right=['you', 'I', 'think', \"you're\", 'the', 'most', 'wonderful', 'the', 'most', 'noble', 'and', 'so', 'on', 'and', 'on', ',', 'meanwhile', 'eating'], offset=24129, left_print=' myself , and in the same sequence I', right_print=\"you I think you're the most wonderfu\", line=\" myself , and in the same sequence I love you I think you're the most wonderfu\"),\n",
              " ConcordanceLine(left=['so', 'if', 'they', 'told', 'themselves', 'that', 'I', 'could', 'have', 'prevented', 'it', ',', 'I', 'can', 'understand', 'that', 'by', 'now', 'and'], query='love', right=['them', 'still', ',', 'because', 'everyone', 'must', 'justify', ',', 'have', 'a', 'scapegoat', 'for', 'what', 'is', 'not', 'to', 'be', 'borne'], offset=25449, left_print='t , I can understand that by now and', right_print='them still , because everyone must j', line='t , I can understand that by now and love them still , because everyone must j'),\n",
              " ConcordanceLine(left=['she', 'had', 'not', 'taken', 'Mrs.', \"Mathias'\", 'advice', 'and', 'lived', 'on', 'like', 'thousands', 'of', 'women', 'in', 'towns', ',', 'dispossessed', 'of'], query='love', right=[',', 'hanging', 'on', 'to', 'makeshifts', ',', 'and', 'altogether', 'and', 'finally', 'arid', '.', 'If', 'she', 'chose', ',', 'and', 'in'], offset=25676, left_print=' of women in towns , dispossessed of', right_print=', hanging on to makeshifts , and alt', line=' of women in towns , dispossessed of love , hanging on to makeshifts , and alt'),\n",
              " ConcordanceLine(left=['greased', 'the', 'bangs', 'so', 'that', 'the', 'hair', 'above', 'their', 'foreheads', 'stood', 'rigid', 'like', 'the', 'tails', 'of', 'sage', 'hens', 'making'], query='love', right=['.', 'Walitzee', 'whitened', 'his', 'leggings', 'with', 'clay', ',', 'knowing', 'the', 'girl', 'watched', 'from', 'her', 'place', 'in', 'the', 'trees'], offset=30545, left_print='d like the tails of sage hens making', right_print='. Walitzee whitened his leggings wit', line='d like the tails of sage hens making love . Walitzee whitened his leggings wit'),\n",
              " ConcordanceLine(left=['told', 'herself', '.', '``', 'Come', ',', 'come', \"''\", ',', 'Jim', 'said', ',', 'jollying', 'Lucy', 'a', 'little', '.', '``', 'I'], query='love', right=['you', '.', 'Susan', 'ready', \"''\", '?', '?', 'Lucy', 'listened', '.', 'Obviously', ',', 'Susan', 'was', 'not', '.', 'Upstairs', ','], offset=33513, left_print='said , jollying Lucy a little . `` I', right_print=\"you . Susan ready '' ? ? Lucy listen\", line=\"said , jollying Lucy a little . `` I love you . Susan ready '' ? ? Lucy listen\"),\n",
              " ConcordanceLine(left=['the', 'thanks', 'in', 'his', \"sister's\", 'mouth', '.', '``', 'Darling', \"''\", '--', 'she', 'said', ',', 'and', 'the', 'single', 'word', 'mingled'], query='love', right=['and', 'exasperation', 'in', 'an', 'equal', 'blend', '.', '``', 'She', 'should', 'have', 'told', 'me', 'herself', '.', 'And', 'will', 'it'], offset=33715, left_print='e said , and the single word mingled', right_print='and exasperation in an equal blend .', line='e said , and the single word mingled love and exasperation in an equal blend .'),\n",
              " ConcordanceLine(left=['of', 'seaweed', 'around', 'her', 'neck', 'was', 'an', 'emerald', 'necklace', 'the', 'King', 'gave', 'her', 'as', 'a', 'token', 'of', 'his', 'undying'], query='love', right=['.', '``', 'You', 'going', 'to', 'marry', 'the', 'King', \"''\", '?', '?', '``', 'No', '.', \"He's\", 'got', 'a', 'long'], offset=37473, left_print='g gave her as a token of his undying', right_print=\". `` You going to marry the King '' \", line=\"g gave her as a token of his undying love . `` You going to marry the King '' \"),\n",
              " ConcordanceLine(left=['and', 'suck', 'in', 'the', 'sweet', 'water', '.', 'Perhaps', 'if', 'I', 'took', 'off', 'the', 'aqua-lung', 'I', 'could', 'swim', 'better', ','], query='love', right=['my', 'woman', 'better', '.', 'I', 'chuckled', 'aloud', ',', 'and', 'the', 'mouthpiece', 'fell', 'out', '.', 'While', 'a', 'hazy', 'part'], offset=45831, left_print=' the aqua-lung I could swim better ,', right_print='my woman better . I chuckled aloud ,', line=' the aqua-lung I could swim better , love my woman better . I chuckled aloud ,'),\n",
              " ConcordanceLine(left=['went', 'to', 'my', 'hotel', 'without', 'another', 'word', '.', 'I', 'sensed', 'no', 'stranger', 'in', 'her', '.', 'We', 'undressed', 'and', 'made'], query='love', right=['with', 'the', 'comfortable', 'acceptance', 'I', 'had', 'once', 'known', 'with', 'Valery', '.', 'I', 'decided', 'thirty-five', 'was', 'the', 'best', 'estimate'], offset=47377, left_print='anger in her . We undressed and made', right_print='with the comfortable acceptance I ha', line='anger in her . We undressed and made love with the comfortable acceptance I ha'),\n",
              " ConcordanceLine(left=['a', 'straight', ',', 'honest', 'answer', '.', '``', 'Look', ',', 'Sue', 'baby', \"''\", ',', \"he'd\", 'said', '.', 'Much', 'as', 'I'], query='love', right=['you', '--', 'well', ',', 'a', \"guy's\", 'a', 'guy', 'and', \"Lucille's\", 'willing', 'to', '--', 'to', 'come', 'across', '.', 'Honest'], offset=50876, left_print=\" Sue baby '' , he'd said . Much as I\", right_print=\"you -- well , a guy's a guy and Luci\", line=\" Sue baby '' , he'd said . Much as I love you -- well , a guy's a guy and Luci\"),\n",
              " ConcordanceLine(left=['what', 'I', 'was', 'up', 'against', 'in', 'the', 'person', 'of', 'Lucille', 'Warren', '.', 'But', 'it', \"didn't\", 'seem', 'fair', '.', 'My'], query='love', right=['for', 'Johnnie', 'was', 'young', 'and', 'clean', '--', 'how', 'could', 'I', 'possibly', 'compete', 'with', 'a', 'woman', 'like', 'that', ','], offset=50940, left_print=\"arren . But it didn't seem fair . My\", right_print='for Johnnie was young and clean -- h', line=\"arren . But it didn't seem fair . My love for Johnnie was young and clean -- h\"),\n",
              " ConcordanceLine(left=['and', 'leave', 'those', 'helpless', 'children', 'without', 'their', 'daddy', '.', 'Johnnie', 'loved', 'me', 'and', 'wanted', 'me', '.', 'But', 'the', 'only'], query='love', right=['I', 'was', 'giving', 'him', 'was', 'the', 'pure', 'kind', '.', 'It', 'was', 'weeks', 'before', 'we', 'even', 'kissed', 'for', 'the'], offset=51289, left_print='oved me and wanted me . But the only', right_print='I was giving him was the pure kind .', line='oved me and wanted me . But the only love I was giving him was the pure kind .'),\n",
              " ConcordanceLine(left=['But', 'by', 'the', 'time', 'the', 'first', 'crackling', 'of', 'spring', 'came', 'around', ',', 'we', 'both', 'knew', 'we', 'were', 'hopelessly', 'in'], query='love', right=['.', 'Yet', 'even', 'then', 'we', 'did', 'nothing', 'much', 'but', 'talk', ',', 'and', 'maybe', 'neck', 'a', 'little', '.', '``'], offset=51357, left_print=', we both knew we were hopelessly in', right_print='. Yet even then we did nothing much ', line=', we both knew we were hopelessly in love . Yet even then we did nothing much '),\n",
              " ConcordanceLine(left=['.', 'It', 'was', 'all', 'my', 'doing', '--', 'his', 'seeing', 'her', '.', 'Johnnie', 'and', 'I', 'had', 'been', 'innocent', 'in', 'our'], query='love', right=[',', 'and', 'that', 'was', 'the', 'way', 'I', 'wanted', 'to', 'keep', 'it', '.', 'At', 'first', ',', 'Johnnie', \"hadn't\", 'understood'], offset=51610, left_print='hnnie and I had been innocent in our', right_print=', and that was the way I wanted to k', line='hnnie and I had been innocent in our love , and that was the way I wanted to k'),\n",
              " ConcordanceLine(left=['enough', ',', 'it', 'was', 'my', 'own', 'voice', 'I', 'heard', 'there', 'in', 'the', 'darkness', ',', 'begging', 'this', 'man', 'to', 'make'], query='love', right=['to', 'me', '.', '``', 'Love', 'me', ',', 'Johnnie', \"''\", '.', '``', 'I', 'will', ',', 'kitten', \"''\", '!', '!'], offset=51834, left_print=' darkness , begging this man to make', right_print=\"to me . `` Love me , Johnnie '' . ``\", line=\" darkness , begging this man to make love to me . `` Love me , Johnnie '' . ``\"),\n",
              " ConcordanceLine(left=['own', 'voice', 'I', 'heard', 'there', 'in', 'the', 'darkness', ',', 'begging', 'this', 'man', 'to', 'make', 'love', 'to', 'me', '.', '``'], query='Love', right=['me', ',', 'Johnnie', \"''\", '.', '``', 'I', 'will', ',', 'kitten', \"''\", '!', '!', 'Outside', ',', 'in', 'the', 'summertime'], offset=51839, left_print='ing this man to make love to me . ``', right_print=\"me , Johnnie '' . `` I will , kitten\", line=\"ing this man to make love to me . `` Love me , Johnnie '' . `` I will , kitten\")]"
            ]
          },
          "metadata": {},
          "execution_count": 161
        }
      ]
    },
    {
      "cell_type": "code",
      "source": [
        "#Empregabilidade, palavras antonimas\n",
        "palavras.common_contexts(['love','hate'])"
      ],
      "metadata": {
        "colab": {
          "base_uri": "https://localhost:8080/"
        },
        "id": "AZBFtvrVKOHo",
        "outputId": "22b81e92-c125-4510-c2ae-7fc6aa504a8e"
      },
      "execution_count": 166,
      "outputs": [
        {
          "output_type": "stream",
          "name": "stdout",
          "text": [
            "i_you and_him\n"
          ]
        }
      ]
    },
    {
      "cell_type": "code",
      "source": [],
      "metadata": {
        "id": "ksMw5vjJLZ6I"
      },
      "execution_count": null,
      "outputs": []
    },
    {
      "cell_type": "markdown",
      "source": [
        "## Distribuição das palavras ao longo do tempo"
      ],
      "metadata": {
        "id": "X8gpHWh7MpX8"
      }
    },
    {
      "cell_type": "code",
      "source": [
        "palavras.dispersion_plot(['hate','love','man'])"
      ],
      "metadata": {
        "colab": {
          "base_uri": "https://localhost:8080/",
          "height": 295
        },
        "id": "ZE4w4tBdMrya",
        "outputId": "feb6cef1-e2b0-4fa3-fe63-1ba3b9f35434"
      },
      "execution_count": 168,
      "outputs": [
        {
          "output_type": "display_data",
          "data": {
            "text/plain": [
              "<Figure size 432x288 with 1 Axes>"
            ],
            "image/png": "[encoded data removed]"
          },
          "metadata": {
            "needs_background": "light"
          }
        }
      ]
    },
    {
      "cell_type": "code",
      "source": [],
      "metadata": {
        "id": "bYNZ40jiMzpk"
      },
      "execution_count": null,
      "outputs": []
    },
    {
      "cell_type": "markdown",
      "source": [
        "#Análise twitter"
      ],
      "metadata": {
        "id": "xkQHogFCO2sk"
      }
    },
    {
      "cell_type": "code",
      "source": [
        "Image('https://logosmarcas.net/wp-content/uploads/2020/04/Twitter-Logo-650x366.png')"
      ],
      "metadata": {
        "colab": {
          "base_uri": "https://localhost:8080/",
          "height": 383
        },
        "id": "NKIl1M58O6jx",
        "outputId": "8d6f694e-d5f9-4c1b-d8c4-9d7b87e1f3ec"
      },
      "execution_count": 172,
      "outputs": [
        {
          "output_type": "execute_result",
          "data": {
            "image/png": "[encoded data removed]",
            "text/plain": [
              "<IPython.core.display.Image object>"
            ]
          },
          "metadata": {},
          "execution_count": 172
        }
      ]
    },
    {
      "cell_type": "code",
      "source": [
        "#Ler base de dados\n",
        "import pandas as pd"
      ],
      "metadata": {
        "id": "7sZRP7-jPBES"
      },
      "execution_count": 173,
      "outputs": []
    },
    {
      "cell_type": "code",
      "source": [
        "tweets = pd.read_csv('/content/TweetsElonMusk.csv')"
      ],
      "metadata": {
        "id": "SfCJ_2BWPfWB"
      },
      "execution_count": 197,
      "outputs": []
    },
    {
      "cell_type": "code",
      "source": [
        "tweets.head()"
      ],
      "metadata": {
        "colab": {
          "base_uri": "https://localhost:8080/",
          "height": 487
        },
        "id": "1hRe4-W3QAq2",
        "outputId": "f21ba5f7-00a1-4576-d614-3f5d775d9c90"
      },
      "execution_count": 183,
      "outputs": [
        {
          "output_type": "execute_result",
          "data": {
            "text/plain": [
              "                    id      conversation_id                created_at  \\\n",
              "0  1381273474400800773  1381002894032347138  2021-04-11 18:50:33 EEST   \n",
              "1  1381273076709478403  1372444955050971142  2021-04-11 18:48:58 EEST   \n",
              "2  1381258144916008964  1381230136918433792  2021-04-11 17:49:38 EEST   \n",
              "3  1381221447322935303  1381221447322935303  2021-04-11 15:23:49 EEST   \n",
              "4  1381129584435818496  1381079981485252611  2021-04-11 09:18:47 EEST   \n",
              "\n",
              "         date      time  timezone     user_id  username       name  place  \\\n",
              "0  2021-04-11  18:50:33     300.0  44196397.0  elonmusk  Elon Musk    NaN   \n",
              "1  2021-04-11  18:48:58     300.0  44196397.0  elonmusk  Elon Musk    NaN   \n",
              "2  2021-04-11  17:49:38     300.0  44196397.0  elonmusk  Elon Musk    NaN   \n",
              "3  2021-04-11  15:23:49     300.0  44196397.0  elonmusk  Elon Musk    NaN   \n",
              "4  2021-04-11  09:18:47     300.0  44196397.0  elonmusk  Elon Musk    NaN   \n",
              "\n",
              "   ... geo source user_rt_id user_rt retweet_id  \\\n",
              "0  ... NaN    NaN        NaN     NaN        NaN   \n",
              "1  ... NaN    NaN        NaN     NaN        NaN   \n",
              "2  ... NaN    NaN        NaN     NaN        NaN   \n",
              "3  ... NaN    NaN        NaN     NaN        NaN   \n",
              "4  ... NaN    NaN        NaN     NaN        NaN   \n",
              "\n",
              "                                            reply_to  retweet_date  translate  \\\n",
              "0  [{'screen_name': 'vincent13031925', 'name': 'V...           NaN        NaN   \n",
              "1                                                 []           NaN        NaN   \n",
              "2  [{'screen_name': 'agnostoxxx', 'name': 'Shrubb...           NaN        NaN   \n",
              "3                                                 []           NaN        NaN   \n",
              "4  [{'screen_name': 'itsALLrisky', 'name': '💸💸💸',...           NaN        NaN   \n",
              "\n",
              "  trans_src trans_dest  \n",
              "0       NaN        NaN  \n",
              "1       NaN        NaN  \n",
              "2       NaN        NaN  \n",
              "3       NaN        NaN  \n",
              "4       NaN        NaN  \n",
              "\n",
              "[5 rows x 36 columns]"
            ],
            "text/html": [
              "\n",
              "  <div id=\"df-17e44198-82ad-45ac-a4a5-da3ba43008c2\">\n",
              "    <div class=\"colab-df-container\">\n",
              "      <div>\n",
              "<style scoped>\n",
              "    .dataframe tbody tr th:only-of-type {\n",
              "        vertical-align: middle;\n",
              "    }\n",
              "\n",
              "    .dataframe tbody tr th {\n",
              "        vertical-align: top;\n",
              "    }\n",
              "\n",
              "    .dataframe thead th {\n",
              "        text-align: right;\n",
              "    }\n",
              "</style>\n",
              "<table border=\"1\" class=\"dataframe\">\n",
              "  <thead>\n",
              "    <tr style=\"text-align: right;\">\n",
              "      <th></th>\n",
              "      <th>id</th>\n",
              "      <th>conversation_id</th>\n",
              "      <th>created_at</th>\n",
              "      <th>date</th>\n",
              "      <th>time</th>\n",
              "      <th>timezone</th>\n",
              "      <th>user_id</th>\n",
              "      <th>username</th>\n",
              "      <th>name</th>\n",
              "      <th>place</th>\n",
              "      <th>...</th>\n",
              "      <th>geo</th>\n",
              "      <th>source</th>\n",
              "      <th>user_rt_id</th>\n",
              "      <th>user_rt</th>\n",
              "      <th>retweet_id</th>\n",
              "      <th>reply_to</th>\n",
              "      <th>retweet_date</th>\n",
              "      <th>translate</th>\n",
              "      <th>trans_src</th>\n",
              "      <th>trans_dest</th>\n",
              "    </tr>\n",
              "  </thead>\n",
              "  <tbody>\n",
              "    <tr>\n",
              "      <th>0</th>\n",
              "      <td>1381273474400800773</td>\n",
              "      <td>1381002894032347138</td>\n",
              "      <td>2021-04-11 18:50:33 EEST</td>\n",
              "      <td>2021-04-11</td>\n",
              "      <td>18:50:33</td>\n",
              "      <td>300.0</td>\n",
              "      <td>44196397.0</td>\n",
              "      <td>elonmusk</td>\n",
              "      <td>Elon Musk</td>\n",
              "      <td>NaN</td>\n",
              "      <td>...</td>\n",
              "      <td>NaN</td>\n",
              "      <td>NaN</td>\n",
              "      <td>NaN</td>\n",
              "      <td>NaN</td>\n",
              "      <td>NaN</td>\n",
              "      <td>[{'screen_name': 'vincent13031925', 'name': 'V...</td>\n",
              "      <td>NaN</td>\n",
              "      <td>NaN</td>\n",
              "      <td>NaN</td>\n",
              "      <td>NaN</td>\n",
              "    </tr>\n",
              "    <tr>\n",
              "      <th>1</th>\n",
              "      <td>1381273076709478403</td>\n",
              "      <td>1372444955050971142</td>\n",
              "      <td>2021-04-11 18:48:58 EEST</td>\n",
              "      <td>2021-04-11</td>\n",
              "      <td>18:48:58</td>\n",
              "      <td>300.0</td>\n",
              "      <td>44196397.0</td>\n",
              "      <td>elonmusk</td>\n",
              "      <td>Elon Musk</td>\n",
              "      <td>NaN</td>\n",
              "      <td>...</td>\n",
              "      <td>NaN</td>\n",
              "      <td>NaN</td>\n",
              "      <td>NaN</td>\n",
              "      <td>NaN</td>\n",
              "      <td>NaN</td>\n",
              "      <td>[]</td>\n",
              "      <td>NaN</td>\n",
              "      <td>NaN</td>\n",
              "      <td>NaN</td>\n",
              "      <td>NaN</td>\n",
              "    </tr>\n",
              "    <tr>\n",
              "      <th>2</th>\n",
              "      <td>1381258144916008964</td>\n",
              "      <td>1381230136918433792</td>\n",
              "      <td>2021-04-11 17:49:38 EEST</td>\n",
              "      <td>2021-04-11</td>\n",
              "      <td>17:49:38</td>\n",
              "      <td>300.0</td>\n",
              "      <td>44196397.0</td>\n",
              "      <td>elonmusk</td>\n",
              "      <td>Elon Musk</td>\n",
              "      <td>NaN</td>\n",
              "      <td>...</td>\n",
              "      <td>NaN</td>\n",
              "      <td>NaN</td>\n",
              "      <td>NaN</td>\n",
              "      <td>NaN</td>\n",
              "      <td>NaN</td>\n",
              "      <td>[{'screen_name': 'agnostoxxx', 'name': 'Shrubb...</td>\n",
              "      <td>NaN</td>\n",
              "      <td>NaN</td>\n",
              "      <td>NaN</td>\n",
              "      <td>NaN</td>\n",
              "    </tr>\n",
              "    <tr>\n",
              "      <th>3</th>\n",
              "      <td>1381221447322935303</td>\n",
              "      <td>1381221447322935303</td>\n",
              "      <td>2021-04-11 15:23:49 EEST</td>\n",
              "      <td>2021-04-11</td>\n",
              "      <td>15:23:49</td>\n",
              "      <td>300.0</td>\n",
              "      <td>44196397.0</td>\n",
              "      <td>elonmusk</td>\n",
              "      <td>Elon Musk</td>\n",
              "      <td>NaN</td>\n",
              "      <td>...</td>\n",
              "      <td>NaN</td>\n",
              "      <td>NaN</td>\n",
              "      <td>NaN</td>\n",
              "      <td>NaN</td>\n",
              "      <td>NaN</td>\n",
              "      <td>[]</td>\n",
              "      <td>NaN</td>\n",
              "      <td>NaN</td>\n",
              "      <td>NaN</td>\n",
              "      <td>NaN</td>\n",
              "    </tr>\n",
              "    <tr>\n",
              "      <th>4</th>\n",
              "      <td>1381129584435818496</td>\n",
              "      <td>1381079981485252611</td>\n",
              "      <td>2021-04-11 09:18:47 EEST</td>\n",
              "      <td>2021-04-11</td>\n",
              "      <td>09:18:47</td>\n",
              "      <td>300.0</td>\n",
              "      <td>44196397.0</td>\n",
              "      <td>elonmusk</td>\n",
              "      <td>Elon Musk</td>\n",
              "      <td>NaN</td>\n",
              "      <td>...</td>\n",
              "      <td>NaN</td>\n",
              "      <td>NaN</td>\n",
              "      <td>NaN</td>\n",
              "      <td>NaN</td>\n",
              "      <td>NaN</td>\n",
              "      <td>[{'screen_name': 'itsALLrisky', 'name': '💸💸💸',...</td>\n",
              "      <td>NaN</td>\n",
              "      <td>NaN</td>\n",
              "      <td>NaN</td>\n",
              "      <td>NaN</td>\n",
              "    </tr>\n",
              "  </tbody>\n",
              "</table>\n",
              "<p>5 rows × 36 columns</p>\n",
              "</div>\n",
              "      <button class=\"colab-df-convert\" onclick=\"convertToInteractive('df-17e44198-82ad-45ac-a4a5-da3ba43008c2')\"\n",
              "              title=\"Convert this dataframe to an interactive table.\"\n",
              "              style=\"display:none;\">\n",
              "        \n",
              "  <svg xmlns=\"http://www.w3.org/2000/svg\" height=\"24px\"viewBox=\"0 0 24 24\"\n",
              "       width=\"24px\">\n",
              "    <path d=\"M0 0h24v24H0V0z\" fill=\"none\"/>\n",
              "    <path d=\"M18.56 5.44l.94 2.06.94-2.06 2.06-.94-2.06-.94-.94-2.06-.94 2.06-2.06.94zm-11 1L8.5 8.5l.94-2.06 2.06-.94-2.06-.94L8.5 2.5l-.94 2.06-2.06.94zm10 10l.94 2.06.94-2.06 2.06-.94-2.06-.94-.94-2.06-.94 2.06-2.06.94z\"/><path d=\"M17.41 7.96l-1.37-1.37c-.4-.4-.92-.59-1.43-.59-.52 0-1.04.2-1.43.59L10.3 9.45l-7.72 7.72c-.78.78-.78 2.05 0 2.83L4 21.41c.39.39.9.59 1.41.59.51 0 1.02-.2 1.41-.59l7.78-7.78 2.81-2.81c.8-.78.8-2.07 0-2.86zM5.41 20L4 18.59l7.72-7.72 1.47 1.35L5.41 20z\"/>\n",
              "  </svg>\n",
              "      </button>\n",
              "      \n",
              "  <style>\n",
              "    .colab-df-container {\n",
              "      display:flex;\n",
              "      flex-wrap:wrap;\n",
              "      gap: 12px;\n",
              "    }\n",
              "\n",
              "    .colab-df-convert {\n",
              "      background-color: #E8F0FE;\n",
              "      border: none;\n",
              "      border-radius: 50%;\n",
              "      cursor: pointer;\n",
              "      display: none;\n",
              "      fill: #1967D2;\n",
              "      height: 32px;\n",
              "      padding: 0 0 0 0;\n",
              "      width: 32px;\n",
              "    }\n",
              "\n",
              "    .colab-df-convert:hover {\n",
              "      background-color: #E2EBFA;\n",
              "      box-shadow: 0px 1px 2px rgba(60, 64, 67, 0.3), 0px 1px 3px 1px rgba(60, 64, 67, 0.15);\n",
              "      fill: #174EA6;\n",
              "    }\n",
              "\n",
              "    [theme=dark] .colab-df-convert {\n",
              "      background-color: #3B4455;\n",
              "      fill: #D2E3FC;\n",
              "    }\n",
              "\n",
              "    [theme=dark] .colab-df-convert:hover {\n",
              "      background-color: #434B5C;\n",
              "      box-shadow: 0px 1px 3px 1px rgba(0, 0, 0, 0.15);\n",
              "      filter: drop-shadow(0px 1px 2px rgba(0, 0, 0, 0.3));\n",
              "      fill: #FFFFFF;\n",
              "    }\n",
              "  </style>\n",
              "\n",
              "      <script>\n",
              "        const buttonEl =\n",
              "          document.querySelector('#df-17e44198-82ad-45ac-a4a5-da3ba43008c2 button.colab-df-convert');\n",
              "        buttonEl.style.display =\n",
              "          google.colab.kernel.accessAllowed ? 'block' : 'none';\n",
              "\n",
              "        async function convertToInteractive(key) {\n",
              "          const element = document.querySelector('#df-17e44198-82ad-45ac-a4a5-da3ba43008c2');\n",
              "          const dataTable =\n",
              "            await google.colab.kernel.invokeFunction('convertToInteractive',\n",
              "                                                     [key], {});\n",
              "          if (!dataTable) return;\n",
              "\n",
              "          const docLinkHtml = 'Like what you see? Visit the ' +\n",
              "            '<a target=\"_blank\" href=https://colab.research.google.com/notebooks/data_table.ipynb>data table notebook</a>'\n",
              "            + ' to learn more about interactive tables.';\n",
              "          element.innerHTML = '';\n",
              "          dataTable['output_type'] = 'display_data';\n",
              "          await google.colab.output.renderOutput(dataTable, element);\n",
              "          const docLink = document.createElement('div');\n",
              "          docLink.innerHTML = docLinkHtml;\n",
              "          element.appendChild(docLink);\n",
              "        }\n",
              "      </script>\n",
              "    </div>\n",
              "  </div>\n",
              "  "
            ]
          },
          "metadata": {},
          "execution_count": 183
        },
        {
          "output_type": "stream",
          "name": "stdout",
          "text": [
            "Warning: Total number of columns (36) exceeds max_columns (20) limiting to first (20) columns.\n"
          ]
        }
      ]
    },
    {
      "cell_type": "code",
      "source": [
        "tweets.tweet.head()"
      ],
      "metadata": {
        "colab": {
          "base_uri": "https://localhost:8080/"
        },
        "id": "PUHS_X-lQEKR",
        "outputId": "1aa35f24-6d7b-4571-aa55-e6998e53bd11"
      },
      "execution_count": 184,
      "outputs": [
        {
          "output_type": "execute_result",
          "data": {
            "text/plain": [
              "0    @vincent13031925 For now. Costs are decreasing...\n",
              "1                             Love this beautiful shot\n",
              "2    @agnostoxxx @CathieDWood @ARKInvest Trust the ...\n",
              "3                   The art In Cyberpunk is incredible\n",
              "4                                      @itsALLrisky 🤣🤣\n",
              "Name: tweet, dtype: object"
            ]
          },
          "metadata": {},
          "execution_count": 184
        }
      ]
    },
    {
      "cell_type": "code",
      "source": [
        "tweets.count()"
      ],
      "metadata": {
        "colab": {
          "base_uri": "https://localhost:8080/",
          "height": 164
        },
        "id": "QPfGod3zRDNd",
        "outputId": "54458500-1df3-47aa-8264-42e10f53ea3f"
      },
      "execution_count": 280,
      "outputs": [
        {
          "output_type": "error",
          "ename": "TypeError",
          "evalue": "ignored",
          "traceback": [
            "\u001b[0;31m---------------------------------------------------------------------------\u001b[0m",
            "\u001b[0;31mTypeError\u001b[0m                                 Traceback (most recent call last)",
            "\u001b[0;32m<ipython-input-280-9968259ee292>\u001b[0m in \u001b[0;36m<module>\u001b[0;34m\u001b[0m\n\u001b[0;32m----> 1\u001b[0;31m \u001b[0mtweets\u001b[0m\u001b[0;34m.\u001b[0m\u001b[0mcount\u001b[0m\u001b[0;34m(\u001b[0m\u001b[0;34m)\u001b[0m\u001b[0;34m\u001b[0m\u001b[0;34m\u001b[0m\u001b[0m\n\u001b[0m",
            "\u001b[0;31mTypeError\u001b[0m: count() takes exactly one argument (0 given)"
          ]
        }
      ]
    },
    {
      "cell_type": "code",
      "source": [
        "from nltk.tokenize import TweetTokenizer"
      ],
      "metadata": {
        "id": "lVOzUwrRRHsY"
      },
      "execution_count": null,
      "outputs": []
    },
    {
      "cell_type": "code",
      "source": [
        "tt = TweetTokenizer()"
      ],
      "metadata": {
        "id": "zVwApp4IT6Ys"
      },
      "execution_count": null,
      "outputs": []
    },
    {
      "cell_type": "code",
      "source": [
        "tt.tokenize(\"@agnostoxxx @CathieDWood @ARKInvest Trust the shrub\")"
      ],
      "metadata": {
        "colab": {
          "base_uri": "https://localhost:8080/"
        },
        "id": "z3DaLiKCUGX5",
        "outputId": "afd9bec3-0cf6-486e-9ea8-52ed5dece174"
      },
      "execution_count": 190,
      "outputs": [
        {
          "output_type": "execute_result",
          "data": {
            "text/plain": [
              "['@agnostoxxx', '@CathieDWood', '@ARKInvest', 'Trust', 'the', 'shrub']"
            ]
          },
          "metadata": {},
          "execution_count": 190
        }
      ]
    },
    {
      "cell_type": "code",
      "source": [
        "tt.tokenize_sents([\"@agnostoxxx @CathieDWood @ARKInvest Trust the shrub\"])"
      ],
      "metadata": {
        "colab": {
          "base_uri": "https://localhost:8080/"
        },
        "id": "JS-du0MPUglZ",
        "outputId": "1e3a4cc5-7550-41f8-9dea-251832df0230"
      },
      "execution_count": 192,
      "outputs": [
        {
          "output_type": "execute_result",
          "data": {
            "text/plain": [
              "[['@agnostoxxx', '@CathieDWood', '@ARKInvest', 'Trust', 'the', 'shrub']]"
            ]
          },
          "metadata": {},
          "execution_count": 192
        }
      ]
    },
    {
      "cell_type": "code",
      "source": [
        "from functools import reduce\n",
        "import operator"
      ],
      "metadata": {
        "id": "aYddxmVTUpPq"
      },
      "execution_count": 193,
      "outputs": []
    },
    {
      "cell_type": "code",
      "source": [
        "lst_palavras = []\n",
        "for t in tweets.tweet: \n",
        "  lst_palavras.append(t.split())\n"
      ],
      "metadata": {
        "id": "mrCXQhswXVQl"
      },
      "execution_count": 211,
      "outputs": []
    },
    {
      "cell_type": "code",
      "source": [
        "#Saida é lista de listas, precisa reduzir\n",
        "lst_palavras[:10]"
      ],
      "metadata": {
        "colab": {
          "base_uri": "https://localhost:8080/"
        },
        "id": "Upoqs4BgXo16",
        "outputId": "f1ca8c73-4f6f-4bc7-946f-6f6992253fcf"
      },
      "execution_count": 212,
      "outputs": [
        {
          "output_type": "execute_result",
          "data": {
            "text/plain": [
              "[['@vincent13031925', 'For', 'now.', 'Costs', 'are', 'decreasing', 'rapidly.'],\n",
              " ['Love', 'this', 'beautiful', 'shot'],\n",
              " ['@agnostoxxx', '@CathieDWood', '@ARKInvest', 'Trust', 'the', 'shrub'],\n",
              " ['The', 'art', 'In', 'Cyberpunk', 'is', 'incredible'],\n",
              " ['@itsALLrisky', '🤣🤣'],\n",
              " ['@seinfeldguru', '@WholeMarsBlog', 'Nope', 'haha'],\n",
              " ['@WholeMarsBlog',\n",
              "  'If',\n",
              "  'you',\n",
              "  'don’t',\n",
              "  'say',\n",
              "  'anything',\n",
              "  '&amp;',\n",
              "  'engage',\n",
              "  'Autopilot,',\n",
              "  'it',\n",
              "  'will',\n",
              "  'soon',\n",
              "  'guess',\n",
              "  'based',\n",
              "  'on',\n",
              "  'time',\n",
              "  'of',\n",
              "  'day,',\n",
              "  'taking',\n",
              "  'you',\n",
              "  'home',\n",
              "  'or',\n",
              "  'to',\n",
              "  'work',\n",
              "  'or',\n",
              "  'to',\n",
              "  'what’s',\n",
              "  'on',\n",
              "  'your',\n",
              "  'calendar'],\n",
              " ['@DeltavPhotos',\n",
              "  '@PortCanaveral',\n",
              "  'That',\n",
              "  'rocket',\n",
              "  'is',\n",
              "  'a',\n",
              "  'hardcore',\n",
              "  'veteran',\n",
              "  'of',\n",
              "  'many',\n",
              "  'missions'],\n",
              " ['Blimps', 'rock', 'https://t.co/e8cu5FkNOI'],\n",
              " ['@engineers_feed',\n",
              "  'Due',\n",
              "  'to',\n",
              "  'lower',\n",
              "  'gravity,',\n",
              "  'you',\n",
              "  'can',\n",
              "  'travel',\n",
              "  'from',\n",
              "  'surface',\n",
              "  'of',\n",
              "  'Mars',\n",
              "  'to',\n",
              "  'surface',\n",
              "  'of',\n",
              "  'Earth',\n",
              "  'fairly',\n",
              "  'easily',\n",
              "  'with',\n",
              "  'a',\n",
              "  'single',\n",
              "  'stage',\n",
              "  'rocket.',\n",
              "  'Earth',\n",
              "  'to',\n",
              "  'Mars',\n",
              "  'is',\n",
              "  'vastly',\n",
              "  'harder.']]"
            ]
          },
          "metadata": {},
          "execution_count": 212
        }
      ]
    },
    {
      "cell_type": "code",
      "source": [
        "#Reduzir as listas em uma listona\n",
        "lst_palavras = reduce(operator.concat, lst_palavras)"
      ],
      "metadata": {
        "id": "bpaASRO_ZrIF"
      },
      "execution_count": 213,
      "outputs": []
    },
    {
      "cell_type": "code",
      "source": [
        "lst_palavras[:10]"
      ],
      "metadata": {
        "colab": {
          "base_uri": "https://localhost:8080/"
        },
        "id": "KIiTgG5faZfC",
        "outputId": "8c23b371-1b1d-4bac-8632-46eead9c5101"
      },
      "execution_count": 214,
      "outputs": [
        {
          "output_type": "execute_result",
          "data": {
            "text/plain": [
              "['@vincent13031925',\n",
              " 'For',\n",
              " 'now.',\n",
              " 'Costs',\n",
              " 'are',\n",
              " 'decreasing',\n",
              " 'rapidly.',\n",
              " 'Love',\n",
              " 'this',\n",
              " 'beautiful']"
            ]
          },
          "metadata": {},
          "execution_count": 214
        }
      ]
    },
    {
      "cell_type": "code",
      "source": [
        "#Gerando objeto nltk Text\n",
        "ttTxt = nltk.Text(lst_palavras)"
      ],
      "metadata": {
        "id": "sYP88dX8abZj"
      },
      "execution_count": 220,
      "outputs": []
    },
    {
      "cell_type": "code",
      "source": [
        "#exibir tokens\n",
        "ttTxt.tokens"
      ],
      "metadata": {
        "colab": {
          "base_uri": "https://localhost:8080/"
        },
        "id": "0fD0O2oYayZl",
        "outputId": "fba54d0b-b6a7-43d7-c125-c94da5797617"
      },
      "execution_count": 221,
      "outputs": [
        {
          "output_type": "execute_result",
          "data": {
            "text/plain": [
              "['@vincent13031925',\n",
              " 'For',\n",
              " 'now.',\n",
              " 'Costs',\n",
              " 'are',\n",
              " 'decreasing',\n",
              " 'rapidly.',\n",
              " 'Love',\n",
              " 'this',\n",
              " 'beautiful',\n",
              " 'shot',\n",
              " '@agnostoxxx',\n",
              " '@CathieDWood',\n",
              " '@ARKInvest',\n",
              " 'Trust',\n",
              " 'the',\n",
              " 'shrub',\n",
              " 'The',\n",
              " 'art',\n",
              " 'In',\n",
              " 'Cyberpunk',\n",
              " 'is',\n",
              " 'incredible',\n",
              " '@itsALLrisky',\n",
              " '🤣🤣',\n",
              " '@seinfeldguru',\n",
              " '@WholeMarsBlog',\n",
              " 'Nope',\n",
              " 'haha',\n",
              " '@WholeMarsBlog',\n",
              " 'If',\n",
              " 'you',\n",
              " 'don’t',\n",
              " 'say',\n",
              " 'anything',\n",
              " '&amp;',\n",
              " 'engage',\n",
              " 'Autopilot,',\n",
              " 'it',\n",
              " 'will',\n",
              " 'soon',\n",
              " 'guess',\n",
              " 'based',\n",
              " 'on',\n",
              " 'time',\n",
              " 'of',\n",
              " 'day,',\n",
              " 'taking',\n",
              " 'you',\n",
              " 'home',\n",
              " 'or',\n",
              " 'to',\n",
              " 'work',\n",
              " 'or',\n",
              " 'to',\n",
              " 'what’s',\n",
              " 'on',\n",
              " 'your',\n",
              " 'calendar',\n",
              " '@DeltavPhotos',\n",
              " '@PortCanaveral',\n",
              " 'That',\n",
              " 'rocket',\n",
              " 'is',\n",
              " 'a',\n",
              " 'hardcore',\n",
              " 'veteran',\n",
              " 'of',\n",
              " 'many',\n",
              " 'missions',\n",
              " 'Blimps',\n",
              " 'rock',\n",
              " 'https://t.co/e8cu5FkNOI',\n",
              " '@engineers_feed',\n",
              " 'Due',\n",
              " 'to',\n",
              " 'lower',\n",
              " 'gravity,',\n",
              " 'you',\n",
              " 'can',\n",
              " 'travel',\n",
              " 'from',\n",
              " 'surface',\n",
              " 'of',\n",
              " 'Mars',\n",
              " 'to',\n",
              " 'surface',\n",
              " 'of',\n",
              " 'Earth',\n",
              " 'fairly',\n",
              " 'easily',\n",
              " 'with',\n",
              " 'a',\n",
              " 'single',\n",
              " 'stage',\n",
              " 'rocket.',\n",
              " 'Earth',\n",
              " 'to',\n",
              " 'Mars',\n",
              " 'is',\n",
              " 'vastly',\n",
              " 'harder.',\n",
              " '@DrPhiltill',\n",
              " 'Good',\n",
              " 'thread',\n",
              " '@alexellisuk',\n",
              " 'Pretty',\n",
              " 'much',\n",
              " '@tesla_adri',\n",
              " '@WholeMarsBlog',\n",
              " 'These',\n",
              " 'things',\n",
              " 'are',\n",
              " 'best',\n",
              " 'thought',\n",
              " 'of',\n",
              " 'as',\n",
              " 'probabilities.',\n",
              " 'There',\n",
              " 'are',\n",
              " '5',\n",
              " 'forward-facing',\n",
              " 'cameras.',\n",
              " 'It',\n",
              " 'is',\n",
              " 'highly',\n",
              " 'likely',\n",
              " 'that',\n",
              " 'at',\n",
              " 'least',\n",
              " 'one',\n",
              " 'of',\n",
              " 'them',\n",
              " 'will',\n",
              " 'see',\n",
              " 'multiple',\n",
              " 'cars',\n",
              " 'ahead.',\n",
              " '@WholeMarsBlog',\n",
              " 'Sensors',\n",
              " 'are',\n",
              " 'a',\n",
              " 'bitstream',\n",
              " 'and',\n",
              " 'cameras',\n",
              " 'have',\n",
              " 'several',\n",
              " 'orders',\n",
              " 'of',\n",
              " 'magnitude',\n",
              " 'more',\n",
              " 'bits/sec',\n",
              " 'than',\n",
              " 'radar',\n",
              " '(or',\n",
              " 'lidar).',\n",
              " 'Radar',\n",
              " 'must',\n",
              " 'meaningfully',\n",
              " 'increase',\n",
              " 'signal/noise',\n",
              " 'of',\n",
              " 'bitstream',\n",
              " 'to',\n",
              " 'be',\n",
              " 'worth',\n",
              " 'complexity',\n",
              " 'of',\n",
              " 'integrating',\n",
              " 'it.',\n",
              " 'As',\n",
              " 'vision',\n",
              " 'processing',\n",
              " 'gets',\n",
              " 'better,',\n",
              " 'it',\n",
              " 'just',\n",
              " 'leaves',\n",
              " 'radar',\n",
              " 'far',\n",
              " 'behind.',\n",
              " '@WholeMarsBlog',\n",
              " 'When',\n",
              " 'radar',\n",
              " 'and',\n",
              " 'vision',\n",
              " 'disagree,',\n",
              " 'which',\n",
              " 'one',\n",
              " 'do',\n",
              " 'you',\n",
              " 'believe?',\n",
              " 'Vision',\n",
              " 'has',\n",
              " 'much',\n",
              " 'more',\n",
              " 'precision,',\n",
              " 'so',\n",
              " 'better',\n",
              " 'to',\n",
              " 'double',\n",
              " 'down',\n",
              " 'on',\n",
              " 'vision',\n",
              " 'than',\n",
              " 'do',\n",
              " 'sensor',\n",
              " 'fusion.',\n",
              " '@WholeMarsBlog',\n",
              " 'This',\n",
              " 'is',\n",
              " 'a',\n",
              " 'major',\n",
              " 'problem!',\n",
              " 'Just',\n",
              " 'needs',\n",
              " 'some',\n",
              " 'legs',\n",
              " 'The',\n",
              " 'Starship',\n",
              " 'launch',\n",
              " 'tower',\n",
              " 'that',\n",
              " 'catches',\n",
              " 'the',\n",
              " 'giant',\n",
              " 'rocket',\n",
              " 'booster',\n",
              " 'is',\n",
              " 'basically',\n",
              " 'Mechazilla',\n",
              " 'But',\n",
              " 'wait',\n",
              " 'how',\n",
              " 'is',\n",
              " 'the',\n",
              " 'core',\n",
              " 'of',\n",
              " 'the',\n",
              " 'earth',\n",
              " 'lit',\n",
              " 'by',\n",
              " 'the',\n",
              " 'sun?',\n",
              " 'Stop',\n",
              " 'asking',\n",
              " 'questions!!',\n",
              " 'Kong',\n",
              " 'vs',\n",
              " 'Godzilla',\n",
              " 'has',\n",
              " 'record',\n",
              " 'for',\n",
              " 'most',\n",
              " 'meth',\n",
              " 'ever',\n",
              " 'consumed',\n",
              " 'in',\n",
              " 'a',\n",
              " 'writer’s',\n",
              " 'room',\n",
              " '@itsALLrisky',\n",
              " '💯',\n",
              " '…',\n",
              " 'going',\n",
              " 'to',\n",
              " 'moon',\n",
              " 'very',\n",
              " 'soon',\n",
              " '@Matsu_Kusarine',\n",
              " '@jagarikin',\n",
              " 'Actually',\n",
              " 'happened',\n",
              " 'to',\n",
              " 'me',\n",
              " 'in',\n",
              " 'Cyberpunk',\n",
              " 'haha',\n",
              " '@TimBirks1',\n",
              " '@Erdayastronaut',\n",
              " '@SpaceX',\n",
              " 'Pretty',\n",
              " 'much',\n",
              " '@memescryptor',\n",
              " '!',\n",
              " 'Where',\n",
              " 'is',\n",
              " 'Shrek',\n",
              " '5!?',\n",
              " 'https://t.co/PqAZ5Mg8Es',\n",
              " '@AustinTeslaClub',\n",
              " '@OwenSparks_',\n",
              " '@WholeMarsBlog',\n",
              " 'Good',\n",
              " 'point.',\n",
              " 'Next',\n",
              " 'major',\n",
              " 'software',\n",
              " 'rev',\n",
              " 'will',\n",
              " 'do',\n",
              " 'much',\n",
              " 'better',\n",
              " 'with',\n",
              " 'automating',\n",
              " 'wipers,',\n",
              " 'seat',\n",
              " 'heating',\n",
              " '&amp;',\n",
              " 'defrost.',\n",
              " 'Probable',\n",
              " 'seat',\n",
              " 'settings',\n",
              " 'just',\n",
              " 'based',\n",
              " 'on',\n",
              " 'occupant',\n",
              " 'mass',\n",
              " 'distribution',\n",
              " 'should',\n",
              " 'be',\n",
              " 'possible.',\n",
              " '@Adamklotz_',\n",
              " '@OwenSparks_',\n",
              " '@WholeMarsBlog',\n",
              " 'Yup',\n",
              " '@teslaownersSV',\n",
              " '@neuralink',\n",
              " 'Turns',\n",
              " 'out',\n",
              " '🐒',\n",
              " 'love',\n",
              " 'video',\n",
              " 'games',\n",
              " '&amp;',\n",
              " 'snacks',\n",
              " 'just',\n",
              " 'like',\n",
              " 'us!',\n",
              " 'It’s',\n",
              " 'all',\n",
              " 'about',\n",
              " 'the',\n",
              " 'cufflinks',\n",
              " 'https://t.co/elccqC0Zuf',\n",
              " '@chicago_glenn',\n",
              " 'I',\n",
              " 'feel',\n",
              " 'like',\n",
              " 'this',\n",
              " 'sometimes',\n",
              " '@OwenSparks_',\n",
              " '@WholeMarsBlog',\n",
              " 'It',\n",
              " 'will',\n",
              " '@OwenSparks_',\n",
              " '@WholeMarsBlog',\n",
              " 'Remove',\n",
              " '@w00ki33',\n",
              " '@SpaceX',\n",
              " '@SuperclusterHQ',\n",
              " 'Simulation',\n",
              " 'is',\n",
              " 'improving',\n",
              " 'rendering',\n",
              " 'resolution',\n",
              " '…',\n",
              " '@cleantechnica',\n",
              " 'Congrats',\n",
              " 'to',\n",
              " 'NIO.',\n",
              " 'That',\n",
              " 'is',\n",
              " 'a',\n",
              " 'tough',\n",
              " 'milestone.',\n",
              " '@WholeMarsBlog',\n",
              " 'Almost',\n",
              " 'ready',\n",
              " 'with',\n",
              " 'FSD',\n",
              " 'Beta',\n",
              " 'V9.0.',\n",
              " 'Step',\n",
              " 'change',\n",
              " 'improvement',\n",
              " 'is',\n",
              " 'massive,',\n",
              " 'especially',\n",
              " 'for',\n",
              " 'weird',\n",
              " 'corner',\n",
              " 'cases',\n",
              " '&amp;',\n",
              " 'bad',\n",
              " 'weather.',\n",
              " 'Pure',\n",
              " 'vision,',\n",
              " 'no',\n",
              " 'radar.',\n",
              " 'Thanks',\n",
              " 'to',\n",
              " 'all',\n",
              " 'that',\n",
              " 'helped',\n",
              " 'SpaceX!',\n",
              " 'Just',\n",
              " 'read',\n",
              " 'it.',\n",
              " 'Book',\n",
              " 'is',\n",
              " 'accurate.',\n",
              " '@TeslaGong',\n",
              " 'Yeah',\n",
              " '@mikevanbus',\n",
              " '@TrungTPhan',\n",
              " '@neuralink',\n",
              " 'Pretty',\n",
              " 'much',\n",
              " 'https://t.co/XeQursZpvq',\n",
              " 'Soon',\n",
              " 'our',\n",
              " 'monkey',\n",
              " 'will',\n",
              " 'be',\n",
              " 'on',\n",
              " 'twitch',\n",
              " '&amp;',\n",
              " 'discord',\n",
              " 'haha',\n",
              " '@thenewsoncnbc',\n",
              " '@contessabrewer',\n",
              " 'Good',\n",
              " 'piece!',\n",
              " '@Kyler_Knoll',\n",
              " '@neuralink',\n",
              " 'Comes',\n",
              " 'with',\n",
              " 'wireless',\n",
              " 'charging',\n",
              " 'baseball',\n",
              " 'cap',\n",
              " '@TarekWaked',\n",
              " '@TechCrunch',\n",
              " '@etherington',\n",
              " 'Pretty',\n",
              " 'much',\n",
              " '🤣🤣',\n",
              " 'Great',\n",
              " 'episode!',\n",
              " 'A',\n",
              " 'monkey',\n",
              " 'is',\n",
              " 'literally',\n",
              " 'playing',\n",
              " 'a',\n",
              " 'video',\n",
              " 'game',\n",
              " 'telepathically',\n",
              " 'using',\n",
              " 'a',\n",
              " 'brain',\n",
              " 'chip!!',\n",
              " '@lexfridman',\n",
              " '@neuralink',\n",
              " 'Yes',\n",
              " 'The',\n",
              " 'device',\n",
              " 'is',\n",
              " 'implanted',\n",
              " 'flush',\n",
              " 'with',\n",
              " 'skull',\n",
              " '&amp;',\n",
              " 'charges',\n",
              " 'wirelessly,',\n",
              " 'so',\n",
              " 'you',\n",
              " 'look',\n",
              " '&amp;',\n",
              " 'feel',\n",
              " 'totally',\n",
              " 'normal',\n",
              " '@IheartTesla',\n",
              " 'Absolutely',\n",
              " 'doable.',\n",
              " 'Possibly',\n",
              " 'as',\n",
              " 'soon',\n",
              " 'as',\n",
              " 'Neuralink',\n",
              " 'device',\n",
              " 'version',\n",
              " '2,',\n",
              " 'highly',\n",
              " 'likely',\n",
              " 'by',\n",
              " 'version',\n",
              " '3.',\n",
              " 'Later',\n",
              " 'versions',\n",
              " 'will',\n",
              " 'be',\n",
              " 'able',\n",
              " 'to',\n",
              " 'shunt',\n",
              " 'signals',\n",
              " 'from',\n",
              " 'Neuralinks',\n",
              " 'in',\n",
              " 'brain',\n",
              " 'to',\n",
              " 'Neuralinks',\n",
              " 'in',\n",
              " 'body',\n",
              " 'motor/sensory',\n",
              " 'neuron',\n",
              " 'clusters,',\n",
              " 'thus',\n",
              " 'enabling,',\n",
              " 'for',\n",
              " 'example,',\n",
              " 'paraplegics',\n",
              " 'to',\n",
              " 'walk',\n",
              " 'again',\n",
              " '@mindofkacper',\n",
              " '@neuralink',\n",
              " 'Yes',\n",
              " 'First',\n",
              " '@Neuralink',\n",
              " 'product',\n",
              " 'will',\n",
              " 'enable',\n",
              " 'someone',\n",
              " 'with',\n",
              " 'paralysis',\n",
              " 'to',\n",
              " 'use',\n",
              " 'a',\n",
              " 'smartphone',\n",
              " 'with',\n",
              " 'their',\n",
              " 'mind',\n",
              " 'faster',\n",
              " 'than',\n",
              " 'someone',\n",
              " 'using',\n",
              " 'thumbs',\n",
              " '@IheartTesla',\n",
              " '@neuralink',\n",
              " 'Hopefully,',\n",
              " 'later',\n",
              " 'this',\n",
              " 'year',\n",
              " '@tobyliiiiiiiiii',\n",
              " 'Sure',\n",
              " 'Monkey',\n",
              " 'plays',\n",
              " 'Pong',\n",
              " 'with',\n",
              " 'his',\n",
              " 'mind',\n",
              " '@dogeofficialceo',\n",
              " '@WatchersTank',\n",
              " '@SpaceX',\n",
              " 'Looking',\n",
              " 'at',\n",
              " 'pups',\n",
              " 'soon!',\n",
              " '@jordanxmajel',\n",
              " '@WatchersTank',\n",
              " '@SpaceX',\n",
              " 'Shock',\n",
              " 'absorption',\n",
              " 'is',\n",
              " 'built',\n",
              " 'into',\n",
              " 'tower',\n",
              " 'arms.',\n",
              " 'Since',\n",
              " 'tower',\n",
              " 'is',\n",
              " 'ground',\n",
              " 'side,',\n",
              " 'it',\n",
              " 'can',\n",
              " 'use',\n",
              " 'a',\n",
              " 'lot',\n",
              " 'more',\n",
              " 'mass',\n",
              " 'to',\n",
              " 'arrest',\n",
              " 'booster',\n",
              " 'downward',\n",
              " 'momentum.',\n",
              " '@jordanxmajel',\n",
              " '@WatchersTank',\n",
              " '@SpaceX',\n",
              " 'Load',\n",
              " 'points',\n",
              " 'just',\n",
              " 'below',\n",
              " 'the',\n",
              " 'grid',\n",
              " 'fins',\n",
              " '@WatchersTank',\n",
              " '@SpaceX',\n",
              " 'Just',\n",
              " 'one',\n",
              " 'skyscraper',\n",
              " 'catching',\n",
              " 'another',\n",
              " 'nbd',\n",
              " 'haha',\n",
              " 'Thanks',\n",
              " 'Tesla',\n",
              " 'suppliers',\n",
              " 'for',\n",
              " 'providing',\n",
              " 'us',\n",
              " 'with',\n",
              " 'critical',\n",
              " 'parts!',\n",
              " '@MarkJam93765764',\n",
              " '@IvanEscobosa',\n",
              " 'A',\n",
              " 'tidal',\n",
              " 'wave',\n",
              " 'of',\n",
              " 'vaccine',\n",
              " 'is',\n",
              " 'being',\n",
              " 'produced!',\n",
              " '@jgrano305',\n",
              " 'Probably',\n",
              " 'J&amp;J,',\n",
              " 'but',\n",
              " 'BioNtech',\n",
              " '&amp;',\n",
              " 'Moderna',\n",
              " 'are',\n",
              " 'good',\n",
              " 'too.',\n",
              " 'Some',\n",
              " 'debate',\n",
              " 'imo',\n",
              " 'as',\n",
              " 'to',\n",
              " 'whether',\n",
              " 'a',\n",
              " 'second',\n",
              " 'synthetic',\n",
              " 'mRNA',\n",
              " 'shot',\n",
              " 'is',\n",
              " 'really',\n",
              " 'needed,',\n",
              " 'but',\n",
              " 'the',\n",
              " 'first',\n",
              " 'is',\n",
              " 'a',\n",
              " 'no-brainer.',\n",
              " '@IvanEscobosa',\n",
              " 'Latter',\n",
              " 'To',\n",
              " 'be',\n",
              " 'clear,',\n",
              " 'I',\n",
              " 'do',\n",
              " 'support',\n",
              " 'vaccines',\n",
              " 'in',\n",
              " 'general',\n",
              " '&amp;',\n",
              " 'covid',\n",
              " 'vaccines',\n",
              " 'specifically.',\n",
              " 'The',\n",
              " 'science',\n",
              " 'is',\n",
              " 'unequivocal.',\n",
              " 'In',\n",
              " 'very',\n",
              " 'rare',\n",
              " 'cases,',\n",
              " 'there',\n",
              " 'is',\n",
              " 'an',\n",
              " 'allergic',\n",
              " 'reaction,',\n",
              " 'but',\n",
              " 'this',\n",
              " 'is',\n",
              " 'easily',\n",
              " 'addressed',\n",
              " 'with',\n",
              " 'an',\n",
              " 'EpiPen.',\n",
              " '@DavidWillisSLS',\n",
              " '@_Jevis_',\n",
              " '@PPathole',\n",
              " 'Needs',\n",
              " 'legs',\n",
              " 'for',\n",
              " 'moon',\n",
              " '&amp;',\n",
              " 'Mars',\n",
              " '@SciGuySpace',\n",
              " 'Global',\n",
              " 'payload',\n",
              " 'to',\n",
              " 'orbit',\n",
              " 'is',\n",
              " 'the',\n",
              " 'key',\n",
              " 'metric',\n",
              " '@Julius_Burton',\n",
              " '@Erdayastronaut',\n",
              " '@DJSnM',\n",
              " '@NASASpaceflight',\n",
              " '@ChrisG_NSF',\n",
              " '@thejackbeyer',\n",
              " '@FelixSchlang',\n",
              " 'Nice',\n",
              " '@_Jevis_',\n",
              " '@PPathole',\n",
              " 'Ideal',\n",
              " 'scenario',\n",
              " 'imo',\n",
              " 'is',\n",
              " 'catching',\n",
              " 'Starship',\n",
              " 'in',\n",
              " 'horizontal',\n",
              " '“glide”',\n",
              " 'with',\n",
              " 'no',\n",
              " 'landing',\n",
              " 'burn,',\n",
              " 'although',\n",
              " 'that',\n",
              " 'is',\n",
              " 'quite',\n",
              " 'a',\n",
              " 'challenge',\n",
              " 'for',\n",
              " 'the',\n",
              " 'tower!',\n",
              " 'Next',\n",
              " 'best',\n",
              " 'is',\n",
              " 'catching',\n",
              " 'with',\n",
              " 'tower,',\n",
              " 'with',\n",
              " 'emergency',\n",
              " 'pad',\n",
              " 'landing',\n",
              " 'mode',\n",
              " 'on',\n",
              " 'skirt',\n",
              " '(no',\n",
              " 'legs).',\n",
              " '@PPathole',\n",
              " 'Starship',\n",
              " 'booster,',\n",
              " 'largest',\n",
              " 'flying',\n",
              " 'object',\n",
              " 'ever',\n",
              " 'designed,',\n",
              " 'will',\n",
              " 'be',\n",
              " 'caught',\n",
              " 'out',\n",
              " 'of',\n",
              " 'sky',\n",
              " 'by',\n",
              " 'launch',\n",
              " 'tower.',\n",
              " 'Big',\n",
              " 'step',\n",
              " 'forward,',\n",
              " 'as',\n",
              " 'reflight',\n",
              " 'can',\n",
              " 'be',\n",
              " 'done',\n",
              " 'in',\n",
              " 'under',\n",
              " 'an',\n",
              " 'hour.',\n",
              " '@WholeMarsBlog',\n",
              " 'Well-written',\n",
              " 'and',\n",
              " 'fair,',\n",
              " 'much',\n",
              " 'like',\n",
              " 'his',\n",
              " 'articles',\n",
              " 'on',\n",
              " 'space',\n",
              " '@louisssdev',\n",
              " '@flcnhvy',\n",
              " 'Coming',\n",
              " 'soon.',\n",
              " 'Crazy',\n",
              " 'number',\n",
              " 'of',\n",
              " 'launches',\n",
              " 'this',\n",
              " 'year!',\n",
              " '@flcnhvy',\n",
              " 'They',\n",
              " 'will',\n",
              " 'be',\n",
              " 'recovered',\n",
              " 'from',\n",
              " 'the',\n",
              " 'water',\n",
              " '&amp;',\n",
              " 'reused',\n",
              " '“Tanks',\n",
              " 'for',\n",
              " 'the',\n",
              " 'memery!”',\n",
              " '–',\n",
              " 'Panzer',\n",
              " 'of',\n",
              " 'the',\n",
              " 'Lake',\n",
              " '@CathieDWood',\n",
              " '@wintonARK',\n",
              " '@ARKInvest',\n",
              " 'What',\n",
              " 'do',\n",
              " 'you',\n",
              " 'think',\n",
              " 'of',\n",
              " 'the',\n",
              " 'unusually',\n",
              " 'high',\n",
              " 'ratio',\n",
              " 'of',\n",
              " 'S&amp;P',\n",
              " 'market',\n",
              " 'cap',\n",
              " 'to',\n",
              " 'GDP?',\n",
              " '@ID_AA_Carmack',\n",
              " 'Some',\n",
              " 'kind',\n",
              " 'of',\n",
              " 'ELO',\n",
              " 'level,',\n",
              " 'updated',\n",
              " 'once',\n",
              " 'or',\n",
              " 'twice',\n",
              " 'a',\n",
              " 'year',\n",
              " 'based',\n",
              " 'on',\n",
              " 'what',\n",
              " 'someone',\n",
              " 'actually',\n",
              " 'got',\n",
              " 'done,',\n",
              " 'might',\n",
              " 'be',\n",
              " 'most',\n",
              " 'effective.',\n",
              " 'Important',\n",
              " 'that',\n",
              " 'it',\n",
              " 'go',\n",
              " 'both',\n",
              " 'up',\n",
              " '*and*',\n",
              " 'down.',\n",
              " '@Thomas38697956',\n",
              " 'New',\n",
              " '&amp;',\n",
              " 'improved',\n",
              " 'version!',\n",
              " '@Teslarati',\n",
              " '@ResidentSponge',\n",
              " 'Special',\n",
              " 'mention',\n",
              " 'of',\n",
              " 'Tesla',\n",
              " 'China',\n",
              " '@shbzz',\n",
              " 'Obv',\n",
              " '@Teslarati',\n",
              " '@ResidentSponge',\n",
              " 'Great',\n",
              " 'work',\n",
              " 'by',\n",
              " 'Tesla',\n",
              " 'team!',\n",
              " '@EvaFoxU',\n",
              " 'Nice',\n",
              " 'The',\n",
              " 'Earth',\n",
              " 'is',\n",
              " 'not',\n",
              " 'flat,',\n",
              " 'it’s',\n",
              " 'a',\n",
              " 'hollow',\n",
              " 'globe',\n",
              " '&amp;',\n",
              " 'Donkey',\n",
              " 'King',\n",
              " 'lives',\n",
              " 'there!',\n",
              " '@EvaFoxU',\n",
              " 'Those',\n",
              " 'two',\n",
              " 'really',\n",
              " 'could',\n",
              " 'have',\n",
              " 'come',\n",
              " 'in',\n",
              " 'handy',\n",
              " 'for',\n",
              " 'the',\n",
              " 'stuck',\n",
              " 'ship!',\n",
              " '@EvaFoxU',\n",
              " 'Last',\n",
              " 'Kingdom',\n",
              " 'vs',\n",
              " 'Vikings',\n",
              " '@spacex360',\n",
              " 'Ascent',\n",
              " 'phase,',\n",
              " 'transition',\n",
              " 'to',\n",
              " 'horizontal',\n",
              " '&amp;',\n",
              " 'control',\n",
              " 'during',\n",
              " 'free',\n",
              " 'fall',\n",
              " 'were',\n",
              " 'good.',\n",
              " 'A',\n",
              " '(relatively)',\n",
              " 'small',\n",
              " 'CH4',\n",
              " 'leak',\n",
              " 'led',\n",
              " 'to',\n",
              " 'fire',\n",
              " 'on',\n",
              " 'engine',\n",
              " '2',\n",
              " '&amp;',\n",
              " 'fried',\n",
              " 'part',\n",
              " 'of',\n",
              " 'avionics,',\n",
              " 'causing',\n",
              " 'hard',\n",
              " 'start',\n",
              " 'attempting',\n",
              " 'landing',\n",
              " 'burn',\n",
              " 'in',\n",
              " 'CH4',\n",
              " 'turbopump.',\n",
              " 'This',\n",
              " 'is',\n",
              " 'getting',\n",
              " 'fixed',\n",
              " '6',\n",
              " 'ways',\n",
              " 'to',\n",
              " 'Sunday.',\n",
              " 'Godzilla',\n",
              " 'vs',\n",
              " 'Kong',\n",
              " 'is',\n",
              " 'so',\n",
              " 'amaze',\n",
              " 'much',\n",
              " 'wow!',\n",
              " 'Most',\n",
              " 'insane',\n",
              " 'movie',\n",
              " 'I’ve',\n",
              " 'ever',\n",
              " 'seen!',\n",
              " 'Love',\n",
              " 'letter',\n",
              " ...]"
            ]
          },
          "metadata": {},
          "execution_count": 221
        }
      ]
    },
    {
      "cell_type": "code",
      "source": [
        "#tamanho\n",
        "len(lst_palavras)"
      ],
      "metadata": {
        "colab": {
          "base_uri": "https://localhost:8080/"
        },
        "id": "SeMIlWkda46O",
        "outputId": "a69e1fa1-a933-4468-d207-68fe07c77283"
      },
      "execution_count": 222,
      "outputs": [
        {
          "output_type": "execute_result",
          "data": {
            "text/plain": [
              "170798"
            ]
          },
          "metadata": {},
          "execution_count": 222
        }
      ]
    },
    {
      "cell_type": "code",
      "source": [
        "#Contando frequencia de palavreas\n",
        "ttTxt.count('hate')"
      ],
      "metadata": {
        "colab": {
          "base_uri": "https://localhost:8080/"
        },
        "id": "0qEAWO9WbTaJ",
        "outputId": "ece5f6a3-a12a-45e9-cb2f-88aa0fe2aa45"
      },
      "execution_count": 223,
      "outputs": [
        {
          "output_type": "execute_result",
          "data": {
            "text/plain": [
              "14"
            ]
          },
          "metadata": {},
          "execution_count": 223
        }
      ]
    },
    {
      "cell_type": "code",
      "source": [
        " ttTxt.similar('hate')"
      ],
      "metadata": {
        "colab": {
          "base_uri": "https://localhost:8080/"
        },
        "id": "rIYflj6NbabW",
        "outputId": "ca5677b1-36c1-4362-8a68-68e57c4db179"
      },
      "execution_count": 224,
      "outputs": [
        {
          "output_type": "stream",
          "name": "stdout",
          "text": [
            "but in it guess of that least see have just feel no read sure tesla\n",
            "support think high go fried\n"
          ]
        }
      ]
    },
    {
      "cell_type": "code",
      "source": [
        "#Colocacoes\n",
        "\n",
        "ttTxt.collocations()"
      ],
      "metadata": {
        "colab": {
          "base_uri": "https://localhost:8080/"
        },
        "id": "Ag4uT85ucDAb",
        "outputId": "625e4fb6-42b3-4a2a-ca60-022c918c6eab"
      },
      "execution_count": 227,
      "outputs": [
        {
          "output_type": "stream",
          "name": "stdout",
          "text": [
            "Boring Company; Falcon Heavy; Space Station; upper stage;\n",
            "@Erdayastronaut @SpaceX; @Orion_Sword @Some1gee; Coming soon; Cape\n",
            "Canaveral; Pretty much; @ElectrekCo @FredericLambert; @bluemoondance74\n",
            "@Orion_Sword; next year.; @chrish7985 @rlyrlysryDave; Looking forward;\n",
            "@JeromeJaccard @Robotbeat; @fan_of_racing @bkent136; @Robotbeat\n",
            "@alan1bernard; @bkent136 @macodiseas; @AdamHugo @WayCharMar;\n",
            "@dmatkins137 @ShayneRarma\n"
          ]
        }
      ]
    },
    {
      "cell_type": "code",
      "source": [
        "#Frequencias\n",
        "\n",
        "fdist = nltk.FreqDist (p.lower() for p in lst_palavras)"
      ],
      "metadata": {
        "id": "b8HS_AWjdErx"
      },
      "execution_count": 228,
      "outputs": []
    },
    {
      "cell_type": "code",
      "source": [
        "fdist.most_common(20)"
      ],
      "metadata": {
        "colab": {
          "base_uri": "https://localhost:8080/"
        },
        "id": "wfi1Iu0vdaX9",
        "outputId": "7fc792e5-188b-41d0-bb8c-e88d3f3e83ee"
      },
      "execution_count": 229,
      "outputs": [
        {
          "output_type": "execute_result",
          "data": {
            "text/plain": [
              "[('to', 3996),\n",
              " ('the', 3717),\n",
              " ('a', 3059),\n",
              " ('is', 2860),\n",
              " ('of', 2669),\n",
              " ('in', 2090),\n",
              " ('&amp;', 1951),\n",
              " ('for', 1780),\n",
              " ('will', 1432),\n",
              " ('be', 1367),\n",
              " ('on', 1255),\n",
              " ('that', 1150),\n",
              " ('but', 1084),\n",
              " ('it', 1058),\n",
              " ('this', 983),\n",
              " ('tesla', 977),\n",
              " ('i', 953),\n",
              " ('with', 919),\n",
              " ('we', 918),\n",
              " ('are', 843)]"
            ]
          },
          "metadata": {},
          "execution_count": 229
        }
      ]
    },
    {
      "cell_type": "code",
      "source": [
        "#Removendo stopwords\n",
        "stopwords = set(nltk.corpus.stopwords.words('english'))"
      ],
      "metadata": {
        "id": "X9TR-xTQdcmx"
      },
      "execution_count": 230,
      "outputs": []
    },
    {
      "cell_type": "code",
      "source": [
        "stopwords"
      ],
      "metadata": {
        "colab": {
          "base_uri": "https://localhost:8080/"
        },
        "id": "CUHtc-0AdpIZ",
        "outputId": "e3159b83-5bc4-4290-c765-ef52ac40cf0f"
      },
      "execution_count": 232,
      "outputs": [
        {
          "output_type": "execute_result",
          "data": {
            "text/plain": [
              "{'a',\n",
              " 'about',\n",
              " 'above',\n",
              " 'after',\n",
              " 'again',\n",
              " 'against',\n",
              " 'ain',\n",
              " 'all',\n",
              " 'am',\n",
              " 'an',\n",
              " 'and',\n",
              " 'any',\n",
              " 'are',\n",
              " 'aren',\n",
              " \"aren't\",\n",
              " 'as',\n",
              " 'at',\n",
              " 'be',\n",
              " 'because',\n",
              " 'been',\n",
              " 'before',\n",
              " 'being',\n",
              " 'below',\n",
              " 'between',\n",
              " 'both',\n",
              " 'but',\n",
              " 'by',\n",
              " 'can',\n",
              " 'couldn',\n",
              " \"couldn't\",\n",
              " 'd',\n",
              " 'did',\n",
              " 'didn',\n",
              " \"didn't\",\n",
              " 'do',\n",
              " 'does',\n",
              " 'doesn',\n",
              " \"doesn't\",\n",
              " 'doing',\n",
              " 'don',\n",
              " \"don't\",\n",
              " 'down',\n",
              " 'during',\n",
              " 'each',\n",
              " 'few',\n",
              " 'for',\n",
              " 'from',\n",
              " 'further',\n",
              " 'had',\n",
              " 'hadn',\n",
              " \"hadn't\",\n",
              " 'has',\n",
              " 'hasn',\n",
              " \"hasn't\",\n",
              " 'have',\n",
              " 'haven',\n",
              " \"haven't\",\n",
              " 'having',\n",
              " 'he',\n",
              " 'her',\n",
              " 'here',\n",
              " 'hers',\n",
              " 'herself',\n",
              " 'him',\n",
              " 'himself',\n",
              " 'his',\n",
              " 'how',\n",
              " 'i',\n",
              " 'if',\n",
              " 'in',\n",
              " 'into',\n",
              " 'is',\n",
              " 'isn',\n",
              " \"isn't\",\n",
              " 'it',\n",
              " \"it's\",\n",
              " 'its',\n",
              " 'itself',\n",
              " 'just',\n",
              " 'll',\n",
              " 'm',\n",
              " 'ma',\n",
              " 'me',\n",
              " 'mightn',\n",
              " \"mightn't\",\n",
              " 'more',\n",
              " 'most',\n",
              " 'mustn',\n",
              " \"mustn't\",\n",
              " 'my',\n",
              " 'myself',\n",
              " 'needn',\n",
              " \"needn't\",\n",
              " 'no',\n",
              " 'nor',\n",
              " 'not',\n",
              " 'now',\n",
              " 'o',\n",
              " 'of',\n",
              " 'off',\n",
              " 'on',\n",
              " 'once',\n",
              " 'only',\n",
              " 'or',\n",
              " 'other',\n",
              " 'our',\n",
              " 'ours',\n",
              " 'ourselves',\n",
              " 'out',\n",
              " 'over',\n",
              " 'own',\n",
              " 're',\n",
              " 's',\n",
              " 'same',\n",
              " 'shan',\n",
              " \"shan't\",\n",
              " 'she',\n",
              " \"she's\",\n",
              " 'should',\n",
              " \"should've\",\n",
              " 'shouldn',\n",
              " \"shouldn't\",\n",
              " 'so',\n",
              " 'some',\n",
              " 'such',\n",
              " 't',\n",
              " 'than',\n",
              " 'that',\n",
              " \"that'll\",\n",
              " 'the',\n",
              " 'their',\n",
              " 'theirs',\n",
              " 'them',\n",
              " 'themselves',\n",
              " 'then',\n",
              " 'there',\n",
              " 'these',\n",
              " 'they',\n",
              " 'this',\n",
              " 'those',\n",
              " 'through',\n",
              " 'to',\n",
              " 'too',\n",
              " 'under',\n",
              " 'until',\n",
              " 'up',\n",
              " 've',\n",
              " 'very',\n",
              " 'was',\n",
              " 'wasn',\n",
              " \"wasn't\",\n",
              " 'we',\n",
              " 'were',\n",
              " 'weren',\n",
              " \"weren't\",\n",
              " 'what',\n",
              " 'when',\n",
              " 'where',\n",
              " 'which',\n",
              " 'while',\n",
              " 'who',\n",
              " 'whom',\n",
              " 'why',\n",
              " 'will',\n",
              " 'with',\n",
              " 'won',\n",
              " \"won't\",\n",
              " 'wouldn',\n",
              " \"wouldn't\",\n",
              " 'y',\n",
              " 'you',\n",
              " \"you'd\",\n",
              " \"you'll\",\n",
              " \"you're\",\n",
              " \"you've\",\n",
              " 'your',\n",
              " 'yours',\n",
              " 'yourself',\n",
              " 'yourselves'}"
            ]
          },
          "metadata": {},
          "execution_count": 232
        }
      ]
    },
    {
      "cell_type": "code",
      "source": [
        "lst_palavras = [i.lower() for i in lst_palavras if not i.lower() in stopwords]"
      ],
      "metadata": {
        "id": "YmJhFbjidryk"
      },
      "execution_count": 236,
      "outputs": []
    },
    {
      "cell_type": "code",
      "source": [
        "fdist = nltk.FreqDist (p.lower() for p in lst_palavras) "
      ],
      "metadata": {
        "id": "o7C_11F7eIjr"
      },
      "execution_count": 237,
      "outputs": []
    },
    {
      "cell_type": "code",
      "source": [
        "fdist.most_common(20)"
      ],
      "metadata": {
        "colab": {
          "base_uri": "https://localhost:8080/"
        },
        "id": "ckMSTT69eOJA",
        "outputId": "e4ad412e-1395-4688-db92-d25f7e305d6c"
      },
      "execution_count": 238,
      "outputs": [
        {
          "output_type": "execute_result",
          "data": {
            "text/plain": [
              "[('&amp;', 1951),\n",
              " ('tesla', 977),\n",
              " ('@tesla', 667),\n",
              " ('@erdayastronaut', 614),\n",
              " ('@spacex', 474),\n",
              " ('@flcnhvy', 445),\n",
              " ('good', 412),\n",
              " ('model', 406),\n",
              " ('like', 403),\n",
              " ('would', 383),\n",
              " ('it’s', 382),\n",
              " ('yes', 332),\n",
              " ('great', 331),\n",
              " ('…', 305),\n",
              " ('much', 304),\n",
              " ('one', 281),\n",
              " ('next', 278),\n",
              " ('@ppathole', 278),\n",
              " ('car', 266),\n",
              " ('3', 255)]"
            ]
          },
          "metadata": {},
          "execution_count": 238
        }
      ]
    },
    {
      "cell_type": "code",
      "source": [],
      "metadata": {
        "id": "fyU3ux0ieSox"
      },
      "execution_count": null,
      "outputs": []
    },
    {
      "cell_type": "markdown",
      "source": [
        "## Twitter v2"
      ],
      "metadata": {
        "id": "Licdnayt6UNF"
      }
    },
    {
      "cell_type": "code",
      "source": [
        "!pip install geocoder"
      ],
      "metadata": {
        "colab": {
          "base_uri": "https://localhost:8080/"
        },
        "id": "YJi2KwSd6W5M",
        "outputId": "c55eaa73-38bd-4ae6-c96a-0d48bf7faf38"
      },
      "execution_count": 13,
      "outputs": [
        {
          "output_type": "stream",
          "name": "stdout",
          "text": [
            "Looking in indexes: https://pypi.org/simple, https://us-python.pkg.dev/colab-wheels/public/simple/\n",
            "Collecting geocoder\n",
            "  Downloading geocoder-1.38.1-py2.py3-none-any.whl (98 kB)\n",
            "\u001b[K     |████████████████████████████████| 98 kB 3.8 MB/s \n",
            "\u001b[?25hRequirement already satisfied: requests in /usr/local/lib/python3.8/dist-packages (from geocoder) (2.23.0)\n",
            "Requirement already satisfied: click in /usr/local/lib/python3.8/dist-packages (from geocoder) (7.1.2)\n",
            "Requirement already satisfied: six in /usr/local/lib/python3.8/dist-packages (from geocoder) (1.15.0)\n",
            "Collecting ratelim\n",
            "  Downloading ratelim-0.1.6-py2.py3-none-any.whl (4.0 kB)\n",
            "Requirement already satisfied: future in /usr/local/lib/python3.8/dist-packages (from geocoder) (0.16.0)\n",
            "Requirement already satisfied: decorator in /usr/local/lib/python3.8/dist-packages (from ratelim->geocoder) (4.4.2)\n",
            "Requirement already satisfied: urllib3!=1.25.0,!=1.25.1,<1.26,>=1.21.1 in /usr/local/lib/python3.8/dist-packages (from requests->geocoder) (1.24.3)\n",
            "Requirement already satisfied: certifi>=2017.4.17 in /usr/local/lib/python3.8/dist-packages (from requests->geocoder) (2022.9.24)\n",
            "Requirement already satisfied: idna<3,>=2.5 in /usr/local/lib/python3.8/dist-packages (from requests->geocoder) (2.10)\n",
            "Requirement already satisfied: chardet<4,>=3.0.2 in /usr/local/lib/python3.8/dist-packages (from requests->geocoder) (3.0.4)\n",
            "Installing collected packages: ratelim, geocoder\n",
            "Successfully installed geocoder-1.38.1 ratelim-0.1.6\n"
          ]
        }
      ]
    },
    {
      "cell_type": "code",
      "source": [
        "import geocoder\n",
        "import toml\n",
        "import tweepy\n",
        "import json\n",
        "import pandas as pd"
      ],
      "metadata": {
        "id": "Igj87nJU6V6q"
      },
      "execution_count": 14,
      "outputs": []
    },
    {
      "cell_type": "code",
      "source": [
        "# abrir o arquivo com as credenciais de acesso\n",
        "with open('/content/config.toml') as config:\n",
        "  # ler o arquivo e salvar as chaves nas variáveis\n",
        "  config = toml.loads(config.read())\n",
        "  APP_NAME = config['APP_NAME']\n",
        "  API_KEY = config['API_KEY']\n",
        "  API_KEY_SECRET = config['API_KEY_SECRET']\n",
        "  ACCESS_TOKEN = config['ACCESS_TOKEN']\n",
        "  ACCESS_TOKEN_SECRET = config['ACCESS_TOKEN_SECRET']"
      ],
      "metadata": {
        "id": "eDAXap7X6ea0"
      },
      "execution_count": 15,
      "outputs": []
    },
    {
      "cell_type": "code",
      "source": [
        "# função para autenticação do usuário\n",
        "auth = tweepy.OAuthHandler(API_KEY, API_KEY_SECRET)\n",
        "# função para acesso ao app com os tokens\n",
        "auth.set_access_token(ACCESS_TOKEN, ACCESS_TOKEN_SECRET)\n",
        "# autenticação na API do Twitter\n",
        "api = tweepy.API(auth)"
      ],
      "metadata": {
        "id": "_DaZzYIM73AJ"
      },
      "execution_count": 16,
      "outputs": []
    },
    {
      "cell_type": "code",
      "source": [
        "#Verificando as localizações disponíveis para o trends\n",
        "available_loc = api.trends_available()\n",
        "df = pd.json_normalize(available_loc)\n",
        "df.head(3)"
      ],
      "metadata": {
        "colab": {
          "base_uri": "https://localhost:8080/",
          "height": 142
        },
        "id": "l8lAoirx8jhY",
        "outputId": "5c99f157-d854-4024-e20a-74514cfe50c5"
      },
      "execution_count": 17,
      "outputs": [
        {
          "output_type": "execute_result",
          "data": {
            "text/plain": [
              "        name                                       url  parentid country  \\\n",
              "0  Worldwide     http://where.yahooapis.com/v1/place/1         0           \n",
              "1   Winnipeg  http://where.yahooapis.com/v1/place/2972  23424775  Canada   \n",
              "2     Ottawa  http://where.yahooapis.com/v1/place/3369  23424775  Canada   \n",
              "\n",
              "   woeid countryCode  placeType.code placeType.name  \n",
              "0      1        None              19      Supername  \n",
              "1   2972          CA               7           Town  \n",
              "2   3369          CA               7           Town  "
            ],
            "text/html": [
              "\n",
              "  <div id=\"df-f3751d4c-a93a-4b3f-9605-3a3438db4bd1\">\n",
              "    <div class=\"colab-df-container\">\n",
              "      <div>\n",
              "<style scoped>\n",
              "    .dataframe tbody tr th:only-of-type {\n",
              "        vertical-align: middle;\n",
              "    }\n",
              "\n",
              "    .dataframe tbody tr th {\n",
              "        vertical-align: top;\n",
              "    }\n",
              "\n",
              "    .dataframe thead th {\n",
              "        text-align: right;\n",
              "    }\n",
              "</style>\n",
              "<table border=\"1\" class=\"dataframe\">\n",
              "  <thead>\n",
              "    <tr style=\"text-align: right;\">\n",
              "      <th></th>\n",
              "      <th>name</th>\n",
              "      <th>url</th>\n",
              "      <th>parentid</th>\n",
              "      <th>country</th>\n",
              "      <th>woeid</th>\n",
              "      <th>countryCode</th>\n",
              "      <th>placeType.code</th>\n",
              "      <th>placeType.name</th>\n",
              "    </tr>\n",
              "  </thead>\n",
              "  <tbody>\n",
              "    <tr>\n",
              "      <th>0</th>\n",
              "      <td>Worldwide</td>\n",
              "      <td>http://where.yahooapis.com/v1/place/1</td>\n",
              "      <td>0</td>\n",
              "      <td></td>\n",
              "      <td>1</td>\n",
              "      <td>None</td>\n",
              "      <td>19</td>\n",
              "      <td>Supername</td>\n",
              "    </tr>\n",
              "    <tr>\n",
              "      <th>1</th>\n",
              "      <td>Winnipeg</td>\n",
              "      <td>http://where.yahooapis.com/v1/place/2972</td>\n",
              "      <td>23424775</td>\n",
              "      <td>Canada</td>\n",
              "      <td>2972</td>\n",
              "      <td>CA</td>\n",
              "      <td>7</td>\n",
              "      <td>Town</td>\n",
              "    </tr>\n",
              "    <tr>\n",
              "      <th>2</th>\n",
              "      <td>Ottawa</td>\n",
              "      <td>http://where.yahooapis.com/v1/place/3369</td>\n",
              "      <td>23424775</td>\n",
              "      <td>Canada</td>\n",
              "      <td>3369</td>\n",
              "      <td>CA</td>\n",
              "      <td>7</td>\n",
              "      <td>Town</td>\n",
              "    </tr>\n",
              "  </tbody>\n",
              "</table>\n",
              "</div>\n",
              "      <button class=\"colab-df-convert\" onclick=\"convertToInteractive('df-f3751d4c-a93a-4b3f-9605-3a3438db4bd1')\"\n",
              "              title=\"Convert this dataframe to an interactive table.\"\n",
              "              style=\"display:none;\">\n",
              "        \n",
              "  <svg xmlns=\"http://www.w3.org/2000/svg\" height=\"24px\"viewBox=\"0 0 24 24\"\n",
              "       width=\"24px\">\n",
              "    <path d=\"M0 0h24v24H0V0z\" fill=\"none\"/>\n",
              "    <path d=\"M18.56 5.44l.94 2.06.94-2.06 2.06-.94-2.06-.94-.94-2.06-.94 2.06-2.06.94zm-11 1L8.5 8.5l.94-2.06 2.06-.94-2.06-.94L8.5 2.5l-.94 2.06-2.06.94zm10 10l.94 2.06.94-2.06 2.06-.94-2.06-.94-.94-2.06-.94 2.06-2.06.94z\"/><path d=\"M17.41 7.96l-1.37-1.37c-.4-.4-.92-.59-1.43-.59-.52 0-1.04.2-1.43.59L10.3 9.45l-7.72 7.72c-.78.78-.78 2.05 0 2.83L4 21.41c.39.39.9.59 1.41.59.51 0 1.02-.2 1.41-.59l7.78-7.78 2.81-2.81c.8-.78.8-2.07 0-2.86zM5.41 20L4 18.59l7.72-7.72 1.47 1.35L5.41 20z\"/>\n",
              "  </svg>\n",
              "      </button>\n",
              "      \n",
              "  <style>\n",
              "    .colab-df-container {\n",
              "      display:flex;\n",
              "      flex-wrap:wrap;\n",
              "      gap: 12px;\n",
              "    }\n",
              "\n",
              "    .colab-df-convert {\n",
              "      background-color: #E8F0FE;\n",
              "      border: none;\n",
              "      border-radius: 50%;\n",
              "      cursor: pointer;\n",
              "      display: none;\n",
              "      fill: #1967D2;\n",
              "      height: 32px;\n",
              "      padding: 0 0 0 0;\n",
              "      width: 32px;\n",
              "    }\n",
              "\n",
              "    .colab-df-convert:hover {\n",
              "      background-color: #E2EBFA;\n",
              "      box-shadow: 0px 1px 2px rgba(60, 64, 67, 0.3), 0px 1px 3px 1px rgba(60, 64, 67, 0.15);\n",
              "      fill: #174EA6;\n",
              "    }\n",
              "\n",
              "    [theme=dark] .colab-df-convert {\n",
              "      background-color: #3B4455;\n",
              "      fill: #D2E3FC;\n",
              "    }\n",
              "\n",
              "    [theme=dark] .colab-df-convert:hover {\n",
              "      background-color: #434B5C;\n",
              "      box-shadow: 0px 1px 3px 1px rgba(0, 0, 0, 0.15);\n",
              "      filter: drop-shadow(0px 1px 2px rgba(0, 0, 0, 0.3));\n",
              "      fill: #FFFFFF;\n",
              "    }\n",
              "  </style>\n",
              "\n",
              "      <script>\n",
              "        const buttonEl =\n",
              "          document.querySelector('#df-f3751d4c-a93a-4b3f-9605-3a3438db4bd1 button.colab-df-convert');\n",
              "        buttonEl.style.display =\n",
              "          google.colab.kernel.accessAllowed ? 'block' : 'none';\n",
              "\n",
              "        async function convertToInteractive(key) {\n",
              "          const element = document.querySelector('#df-f3751d4c-a93a-4b3f-9605-3a3438db4bd1');\n",
              "          const dataTable =\n",
              "            await google.colab.kernel.invokeFunction('convertToInteractive',\n",
              "                                                     [key], {});\n",
              "          if (!dataTable) return;\n",
              "\n",
              "          const docLinkHtml = 'Like what you see? Visit the ' +\n",
              "            '<a target=\"_blank\" href=https://colab.research.google.com/notebooks/data_table.ipynb>data table notebook</a>'\n",
              "            + ' to learn more about interactive tables.';\n",
              "          element.innerHTML = '';\n",
              "          dataTable['output_type'] = 'display_data';\n",
              "          await google.colab.output.renderOutput(dataTable, element);\n",
              "          const docLink = document.createElement('div');\n",
              "          docLink.innerHTML = docLinkHtml;\n",
              "          element.appendChild(docLink);\n",
              "        }\n",
              "      </script>\n",
              "    </div>\n",
              "  </div>\n",
              "  "
            ]
          },
          "metadata": {},
          "execution_count": 17
        }
      ]
    },
    {
      "cell_type": "code",
      "source": [
        "# Filtrando Brasil nas localizações disponíveis\n",
        "df.query('country == \"Brazil\"')"
      ],
      "metadata": {
        "colab": {
          "base_uri": "https://localhost:8080/",
          "height": 660
        },
        "id": "ZmSWoiUn8oWA",
        "outputId": "3e3c3c81-9939-4737-d614-66415ae2ae30"
      },
      "execution_count": 18,
      "outputs": [
        {
          "output_type": "execute_result",
          "data": {
            "text/plain": [
              "               name                                           url  parentid  \\\n",
              "78         Brasília    http://where.yahooapis.com/v1/place/455819  23424768   \n",
              "79            Belém    http://where.yahooapis.com/v1/place/455820  23424768   \n",
              "80   Belo Horizonte    http://where.yahooapis.com/v1/place/455821  23424768   \n",
              "81         Curitiba    http://where.yahooapis.com/v1/place/455822  23424768   \n",
              "82     Porto Alegre    http://where.yahooapis.com/v1/place/455823  23424768   \n",
              "83           Recife    http://where.yahooapis.com/v1/place/455824  23424768   \n",
              "84   Rio de Janeiro    http://where.yahooapis.com/v1/place/455825  23424768   \n",
              "85         Salvador    http://where.yahooapis.com/v1/place/455826  23424768   \n",
              "86        São Paulo    http://where.yahooapis.com/v1/place/455827  23424768   \n",
              "87         Campinas    http://where.yahooapis.com/v1/place/455828  23424768   \n",
              "88        Fortaleza    http://where.yahooapis.com/v1/place/455830  23424768   \n",
              "89          Goiânia    http://where.yahooapis.com/v1/place/455831  23424768   \n",
              "90           Manaus    http://where.yahooapis.com/v1/place/455833  23424768   \n",
              "91         São Luís    http://where.yahooapis.com/v1/place/455834  23424768   \n",
              "92        Guarulhos    http://where.yahooapis.com/v1/place/455867  23424768   \n",
              "409          Brazil  http://where.yahooapis.com/v1/place/23424768         1   \n",
              "\n",
              "    country     woeid countryCode  placeType.code placeType.name  \n",
              "78   Brazil    455819          BR               7           Town  \n",
              "79   Brazil    455820          BR               7           Town  \n",
              "80   Brazil    455821          BR               7           Town  \n",
              "81   Brazil    455822          BR               7           Town  \n",
              "82   Brazil    455823          BR               7           Town  \n",
              "83   Brazil    455824          BR               7           Town  \n",
              "84   Brazil    455825          BR               7           Town  \n",
              "85   Brazil    455826          BR               7           Town  \n",
              "86   Brazil    455827          BR               7           Town  \n",
              "87   Brazil    455828          BR               7           Town  \n",
              "88   Brazil    455830          BR               7           Town  \n",
              "89   Brazil    455831          BR               7           Town  \n",
              "90   Brazil    455833          BR               7           Town  \n",
              "91   Brazil    455834          BR               7           Town  \n",
              "92   Brazil    455867          BR               7           Town  \n",
              "409  Brazil  23424768          BR              12        Country  "
            ],
            "text/html": [
              "\n",
              "  <div id=\"df-1bf37209-aa91-4d64-bd1a-15a5b96a4543\">\n",
              "    <div class=\"colab-df-container\">\n",
              "      <div>\n",
              "<style scoped>\n",
              "    .dataframe tbody tr th:only-of-type {\n",
              "        vertical-align: middle;\n",
              "    }\n",
              "\n",
              "    .dataframe tbody tr th {\n",
              "        vertical-align: top;\n",
              "    }\n",
              "\n",
              "    .dataframe thead th {\n",
              "        text-align: right;\n",
              "    }\n",
              "</style>\n",
              "<table border=\"1\" class=\"dataframe\">\n",
              "  <thead>\n",
              "    <tr style=\"text-align: right;\">\n",
              "      <th></th>\n",
              "      <th>name</th>\n",
              "      <th>url</th>\n",
              "      <th>parentid</th>\n",
              "      <th>country</th>\n",
              "      <th>woeid</th>\n",
              "      <th>countryCode</th>\n",
              "      <th>placeType.code</th>\n",
              "      <th>placeType.name</th>\n",
              "    </tr>\n",
              "  </thead>\n",
              "  <tbody>\n",
              "    <tr>\n",
              "      <th>78</th>\n",
              "      <td>Brasília</td>\n",
              "      <td>http://where.yahooapis.com/v1/place/455819</td>\n",
              "      <td>23424768</td>\n",
              "      <td>Brazil</td>\n",
              "      <td>455819</td>\n",
              "      <td>BR</td>\n",
              "      <td>7</td>\n",
              "      <td>Town</td>\n",
              "    </tr>\n",
              "    <tr>\n",
              "      <th>79</th>\n",
              "      <td>Belém</td>\n",
              "      <td>http://where.yahooapis.com/v1/place/455820</td>\n",
              "      <td>23424768</td>\n",
              "      <td>Brazil</td>\n",
              "      <td>455820</td>\n",
              "      <td>BR</td>\n",
              "      <td>7</td>\n",
              "      <td>Town</td>\n",
              "    </tr>\n",
              "    <tr>\n",
              "      <th>80</th>\n",
              "      <td>Belo Horizonte</td>\n",
              "      <td>http://where.yahooapis.com/v1/place/455821</td>\n",
              "      <td>23424768</td>\n",
              "      <td>Brazil</td>\n",
              "      <td>455821</td>\n",
              "      <td>BR</td>\n",
              "      <td>7</td>\n",
              "      <td>Town</td>\n",
              "    </tr>\n",
              "    <tr>\n",
              "      <th>81</th>\n",
              "      <td>Curitiba</td>\n",
              "      <td>http://where.yahooapis.com/v1/place/455822</td>\n",
              "      <td>23424768</td>\n",
              "      <td>Brazil</td>\n",
              "      <td>455822</td>\n",
              "      <td>BR</td>\n",
              "      <td>7</td>\n",
              "      <td>Town</td>\n",
              "    </tr>\n",
              "    <tr>\n",
              "      <th>82</th>\n",
              "      <td>Porto Alegre</td>\n",
              "      <td>http://where.yahooapis.com/v1/place/455823</td>\n",
              "      <td>23424768</td>\n",
              "      <td>Brazil</td>\n",
              "      <td>455823</td>\n",
              "      <td>BR</td>\n",
              "      <td>7</td>\n",
              "      <td>Town</td>\n",
              "    </tr>\n",
              "    <tr>\n",
              "      <th>83</th>\n",
              "      <td>Recife</td>\n",
              "      <td>http://where.yahooapis.com/v1/place/455824</td>\n",
              "      <td>23424768</td>\n",
              "      <td>Brazil</td>\n",
              "      <td>455824</td>\n",
              "      <td>BR</td>\n",
              "      <td>7</td>\n",
              "      <td>Town</td>\n",
              "    </tr>\n",
              "    <tr>\n",
              "      <th>84</th>\n",
              "      <td>Rio de Janeiro</td>\n",
              "      <td>http://where.yahooapis.com/v1/place/455825</td>\n",
              "      <td>23424768</td>\n",
              "      <td>Brazil</td>\n",
              "      <td>455825</td>\n",
              "      <td>BR</td>\n",
              "      <td>7</td>\n",
              "      <td>Town</td>\n",
              "    </tr>\n",
              "    <tr>\n",
              "      <th>85</th>\n",
              "      <td>Salvador</td>\n",
              "      <td>http://where.yahooapis.com/v1/place/455826</td>\n",
              "      <td>23424768</td>\n",
              "      <td>Brazil</td>\n",
              "      <td>455826</td>\n",
              "      <td>BR</td>\n",
              "      <td>7</td>\n",
              "      <td>Town</td>\n",
              "    </tr>\n",
              "    <tr>\n",
              "      <th>86</th>\n",
              "      <td>São Paulo</td>\n",
              "      <td>http://where.yahooapis.com/v1/place/455827</td>\n",
              "      <td>23424768</td>\n",
              "      <td>Brazil</td>\n",
              "      <td>455827</td>\n",
              "      <td>BR</td>\n",
              "      <td>7</td>\n",
              "      <td>Town</td>\n",
              "    </tr>\n",
              "    <tr>\n",
              "      <th>87</th>\n",
              "      <td>Campinas</td>\n",
              "      <td>http://where.yahooapis.com/v1/place/455828</td>\n",
              "      <td>23424768</td>\n",
              "      <td>Brazil</td>\n",
              "      <td>455828</td>\n",
              "      <td>BR</td>\n",
              "      <td>7</td>\n",
              "      <td>Town</td>\n",
              "    </tr>\n",
              "    <tr>\n",
              "      <th>88</th>\n",
              "      <td>Fortaleza</td>\n",
              "      <td>http://where.yahooapis.com/v1/place/455830</td>\n",
              "      <td>23424768</td>\n",
              "      <td>Brazil</td>\n",
              "      <td>455830</td>\n",
              "      <td>BR</td>\n",
              "      <td>7</td>\n",
              "      <td>Town</td>\n",
              "    </tr>\n",
              "    <tr>\n",
              "      <th>89</th>\n",
              "      <td>Goiânia</td>\n",
              "      <td>http://where.yahooapis.com/v1/place/455831</td>\n",
              "      <td>23424768</td>\n",
              "      <td>Brazil</td>\n",
              "      <td>455831</td>\n",
              "      <td>BR</td>\n",
              "      <td>7</td>\n",
              "      <td>Town</td>\n",
              "    </tr>\n",
              "    <tr>\n",
              "      <th>90</th>\n",
              "      <td>Manaus</td>\n",
              "      <td>http://where.yahooapis.com/v1/place/455833</td>\n",
              "      <td>23424768</td>\n",
              "      <td>Brazil</td>\n",
              "      <td>455833</td>\n",
              "      <td>BR</td>\n",
              "      <td>7</td>\n",
              "      <td>Town</td>\n",
              "    </tr>\n",
              "    <tr>\n",
              "      <th>91</th>\n",
              "      <td>São Luís</td>\n",
              "      <td>http://where.yahooapis.com/v1/place/455834</td>\n",
              "      <td>23424768</td>\n",
              "      <td>Brazil</td>\n",
              "      <td>455834</td>\n",
              "      <td>BR</td>\n",
              "      <td>7</td>\n",
              "      <td>Town</td>\n",
              "    </tr>\n",
              "    <tr>\n",
              "      <th>92</th>\n",
              "      <td>Guarulhos</td>\n",
              "      <td>http://where.yahooapis.com/v1/place/455867</td>\n",
              "      <td>23424768</td>\n",
              "      <td>Brazil</td>\n",
              "      <td>455867</td>\n",
              "      <td>BR</td>\n",
              "      <td>7</td>\n",
              "      <td>Town</td>\n",
              "    </tr>\n",
              "    <tr>\n",
              "      <th>409</th>\n",
              "      <td>Brazil</td>\n",
              "      <td>http://where.yahooapis.com/v1/place/23424768</td>\n",
              "      <td>1</td>\n",
              "      <td>Brazil</td>\n",
              "      <td>23424768</td>\n",
              "      <td>BR</td>\n",
              "      <td>12</td>\n",
              "      <td>Country</td>\n",
              "    </tr>\n",
              "  </tbody>\n",
              "</table>\n",
              "</div>\n",
              "      <button class=\"colab-df-convert\" onclick=\"convertToInteractive('df-1bf37209-aa91-4d64-bd1a-15a5b96a4543')\"\n",
              "              title=\"Convert this dataframe to an interactive table.\"\n",
              "              style=\"display:none;\">\n",
              "        \n",
              "  <svg xmlns=\"http://www.w3.org/2000/svg\" height=\"24px\"viewBox=\"0 0 24 24\"\n",
              "       width=\"24px\">\n",
              "    <path d=\"M0 0h24v24H0V0z\" fill=\"none\"/>\n",
              "    <path d=\"M18.56 5.44l.94 2.06.94-2.06 2.06-.94-2.06-.94-.94-2.06-.94 2.06-2.06.94zm-11 1L8.5 8.5l.94-2.06 2.06-.94-2.06-.94L8.5 2.5l-.94 2.06-2.06.94zm10 10l.94 2.06.94-2.06 2.06-.94-2.06-.94-.94-2.06-.94 2.06-2.06.94z\"/><path d=\"M17.41 7.96l-1.37-1.37c-.4-.4-.92-.59-1.43-.59-.52 0-1.04.2-1.43.59L10.3 9.45l-7.72 7.72c-.78.78-.78 2.05 0 2.83L4 21.41c.39.39.9.59 1.41.59.51 0 1.02-.2 1.41-.59l7.78-7.78 2.81-2.81c.8-.78.8-2.07 0-2.86zM5.41 20L4 18.59l7.72-7.72 1.47 1.35L5.41 20z\"/>\n",
              "  </svg>\n",
              "      </button>\n",
              "      \n",
              "  <style>\n",
              "    .colab-df-container {\n",
              "      display:flex;\n",
              "      flex-wrap:wrap;\n",
              "      gap: 12px;\n",
              "    }\n",
              "\n",
              "    .colab-df-convert {\n",
              "      background-color: #E8F0FE;\n",
              "      border: none;\n",
              "      border-radius: 50%;\n",
              "      cursor: pointer;\n",
              "      display: none;\n",
              "      fill: #1967D2;\n",
              "      height: 32px;\n",
              "      padding: 0 0 0 0;\n",
              "      width: 32px;\n",
              "    }\n",
              "\n",
              "    .colab-df-convert:hover {\n",
              "      background-color: #E2EBFA;\n",
              "      box-shadow: 0px 1px 2px rgba(60, 64, 67, 0.3), 0px 1px 3px 1px rgba(60, 64, 67, 0.15);\n",
              "      fill: #174EA6;\n",
              "    }\n",
              "\n",
              "    [theme=dark] .colab-df-convert {\n",
              "      background-color: #3B4455;\n",
              "      fill: #D2E3FC;\n",
              "    }\n",
              "\n",
              "    [theme=dark] .colab-df-convert:hover {\n",
              "      background-color: #434B5C;\n",
              "      box-shadow: 0px 1px 3px 1px rgba(0, 0, 0, 0.15);\n",
              "      filter: drop-shadow(0px 1px 2px rgba(0, 0, 0, 0.3));\n",
              "      fill: #FFFFFF;\n",
              "    }\n",
              "  </style>\n",
              "\n",
              "      <script>\n",
              "        const buttonEl =\n",
              "          document.querySelector('#df-1bf37209-aa91-4d64-bd1a-15a5b96a4543 button.colab-df-convert');\n",
              "        buttonEl.style.display =\n",
              "          google.colab.kernel.accessAllowed ? 'block' : 'none';\n",
              "\n",
              "        async function convertToInteractive(key) {\n",
              "          const element = document.querySelector('#df-1bf37209-aa91-4d64-bd1a-15a5b96a4543');\n",
              "          const dataTable =\n",
              "            await google.colab.kernel.invokeFunction('convertToInteractive',\n",
              "                                                     [key], {});\n",
              "          if (!dataTable) return;\n",
              "\n",
              "          const docLinkHtml = 'Like what you see? Visit the ' +\n",
              "            '<a target=\"_blank\" href=https://colab.research.google.com/notebooks/data_table.ipynb>data table notebook</a>'\n",
              "            + ' to learn more about interactive tables.';\n",
              "          element.innerHTML = '';\n",
              "          dataTable['output_type'] = 'display_data';\n",
              "          await google.colab.output.renderOutput(dataTable, element);\n",
              "          const docLink = document.createElement('div');\n",
              "          docLink.innerHTML = docLinkHtml;\n",
              "          element.appendChild(docLink);\n",
              "        }\n",
              "      </script>\n",
              "    </div>\n",
              "  </div>\n",
              "  "
            ]
          },
          "metadata": {},
          "execution_count": 18
        }
      ]
    },
    {
      "cell_type": "code",
      "source": [
        "# Definindo a localização\n",
        "loc = geocoder.osm('Brazil')\n",
        "print(loc)"
      ],
      "metadata": {
        "colab": {
          "base_uri": "https://localhost:8080/"
        },
        "id": "DbDdiyl-8tk3",
        "outputId": "239bfddb-c86d-4b98-d929-714d2178b9e1"
      },
      "execution_count": 19,
      "outputs": [
        {
          "output_type": "stream",
          "name": "stdout",
          "text": [
            "<[OK] Osm - Geocode [Brasil]>\n"
          ]
        }
      ]
    },
    {
      "cell_type": "code",
      "source": [
        "# Buscando o id da localização baseado na lat e long\n",
        "closest_loc = api.trends_closest(loc.lat,loc.lng)\n",
        "print(json.dumps(closest_loc,indent=1))"
      ],
      "metadata": {
        "colab": {
          "base_uri": "https://localhost:8080/"
        },
        "id": "S1HGe-3X8yb3",
        "outputId": "e4bf5a09-b0a5-473f-a11a-8694e8952cbf"
      },
      "execution_count": 20,
      "outputs": [
        {
          "output_type": "stream",
          "name": "stdout",
          "text": [
            "[\n",
            " {\n",
            "  \"name\": \"Brazil\",\n",
            "  \"placeType\": {\n",
            "   \"code\": 12,\n",
            "   \"name\": \"Country\"\n",
            "  },\n",
            "  \"url\": \"http://where.yahooapis.com/v1/place/23424768\",\n",
            "  \"parentid\": 1,\n",
            "  \"country\": \"Brazil\",\n",
            "  \"woeid\": 23424768,\n",
            "  \"countryCode\": \"BR\"\n",
            " }\n",
            "]\n"
          ]
        }
      ]
    },
    {
      "cell_type": "code",
      "source": [
        "# Montando dataset do Top trends da localização informada\n",
        "trends  = api.trends_place(closest_loc[0][\"woeid\"])"
      ],
      "metadata": {
        "id": "WgOOlgm682wq"
      },
      "execution_count": 21,
      "outputs": []
    },
    {
      "cell_type": "code",
      "source": [
        "# Exibindo os Top Trends Brasil\n",
        "df_trends = pd.json_normalize(trends[0]['trends'])\n",
        "df_trends.head()"
      ],
      "metadata": {
        "colab": {
          "base_uri": "https://localhost:8080/",
          "height": 282
        },
        "id": "Rou8P7Er8823",
        "outputId": "2687650a-8433-4ffc-b59c-dc6d2fd18561"
      },
      "execution_count": 22,
      "outputs": [
        {
          "output_type": "execute_result",
          "data": {
            "text/plain": [
              "                         name  \\\n",
              "0                        Keno   \n",
              "1                   Ancelotti   \n",
              "2  #LulaEoBrasilSubindoARampa   \n",
              "3                    Alvorada   \n",
              "4                NÓS VENCEMOS   \n",
              "\n",
              "                                                 url promoted_content  \\\n",
              "0                   http://twitter.com/search?q=Keno             None   \n",
              "1              http://twitter.com/search?q=Ancelotti             None   \n",
              "2  http://twitter.com/search?q=%23LulaEoBrasilSub...             None   \n",
              "3               http://twitter.com/search?q=Alvorada             None   \n",
              "4  http://twitter.com/search?q=%22N%C3%93S+VENCEM...             None   \n",
              "\n",
              "                          query  tweet_volume  \n",
              "0                          Keno           NaN  \n",
              "1                     Ancelotti       10097.0  \n",
              "2  %23LulaEoBrasilSubindoARampa           NaN  \n",
              "3                      Alvorada      157596.0  \n",
              "4       %22N%C3%93S+VENCEMOS%22           NaN  "
            ],
            "text/html": [
              "\n",
              "  <div id=\"df-908d10dd-4356-4cb2-b9b1-142332c5f282\">\n",
              "    <div class=\"colab-df-container\">\n",
              "      <div>\n",
              "<style scoped>\n",
              "    .dataframe tbody tr th:only-of-type {\n",
              "        vertical-align: middle;\n",
              "    }\n",
              "\n",
              "    .dataframe tbody tr th {\n",
              "        vertical-align: top;\n",
              "    }\n",
              "\n",
              "    .dataframe thead th {\n",
              "        text-align: right;\n",
              "    }\n",
              "</style>\n",
              "<table border=\"1\" class=\"dataframe\">\n",
              "  <thead>\n",
              "    <tr style=\"text-align: right;\">\n",
              "      <th></th>\n",
              "      <th>name</th>\n",
              "      <th>url</th>\n",
              "      <th>promoted_content</th>\n",
              "      <th>query</th>\n",
              "      <th>tweet_volume</th>\n",
              "    </tr>\n",
              "  </thead>\n",
              "  <tbody>\n",
              "    <tr>\n",
              "      <th>0</th>\n",
              "      <td>Keno</td>\n",
              "      <td>http://twitter.com/search?q=Keno</td>\n",
              "      <td>None</td>\n",
              "      <td>Keno</td>\n",
              "      <td>NaN</td>\n",
              "    </tr>\n",
              "    <tr>\n",
              "      <th>1</th>\n",
              "      <td>Ancelotti</td>\n",
              "      <td>http://twitter.com/search?q=Ancelotti</td>\n",
              "      <td>None</td>\n",
              "      <td>Ancelotti</td>\n",
              "      <td>10097.0</td>\n",
              "    </tr>\n",
              "    <tr>\n",
              "      <th>2</th>\n",
              "      <td>#LulaEoBrasilSubindoARampa</td>\n",
              "      <td>http://twitter.com/search?q=%23LulaEoBrasilSub...</td>\n",
              "      <td>None</td>\n",
              "      <td>%23LulaEoBrasilSubindoARampa</td>\n",
              "      <td>NaN</td>\n",
              "    </tr>\n",
              "    <tr>\n",
              "      <th>3</th>\n",
              "      <td>Alvorada</td>\n",
              "      <td>http://twitter.com/search?q=Alvorada</td>\n",
              "      <td>None</td>\n",
              "      <td>Alvorada</td>\n",
              "      <td>157596.0</td>\n",
              "    </tr>\n",
              "    <tr>\n",
              "      <th>4</th>\n",
              "      <td>NÓS VENCEMOS</td>\n",
              "      <td>http://twitter.com/search?q=%22N%C3%93S+VENCEM...</td>\n",
              "      <td>None</td>\n",
              "      <td>%22N%C3%93S+VENCEMOS%22</td>\n",
              "      <td>NaN</td>\n",
              "    </tr>\n",
              "  </tbody>\n",
              "</table>\n",
              "</div>\n",
              "      <button class=\"colab-df-convert\" onclick=\"convertToInteractive('df-908d10dd-4356-4cb2-b9b1-142332c5f282')\"\n",
              "              title=\"Convert this dataframe to an interactive table.\"\n",
              "              style=\"display:none;\">\n",
              "        \n",
              "  <svg xmlns=\"http://www.w3.org/2000/svg\" height=\"24px\"viewBox=\"0 0 24 24\"\n",
              "       width=\"24px\">\n",
              "    <path d=\"M0 0h24v24H0V0z\" fill=\"none\"/>\n",
              "    <path d=\"M18.56 5.44l.94 2.06.94-2.06 2.06-.94-2.06-.94-.94-2.06-.94 2.06-2.06.94zm-11 1L8.5 8.5l.94-2.06 2.06-.94-2.06-.94L8.5 2.5l-.94 2.06-2.06.94zm10 10l.94 2.06.94-2.06 2.06-.94-2.06-.94-.94-2.06-.94 2.06-2.06.94z\"/><path d=\"M17.41 7.96l-1.37-1.37c-.4-.4-.92-.59-1.43-.59-.52 0-1.04.2-1.43.59L10.3 9.45l-7.72 7.72c-.78.78-.78 2.05 0 2.83L4 21.41c.39.39.9.59 1.41.59.51 0 1.02-.2 1.41-.59l7.78-7.78 2.81-2.81c.8-.78.8-2.07 0-2.86zM5.41 20L4 18.59l7.72-7.72 1.47 1.35L5.41 20z\"/>\n",
              "  </svg>\n",
              "      </button>\n",
              "      \n",
              "  <style>\n",
              "    .colab-df-container {\n",
              "      display:flex;\n",
              "      flex-wrap:wrap;\n",
              "      gap: 12px;\n",
              "    }\n",
              "\n",
              "    .colab-df-convert {\n",
              "      background-color: #E8F0FE;\n",
              "      border: none;\n",
              "      border-radius: 50%;\n",
              "      cursor: pointer;\n",
              "      display: none;\n",
              "      fill: #1967D2;\n",
              "      height: 32px;\n",
              "      padding: 0 0 0 0;\n",
              "      width: 32px;\n",
              "    }\n",
              "\n",
              "    .colab-df-convert:hover {\n",
              "      background-color: #E2EBFA;\n",
              "      box-shadow: 0px 1px 2px rgba(60, 64, 67, 0.3), 0px 1px 3px 1px rgba(60, 64, 67, 0.15);\n",
              "      fill: #174EA6;\n",
              "    }\n",
              "\n",
              "    [theme=dark] .colab-df-convert {\n",
              "      background-color: #3B4455;\n",
              "      fill: #D2E3FC;\n",
              "    }\n",
              "\n",
              "    [theme=dark] .colab-df-convert:hover {\n",
              "      background-color: #434B5C;\n",
              "      box-shadow: 0px 1px 3px 1px rgba(0, 0, 0, 0.15);\n",
              "      filter: drop-shadow(0px 1px 2px rgba(0, 0, 0, 0.3));\n",
              "      fill: #FFFFFF;\n",
              "    }\n",
              "  </style>\n",
              "\n",
              "      <script>\n",
              "        const buttonEl =\n",
              "          document.querySelector('#df-908d10dd-4356-4cb2-b9b1-142332c5f282 button.colab-df-convert');\n",
              "        buttonEl.style.display =\n",
              "          google.colab.kernel.accessAllowed ? 'block' : 'none';\n",
              "\n",
              "        async function convertToInteractive(key) {\n",
              "          const element = document.querySelector('#df-908d10dd-4356-4cb2-b9b1-142332c5f282');\n",
              "          const dataTable =\n",
              "            await google.colab.kernel.invokeFunction('convertToInteractive',\n",
              "                                                     [key], {});\n",
              "          if (!dataTable) return;\n",
              "\n",
              "          const docLinkHtml = 'Like what you see? Visit the ' +\n",
              "            '<a target=\"_blank\" href=https://colab.research.google.com/notebooks/data_table.ipynb>data table notebook</a>'\n",
              "            + ' to learn more about interactive tables.';\n",
              "          element.innerHTML = '';\n",
              "          dataTable['output_type'] = 'display_data';\n",
              "          await google.colab.output.renderOutput(dataTable, element);\n",
              "          const docLink = document.createElement('div');\n",
              "          docLink.innerHTML = docLinkHtml;\n",
              "          element.appendChild(docLink);\n",
              "        }\n",
              "      </script>\n",
              "    </div>\n",
              "  </div>\n",
              "  "
            ]
          },
          "metadata": {},
          "execution_count": 22
        }
      ]
    },
    {
      "cell_type": "code",
      "source": [
        "# Realizando uma busca de dados pelo Top Trend\n",
        "results = api.search(q='labchecap')\n",
        " \n",
        "# Organizando os dados\n",
        "users = []\n",
        "tweets = []\n",
        "for tweet in results:\n",
        "  users.append(tweet.user.name)\n",
        "  tweets.append(tweet.text)\n",
        "  print(f'User: {tweet.user.name} | Tweet: {tweet.text}')"
      ],
      "metadata": {
        "colab": {
          "base_uri": "https://localhost:8080/"
        },
        "id": "usPy-4LW9AZY",
        "outputId": "c2e82aa8-bf6e-4dbc-876f-d5df8fb8e6b7"
      },
      "execution_count": 23,
      "outputs": [
        {
          "output_type": "stream",
          "name": "stdout",
          "text": [
            "User: Amaralina papo firme | Tweet: A bicha voltou pro labchecap mermo\n",
            "User: Danzinho | Tweet: Nossa HORRIVEL de laboratorio ali no centro, n tem 1 labchecap\n"
          ]
        }
      ]
    },
    {
      "cell_type": "code",
      "source": [
        "# Montando um dataset com os tweets extraidos do Twitter\n",
        "df_tweets = pd.DataFrame()\n",
        "df_tweets['users'] = users\n",
        "df_tweets['tweets'] = tweets\n",
        "df_tweets.head()"
      ],
      "metadata": {
        "colab": {
          "base_uri": "https://localhost:8080/",
          "height": 111
        },
        "id": "FllSd0gU9PMW",
        "outputId": "83420780-e770-45fd-c094-7a4cb828e57f"
      },
      "execution_count": 24,
      "outputs": [
        {
          "output_type": "execute_result",
          "data": {
            "text/plain": [
              "                  users                                             tweets\n",
              "0  Amaralina papo firme                 A bicha voltou pro labchecap mermo\n",
              "1              Danzinho  Nossa HORRIVEL de laboratorio ali no centro, n..."
            ],
            "text/html": [
              "\n",
              "  <div id=\"df-0532c021-0254-42b7-a09d-49b2677a9fd0\">\n",
              "    <div class=\"colab-df-container\">\n",
              "      <div>\n",
              "<style scoped>\n",
              "    .dataframe tbody tr th:only-of-type {\n",
              "        vertical-align: middle;\n",
              "    }\n",
              "\n",
              "    .dataframe tbody tr th {\n",
              "        vertical-align: top;\n",
              "    }\n",
              "\n",
              "    .dataframe thead th {\n",
              "        text-align: right;\n",
              "    }\n",
              "</style>\n",
              "<table border=\"1\" class=\"dataframe\">\n",
              "  <thead>\n",
              "    <tr style=\"text-align: right;\">\n",
              "      <th></th>\n",
              "      <th>users</th>\n",
              "      <th>tweets</th>\n",
              "    </tr>\n",
              "  </thead>\n",
              "  <tbody>\n",
              "    <tr>\n",
              "      <th>0</th>\n",
              "      <td>Amaralina papo firme</td>\n",
              "      <td>A bicha voltou pro labchecap mermo</td>\n",
              "    </tr>\n",
              "    <tr>\n",
              "      <th>1</th>\n",
              "      <td>Danzinho</td>\n",
              "      <td>Nossa HORRIVEL de laboratorio ali no centro, n...</td>\n",
              "    </tr>\n",
              "  </tbody>\n",
              "</table>\n",
              "</div>\n",
              "      <button class=\"colab-df-convert\" onclick=\"convertToInteractive('df-0532c021-0254-42b7-a09d-49b2677a9fd0')\"\n",
              "              title=\"Convert this dataframe to an interactive table.\"\n",
              "              style=\"display:none;\">\n",
              "        \n",
              "  <svg xmlns=\"http://www.w3.org/2000/svg\" height=\"24px\"viewBox=\"0 0 24 24\"\n",
              "       width=\"24px\">\n",
              "    <path d=\"M0 0h24v24H0V0z\" fill=\"none\"/>\n",
              "    <path d=\"M18.56 5.44l.94 2.06.94-2.06 2.06-.94-2.06-.94-.94-2.06-.94 2.06-2.06.94zm-11 1L8.5 8.5l.94-2.06 2.06-.94-2.06-.94L8.5 2.5l-.94 2.06-2.06.94zm10 10l.94 2.06.94-2.06 2.06-.94-2.06-.94-.94-2.06-.94 2.06-2.06.94z\"/><path d=\"M17.41 7.96l-1.37-1.37c-.4-.4-.92-.59-1.43-.59-.52 0-1.04.2-1.43.59L10.3 9.45l-7.72 7.72c-.78.78-.78 2.05 0 2.83L4 21.41c.39.39.9.59 1.41.59.51 0 1.02-.2 1.41-.59l7.78-7.78 2.81-2.81c.8-.78.8-2.07 0-2.86zM5.41 20L4 18.59l7.72-7.72 1.47 1.35L5.41 20z\"/>\n",
              "  </svg>\n",
              "      </button>\n",
              "      \n",
              "  <style>\n",
              "    .colab-df-container {\n",
              "      display:flex;\n",
              "      flex-wrap:wrap;\n",
              "      gap: 12px;\n",
              "    }\n",
              "\n",
              "    .colab-df-convert {\n",
              "      background-color: #E8F0FE;\n",
              "      border: none;\n",
              "      border-radius: 50%;\n",
              "      cursor: pointer;\n",
              "      display: none;\n",
              "      fill: #1967D2;\n",
              "      height: 32px;\n",
              "      padding: 0 0 0 0;\n",
              "      width: 32px;\n",
              "    }\n",
              "\n",
              "    .colab-df-convert:hover {\n",
              "      background-color: #E2EBFA;\n",
              "      box-shadow: 0px 1px 2px rgba(60, 64, 67, 0.3), 0px 1px 3px 1px rgba(60, 64, 67, 0.15);\n",
              "      fill: #174EA6;\n",
              "    }\n",
              "\n",
              "    [theme=dark] .colab-df-convert {\n",
              "      background-color: #3B4455;\n",
              "      fill: #D2E3FC;\n",
              "    }\n",
              "\n",
              "    [theme=dark] .colab-df-convert:hover {\n",
              "      background-color: #434B5C;\n",
              "      box-shadow: 0px 1px 3px 1px rgba(0, 0, 0, 0.15);\n",
              "      filter: drop-shadow(0px 1px 2px rgba(0, 0, 0, 0.3));\n",
              "      fill: #FFFFFF;\n",
              "    }\n",
              "  </style>\n",
              "\n",
              "      <script>\n",
              "        const buttonEl =\n",
              "          document.querySelector('#df-0532c021-0254-42b7-a09d-49b2677a9fd0 button.colab-df-convert');\n",
              "        buttonEl.style.display =\n",
              "          google.colab.kernel.accessAllowed ? 'block' : 'none';\n",
              "\n",
              "        async function convertToInteractive(key) {\n",
              "          const element = document.querySelector('#df-0532c021-0254-42b7-a09d-49b2677a9fd0');\n",
              "          const dataTable =\n",
              "            await google.colab.kernel.invokeFunction('convertToInteractive',\n",
              "                                                     [key], {});\n",
              "          if (!dataTable) return;\n",
              "\n",
              "          const docLinkHtml = 'Like what you see? Visit the ' +\n",
              "            '<a target=\"_blank\" href=https://colab.research.google.com/notebooks/data_table.ipynb>data table notebook</a>'\n",
              "            + ' to learn more about interactive tables.';\n",
              "          element.innerHTML = '';\n",
              "          dataTable['output_type'] = 'display_data';\n",
              "          await google.colab.output.renderOutput(dataTable, element);\n",
              "          const docLink = document.createElement('div');\n",
              "          docLink.innerHTML = docLinkHtml;\n",
              "          element.appendChild(docLink);\n",
              "        }\n",
              "      </script>\n",
              "    </div>\n",
              "  </div>\n",
              "  "
            ]
          },
          "metadata": {},
          "execution_count": 24
        }
      ]
    },
    {
      "cell_type": "code",
      "source": [
        "df_tweets.shape"
      ],
      "metadata": {
        "colab": {
          "base_uri": "https://localhost:8080/"
        },
        "id": "6heImYp29o84",
        "outputId": "aa006325-48c5-456f-c70b-cb35518a3f03"
      },
      "execution_count": 25,
      "outputs": [
        {
          "output_type": "execute_result",
          "data": {
            "text/plain": [
              "(2, 2)"
            ]
          },
          "metadata": {},
          "execution_count": 25
        }
      ]
    },
    {
      "cell_type": "code",
      "source": [
        "locBahia = geocoder.osm('Bahia')\n",
        "print(loc)"
      ],
      "metadata": {
        "colab": {
          "base_uri": "https://localhost:8080/"
        },
        "id": "n7tdZmeyCoCR",
        "outputId": "6364ddce-e0f2-499b-f914-febd12bc6090"
      },
      "execution_count": 26,
      "outputs": [
        {
          "output_type": "stream",
          "name": "stdout",
          "text": [
            "<[OK] Osm - Geocode [Brasil]>\n"
          ]
        }
      ]
    },
    {
      "cell_type": "code",
      "source": [
        "# Buscando o id da localização baseado na lat e long\n",
        "closest_locBahia = api.trends_closest(locBahia.lat,locBahia.lng)\n",
        "print(json.dumps(closest_loc,indent=1))"
      ],
      "metadata": {
        "colab": {
          "base_uri": "https://localhost:8080/"
        },
        "id": "uaCCA4Q-Crag",
        "outputId": "8acd4bcc-a1f7-4831-e579-7f5c1f3e8201"
      },
      "execution_count": 27,
      "outputs": [
        {
          "output_type": "stream",
          "name": "stdout",
          "text": [
            "[\n",
            " {\n",
            "  \"name\": \"Brazil\",\n",
            "  \"placeType\": {\n",
            "   \"code\": 12,\n",
            "   \"name\": \"Country\"\n",
            "  },\n",
            "  \"url\": \"http://where.yahooapis.com/v1/place/23424768\",\n",
            "  \"parentid\": 1,\n",
            "  \"country\": \"Brazil\",\n",
            "  \"woeid\": 23424768,\n",
            "  \"countryCode\": \"BR\"\n",
            " }\n",
            "]\n"
          ]
        }
      ]
    },
    {
      "cell_type": "code",
      "source": [
        "results = api.search(q='bolsonaro', count=150)\n",
        " \n",
        "# Organizando os dados\n",
        "users = []\n",
        "tweets = []\n",
        "for tweet in results:\n",
        "  users.append(tweet.user.name)\n",
        "  tweets.append(tweet.text)\n",
        "  print(f'User: {tweet.user.name} | Tweet: {tweet.text}')"
      ],
      "metadata": {
        "colab": {
          "base_uri": "https://localhost:8080/"
        },
        "id": "jVmGNngq-KEs",
        "outputId": "d330aeaa-9fbb-45b2-b601-1b51ec71f8c3"
      },
      "execution_count": 28,
      "outputs": [
        {
          "output_type": "stream",
          "name": "stdout",
          "text": [
            "User: Antonio Patriota🇧🇷🇧🇷🚲🛵 | Tweet: RT @Fasalles: Isso é orgânico, completamente natural, verdadeiro e ninguém do lado de lá entende, políticos, ministros do império do Xandaq…\n",
            "User: jose hilton_Padim_Padre_Ciço🇧🇷🏦🍌🦀🏦 | Tweet: RT @ThiagoResiste: FRACASSOU a tentativa golpista de Bolsonaro hoje!!\n",
            "\n",
            "Esperavam 3 MILHÕES DE PESSOAS e não apareceram nem 1000 (mil)!\n",
            "\n",
            "Dei…\n",
            "User: xico sá | Tweet: RT @guilherme_amado: Filho de ministro do STJ deixa disputa entre Richarlison e amigo de Flávio Bolsonaro https://t.co/hqibBMIXPh\n",
            "User: Fabyane | Tweet: RT @TV_22_Bolsonaro: 📌⤵️Parte 2\n",
            "Presidente Bolsonaro hoje com o povo no Palácio da Alvorada.\n",
            "11/12/2022 🇧🇷🙌 https://t.co/tPFNkLMYBC\n",
            "User: Carlos Augusto de Carvalho Vieira | Tweet: RT @Resist_05: Jair Bolsonaro has confirmed that he is the Supreme Chief of the Armed Forces, and they will back the Brazilian citizens… ht…\n",
            "User: Marisa Yoshizane | Tweet: RT @Susy95910373: Ė o nordeste chegando em Brasília,\n",
            "Patriotas tão firmes na luta, comunismo não, Presidente Bolsonaro fica. https://t.co/P…\n",
            "User: 𝕮𝖔𝖓𝖍𝖊𝖈𝖎𝖒𝖊𝖓𝖙𝖔 𝕷𝖎𝖇𝖊𝖗𝖙𝖆🇧🇷✝️🇧🇷 | Tweet: RT @nhtfranco: ➡️Quem estiver no QG, vá para o ALVORADA\n",
            "➡️Quem estiver na Esplanada, vá para o ALVORADA\n",
            "➡️Quem estiver no ALVORADA, permane…\n",
            "User: EU AUTORIZO | Tweet: @Edivaldord1990 @Paullo_Gustavo Temos que ser justos. Ele foi um dos poucos globais que se posicionou a favor do Bo… https://t.co/x8dS7HVMb1\n",
            "User: Thata Moraes | Tweet: RT @AlexanderBrasil: De forma inédita acesso ao Palácio do Alvorada ficará aberto ao público essa noite com previsão de pronunciamento do P…\n",
            "User: rodrigues | Tweet: RT @NossaRenovacao: COMO A ESTRATEGIA DE @jairbolsonaro QUEBROU O SISTEMA :\n",
            "\n",
            "BOLSONARO SEMPRE VENDEU A IDEIA DE TEMPERAMENTO EXPLOSIVO , O…\n",
            "User: Apoio à @Laurinha_2050 | Tweet: RT @MarciaP21163571: PRESIDENTE JAIR BOLSONARO,  BRASILEIROS NOSSA BANDEIRA É VERDE E AMARELO. MESMO DISTANTES TODOS ESTÃO UNIDOS EM UM SÓ …\n",
            "User: Silvia O.G.M. | Tweet: RT @Paulogeneroso: E eu que fui processado pelo delegado que investigou a facada no Bolsonaro por dizer que ele tinha ligação com o PT e ti…\n",
            "User: Alaide De Fatima Mendonca | Tweet: RT @CamargoDireita: O Palácio da Alvorada, de portões abertos, está no topo do Twitter e humilha a diplomação. \n",
            "Bolsonaro tem o povo. Nine…\n",
            "User: acogorni2️⃣2️⃣ | Tweet: RT @brom_elisa: Direto de Goiânia \n",
            "\n",
            "Júlia, a garotinha que abraçou e conversou com Bolsonaro no Alvorada.\n",
            "\n",
            "Parabéns Júlia, você representou…\n",
            "User: Dannyella Teixeira | Tweet: @Bel22776152 @Jessica_tacila @LulaOficial Ter repúdio ao Bolsonaro eu entendo.Agora achar que o pt e o mula é a sol… https://t.co/v90M6az4gR\n",
            "User: fabio paiva fagundes | Tweet: RT @Fabiopf08Fabio: Bolsonaro deixa descomunal herança maldita para novo governo https://t.co/iIQ3SvTihd\n",
            "User: LUIZ CTBA ⚖Ⓜ️ | Tweet: @GFiuza_Oficial CALADO!\n",
            "\n",
            "Antes de falar do Luladrão, vocês precisam pedir perdão a nação por terem viabilizado a vo… https://t.co/R1ZMe5LkNm\n",
            "User: Maicon Tonetta | Tweet: @deccache @FLSilva97 Vcs querem um outro impeachment ou um outro Bolsonaro.. Não é possível.. Não sei quem \"não apr… https://t.co/XMfp9vLktz\n",
            "User: juridico caroline polachek | Tweet: RT @GuilhermeBoulos: Hoje é um dia histórico! Lula será diplomado Presidente da República, marcando formalmente a derrota de Bolsonaro e se…\n",
            "User: Maisa Pereira Kaneko - 💚💛 BOLSONARO 22 | Tweet: É isso aí amigos! Continuamos na luta, por Deus, por Nossa Pátria, por Nosso PR, e por Nossa Liberdade! Por isso pe… https://t.co/tfyYTjHndH\n",
            "User: Rô Rocha | Tweet: RT @mfbr58: BOLSONARO RECOLHEU AS BANDEIRAS DO BRASIL E DO MERCOSUL E DEIXOU APENAS A BANDEIRA DA INDEPENDÊNCIA HASTEADA. TAMBÉM DEIXOU OS…\n",
            "User: my | Tweet: RT @acababozo: 22  DIAS PARA O FIM DO GOVERNO BOLSONARO\n",
            "User: Beto Kreling | Tweet: RT @Susy95910373: Ė o nordeste chegando em Brasília,\n",
            "Patriotas tão firmes na luta, comunismo não, Presidente Bolsonaro fica. https://t.co/P…\n",
            "User: Celso Hypolito | Tweet: RT @mfbr58: BOLSONARO PRECISA DO POVO LOTANDO O ALVORADA PARA PODER AGIR. SE VOCÊ ESTÁ EM BRASÍLIA, VÁ PARA LÁ AGORA!!\n",
            "User: DENACIR TERESA ZANANDREA | Tweet: RT @EliasJrBrasil: Acorda povo\n",
            "URGENTE!!! 🚨\n",
            "QUEM ESTIVER EM BRASÍLIA TODOS A ALVORADA A CASA DO PRESIDENTE\n",
            "PEDINDO INTERVENÇÃO MILITAR COM…\n",
            "User: Fernando, filiado ao PT. Lula presidente1️⃣3️⃣🚩 | Tweet: RT @PedroRonchi2: Agradeço a todos os apoiadores do Bolsonaro que fazem comentários nas minhas postagens porque aumenta o engajamento e o n…\n",
            "User: elis Soares | Tweet: RT @Paulogeneroso: Mensagem de Natal da família de Eduardo Bolsonaro.  Preste atenção na letra , fala MUITO aos nossos corações https://t.c…\n",
            "User: Romulo Neto | Tweet: RT @J_LIVRES: \"Toda vez que você assistir um vídeo do demissionário chorando, lembre-se que a sua real faceta é essa aqui. Jamais deixaremo…\n",
            "User: Jorge Carvalho | Tweet: RT @lugubremonotomo: Bom dia Patriotas, como vocês, eu votei 22 com muito orgulho\n",
            "Alvorada virou casa aberta ao povo, será nossa diplomação…\n",
            "User: O PULSO, AINDA PULSA! | Tweet: RT @ana_zemuner: Minha conclusão,  Bolsonaro  só foi eleito  em 2018 pq o \"algoritmo\"  não previu  uma diferença tão grande entre os candid…\n",
            "User: Cledi Cabral Martins | Tweet: RT @Metropoles: Bolsonaro chora ao abraçar criança em frente ao Alvorada\n",
            "\n",
            "Assim como fez na última sexta (9/12),  #Bolsonaro foi ao encontr…\n",
            "User: Eliane linhares | Tweet: Alguma novidade ? Cadê o pessoal do mimimi .. aiiiiii o filho do Bolsonaro 🙄 https://t.co/GL2aBfrGIl\n",
            "User: Elizangela Bolsonaro | Tweet: RT @AlexanderBrasil: Nossa queridíssima Primeira-dama do Brasil Michele Bolsonaro, acabou de mandar servir lanches para o pessoal que está…\n",
            "User: Cláudio Fernando Zaia | Tweet: RT @VlogdoLisboa: Impossível não se Emocionar \n",
            "Bolsonaro recebeu o Povo hoje veja 11-12-22 https://t.co/lIw1zuRYEg\n",
            "User: Só observo | Tweet: RT @direitasiqueira: TRISTE DEMAIS QUE A FILHA DO BOLSONARO ESTÁ SOFRENDO BULLYING!!! LI POR AÍ QUE ELA JÁ FOI CHAMADA ATÉ DE FRAQUEJADA PO…\n",
            "User: Gustacop | Tweet: @senadorhumberto @LulaOficial Óbvio! Quer que torça pra fazer um péssimo governo? Diria que 100% torce pro Brasil i… https://t.co/kCGFFmxsFK\n",
            "User: Viviane 💚🇧🇷💛 | Tweet: RT @EdnaSa16: NÓS AMAMOS O PRESIDENTE BOLSONARO E QUEREMOS ELE GOVERNANDO O BRASIL!! 💚🇧🇷\n",
            "User: Helton Rodrigo | Tweet: RT @LOBA_DA_NEVE: Fato ou fake?\n",
            "O delegado que investigou a tentativa de homicídio contra o presidente Bolsonaro ganhará um cargo no govern…\n",
            "User: Rosicler Cantarelli | Tweet: RT @JornalBSM: Depois de uma oração do Pai Nosso junto a um pastor, o presidente saudou o povo e despediu-se\n",
            "https://t.co/At9Cutxasp\n",
            "User: Chris | Tweet: RT @Nynari2003: E vem o Gilmar pedir pacificação. Depois de 4 anos vcs massacrando o Presidente Bolsonaro, perseguindo seus apoiadores, agi…\n",
            "User: Cezar Almeida | Tweet: RT @TerraBrasilnot: Impressionante: governo Bolsonaro paga hoje Auxílio Brasil, vale-gás em dobro, auxílio táxi e auxílio caminhoneiro http…\n",
            "User: EU AUTORIZO | Tweet: @MariasbelaC @Paullo_Gustavo Temos que ser justos. Ele foi um dos poucos globais que se posicionou a favor do Bolso… https://t.co/nFLGg7cyvJ\n",
            "User: Norberto M. Liotti | Tweet: @NordestePatrio1 @taoquei1 Bolsonaro é o enviado de Deus para o Brasil e para o Mundo.\n",
            "User: Maria Aparecida | Tweet: RT @Regina_Goiana: E o nome disso é corrupção.\n",
            "\"Todos da elite mandatária são artífices e sócios do furto espetacular, mantido em sigilo et…\n",
            "User: tô cansado trampo o dia inteiro | Tweet: RT @likeazombie: agora q a família não precisa mais manter os personagens michelle largou a mão dos crentes e nunca mais pisou na igreja e…\n",
            "User: Luis Henrique Maia | Tweet: RT @veronikapistore: Não posso negar o poder de Bolsonaro. Ele criou o neonazista negro, a mulher machista, o cristão odioso e o pobre burg…\n",
            "User: Meirilan Ribeiro | Tweet: Que eu saiba o chefe das FFAA é Bolsonaro até 31 de Dezembro.Ou vc copiou a informação do Terra Brasil?Se liga Lisb… https://t.co/AmXOle27rX\n",
            "User: Thiago Aquino  | Tweet: @realpfigueiredo Foi lula que o nomeio? Ou foi bolsonaro ?\n",
            "User: Suzana 🇧🇷 | Tweet: Não existe condenação? Aff, a anulação jamais foi por NÃO Cometimento de crime. MENTIROSOS. Mas pode chamar o presi… https://t.co/D4BzNkDNni\n",
            "User: Renato Valente 🇧🇷 💚 💛💙 | Tweet: NÃO EXISTE INTERVENÇÃO MILITAR COM BOLSONARO NO PODER !!!\n",
            "\n",
            "Na prática significa:\n",
            "\n",
            "GOLPE DE ESTADO COM BOLSONARO DIT… https://t.co/ErqO6qmh2G\n",
            "User: Vieira Patriota | Tweet: RT @Carolmph: Impressionante: governo Bolsonaro paga hoje Auxílio Brasil, vale-gás em dobro, auxílio táxi e auxílio caminhoneiro  https://t…\n",
            "User: Luiza b | Tweet: RT @flaviocostaf: “Bolsonaro apagou da fila de espera 128 mil famílias q esperam pra receber R$ 600. A ideia era mostrar que o governo cons…\n",
            "User: mattew worwick | Tweet: RT @FernandaY1978: Pelo menos HOJE é de EXTREMA IMPORTÂNCIA que os apoiadores do Presidente Bolsonaro que estão em Brasília se dirijam para…\n",
            "User: pr.robertolopes | Tweet: @astro_pontes @reportersalles É direito do Sr. parabenizar quem quiser, mas q soa politicamente inadequado soa, num… https://t.co/xrdDxMU2zM\n",
            "User: Laercio Almeida | Tweet: RT @viniciuscfp82: Confere? Se for verdade, então o Bolsonaro quer o povo também no Palácio do Alvorada. https://t.co/fLFAreR14l\n",
            "User: Gus | Tweet: @HeyHipocrita Ué! O presidente é o Bolsonaro, não é?\n",
            "User: Apoio à @Laurinha_2050 | Tweet: RT @BootNirvana: BOLSONARO QUER O POVO NO ALVORADA, SO NAO PODE DIZER\n",
            "#SOSFORCASARMADAS \n",
            "#SOSForcasArmadasSalvemOBrasil \n",
            "#LulaLadraoNaoSobe…\n",
            "User: samuel_seixasoficial | Tweet: RT @Susy95910373: Ė o nordeste chegando em Brasília,\n",
            "Patriotas tão firmes na luta, comunismo não, Presidente Bolsonaro fica. https://t.co/P…\n",
            "User: Dra. Paula Tejano | Tweet: RT @delucca: Bolsonaristas comemorando que um ator foi assaltado e espancado (ainda durante o governo Bolsonaro, alias) mostra pra gente qu…\n",
            "User: Joana | Tweet: RT @LeiaRachor: Eu não disse que essa ESQUERDALHA queria PALANQUE.\n",
            "Imaginem isso como primeira dama... TUDO que a 1° Dama Michelle bolsonar…\n",
            "User: tia do zap Zoraide | Tweet: RT @c_bede: Fake News propagada pela esquerda, que mulheres,negros ,homossexuais não votam no Bolsonaro.  Mas como o L4drão diz:\"temos que…\n",
            "User: José de Souza Lopes | Tweet: RT @brasil247: País está no vermelho também Tribunal Penal Internacional e na Organização Mundial do Comércio; dívida total é de R$ 5,5 bil…\n",
            "User: Carolina Nobrega | Tweet: RT @nhtfranco: 🇧🇷 Hoje é dia de todos os patriotas se unirem com nosso Presidente Bolsonaro, no Alvorada. Mantenham a base civil no QG e se…\n",
            "User: Justin Smith | Tweet: RT @Resist_05: Jair Bolsonaro has confirmed that he is the Supreme Chief of the Armed Forces, and they will back the Brazilian citizens… ht…\n",
            "User: mari | Tweet: RT @acababozo: 22  DIAS PARA O FIM DO GOVERNO BOLSONARO\n",
            "User: Marcos Jocelio Ferreira da Silva | Tweet: RT @Resist_05: Jair Bolsonaro has confirmed that he is the Supreme Chief of the Armed Forces, and they will back the Brazilian citizens… ht…\n",
            "User: 🇵🇹🇧🇷Antonio Tavares 🥊 🇧🇷🇵🇹 | Tweet: RT @denise47613384: Michelle Bolsonaro 👏👏👏👏👏👏👏👏👏👏👏👏👏👏 https://t.co/TkRMUTMfKI\n",
            "User: Donibits | Tweet: RT @RTdaFlaTT: SEGURANÇA DO ALVORADA! 🚨\n",
            "\n",
            "\" - A PRIMEIRA DAMA MANDOU UM LANCHINHO PRA VOCÊS!\"\n",
            "\n",
            "MICHELE BOLSONARO MANDOU SERVIR LANCHE PRA QU…\n",
            "User: Alexandre (passarinho) Fernandes | Tweet: @olhoconservador @N_Carvalheira Ele votou em Bolsonaro.\n",
            "User: Lázaro Anjos | Tweet: @senadorhumberto O Bolsonaro está sendo acusado por não haver colocado toda a quadrilha petista na cadeia? 🤔 https://t.co/QcZZqk4rSB\n",
            "User: Igor 🇳🇱🌏 استيقظ العملاق. باهيا هو العالم! | Tweet: RT @senadorhumberto: Criminosos acima de tudo, Bolsonaro acima de todos. https://t.co/tAADFSJe2Q\n",
            "User: Lu 🇧🇷 | Tweet: RT @Belzebu____666: Nao existe apoio de empresários a Bolsonaro, existem empresários  cúmplices de algum crime ou favorecido do ex presiden…\n",
            "User: João Emerson Domingues | Tweet: RT @Resist_05: Jair Bolsonaro has confirmed that he is the Supreme Chief of the Armed Forces, and they will back the Brazilian citizens… ht…\n",
            "User: vivi™ 🖤 | Tweet: RT @bolsoregrets: Não sei quantas vezes mais eu vou falar que Bolsonaro pegou os conselhos do amigo Bannon e vai fazer IGUAL ao Trump fez n…\n",
            "User: lua | Tweet: RT @77_frota: Bom dia 🇧🇷 acordar em Brasilia dia 12 de Dezembro com a Diplomação do Lula às 14 h e sabendo que o Bolsonaro já não apita e n…\n",
            "User: Henrique. | Tweet: RT @c_bede: Fake News propagada pela esquerda, que mulheres,negros ,homossexuais não votam no Bolsonaro.  Mas como o L4drão diz:\"temos que…\n",
            "User: EU AUTORIZO | Tweet: @PH08072018 @Paullo_Gustavo @CorreiaAriele Temos que ser justos. Ele foi um dos poucos globais que se posicionou a… https://t.co/UB1iHuIBqi\n",
            "User: Alfredo Pereira | Tweet: RT @ElTrumpista: Michelle Bolsonaro, primera dama de Brasil estuvo entregando sandwichs esta noche a los manifestantes que se encuentran pr…\n",
            "User: Elizangela Bolsonaro | Tweet: RT @carlat_aruiva: Vamos encher o Palácio da Alvorada! Bolsonaro já deu o recado.\n",
            "TODOS PARA O ALVORADA! TODOS PARA O ALVORADA! TODOS PARA…\n",
            "User: Fabyane | Tweet: RT @__Domani_: 🇧🇷 Pela primeira vez o Palácio da Alvorada ficará com seu acesso liberado ao público essa noite. Há rumores que o Pr. Bolson…\n",
            "User: @logadoBR | Tweet: RT @rafaelgloves: Mas Bolsonaro é mal-educado https://t.co/oPqZzOo5US\n",
            "User: Bolsonariana de Jesua | Tweet: RT @Ercio_Santos: Os portões do Palácio da Alvorada estão abertos. \n",
            "\n",
            "O Presidente Bolsonaro fará um pronunciamento às 11:00 h hoje e está d…\n",
            "User: | ✧.°୭̥ Natt 🇧🇷, Brasil Sil Sil Sil. . .🏆 | Tweet: RT @rodolfo84cmpsr: Presidente Bolsonaro\n",
            "\n",
            "encarecidamente, vá\n",
            "\n",
            "obrigado! https://t.co/DJgJhf9XVU\n",
            "User: kelly Ferreira | Tweet: @vozdopovobrazil Eu vejo as pessoas falando muita besteira. Gente, Bolsonaro não pode fugir das 4 linhas senão ele… https://t.co/RNxzcORccG\n",
            "User: Jameson Torres | Tweet: RT @SergioAJBarrett: Mas a Carla Zambelli está então abandonando o barco dos baderneiros golpistas? \n",
            "Será medo da multa ou de ser presa?…\n",
            "User: Elmer | Tweet: RT @CentralEleicoes: 🤝Arthur Lira se dispõe a passar a faixa presidencial para Lula.\n",
            "\n",
            "Segundo parlamentares do PT, Lira tem dito, em conver…\n",
            "User: AlessandroW7 | Tweet: RT @fabiofaria: Nada como a verdade dos fatos antes de criarem falsas narrativas.\n",
            "O Brasil foi um dos Países que saiu mais forte da pandemi…\n",
            "User: shirley meneghetti | Tweet: RT @ElisePistola: Bom dia, amigos! \n",
            "Os portões do Palácio da Alvorada estão abertos. \n",
            "O Presidente Bolsonaro fará um pronunciamento às 11:0…\n",
            "User: veronica felten | Tweet: RT @ElisePistola: Presidente Bolsonaro NÃO ESTÁ SOZINHO ‼️ \n",
            "👉Vamos fazer teste de alcance com todos Retwittando e curtindo❓\n",
            "👉Que der a 🇧🇷,e…\n",
            "User: 🚩🚩🚩Beth Miranda🚩🚩🚩 | Tweet: RT @GeorgMarques: A fila do Auxílio Brasil, que estava artificialmente zerada, voltou a ter agora em novembro 128 mil famílias com cadastro…\n",
            "User: Álvaro | Tweet: @HeyHipocrita Ele votou no Bolsonaro cara, ele mesmo falou no cara a tapa\n",
            "User: Elisângela Almeida | Tweet: RT @77_frota: Bom dia 🇧🇷 acordar em Brasilia dia 12 de Dezembro com a Diplomação do Lula às 14 h e sabendo que o Bolsonaro já não apita e n…\n",
            "User: Destruindo Narrativas 🕑🇧🇷🇧🇷 | Tweet: RT @BeccohC: Moro no Japão e votei 22 em Oizumi.Fui renovar meu passaporte e acabei de descobrir que zeraram meu voto.Segundo o TSE eu me a…\n",
            "User: Iracema Horta 🇧🇷2️⃣2️⃣ | Tweet: RT @crisvalveslds: @IracemaHorta @BarrosVelloso @AlexanderBrasil Há alguns anos eu tinha desistido do Brasil e ido morar fora, mas Bolsonar…\n",
            "User: ElisetePenaOliveira | Tweet: RT @brasil247: Filha de Bolsonaro é retirada de colégio militar após sofrer bullying https://t.co/roFiQjR64q\n",
            "User: Miguel | Tweet: RT @fabio_talhari: Bom dia, amigos! Esta é especialmente dirigida aos amigos que estão em Brasília: os portões do Palácio da Alvorada estão…\n",
            "User: ContraCensura | Tweet: @dan_nc Bolsonaro não foi um desastre. O erro do bolsonaro foi não ter se vendido para a grande mídia e para o sist… https://t.co/Dcw1AsEOp5\n",
            "User: Apoio à @Laurinha_2050 | Tweet: RT @GerinR91: Divulguem! Quanto mais irmãos conseguirem está lá para participar melhor!!\n",
            "ALVORADA É O PONTO!\n",
            "PRESIDENTE BOLSONARO\n",
            "O LADRÃO…\n",
            "User: Simeao Rodrigues | Tweet: RT @JornalBSM: Matéria do UOL apontou que funcionários concursados da pasta teriam feito de tudo para prejudicar Bolsonaro. Em setembro, o…\n",
            "User: Empreender Já | Tweet: @astro_pontes @reportersalles Senador me desculpe agora com o fervor das ruas isso não é apropriado o Sr. Ganhou um… https://t.co/84xVC7aJnR\n"
          ]
        }
      ]
    },
    {
      "cell_type": "code",
      "source": [
        "len(tweets)"
      ],
      "metadata": {
        "colab": {
          "base_uri": "https://localhost:8080/"
        },
        "id": "B-kppurCAI3x",
        "outputId": "1d99062c-5836-47e1-9548-37fe914b9560"
      },
      "execution_count": 29,
      "outputs": [
        {
          "output_type": "execute_result",
          "data": {
            "text/plain": [
              "100"
            ]
          },
          "metadata": {},
          "execution_count": 29
        }
      ]
    },
    {
      "cell_type": "markdown",
      "source": [],
      "metadata": {
        "id": "Wow--6mbQFtc"
      }
    },
    {
      "cell_type": "code",
      "source": [
        "type(tweets)"
      ],
      "metadata": {
        "colab": {
          "base_uri": "https://localhost:8080/"
        },
        "id": "ilfVBLKIEWzR",
        "outputId": "08e1065f-d513-446f-e7ff-698cf23548c8"
      },
      "execution_count": 30,
      "outputs": [
        {
          "output_type": "execute_result",
          "data": {
            "text/plain": [
              "list"
            ]
          },
          "metadata": {},
          "execution_count": 30
        }
      ]
    },
    {
      "cell_type": "code",
      "source": [
        "Linkedin\n",
        "#https://www.linkedin.com/jobs/search/?currentJobId=3386817461&f_TPR=r604800&f_WT=2%2C3&geoId=106057199&location=Brasil&originalSubdomain=sg%2F.json&refresh=true"
      ],
      "metadata": {
        "colab": {
          "base_uri": "https://localhost:8080/",
          "height": 218
        },
        "id": "CA-D928dEaFA",
        "outputId": "42a45700-58be-4fe0-aa66-571e2591fd95"
      },
      "execution_count": 283,
      "outputs": [
        {
          "output_type": "error",
          "ename": "NameError",
          "evalue": "ignored",
          "traceback": [
            "\u001b[0;31m---------------------------------------------------------------------------\u001b[0m",
            "\u001b[0;31mNameError\u001b[0m                                 Traceback (most recent call last)",
            "\u001b[0;32m<ipython-input-283-26b846b47573>\u001b[0m in \u001b[0;36m<module>\u001b[0;34m\u001b[0m\n\u001b[0;32m----> 1\u001b[0;31m \u001b[0mLinkedin\u001b[0m\u001b[0;34m\u001b[0m\u001b[0;34m\u001b[0m\u001b[0m\n\u001b[0m\u001b[1;32m      2\u001b[0m \u001b[0;31m#https://www.linkedin.com/jobs/search/?currentJobId=3386817461&f_TPR=r604800&f_WT=2%2C3&geoId=106057199&location=Brasil&originalSubdomain=sg%2F.json&refresh=true\u001b[0m\u001b[0;34m\u001b[0m\u001b[0;34m\u001b[0m\u001b[0;34m\u001b[0m\u001b[0m\n",
            "\u001b[0;31mNameError\u001b[0m: name 'Linkedin' is not defined"
          ]
        }
      ]
    },
    {
      "cell_type": "code",
      "source": [
        "import requests\n",
        "\n",
        "api_endpoint = 'https://nubela.co/proxycurl/api/v2/linkedin/company/job'\n",
        "api_key = 'qY_RBQrSbNMUqkUayqZEAQ'\n",
        "header_dic = {'Authorization': 'Bearer ' + api_key}\n",
        "params = {\n",
        "    'when': 'last-week',\n",
        "   # 'flexibility': 'remote',\n",
        "    'geo_id': '106057199',\n",
        "    'keyword': 'dados',\n",
        "#    'search_id': '1035',\n",
        "}\n",
        "response = requests.get(api_endpoint,\n",
        "                        params=params,\n",
        "                        headers=header_dic)\n",
        "response"
      ],
      "metadata": {
        "colab": {
          "base_uri": "https://localhost:8080/"
        },
        "id": "KFBZPSGCQCEB",
        "outputId": "0cfe6eb2-34dd-4b23-879e-ec5a83bf5e2e"
      },
      "execution_count": 1,
      "outputs": [
        {
          "output_type": "execute_result",
          "data": {
            "text/plain": [
              "<Response [200]>"
            ]
          },
          "metadata": {},
          "execution_count": 1
        }
      ]
    },
    {
      "cell_type": "code",
      "source": [
        "response.reason"
      ],
      "metadata": {
        "colab": {
          "base_uri": "https://localhost:8080/",
          "height": 37
        },
        "id": "Qll1ZswfSUap",
        "outputId": "e4653343-d95a-4ca5-e092-c5bea1e72b8c"
      },
      "execution_count": 2,
      "outputs": [
        {
          "output_type": "execute_result",
          "data": {
            "text/plain": [
              "'OK'"
            ],
            "application/vnd.google.colaboratory.intrinsic+json": {
              "type": "string"
            }
          },
          "metadata": {},
          "execution_count": 2
        }
      ]
    },
    {
      "cell_type": "code",
      "source": [
        "import pandas as pd\n",
        "pd.read_json(response.content).to_csv('dados_vagas_brazil.csv_1_week')"
      ],
      "metadata": {
        "id": "2Lu3bFxhSVcN"
      },
      "execution_count": 4,
      "outputs": []
    },
    {
      "cell_type": "code",
      "source": [
        "dados = pd.read_csv('/content/dados_vagas_brazil.csv_1_week')"
      ],
      "metadata": {
        "id": "UFL5EL7PTfc3"
      },
      "execution_count": 5,
      "outputs": []
    },
    {
      "cell_type": "code",
      "source": [
        "dados[\"job\"]"
      ],
      "metadata": {
        "colab": {
          "base_uri": "https://localhost:8080/"
        },
        "id": "Hz3KAF--Tjgd",
        "outputId": "8c12c1e7-494f-4d0d-d768-288c82ebab45"
      },
      "execution_count": 6,
      "outputs": [
        {
          "output_type": "execute_result",
          "data": {
            "text/plain": [
              "0     {'company': 'IVENTIS', 'company_url': 'https:/...\n",
              "1     {'company': 'Sharecare Brasil', 'company_url':...\n",
              "2     {'company': 'Refera', 'company_url': 'https://...\n",
              "3     {'company': 'AxisMobile', 'company_url': 'http...\n",
              "4     {'company': 'CCPR', 'company_url': 'https://ww...\n",
              "5     {'company': 'Amplifica Digital', 'company_url'...\n",
              "6     {'company': 'Econet Editora Empresarial', 'com...\n",
              "7     {'company': 'Credz - A Fintech do Varejo', 'co...\n",
              "8     {'company': 'Armac', 'company_url': 'https://w...\n",
              "9     {'company': 'Alpes', 'company_url': 'https://w...\n",
              "10    {'company': 'Senai Goiás', 'company_url': 'htt...\n",
              "11    {'company': 'MRO Logistics', 'company_url': 'h...\n",
              "12    {'company': 'Resource IT Solutions', 'company_...\n",
              "13    {'company': 'Visagio', 'company_url': 'https:/...\n",
              "14    {'company': 'Grupo Profarma', 'company_url': '...\n",
              "15    {'company': 'Clinicarx', 'company_url': 'https...\n",
              "16    {'company': 'Sicredi', 'company_url': 'https:/...\n",
              "17    {'company': 'Sicoob Credicitrus', 'company_url...\n",
              "18    {'company': 'i-Cherry', 'company_url': 'https:...\n",
              "19    {'company': 'Coodesh', 'company_url': 'https:/...\n",
              "20    {'company': 'Referência Seguros', 'company_url...\n",
              "21    {'company': 'Contabilizei', 'company_url': 'ht...\n",
              "22    {'company': 'SAMSUNG SDS', 'company_url': 'htt...\n",
              "23    {'company': 'Kaizen - A Casa da Autopeça', 'co...\n",
              "24    {'company': 'AlmapBBDO', 'company_url': 'https...\n",
              "Name: job, dtype: object"
            ]
          },
          "metadata": {},
          "execution_count": 6
        }
      ]
    },
    {
      "cell_type": "code",
      "source": [
        "dados.shape"
      ],
      "metadata": {
        "colab": {
          "base_uri": "https://localhost:8080/"
        },
        "id": "SuyYlThzWJI4",
        "outputId": "da63372f-529c-4823-b14d-7339181f31c2"
      },
      "execution_count": 7,
      "outputs": [
        {
          "output_type": "execute_result",
          "data": {
            "text/plain": [
              "(25, 6)"
            ]
          },
          "metadata": {},
          "execution_count": 7
        }
      ]
    },
    {
      "cell_type": "code",
      "source": [
        "dados"
      ],
      "metadata": {
        "colab": {
          "base_uri": "https://localhost:8080/",
          "height": 2714
        },
        "id": "IpzY4jaPWPcW",
        "outputId": "44307c56-0a57-4629-d89e-7d2d39be6f9a"
      },
      "execution_count": 8,
      "outputs": [
        {
          "output_type": "execute_result",
          "data": {
            "text/plain": [
              "    Unnamed: 0                                                job  \\\n",
              "0            0  {'company': 'IVENTIS', 'company_url': 'https:/...   \n",
              "1            1  {'company': 'Sharecare Brasil', 'company_url':...   \n",
              "2            2  {'company': 'Refera', 'company_url': 'https://...   \n",
              "3            3  {'company': 'AxisMobile', 'company_url': 'http...   \n",
              "4            4  {'company': 'CCPR', 'company_url': 'https://ww...   \n",
              "5            5  {'company': 'Amplifica Digital', 'company_url'...   \n",
              "6            6  {'company': 'Econet Editora Empresarial', 'com...   \n",
              "7            7  {'company': 'Credz - A Fintech do Varejo', 'co...   \n",
              "8            8  {'company': 'Armac', 'company_url': 'https://w...   \n",
              "9            9  {'company': 'Alpes', 'company_url': 'https://w...   \n",
              "10          10  {'company': 'Senai Goiás', 'company_url': 'htt...   \n",
              "11          11  {'company': 'MRO Logistics', 'company_url': 'h...   \n",
              "12          12  {'company': 'Resource IT Solutions', 'company_...   \n",
              "13          13  {'company': 'Visagio', 'company_url': 'https:/...   \n",
              "14          14  {'company': 'Grupo Profarma', 'company_url': '...   \n",
              "15          15  {'company': 'Clinicarx', 'company_url': 'https...   \n",
              "16          16  {'company': 'Sicredi', 'company_url': 'https:/...   \n",
              "17          17  {'company': 'Sicoob Credicitrus', 'company_url...   \n",
              "18          18  {'company': 'i-Cherry', 'company_url': 'https:...   \n",
              "19          19  {'company': 'Coodesh', 'company_url': 'https:/...   \n",
              "20          20  {'company': 'Referência Seguros', 'company_url...   \n",
              "21          21  {'company': 'Contabilizei', 'company_url': 'ht...   \n",
              "22          22  {'company': 'SAMSUNG SDS', 'company_url': 'htt...   \n",
              "23          23  {'company': 'Kaizen - A Casa da Autopeça', 'co...   \n",
              "24          24  {'company': 'AlmapBBDO', 'company_url': 'https...   \n",
              "\n",
              "    next_page_no                                  next_page_api_url  \\\n",
              "0              1  https://nubela.co/proxycurl/api/v2/linkedin/co...   \n",
              "1              1  https://nubela.co/proxycurl/api/v2/linkedin/co...   \n",
              "2              1  https://nubela.co/proxycurl/api/v2/linkedin/co...   \n",
              "3              1  https://nubela.co/proxycurl/api/v2/linkedin/co...   \n",
              "4              1  https://nubela.co/proxycurl/api/v2/linkedin/co...   \n",
              "5              1  https://nubela.co/proxycurl/api/v2/linkedin/co...   \n",
              "6              1  https://nubela.co/proxycurl/api/v2/linkedin/co...   \n",
              "7              1  https://nubela.co/proxycurl/api/v2/linkedin/co...   \n",
              "8              1  https://nubela.co/proxycurl/api/v2/linkedin/co...   \n",
              "9              1  https://nubela.co/proxycurl/api/v2/linkedin/co...   \n",
              "10             1  https://nubela.co/proxycurl/api/v2/linkedin/co...   \n",
              "11             1  https://nubela.co/proxycurl/api/v2/linkedin/co...   \n",
              "12             1  https://nubela.co/proxycurl/api/v2/linkedin/co...   \n",
              "13             1  https://nubela.co/proxycurl/api/v2/linkedin/co...   \n",
              "14             1  https://nubela.co/proxycurl/api/v2/linkedin/co...   \n",
              "15             1  https://nubela.co/proxycurl/api/v2/linkedin/co...   \n",
              "16             1  https://nubela.co/proxycurl/api/v2/linkedin/co...   \n",
              "17             1  https://nubela.co/proxycurl/api/v2/linkedin/co...   \n",
              "18             1  https://nubela.co/proxycurl/api/v2/linkedin/co...   \n",
              "19             1  https://nubela.co/proxycurl/api/v2/linkedin/co...   \n",
              "20             1  https://nubela.co/proxycurl/api/v2/linkedin/co...   \n",
              "21             1  https://nubela.co/proxycurl/api/v2/linkedin/co...   \n",
              "22             1  https://nubela.co/proxycurl/api/v2/linkedin/co...   \n",
              "23             1  https://nubela.co/proxycurl/api/v2/linkedin/co...   \n",
              "24             1  https://nubela.co/proxycurl/api/v2/linkedin/co...   \n",
              "\n",
              "    previous_page_no  previous_page_api_url  \n",
              "0                NaN                    NaN  \n",
              "1                NaN                    NaN  \n",
              "2                NaN                    NaN  \n",
              "3                NaN                    NaN  \n",
              "4                NaN                    NaN  \n",
              "5                NaN                    NaN  \n",
              "6                NaN                    NaN  \n",
              "7                NaN                    NaN  \n",
              "8                NaN                    NaN  \n",
              "9                NaN                    NaN  \n",
              "10               NaN                    NaN  \n",
              "11               NaN                    NaN  \n",
              "12               NaN                    NaN  \n",
              "13               NaN                    NaN  \n",
              "14               NaN                    NaN  \n",
              "15               NaN                    NaN  \n",
              "16               NaN                    NaN  \n",
              "17               NaN                    NaN  \n",
              "18               NaN                    NaN  \n",
              "19               NaN                    NaN  \n",
              "20               NaN                    NaN  \n",
              "21               NaN                    NaN  \n",
              "22               NaN                    NaN  \n",
              "23               NaN                    NaN  \n",
              "24               NaN                    NaN  "
            ],
            "text/html": [
              "\n",
              "  <div id=\"df-895228c2-3db9-4729-ac3f-12bb19e935c2\">\n",
              "    <div class=\"colab-df-container\">\n",
              "      <div>\n",
              "<style scoped>\n",
              "    .dataframe tbody tr th:only-of-type {\n",
              "        vertical-align: middle;\n",
              "    }\n",
              "\n",
              "    .dataframe tbody tr th {\n",
              "        vertical-align: top;\n",
              "    }\n",
              "\n",
              "    .dataframe thead th {\n",
              "        text-align: right;\n",
              "    }\n",
              "</style>\n",
              "<table border=\"1\" class=\"dataframe\">\n",
              "  <thead>\n",
              "    <tr style=\"text-align: right;\">\n",
              "      <th></th>\n",
              "      <th>Unnamed: 0</th>\n",
              "      <th>job</th>\n",
              "      <th>next_page_no</th>\n",
              "      <th>next_page_api_url</th>\n",
              "      <th>previous_page_no</th>\n",
              "      <th>previous_page_api_url</th>\n",
              "    </tr>\n",
              "  </thead>\n",
              "  <tbody>\n",
              "    <tr>\n",
              "      <th>0</th>\n",
              "      <td>0</td>\n",
              "      <td>{'company': 'IVENTIS', 'company_url': 'https:/...</td>\n",
              "      <td>1</td>\n",
              "      <td>https://nubela.co/proxycurl/api/v2/linkedin/co...</td>\n",
              "      <td>NaN</td>\n",
              "      <td>NaN</td>\n",
              "    </tr>\n",
              "    <tr>\n",
              "      <th>1</th>\n",
              "      <td>1</td>\n",
              "      <td>{'company': 'Sharecare Brasil', 'company_url':...</td>\n",
              "      <td>1</td>\n",
              "      <td>https://nubela.co/proxycurl/api/v2/linkedin/co...</td>\n",
              "      <td>NaN</td>\n",
              "      <td>NaN</td>\n",
              "    </tr>\n",
              "    <tr>\n",
              "      <th>2</th>\n",
              "      <td>2</td>\n",
              "      <td>{'company': 'Refera', 'company_url': 'https://...</td>\n",
              "      <td>1</td>\n",
              "      <td>https://nubela.co/proxycurl/api/v2/linkedin/co...</td>\n",
              "      <td>NaN</td>\n",
              "      <td>NaN</td>\n",
              "    </tr>\n",
              "    <tr>\n",
              "      <th>3</th>\n",
              "      <td>3</td>\n",
              "      <td>{'company': 'AxisMobile', 'company_url': 'http...</td>\n",
              "      <td>1</td>\n",
              "      <td>https://nubela.co/proxycurl/api/v2/linkedin/co...</td>\n",
              "      <td>NaN</td>\n",
              "      <td>NaN</td>\n",
              "    </tr>\n",
              "    <tr>\n",
              "      <th>4</th>\n",
              "      <td>4</td>\n",
              "      <td>{'company': 'CCPR', 'company_url': 'https://ww...</td>\n",
              "      <td>1</td>\n",
              "      <td>https://nubela.co/proxycurl/api/v2/linkedin/co...</td>\n",
              "      <td>NaN</td>\n",
              "      <td>NaN</td>\n",
              "    </tr>\n",
              "    <tr>\n",
              "      <th>5</th>\n",
              "      <td>5</td>\n",
              "      <td>{'company': 'Amplifica Digital', 'company_url'...</td>\n",
              "      <td>1</td>\n",
              "      <td>https://nubela.co/proxycurl/api/v2/linkedin/co...</td>\n",
              "      <td>NaN</td>\n",
              "      <td>NaN</td>\n",
              "    </tr>\n",
              "    <tr>\n",
              "      <th>6</th>\n",
              "      <td>6</td>\n",
              "      <td>{'company': 'Econet Editora Empresarial', 'com...</td>\n",
              "      <td>1</td>\n",
              "      <td>https://nubela.co/proxycurl/api/v2/linkedin/co...</td>\n",
              "      <td>NaN</td>\n",
              "      <td>NaN</td>\n",
              "    </tr>\n",
              "    <tr>\n",
              "      <th>7</th>\n",
              "      <td>7</td>\n",
              "      <td>{'company': 'Credz - A Fintech do Varejo', 'co...</td>\n",
              "      <td>1</td>\n",
              "      <td>https://nubela.co/proxycurl/api/v2/linkedin/co...</td>\n",
              "      <td>NaN</td>\n",
              "      <td>NaN</td>\n",
              "    </tr>\n",
              "    <tr>\n",
              "      <th>8</th>\n",
              "      <td>8</td>\n",
              "      <td>{'company': 'Armac', 'company_url': 'https://w...</td>\n",
              "      <td>1</td>\n",
              "      <td>https://nubela.co/proxycurl/api/v2/linkedin/co...</td>\n",
              "      <td>NaN</td>\n",
              "      <td>NaN</td>\n",
              "    </tr>\n",
              "    <tr>\n",
              "      <th>9</th>\n",
              "      <td>9</td>\n",
              "      <td>{'company': 'Alpes', 'company_url': 'https://w...</td>\n",
              "      <td>1</td>\n",
              "      <td>https://nubela.co/proxycurl/api/v2/linkedin/co...</td>\n",
              "      <td>NaN</td>\n",
              "      <td>NaN</td>\n",
              "    </tr>\n",
              "    <tr>\n",
              "      <th>10</th>\n",
              "      <td>10</td>\n",
              "      <td>{'company': 'Senai Goiás', 'company_url': 'htt...</td>\n",
              "      <td>1</td>\n",
              "      <td>https://nubela.co/proxycurl/api/v2/linkedin/co...</td>\n",
              "      <td>NaN</td>\n",
              "      <td>NaN</td>\n",
              "    </tr>\n",
              "    <tr>\n",
              "      <th>11</th>\n",
              "      <td>11</td>\n",
              "      <td>{'company': 'MRO Logistics', 'company_url': 'h...</td>\n",
              "      <td>1</td>\n",
              "      <td>https://nubela.co/proxycurl/api/v2/linkedin/co...</td>\n",
              "      <td>NaN</td>\n",
              "      <td>NaN</td>\n",
              "    </tr>\n",
              "    <tr>\n",
              "      <th>12</th>\n",
              "      <td>12</td>\n",
              "      <td>{'company': 'Resource IT Solutions', 'company_...</td>\n",
              "      <td>1</td>\n",
              "      <td>https://nubela.co/proxycurl/api/v2/linkedin/co...</td>\n",
              "      <td>NaN</td>\n",
              "      <td>NaN</td>\n",
              "    </tr>\n",
              "    <tr>\n",
              "      <th>13</th>\n",
              "      <td>13</td>\n",
              "      <td>{'company': 'Visagio', 'company_url': 'https:/...</td>\n",
              "      <td>1</td>\n",
              "      <td>https://nubela.co/proxycurl/api/v2/linkedin/co...</td>\n",
              "      <td>NaN</td>\n",
              "      <td>NaN</td>\n",
              "    </tr>\n",
              "    <tr>\n",
              "      <th>14</th>\n",
              "      <td>14</td>\n",
              "      <td>{'company': 'Grupo Profarma', 'company_url': '...</td>\n",
              "      <td>1</td>\n",
              "      <td>https://nubela.co/proxycurl/api/v2/linkedin/co...</td>\n",
              "      <td>NaN</td>\n",
              "      <td>NaN</td>\n",
              "    </tr>\n",
              "    <tr>\n",
              "      <th>15</th>\n",
              "      <td>15</td>\n",
              "      <td>{'company': 'Clinicarx', 'company_url': 'https...</td>\n",
              "      <td>1</td>\n",
              "      <td>https://nubela.co/proxycurl/api/v2/linkedin/co...</td>\n",
              "      <td>NaN</td>\n",
              "      <td>NaN</td>\n",
              "    </tr>\n",
              "    <tr>\n",
              "      <th>16</th>\n",
              "      <td>16</td>\n",
              "      <td>{'company': 'Sicredi', 'company_url': 'https:/...</td>\n",
              "      <td>1</td>\n",
              "      <td>https://nubela.co/proxycurl/api/v2/linkedin/co...</td>\n",
              "      <td>NaN</td>\n",
              "      <td>NaN</td>\n",
              "    </tr>\n",
              "    <tr>\n",
              "      <th>17</th>\n",
              "      <td>17</td>\n",
              "      <td>{'company': 'Sicoob Credicitrus', 'company_url...</td>\n",
              "      <td>1</td>\n",
              "      <td>https://nubela.co/proxycurl/api/v2/linkedin/co...</td>\n",
              "      <td>NaN</td>\n",
              "      <td>NaN</td>\n",
              "    </tr>\n",
              "    <tr>\n",
              "      <th>18</th>\n",
              "      <td>18</td>\n",
              "      <td>{'company': 'i-Cherry', 'company_url': 'https:...</td>\n",
              "      <td>1</td>\n",
              "      <td>https://nubela.co/proxycurl/api/v2/linkedin/co...</td>\n",
              "      <td>NaN</td>\n",
              "      <td>NaN</td>\n",
              "    </tr>\n",
              "    <tr>\n",
              "      <th>19</th>\n",
              "      <td>19</td>\n",
              "      <td>{'company': 'Coodesh', 'company_url': 'https:/...</td>\n",
              "      <td>1</td>\n",
              "      <td>https://nubela.co/proxycurl/api/v2/linkedin/co...</td>\n",
              "      <td>NaN</td>\n",
              "      <td>NaN</td>\n",
              "    </tr>\n",
              "    <tr>\n",
              "      <th>20</th>\n",
              "      <td>20</td>\n",
              "      <td>{'company': 'Referência Seguros', 'company_url...</td>\n",
              "      <td>1</td>\n",
              "      <td>https://nubela.co/proxycurl/api/v2/linkedin/co...</td>\n",
              "      <td>NaN</td>\n",
              "      <td>NaN</td>\n",
              "    </tr>\n",
              "    <tr>\n",
              "      <th>21</th>\n",
              "      <td>21</td>\n",
              "      <td>{'company': 'Contabilizei', 'company_url': 'ht...</td>\n",
              "      <td>1</td>\n",
              "      <td>https://nubela.co/proxycurl/api/v2/linkedin/co...</td>\n",
              "      <td>NaN</td>\n",
              "      <td>NaN</td>\n",
              "    </tr>\n",
              "    <tr>\n",
              "      <th>22</th>\n",
              "      <td>22</td>\n",
              "      <td>{'company': 'SAMSUNG SDS', 'company_url': 'htt...</td>\n",
              "      <td>1</td>\n",
              "      <td>https://nubela.co/proxycurl/api/v2/linkedin/co...</td>\n",
              "      <td>NaN</td>\n",
              "      <td>NaN</td>\n",
              "    </tr>\n",
              "    <tr>\n",
              "      <th>23</th>\n",
              "      <td>23</td>\n",
              "      <td>{'company': 'Kaizen - A Casa da Autopeça', 'co...</td>\n",
              "      <td>1</td>\n",
              "      <td>https://nubela.co/proxycurl/api/v2/linkedin/co...</td>\n",
              "      <td>NaN</td>\n",
              "      <td>NaN</td>\n",
              "    </tr>\n",
              "    <tr>\n",
              "      <th>24</th>\n",
              "      <td>24</td>\n",
              "      <td>{'company': 'AlmapBBDO', 'company_url': 'https...</td>\n",
              "      <td>1</td>\n",
              "      <td>https://nubela.co/proxycurl/api/v2/linkedin/co...</td>\n",
              "      <td>NaN</td>\n",
              "      <td>NaN</td>\n",
              "    </tr>\n",
              "  </tbody>\n",
              "</table>\n",
              "</div>\n",
              "      <button class=\"colab-df-convert\" onclick=\"convertToInteractive('df-895228c2-3db9-4729-ac3f-12bb19e935c2')\"\n",
              "              title=\"Convert this dataframe to an interactive table.\"\n",
              "              style=\"display:none;\">\n",
              "        \n",
              "  <svg xmlns=\"http://www.w3.org/2000/svg\" height=\"24px\"viewBox=\"0 0 24 24\"\n",
              "       width=\"24px\">\n",
              "    <path d=\"M0 0h24v24H0V0z\" fill=\"none\"/>\n",
              "    <path d=\"M18.56 5.44l.94 2.06.94-2.06 2.06-.94-2.06-.94-.94-2.06-.94 2.06-2.06.94zm-11 1L8.5 8.5l.94-2.06 2.06-.94-2.06-.94L8.5 2.5l-.94 2.06-2.06.94zm10 10l.94 2.06.94-2.06 2.06-.94-2.06-.94-.94-2.06-.94 2.06-2.06.94z\"/><path d=\"M17.41 7.96l-1.37-1.37c-.4-.4-.92-.59-1.43-.59-.52 0-1.04.2-1.43.59L10.3 9.45l-7.72 7.72c-.78.78-.78 2.05 0 2.83L4 21.41c.39.39.9.59 1.41.59.51 0 1.02-.2 1.41-.59l7.78-7.78 2.81-2.81c.8-.78.8-2.07 0-2.86zM5.41 20L4 18.59l7.72-7.72 1.47 1.35L5.41 20z\"/>\n",
              "  </svg>\n",
              "      </button>\n",
              "      \n",
              "  <style>\n",
              "    .colab-df-container {\n",
              "      display:flex;\n",
              "      flex-wrap:wrap;\n",
              "      gap: 12px;\n",
              "    }\n",
              "\n",
              "    .colab-df-convert {\n",
              "      background-color: #E8F0FE;\n",
              "      border: none;\n",
              "      border-radius: 50%;\n",
              "      cursor: pointer;\n",
              "      display: none;\n",
              "      fill: #1967D2;\n",
              "      height: 32px;\n",
              "      padding: 0 0 0 0;\n",
              "      width: 32px;\n",
              "    }\n",
              "\n",
              "    .colab-df-convert:hover {\n",
              "      background-color: #E2EBFA;\n",
              "      box-shadow: 0px 1px 2px rgba(60, 64, 67, 0.3), 0px 1px 3px 1px rgba(60, 64, 67, 0.15);\n",
              "      fill: #174EA6;\n",
              "    }\n",
              "\n",
              "    [theme=dark] .colab-df-convert {\n",
              "      background-color: #3B4455;\n",
              "      fill: #D2E3FC;\n",
              "    }\n",
              "\n",
              "    [theme=dark] .colab-df-convert:hover {\n",
              "      background-color: #434B5C;\n",
              "      box-shadow: 0px 1px 3px 1px rgba(0, 0, 0, 0.15);\n",
              "      filter: drop-shadow(0px 1px 2px rgba(0, 0, 0, 0.3));\n",
              "      fill: #FFFFFF;\n",
              "    }\n",
              "  </style>\n",
              "\n",
              "      <script>\n",
              "        const buttonEl =\n",
              "          document.querySelector('#df-895228c2-3db9-4729-ac3f-12bb19e935c2 button.colab-df-convert');\n",
              "        buttonEl.style.display =\n",
              "          google.colab.kernel.accessAllowed ? 'block' : 'none';\n",
              "\n",
              "        async function convertToInteractive(key) {\n",
              "          const element = document.querySelector('#df-895228c2-3db9-4729-ac3f-12bb19e935c2');\n",
              "          const dataTable =\n",
              "            await google.colab.kernel.invokeFunction('convertToInteractive',\n",
              "                                                     [key], {});\n",
              "          if (!dataTable) return;\n",
              "\n",
              "          const docLinkHtml = 'Like what you see? Visit the ' +\n",
              "            '<a target=\"_blank\" href=https://colab.research.google.com/notebooks/data_table.ipynb>data table notebook</a>'\n",
              "            + ' to learn more about interactive tables.';\n",
              "          element.innerHTML = '';\n",
              "          dataTable['output_type'] = 'display_data';\n",
              "          await google.colab.output.renderOutput(dataTable, element);\n",
              "          const docLink = document.createElement('div');\n",
              "          docLink.innerHTML = docLinkHtml;\n",
              "          element.appendChild(docLink);\n",
              "        }\n",
              "      </script>\n",
              "    </div>\n",
              "  </div>\n",
              "  "
            ]
          },
          "metadata": {},
          "execution_count": 8
        }
      ]
    },
    {
      "cell_type": "code",
      "source": [],
      "metadata": {
        "id": "6OvcWqDXYK4F"
      },
      "execution_count": null,
      "outputs": []
    },
    {
      "cell_type": "markdown",
      "source": [
        "## Bigrams Trigrams"
      ],
      "metadata": {
        "id": "ciNLYDzWYLwL"
      }
    },
    {
      "cell_type": "code",
      "source": [
        "import nltk\n",
        "from nltk import bigrams, trigrams\n"
      ],
      "metadata": {
        "id": "HTvq5hzgYNcl"
      },
      "execution_count": 9,
      "outputs": []
    },
    {
      "cell_type": "code",
      "source": [
        "from nltk import FreqDist\n"
      ],
      "metadata": {
        "id": "jTyDTB7_aOhZ"
      },
      "execution_count": null,
      "outputs": []
    },
    {
      "cell_type": "code",
      "source": [
        "palavras = nltk.word_tokenize(tweets)"
      ],
      "metadata": {
        "colab": {
          "base_uri": "https://localhost:8080/",
          "height": 681
        },
        "id": "CdXG_v0GaOhc",
        "outputId": "86fc6f42-54b7-4b2f-ec2f-36d781ef4ca4"
      },
      "execution_count": 38,
      "outputs": [
        {
          "output_type": "error",
          "ename": "LookupError",
          "evalue": "ignored",
          "traceback": [
            "\u001b[0;31m---------------------------------------------------------------------------\u001b[0m",
            "\u001b[0;31mLookupError\u001b[0m                               Traceback (most recent call last)",
            "\u001b[0;32m<ipython-input-38-973cac150b52>\u001b[0m in \u001b[0;36m<module>\u001b[0;34m\u001b[0m\n\u001b[0;32m----> 1\u001b[0;31m \u001b[0mpalavras\u001b[0m \u001b[0;34m=\u001b[0m \u001b[0mnltk\u001b[0m\u001b[0;34m.\u001b[0m\u001b[0mword_tokenize\u001b[0m\u001b[0;34m(\u001b[0m\u001b[0mtweets\u001b[0m\u001b[0;34m)\u001b[0m\u001b[0;34m\u001b[0m\u001b[0;34m\u001b[0m\u001b[0m\n\u001b[0m",
            "\u001b[0;32m/usr/local/lib/python3.8/dist-packages/nltk/tokenize/__init__.py\u001b[0m in \u001b[0;36mword_tokenize\u001b[0;34m(text, language, preserve_line)\u001b[0m\n\u001b[1;32m    127\u001b[0m     \u001b[0;34m:\u001b[0m\u001b[0mtype\u001b[0m \u001b[0mpreserve_line\u001b[0m\u001b[0;34m:\u001b[0m \u001b[0mbool\u001b[0m\u001b[0;34m\u001b[0m\u001b[0;34m\u001b[0m\u001b[0m\n\u001b[1;32m    128\u001b[0m     \"\"\"\n\u001b[0;32m--> 129\u001b[0;31m     \u001b[0msentences\u001b[0m \u001b[0;34m=\u001b[0m \u001b[0;34m[\u001b[0m\u001b[0mtext\u001b[0m\u001b[0;34m]\u001b[0m \u001b[0;32mif\u001b[0m \u001b[0mpreserve_line\u001b[0m \u001b[0;32melse\u001b[0m \u001b[0msent_tokenize\u001b[0m\u001b[0;34m(\u001b[0m\u001b[0mtext\u001b[0m\u001b[0;34m,\u001b[0m \u001b[0mlanguage\u001b[0m\u001b[0;34m)\u001b[0m\u001b[0;34m\u001b[0m\u001b[0;34m\u001b[0m\u001b[0m\n\u001b[0m\u001b[1;32m    130\u001b[0m     return [\n\u001b[1;32m    131\u001b[0m         \u001b[0mtoken\u001b[0m \u001b[0;32mfor\u001b[0m \u001b[0msent\u001b[0m \u001b[0;32min\u001b[0m \u001b[0msentences\u001b[0m \u001b[0;32mfor\u001b[0m \u001b[0mtoken\u001b[0m \u001b[0;32min\u001b[0m \u001b[0m_treebank_word_tokenizer\u001b[0m\u001b[0;34m.\u001b[0m\u001b[0mtokenize\u001b[0m\u001b[0;34m(\u001b[0m\u001b[0msent\u001b[0m\u001b[0;34m)\u001b[0m\u001b[0;34m\u001b[0m\u001b[0;34m\u001b[0m\u001b[0m\n",
            "\u001b[0;32m/usr/local/lib/python3.8/dist-packages/nltk/tokenize/__init__.py\u001b[0m in \u001b[0;36msent_tokenize\u001b[0;34m(text, language)\u001b[0m\n\u001b[1;32m    104\u001b[0m     \u001b[0;34m:\u001b[0m\u001b[0mparam\u001b[0m \u001b[0mlanguage\u001b[0m\u001b[0;34m:\u001b[0m \u001b[0mthe\u001b[0m \u001b[0mmodel\u001b[0m \u001b[0mname\u001b[0m \u001b[0;32min\u001b[0m \u001b[0mthe\u001b[0m \u001b[0mPunkt\u001b[0m \u001b[0mcorpus\u001b[0m\u001b[0;34m\u001b[0m\u001b[0;34m\u001b[0m\u001b[0m\n\u001b[1;32m    105\u001b[0m     \"\"\"\n\u001b[0;32m--> 106\u001b[0;31m     \u001b[0mtokenizer\u001b[0m \u001b[0;34m=\u001b[0m \u001b[0mload\u001b[0m\u001b[0;34m(\u001b[0m\u001b[0;34mf\"tokenizers/punkt/{language}.pickle\"\u001b[0m\u001b[0;34m)\u001b[0m\u001b[0;34m\u001b[0m\u001b[0;34m\u001b[0m\u001b[0m\n\u001b[0m\u001b[1;32m    107\u001b[0m     \u001b[0;32mreturn\u001b[0m \u001b[0mtokenizer\u001b[0m\u001b[0;34m.\u001b[0m\u001b[0mtokenize\u001b[0m\u001b[0;34m(\u001b[0m\u001b[0mtext\u001b[0m\u001b[0;34m)\u001b[0m\u001b[0;34m\u001b[0m\u001b[0;34m\u001b[0m\u001b[0m\n\u001b[1;32m    108\u001b[0m \u001b[0;34m\u001b[0m\u001b[0m\n",
            "\u001b[0;32m/usr/local/lib/python3.8/dist-packages/nltk/data.py\u001b[0m in \u001b[0;36mload\u001b[0;34m(resource_url, format, cache, verbose, logic_parser, fstruct_reader, encoding)\u001b[0m\n\u001b[1;32m    748\u001b[0m \u001b[0;34m\u001b[0m\u001b[0m\n\u001b[1;32m    749\u001b[0m     \u001b[0;31m# Load the resource.\u001b[0m\u001b[0;34m\u001b[0m\u001b[0;34m\u001b[0m\u001b[0;34m\u001b[0m\u001b[0m\n\u001b[0;32m--> 750\u001b[0;31m     \u001b[0mopened_resource\u001b[0m \u001b[0;34m=\u001b[0m \u001b[0m_open\u001b[0m\u001b[0;34m(\u001b[0m\u001b[0mresource_url\u001b[0m\u001b[0;34m)\u001b[0m\u001b[0;34m\u001b[0m\u001b[0;34m\u001b[0m\u001b[0m\n\u001b[0m\u001b[1;32m    751\u001b[0m \u001b[0;34m\u001b[0m\u001b[0m\n\u001b[1;32m    752\u001b[0m     \u001b[0;32mif\u001b[0m \u001b[0mformat\u001b[0m \u001b[0;34m==\u001b[0m \u001b[0;34m\"raw\"\u001b[0m\u001b[0;34m:\u001b[0m\u001b[0;34m\u001b[0m\u001b[0;34m\u001b[0m\u001b[0m\n",
            "\u001b[0;32m/usr/local/lib/python3.8/dist-packages/nltk/data.py\u001b[0m in \u001b[0;36m_open\u001b[0;34m(resource_url)\u001b[0m\n\u001b[1;32m    874\u001b[0m \u001b[0;34m\u001b[0m\u001b[0m\n\u001b[1;32m    875\u001b[0m     \u001b[0;32mif\u001b[0m \u001b[0mprotocol\u001b[0m \u001b[0;32mis\u001b[0m \u001b[0;32mNone\u001b[0m \u001b[0;32mor\u001b[0m \u001b[0mprotocol\u001b[0m\u001b[0;34m.\u001b[0m\u001b[0mlower\u001b[0m\u001b[0;34m(\u001b[0m\u001b[0;34m)\u001b[0m \u001b[0;34m==\u001b[0m \u001b[0;34m\"nltk\"\u001b[0m\u001b[0;34m:\u001b[0m\u001b[0;34m\u001b[0m\u001b[0;34m\u001b[0m\u001b[0m\n\u001b[0;32m--> 876\u001b[0;31m         \u001b[0;32mreturn\u001b[0m \u001b[0mfind\u001b[0m\u001b[0;34m(\u001b[0m\u001b[0mpath_\u001b[0m\u001b[0;34m,\u001b[0m \u001b[0mpath\u001b[0m \u001b[0;34m+\u001b[0m \u001b[0;34m[\u001b[0m\u001b[0;34m\"\"\u001b[0m\u001b[0;34m]\u001b[0m\u001b[0;34m)\u001b[0m\u001b[0;34m.\u001b[0m\u001b[0mopen\u001b[0m\u001b[0;34m(\u001b[0m\u001b[0;34m)\u001b[0m\u001b[0;34m\u001b[0m\u001b[0;34m\u001b[0m\u001b[0m\n\u001b[0m\u001b[1;32m    877\u001b[0m     \u001b[0;32melif\u001b[0m \u001b[0mprotocol\u001b[0m\u001b[0;34m.\u001b[0m\u001b[0mlower\u001b[0m\u001b[0;34m(\u001b[0m\u001b[0;34m)\u001b[0m \u001b[0;34m==\u001b[0m \u001b[0;34m\"file\"\u001b[0m\u001b[0;34m:\u001b[0m\u001b[0;34m\u001b[0m\u001b[0;34m\u001b[0m\u001b[0m\n\u001b[1;32m    878\u001b[0m         \u001b[0;31m# urllib might not use mode='rb', so handle this one ourselves:\u001b[0m\u001b[0;34m\u001b[0m\u001b[0;34m\u001b[0m\u001b[0;34m\u001b[0m\u001b[0m\n",
            "\u001b[0;32m/usr/local/lib/python3.8/dist-packages/nltk/data.py\u001b[0m in \u001b[0;36mfind\u001b[0;34m(resource_name, paths)\u001b[0m\n\u001b[1;32m    581\u001b[0m     \u001b[0msep\u001b[0m \u001b[0;34m=\u001b[0m \u001b[0;34m\"*\"\u001b[0m \u001b[0;34m*\u001b[0m \u001b[0;36m70\u001b[0m\u001b[0;34m\u001b[0m\u001b[0;34m\u001b[0m\u001b[0m\n\u001b[1;32m    582\u001b[0m     \u001b[0mresource_not_found\u001b[0m \u001b[0;34m=\u001b[0m \u001b[0;34mf\"\\n{sep}\\n{msg}\\n{sep}\\n\"\u001b[0m\u001b[0;34m\u001b[0m\u001b[0;34m\u001b[0m\u001b[0m\n\u001b[0;32m--> 583\u001b[0;31m     \u001b[0;32mraise\u001b[0m \u001b[0mLookupError\u001b[0m\u001b[0;34m(\u001b[0m\u001b[0mresource_not_found\u001b[0m\u001b[0;34m)\u001b[0m\u001b[0;34m\u001b[0m\u001b[0;34m\u001b[0m\u001b[0m\n\u001b[0m\u001b[1;32m    584\u001b[0m \u001b[0;34m\u001b[0m\u001b[0m\n\u001b[1;32m    585\u001b[0m \u001b[0;34m\u001b[0m\u001b[0m\n",
            "\u001b[0;31mLookupError\u001b[0m: \n**********************************************************************\n  Resource \u001b[93mpunkt\u001b[0m not found.\n  Please use the NLTK Downloader to obtain the resource:\n\n  \u001b[31m>>> import nltk\n  >>> nltk.download('punkt')\n  \u001b[0m\n  For more information see: https://www.nltk.org/data.html\n\n  Attempted to load \u001b[93mtokenizers/punkt/PY3/english.pickle\u001b[0m\n\n  Searched in:\n    - '/root/nltk_data'\n    - '/usr/nltk_data'\n    - '/usr/share/nltk_data'\n    - '/usr/lib/nltk_data'\n    - '/usr/share/nltk_data'\n    - '/usr/local/share/nltk_data'\n    - '/usr/lib/nltk_data'\n    - '/usr/local/lib/nltk_data'\n    - ''\n**********************************************************************\n"
          ]
        }
      ]
    },
    {
      "cell_type": "code",
      "source": [
        "list (bigrams(tweets))"
      ],
      "metadata": {
        "colab": {
          "base_uri": "https://localhost:8080/"
        },
        "id": "Kjxr8tHQYZ9u",
        "outputId": "7de64f46-3db0-4f90-9e0c-24372f624f08"
      },
      "execution_count": 31,
      "outputs": [
        {
          "output_type": "execute_result",
          "data": {
            "text/plain": [
              "[('RT @Fasalles: Isso é orgânico, completamente natural, verdadeiro e ninguém do lado de lá entende, políticos, ministros do império do Xandaq…',\n",
              "  'RT @ThiagoResiste: FRACASSOU a tentativa golpista de Bolsonaro hoje!!\\n\\nEsperavam 3 MILHÕES DE PESSOAS e não apareceram nem 1000 (mil)!\\n\\nDei…'),\n",
              " ('RT @ThiagoResiste: FRACASSOU a tentativa golpista de Bolsonaro hoje!!\\n\\nEsperavam 3 MILHÕES DE PESSOAS e não apareceram nem 1000 (mil)!\\n\\nDei…',\n",
              "  'RT @guilherme_amado: Filho de ministro do STJ deixa disputa entre Richarlison e amigo de Flávio Bolsonaro https://t.co/hqibBMIXPh'),\n",
              " ('RT @guilherme_amado: Filho de ministro do STJ deixa disputa entre Richarlison e amigo de Flávio Bolsonaro https://t.co/hqibBMIXPh',\n",
              "  'RT @TV_22_Bolsonaro: 📌⤵️Parte 2\\nPresidente Bolsonaro hoje com o povo no Palácio da Alvorada.\\n11/12/2022 🇧🇷🙌 https://t.co/tPFNkLMYBC'),\n",
              " ('RT @TV_22_Bolsonaro: 📌⤵️Parte 2\\nPresidente Bolsonaro hoje com o povo no Palácio da Alvorada.\\n11/12/2022 🇧🇷🙌 https://t.co/tPFNkLMYBC',\n",
              "  'RT @Resist_05: Jair Bolsonaro has confirmed that he is the Supreme Chief of the Armed Forces, and they will back the Brazilian citizens… ht…'),\n",
              " ('RT @Resist_05: Jair Bolsonaro has confirmed that he is the Supreme Chief of the Armed Forces, and they will back the Brazilian citizens… ht…',\n",
              "  'RT @Susy95910373: Ė o nordeste chegando em Brasília,\\nPatriotas tão firmes na luta, comunismo não, Presidente Bolsonaro fica. https://t.co/P…'),\n",
              " ('RT @Susy95910373: Ė o nordeste chegando em Brasília,\\nPatriotas tão firmes na luta, comunismo não, Presidente Bolsonaro fica. https://t.co/P…',\n",
              "  'RT @nhtfranco: ➡️Quem estiver no QG, vá para o ALVORADA\\n➡️Quem estiver na Esplanada, vá para o ALVORADA\\n➡️Quem estiver no ALVORADA, permane…'),\n",
              " ('RT @nhtfranco: ➡️Quem estiver no QG, vá para o ALVORADA\\n➡️Quem estiver na Esplanada, vá para o ALVORADA\\n➡️Quem estiver no ALVORADA, permane…',\n",
              "  '@Edivaldord1990 @Paullo_Gustavo Temos que ser justos. Ele foi um dos poucos globais que se posicionou a favor do Bo… https://t.co/x8dS7HVMb1'),\n",
              " ('@Edivaldord1990 @Paullo_Gustavo Temos que ser justos. Ele foi um dos poucos globais que se posicionou a favor do Bo… https://t.co/x8dS7HVMb1',\n",
              "  'RT @AlexanderBrasil: De forma inédita acesso ao Palácio do Alvorada ficará aberto ao público essa noite com previsão de pronunciamento do P…'),\n",
              " ('RT @AlexanderBrasil: De forma inédita acesso ao Palácio do Alvorada ficará aberto ao público essa noite com previsão de pronunciamento do P…',\n",
              "  'RT @NossaRenovacao: COMO A ESTRATEGIA DE @jairbolsonaro QUEBROU O SISTEMA :\\n\\nBOLSONARO SEMPRE VENDEU A IDEIA DE TEMPERAMENTO EXPLOSIVO , O…'),\n",
              " ('RT @NossaRenovacao: COMO A ESTRATEGIA DE @jairbolsonaro QUEBROU O SISTEMA :\\n\\nBOLSONARO SEMPRE VENDEU A IDEIA DE TEMPERAMENTO EXPLOSIVO , O…',\n",
              "  'RT @MarciaP21163571: PRESIDENTE JAIR BOLSONARO,\\xa0 BRASILEIROS NOSSA BANDEIRA É VERDE E AMARELO. MESMO DISTANTES TODOS ESTÃO UNIDOS EM UM SÓ\\xa0…'),\n",
              " ('RT @MarciaP21163571: PRESIDENTE JAIR BOLSONARO,\\xa0 BRASILEIROS NOSSA BANDEIRA É VERDE E AMARELO. MESMO DISTANTES TODOS ESTÃO UNIDOS EM UM SÓ\\xa0…',\n",
              "  'RT @Paulogeneroso: E eu que fui processado pelo delegado que investigou a facada no Bolsonaro por dizer que ele tinha ligação com o PT e ti…'),\n",
              " ('RT @Paulogeneroso: E eu que fui processado pelo delegado que investigou a facada no Bolsonaro por dizer que ele tinha ligação com o PT e ti…',\n",
              "  'RT @CamargoDireita: O Palácio da Alvorada, de portões abertos, está no topo do Twitter e humilha a diplomação. \\nBolsonaro tem o povo. Nine…'),\n",
              " ('RT @CamargoDireita: O Palácio da Alvorada, de portões abertos, está no topo do Twitter e humilha a diplomação. \\nBolsonaro tem o povo. Nine…',\n",
              "  'RT @brom_elisa: Direto de Goiânia \\n\\nJúlia, a garotinha que abraçou e conversou com Bolsonaro no Alvorada.\\n\\nParabéns Júlia, você representou…'),\n",
              " ('RT @brom_elisa: Direto de Goiânia \\n\\nJúlia, a garotinha que abraçou e conversou com Bolsonaro no Alvorada.\\n\\nParabéns Júlia, você representou…',\n",
              "  '@Bel22776152 @Jessica_tacila @LulaOficial Ter repúdio ao Bolsonaro eu entendo.Agora achar que o pt e o mula é a sol… https://t.co/v90M6az4gR'),\n",
              " ('@Bel22776152 @Jessica_tacila @LulaOficial Ter repúdio ao Bolsonaro eu entendo.Agora achar que o pt e o mula é a sol… https://t.co/v90M6az4gR',\n",
              "  'RT @Fabiopf08Fabio: Bolsonaro deixa descomunal herança maldita para novo governo https://t.co/iIQ3SvTihd'),\n",
              " ('RT @Fabiopf08Fabio: Bolsonaro deixa descomunal herança maldita para novo governo https://t.co/iIQ3SvTihd',\n",
              "  '@GFiuza_Oficial CALADO!\\n\\nAntes de falar do Luladrão, vocês precisam pedir perdão a nação por terem viabilizado a vo… https://t.co/R1ZMe5LkNm'),\n",
              " ('@GFiuza_Oficial CALADO!\\n\\nAntes de falar do Luladrão, vocês precisam pedir perdão a nação por terem viabilizado a vo… https://t.co/R1ZMe5LkNm',\n",
              "  '@deccache @FLSilva97 Vcs querem um outro impeachment ou um outro Bolsonaro.. Não é possível.. Não sei quem \"não apr… https://t.co/XMfp9vLktz'),\n",
              " ('@deccache @FLSilva97 Vcs querem um outro impeachment ou um outro Bolsonaro.. Não é possível.. Não sei quem \"não apr… https://t.co/XMfp9vLktz',\n",
              "  'RT @GuilhermeBoulos: Hoje é um dia histórico! Lula será diplomado Presidente da República, marcando formalmente a derrota de Bolsonaro e se…'),\n",
              " ('RT @GuilhermeBoulos: Hoje é um dia histórico! Lula será diplomado Presidente da República, marcando formalmente a derrota de Bolsonaro e se…',\n",
              "  'É isso aí amigos! Continuamos na luta, por Deus, por Nossa Pátria, por Nosso PR, e por Nossa Liberdade! Por isso pe… https://t.co/tfyYTjHndH'),\n",
              " ('É isso aí amigos! Continuamos na luta, por Deus, por Nossa Pátria, por Nosso PR, e por Nossa Liberdade! Por isso pe… https://t.co/tfyYTjHndH',\n",
              "  'RT @mfbr58: BOLSONARO RECOLHEU AS BANDEIRAS DO BRASIL E DO MERCOSUL E DEIXOU APENAS A BANDEIRA DA INDEPENDÊNCIA HASTEADA. TAMBÉM DEIXOU OS…'),\n",
              " ('RT @mfbr58: BOLSONARO RECOLHEU AS BANDEIRAS DO BRASIL E DO MERCOSUL E DEIXOU APENAS A BANDEIRA DA INDEPENDÊNCIA HASTEADA. TAMBÉM DEIXOU OS…',\n",
              "  'RT @acababozo: 22  DIAS PARA O FIM DO GOVERNO BOLSONARO'),\n",
              " ('RT @acababozo: 22  DIAS PARA O FIM DO GOVERNO BOLSONARO',\n",
              "  'RT @Susy95910373: Ė o nordeste chegando em Brasília,\\nPatriotas tão firmes na luta, comunismo não, Presidente Bolsonaro fica. https://t.co/P…'),\n",
              " ('RT @Susy95910373: Ė o nordeste chegando em Brasília,\\nPatriotas tão firmes na luta, comunismo não, Presidente Bolsonaro fica. https://t.co/P…',\n",
              "  'RT @mfbr58: BOLSONARO PRECISA DO POVO LOTANDO O ALVORADA PARA PODER AGIR. SE VOCÊ ESTÁ EM BRASÍLIA, VÁ PARA LÁ AGORA!!'),\n",
              " ('RT @mfbr58: BOLSONARO PRECISA DO POVO LOTANDO O ALVORADA PARA PODER AGIR. SE VOCÊ ESTÁ EM BRASÍLIA, VÁ PARA LÁ AGORA!!',\n",
              "  'RT @EliasJrBrasil: Acorda povo\\nURGENTE!!! 🚨\\nQUEM ESTIVER EM BRASÍLIA TODOS A ALVORADA A CASA DO PRESIDENTE\\nPEDINDO INTERVENÇÃO MILITAR COM…'),\n",
              " ('RT @EliasJrBrasil: Acorda povo\\nURGENTE!!! 🚨\\nQUEM ESTIVER EM BRASÍLIA TODOS A ALVORADA A CASA DO PRESIDENTE\\nPEDINDO INTERVENÇÃO MILITAR COM…',\n",
              "  'RT @PedroRonchi2: Agradeço a todos os apoiadores do Bolsonaro que fazem comentários nas minhas postagens porque aumenta o engajamento e o n…'),\n",
              " ('RT @PedroRonchi2: Agradeço a todos os apoiadores do Bolsonaro que fazem comentários nas minhas postagens porque aumenta o engajamento e o n…',\n",
              "  'RT @Paulogeneroso: Mensagem de Natal da família de Eduardo Bolsonaro.  Preste atenção na letra , fala MUITO aos nossos corações https://t.c…'),\n",
              " ('RT @Paulogeneroso: Mensagem de Natal da família de Eduardo Bolsonaro.  Preste atenção na letra , fala MUITO aos nossos corações https://t.c…',\n",
              "  'RT @J_LIVRES: \"Toda vez que você assistir um vídeo do demissionário chorando, lembre-se que a sua real faceta é essa aqui. Jamais deixaremo…'),\n",
              " ('RT @J_LIVRES: \"Toda vez que você assistir um vídeo do demissionário chorando, lembre-se que a sua real faceta é essa aqui. Jamais deixaremo…',\n",
              "  'RT @lugubremonotomo: Bom dia Patriotas, como vocês, eu votei 22 com muito orgulho\\nAlvorada virou casa aberta ao povo, será nossa diplomação…'),\n",
              " ('RT @lugubremonotomo: Bom dia Patriotas, como vocês, eu votei 22 com muito orgulho\\nAlvorada virou casa aberta ao povo, será nossa diplomação…',\n",
              "  'RT @ana_zemuner: Minha conclusão,  Bolsonaro  só foi eleito  em 2018 pq o \"algoritmo\"  não previu  uma diferença tão grande entre os candid…'),\n",
              " ('RT @ana_zemuner: Minha conclusão,  Bolsonaro  só foi eleito  em 2018 pq o \"algoritmo\"  não previu  uma diferença tão grande entre os candid…',\n",
              "  'RT @Metropoles: Bolsonaro chora ao abraçar criança em frente ao Alvorada\\n\\nAssim como fez na última sexta (9/12),  #Bolsonaro foi ao encontr…'),\n",
              " ('RT @Metropoles: Bolsonaro chora ao abraçar criança em frente ao Alvorada\\n\\nAssim como fez na última sexta (9/12),  #Bolsonaro foi ao encontr…',\n",
              "  'Alguma novidade ? Cadê o pessoal do mimimi .. aiiiiii o filho do Bolsonaro 🙄 https://t.co/GL2aBfrGIl'),\n",
              " ('Alguma novidade ? Cadê o pessoal do mimimi .. aiiiiii o filho do Bolsonaro 🙄 https://t.co/GL2aBfrGIl',\n",
              "  'RT @AlexanderBrasil: Nossa queridíssima Primeira-dama do Brasil Michele Bolsonaro, acabou de mandar servir lanches para o pessoal que está…'),\n",
              " ('RT @AlexanderBrasil: Nossa queridíssima Primeira-dama do Brasil Michele Bolsonaro, acabou de mandar servir lanches para o pessoal que está…',\n",
              "  'RT @VlogdoLisboa: Impossível não se Emocionar \\nBolsonaro recebeu o Povo hoje veja 11-12-22 https://t.co/lIw1zuRYEg'),\n",
              " ('RT @VlogdoLisboa: Impossível não se Emocionar \\nBolsonaro recebeu o Povo hoje veja 11-12-22 https://t.co/lIw1zuRYEg',\n",
              "  'RT @direitasiqueira: TRISTE DEMAIS QUE A FILHA DO BOLSONARO ESTÁ SOFRENDO BULLYING!!! LI POR AÍ QUE ELA JÁ FOI CHAMADA ATÉ DE FRAQUEJADA PO…'),\n",
              " ('RT @direitasiqueira: TRISTE DEMAIS QUE A FILHA DO BOLSONARO ESTÁ SOFRENDO BULLYING!!! LI POR AÍ QUE ELA JÁ FOI CHAMADA ATÉ DE FRAQUEJADA PO…',\n",
              "  '@senadorhumberto @LulaOficial Óbvio! Quer que torça pra fazer um péssimo governo? Diria que 100% torce pro Brasil i… https://t.co/kCGFFmxsFK'),\n",
              " ('@senadorhumberto @LulaOficial Óbvio! Quer que torça pra fazer um péssimo governo? Diria que 100% torce pro Brasil i… https://t.co/kCGFFmxsFK',\n",
              "  'RT @EdnaSa16: NÓS AMAMOS O PRESIDENTE BOLSONARO E QUEREMOS ELE GOVERNANDO O BRASIL!! 💚🇧🇷'),\n",
              " ('RT @EdnaSa16: NÓS AMAMOS O PRESIDENTE BOLSONARO E QUEREMOS ELE GOVERNANDO O BRASIL!! 💚🇧🇷',\n",
              "  'RT @LOBA_DA_NEVE: Fato ou fake?\\nO delegado que investigou a tentativa de homicídio contra o presidente Bolsonaro ganhará um cargo no govern…'),\n",
              " ('RT @LOBA_DA_NEVE: Fato ou fake?\\nO delegado que investigou a tentativa de homicídio contra o presidente Bolsonaro ganhará um cargo no govern…',\n",
              "  'RT @JornalBSM: Depois de uma oração do Pai Nosso junto a um pastor, o presidente saudou o povo e despediu-se\\nhttps://t.co/At9Cutxasp'),\n",
              " ('RT @JornalBSM: Depois de uma oração do Pai Nosso junto a um pastor, o presidente saudou o povo e despediu-se\\nhttps://t.co/At9Cutxasp',\n",
              "  'RT @Nynari2003: E vem o Gilmar pedir pacificação. Depois de 4 anos vcs massacrando o Presidente Bolsonaro, perseguindo seus apoiadores, agi…'),\n",
              " ('RT @Nynari2003: E vem o Gilmar pedir pacificação. Depois de 4 anos vcs massacrando o Presidente Bolsonaro, perseguindo seus apoiadores, agi…',\n",
              "  'RT @TerraBrasilnot: Impressionante: governo Bolsonaro paga hoje Auxílio Brasil, vale-gás em dobro, auxílio táxi e auxílio\\xa0caminhoneiro http…'),\n",
              " ('RT @TerraBrasilnot: Impressionante: governo Bolsonaro paga hoje Auxílio Brasil, vale-gás em dobro, auxílio táxi e auxílio\\xa0caminhoneiro http…',\n",
              "  '@MariasbelaC @Paullo_Gustavo Temos que ser justos. Ele foi um dos poucos globais que se posicionou a favor do Bolso… https://t.co/nFLGg7cyvJ'),\n",
              " ('@MariasbelaC @Paullo_Gustavo Temos que ser justos. Ele foi um dos poucos globais que se posicionou a favor do Bolso… https://t.co/nFLGg7cyvJ',\n",
              "  '@NordestePatrio1 @taoquei1 Bolsonaro é o enviado de Deus para o Brasil e para o Mundo.'),\n",
              " ('@NordestePatrio1 @taoquei1 Bolsonaro é o enviado de Deus para o Brasil e para o Mundo.',\n",
              "  'RT @Regina_Goiana: E o nome disso é corrupção.\\n\"Todos da elite mandatária são artífices e sócios do furto espetacular, mantido em sigilo et…'),\n",
              " ('RT @Regina_Goiana: E o nome disso é corrupção.\\n\"Todos da elite mandatária são artífices e sócios do furto espetacular, mantido em sigilo et…',\n",
              "  'RT @likeazombie: agora q a família não precisa mais manter os personagens michelle largou a mão dos crentes e nunca mais pisou na igreja e…'),\n",
              " ('RT @likeazombie: agora q a família não precisa mais manter os personagens michelle largou a mão dos crentes e nunca mais pisou na igreja e…',\n",
              "  'RT @veronikapistore: Não posso negar o poder de Bolsonaro. Ele criou o neonazista negro, a mulher machista, o cristão odioso e o pobre burg…'),\n",
              " ('RT @veronikapistore: Não posso negar o poder de Bolsonaro. Ele criou o neonazista negro, a mulher machista, o cristão odioso e o pobre burg…',\n",
              "  'Que eu saiba o chefe das FFAA é Bolsonaro até 31 de Dezembro.Ou vc copiou a informação do Terra Brasil?Se liga Lisb… https://t.co/AmXOle27rX'),\n",
              " ('Que eu saiba o chefe das FFAA é Bolsonaro até 31 de Dezembro.Ou vc copiou a informação do Terra Brasil?Se liga Lisb… https://t.co/AmXOle27rX',\n",
              "  '@realpfigueiredo Foi lula que o nomeio? Ou foi bolsonaro ?'),\n",
              " ('@realpfigueiredo Foi lula que o nomeio? Ou foi bolsonaro ?',\n",
              "  'Não existe condenação? Aff, a anulação jamais foi por NÃO Cometimento de crime. MENTIROSOS. Mas pode chamar o presi… https://t.co/D4BzNkDNni'),\n",
              " ('Não existe condenação? Aff, a anulação jamais foi por NÃO Cometimento de crime. MENTIROSOS. Mas pode chamar o presi… https://t.co/D4BzNkDNni',\n",
              "  'NÃO EXISTE INTERVENÇÃO MILITAR COM BOLSONARO NO PODER !!!\\n\\nNa prática significa:\\n\\nGOLPE DE ESTADO COM BOLSONARO DIT… https://t.co/ErqO6qmh2G'),\n",
              " ('NÃO EXISTE INTERVENÇÃO MILITAR COM BOLSONARO NO PODER !!!\\n\\nNa prática significa:\\n\\nGOLPE DE ESTADO COM BOLSONARO DIT… https://t.co/ErqO6qmh2G',\n",
              "  'RT @Carolmph: Impressionante: governo Bolsonaro paga hoje Auxílio Brasil, vale-gás em dobro, auxílio táxi e auxílio caminhoneiro  https://t…'),\n",
              " ('RT @Carolmph: Impressionante: governo Bolsonaro paga hoje Auxílio Brasil, vale-gás em dobro, auxílio táxi e auxílio caminhoneiro  https://t…',\n",
              "  'RT @flaviocostaf: “Bolsonaro apagou da fila de espera 128 mil famílias q esperam pra receber R$ 600. A ideia era mostrar que o governo cons…'),\n",
              " ('RT @flaviocostaf: “Bolsonaro apagou da fila de espera 128 mil famílias q esperam pra receber R$ 600. A ideia era mostrar que o governo cons…',\n",
              "  'RT @FernandaY1978: Pelo menos HOJE é de EXTREMA IMPORTÂNCIA que os apoiadores do Presidente Bolsonaro que estão em Brasília se dirijam para…'),\n",
              " ('RT @FernandaY1978: Pelo menos HOJE é de EXTREMA IMPORTÂNCIA que os apoiadores do Presidente Bolsonaro que estão em Brasília se dirijam para…',\n",
              "  '@astro_pontes @reportersalles É direito do Sr. parabenizar quem quiser, mas q soa politicamente inadequado soa, num… https://t.co/xrdDxMU2zM'),\n",
              " ('@astro_pontes @reportersalles É direito do Sr. parabenizar quem quiser, mas q soa politicamente inadequado soa, num… https://t.co/xrdDxMU2zM',\n",
              "  'RT @viniciuscfp82: Confere? Se for verdade, então o Bolsonaro quer o povo também no Palácio do Alvorada. https://t.co/fLFAreR14l'),\n",
              " ('RT @viniciuscfp82: Confere? Se for verdade, então o Bolsonaro quer o povo também no Palácio do Alvorada. https://t.co/fLFAreR14l',\n",
              "  '@HeyHipocrita Ué! O presidente é o Bolsonaro, não é?'),\n",
              " ('@HeyHipocrita Ué! O presidente é o Bolsonaro, não é?',\n",
              "  'RT @BootNirvana: BOLSONARO QUER O POVO NO ALVORADA, SO NAO PODE DIZER\\n#SOSFORCASARMADAS \\n#SOSForcasArmadasSalvemOBrasil \\n#LulaLadraoNaoSobe…'),\n",
              " ('RT @BootNirvana: BOLSONARO QUER O POVO NO ALVORADA, SO NAO PODE DIZER\\n#SOSFORCASARMADAS \\n#SOSForcasArmadasSalvemOBrasil \\n#LulaLadraoNaoSobe…',\n",
              "  'RT @Susy95910373: Ė o nordeste chegando em Brasília,\\nPatriotas tão firmes na luta, comunismo não, Presidente Bolsonaro fica. https://t.co/P…'),\n",
              " ('RT @Susy95910373: Ė o nordeste chegando em Brasília,\\nPatriotas tão firmes na luta, comunismo não, Presidente Bolsonaro fica. https://t.co/P…',\n",
              "  'RT @delucca: Bolsonaristas comemorando que um ator foi assaltado e espancado (ainda durante o governo Bolsonaro, alias) mostra pra gente qu…'),\n",
              " ('RT @delucca: Bolsonaristas comemorando que um ator foi assaltado e espancado (ainda durante o governo Bolsonaro, alias) mostra pra gente qu…',\n",
              "  'RT @LeiaRachor: Eu não disse que essa ESQUERDALHA queria PALANQUE.\\nImaginem isso como primeira dama... TUDO que a 1° Dama Michelle bolsonar…'),\n",
              " ('RT @LeiaRachor: Eu não disse que essa ESQUERDALHA queria PALANQUE.\\nImaginem isso como primeira dama... TUDO que a 1° Dama Michelle bolsonar…',\n",
              "  'RT @c_bede: Fake News propagada pela esquerda, que mulheres,negros ,homossexuais não votam no Bolsonaro.  Mas como o L4drão diz:\"temos que…'),\n",
              " ('RT @c_bede: Fake News propagada pela esquerda, que mulheres,negros ,homossexuais não votam no Bolsonaro.  Mas como o L4drão diz:\"temos que…',\n",
              "  'RT @brasil247: País está no vermelho também Tribunal Penal Internacional e na Organização Mundial do Comércio; dívida total é de R$ 5,5 bil…'),\n",
              " ('RT @brasil247: País está no vermelho também Tribunal Penal Internacional e na Organização Mundial do Comércio; dívida total é de R$ 5,5 bil…',\n",
              "  'RT @nhtfranco: 🇧🇷 Hoje é dia de todos os patriotas se unirem com nosso Presidente Bolsonaro, no Alvorada. Mantenham a base civil no QG e se…'),\n",
              " ('RT @nhtfranco: 🇧🇷 Hoje é dia de todos os patriotas se unirem com nosso Presidente Bolsonaro, no Alvorada. Mantenham a base civil no QG e se…',\n",
              "  'RT @Resist_05: Jair Bolsonaro has confirmed that he is the Supreme Chief of the Armed Forces, and they will back the Brazilian citizens… ht…'),\n",
              " ('RT @Resist_05: Jair Bolsonaro has confirmed that he is the Supreme Chief of the Armed Forces, and they will back the Brazilian citizens… ht…',\n",
              "  'RT @acababozo: 22  DIAS PARA O FIM DO GOVERNO BOLSONARO'),\n",
              " ('RT @acababozo: 22  DIAS PARA O FIM DO GOVERNO BOLSONARO',\n",
              "  'RT @Resist_05: Jair Bolsonaro has confirmed that he is the Supreme Chief of the Armed Forces, and they will back the Brazilian citizens… ht…'),\n",
              " ('RT @Resist_05: Jair Bolsonaro has confirmed that he is the Supreme Chief of the Armed Forces, and they will back the Brazilian citizens… ht…',\n",
              "  'RT @denise47613384: Michelle Bolsonaro 👏👏👏👏👏👏👏👏👏👏👏👏👏👏 https://t.co/TkRMUTMfKI'),\n",
              " ('RT @denise47613384: Michelle Bolsonaro 👏👏👏👏👏👏👏👏👏👏👏👏👏👏 https://t.co/TkRMUTMfKI',\n",
              "  'RT @RTdaFlaTT: SEGURANÇA DO ALVORADA! 🚨\\n\\n\" - A PRIMEIRA DAMA MANDOU UM LANCHINHO PRA VOCÊS!\"\\n\\nMICHELE BOLSONARO MANDOU SERVIR LANCHE PRA QU…'),\n",
              " ('RT @RTdaFlaTT: SEGURANÇA DO ALVORADA! 🚨\\n\\n\" - A PRIMEIRA DAMA MANDOU UM LANCHINHO PRA VOCÊS!\"\\n\\nMICHELE BOLSONARO MANDOU SERVIR LANCHE PRA QU…',\n",
              "  '@olhoconservador @N_Carvalheira Ele votou em Bolsonaro.'),\n",
              " ('@olhoconservador @N_Carvalheira Ele votou em Bolsonaro.',\n",
              "  '@senadorhumberto O Bolsonaro está sendo acusado por não haver colocado toda a quadrilha petista na cadeia? 🤔 https://t.co/QcZZqk4rSB'),\n",
              " ('@senadorhumberto O Bolsonaro está sendo acusado por não haver colocado toda a quadrilha petista na cadeia? 🤔 https://t.co/QcZZqk4rSB',\n",
              "  'RT @senadorhumberto: Criminosos acima de tudo, Bolsonaro acima de todos. https://t.co/tAADFSJe2Q'),\n",
              " ('RT @senadorhumberto: Criminosos acima de tudo, Bolsonaro acima de todos. https://t.co/tAADFSJe2Q',\n",
              "  'RT @Belzebu____666: Nao existe apoio de empresários a Bolsonaro, existem empresários  cúmplices de algum crime ou favorecido do ex presiden…'),\n",
              " ('RT @Belzebu____666: Nao existe apoio de empresários a Bolsonaro, existem empresários  cúmplices de algum crime ou favorecido do ex presiden…',\n",
              "  'RT @Resist_05: Jair Bolsonaro has confirmed that he is the Supreme Chief of the Armed Forces, and they will back the Brazilian citizens… ht…'),\n",
              " ('RT @Resist_05: Jair Bolsonaro has confirmed that he is the Supreme Chief of the Armed Forces, and they will back the Brazilian citizens… ht…',\n",
              "  'RT @bolsoregrets: Não sei quantas vezes mais eu vou falar que Bolsonaro pegou os conselhos do amigo Bannon e vai fazer IGUAL ao Trump fez n…'),\n",
              " ('RT @bolsoregrets: Não sei quantas vezes mais eu vou falar que Bolsonaro pegou os conselhos do amigo Bannon e vai fazer IGUAL ao Trump fez n…',\n",
              "  'RT @77_frota: Bom dia 🇧🇷 acordar em Brasilia dia 12 de Dezembro com a Diplomação do Lula às 14 h e sabendo que o Bolsonaro já não apita e n…'),\n",
              " ('RT @77_frota: Bom dia 🇧🇷 acordar em Brasilia dia 12 de Dezembro com a Diplomação do Lula às 14 h e sabendo que o Bolsonaro já não apita e n…',\n",
              "  'RT @c_bede: Fake News propagada pela esquerda, que mulheres,negros ,homossexuais não votam no Bolsonaro.  Mas como o L4drão diz:\"temos que…'),\n",
              " ('RT @c_bede: Fake News propagada pela esquerda, que mulheres,negros ,homossexuais não votam no Bolsonaro.  Mas como o L4drão diz:\"temos que…',\n",
              "  '@PH08072018 @Paullo_Gustavo @CorreiaAriele Temos que ser justos. Ele foi um dos poucos globais que se posicionou a… https://t.co/UB1iHuIBqi'),\n",
              " ('@PH08072018 @Paullo_Gustavo @CorreiaAriele Temos que ser justos. Ele foi um dos poucos globais que se posicionou a… https://t.co/UB1iHuIBqi',\n",
              "  'RT @ElTrumpista: Michelle Bolsonaro, primera dama de Brasil estuvo entregando sandwichs esta noche a los manifestantes que se encuentran pr…'),\n",
              " ('RT @ElTrumpista: Michelle Bolsonaro, primera dama de Brasil estuvo entregando sandwichs esta noche a los manifestantes que se encuentran pr…',\n",
              "  'RT @carlat_aruiva: Vamos encher o Palácio da Alvorada! Bolsonaro já deu o recado.\\nTODOS PARA O ALVORADA! TODOS PARA O ALVORADA! TODOS PARA…'),\n",
              " ('RT @carlat_aruiva: Vamos encher o Palácio da Alvorada! Bolsonaro já deu o recado.\\nTODOS PARA O ALVORADA! TODOS PARA O ALVORADA! TODOS PARA…',\n",
              "  'RT @__Domani_: 🇧🇷 Pela primeira vez o Palácio da Alvorada ficará com seu acesso liberado ao público essa noite. Há rumores que o Pr. Bolson…'),\n",
              " ('RT @__Domani_: 🇧🇷 Pela primeira vez o Palácio da Alvorada ficará com seu acesso liberado ao público essa noite. Há rumores que o Pr. Bolson…',\n",
              "  'RT @rafaelgloves: Mas Bolsonaro é mal-educado https://t.co/oPqZzOo5US'),\n",
              " ('RT @rafaelgloves: Mas Bolsonaro é mal-educado https://t.co/oPqZzOo5US',\n",
              "  'RT @Ercio_Santos: Os portões do Palácio da Alvorada estão abertos. \\n\\nO Presidente Bolsonaro fará um pronunciamento às 11:00 h hoje e está d…'),\n",
              " ('RT @Ercio_Santos: Os portões do Palácio da Alvorada estão abertos. \\n\\nO Presidente Bolsonaro fará um pronunciamento às 11:00 h hoje e está d…',\n",
              "  'RT @rodolfo84cmpsr: Presidente Bolsonaro\\n\\nencarecidamente, vá\\n\\nobrigado! https://t.co/DJgJhf9XVU'),\n",
              " ('RT @rodolfo84cmpsr: Presidente Bolsonaro\\n\\nencarecidamente, vá\\n\\nobrigado! https://t.co/DJgJhf9XVU',\n",
              "  '@vozdopovobrazil Eu vejo as pessoas falando muita besteira. Gente, Bolsonaro não pode fugir das 4 linhas senão ele… https://t.co/RNxzcORccG'),\n",
              " ('@vozdopovobrazil Eu vejo as pessoas falando muita besteira. Gente, Bolsonaro não pode fugir das 4 linhas senão ele… https://t.co/RNxzcORccG',\n",
              "  'RT @SergioAJBarrett: Mas a Carla Zambelli está então abandonando o barco dos baderneiros golpistas? \\nSerá medo da multa ou de ser presa?…'),\n",
              " ('RT @SergioAJBarrett: Mas a Carla Zambelli está então abandonando o barco dos baderneiros golpistas? \\nSerá medo da multa ou de ser presa?…',\n",
              "  'RT @CentralEleicoes: 🤝Arthur Lira se dispõe a passar a faixa presidencial para Lula.\\n\\nSegundo parlamentares do PT, Lira tem dito, em conver…'),\n",
              " ('RT @CentralEleicoes: 🤝Arthur Lira se dispõe a passar a faixa presidencial para Lula.\\n\\nSegundo parlamentares do PT, Lira tem dito, em conver…',\n",
              "  'RT @fabiofaria: Nada como a verdade dos fatos antes de criarem falsas narrativas.\\nO Brasil foi um dos Países que saiu mais forte da pandemi…'),\n",
              " ('RT @fabiofaria: Nada como a verdade dos fatos antes de criarem falsas narrativas.\\nO Brasil foi um dos Países que saiu mais forte da pandemi…',\n",
              "  'RT @ElisePistola: Bom dia, amigos! \\nOs portões do Palácio da Alvorada estão abertos. \\nO Presidente Bolsonaro fará um pronunciamento às 11:0…'),\n",
              " ('RT @ElisePistola: Bom dia, amigos! \\nOs portões do Palácio da Alvorada estão abertos. \\nO Presidente Bolsonaro fará um pronunciamento às 11:0…',\n",
              "  'RT @ElisePistola: Presidente Bolsonaro NÃO ESTÁ SOZINHO ‼️ \\n👉Vamos fazer teste de alcance com todos Retwittando e curtindo❓\\n👉Que der a 🇧🇷,e…'),\n",
              " ('RT @ElisePistola: Presidente Bolsonaro NÃO ESTÁ SOZINHO ‼️ \\n👉Vamos fazer teste de alcance com todos Retwittando e curtindo❓\\n👉Que der a 🇧🇷,e…',\n",
              "  'RT @GeorgMarques: A fila do Auxílio Brasil, que estava artificialmente zerada, voltou a ter agora em novembro 128 mil famílias com cadastro…'),\n",
              " ('RT @GeorgMarques: A fila do Auxílio Brasil, que estava artificialmente zerada, voltou a ter agora em novembro 128 mil famílias com cadastro…',\n",
              "  '@HeyHipocrita Ele votou no Bolsonaro cara, ele mesmo falou no cara a tapa'),\n",
              " ('@HeyHipocrita Ele votou no Bolsonaro cara, ele mesmo falou no cara a tapa',\n",
              "  'RT @77_frota: Bom dia 🇧🇷 acordar em Brasilia dia 12 de Dezembro com a Diplomação do Lula às 14 h e sabendo que o Bolsonaro já não apita e n…'),\n",
              " ('RT @77_frota: Bom dia 🇧🇷 acordar em Brasilia dia 12 de Dezembro com a Diplomação do Lula às 14 h e sabendo que o Bolsonaro já não apita e n…',\n",
              "  'RT @BeccohC: Moro no Japão e votei 22 em Oizumi.Fui renovar meu passaporte e acabei de descobrir que zeraram meu voto.Segundo o TSE eu me a…'),\n",
              " ('RT @BeccohC: Moro no Japão e votei 22 em Oizumi.Fui renovar meu passaporte e acabei de descobrir que zeraram meu voto.Segundo o TSE eu me a…',\n",
              "  'RT @crisvalveslds: @IracemaHorta @BarrosVelloso @AlexanderBrasil Há alguns anos eu tinha desistido do Brasil e ido morar fora, mas Bolsonar…'),\n",
              " ('RT @crisvalveslds: @IracemaHorta @BarrosVelloso @AlexanderBrasil Há alguns anos eu tinha desistido do Brasil e ido morar fora, mas Bolsonar…',\n",
              "  'RT @brasil247: Filha de Bolsonaro é retirada de colégio militar após sofrer bullying https://t.co/roFiQjR64q'),\n",
              " ('RT @brasil247: Filha de Bolsonaro é retirada de colégio militar após sofrer bullying https://t.co/roFiQjR64q',\n",
              "  'RT @fabio_talhari: Bom dia, amigos! Esta é especialmente dirigida aos amigos que estão em Brasília: os portões do Palácio da Alvorada estão…'),\n",
              " ('RT @fabio_talhari: Bom dia, amigos! Esta é especialmente dirigida aos amigos que estão em Brasília: os portões do Palácio da Alvorada estão…',\n",
              "  '@dan_nc Bolsonaro não foi um desastre. O erro do bolsonaro foi não ter se vendido para a grande mídia e para o sist… https://t.co/Dcw1AsEOp5'),\n",
              " ('@dan_nc Bolsonaro não foi um desastre. O erro do bolsonaro foi não ter se vendido para a grande mídia e para o sist… https://t.co/Dcw1AsEOp5',\n",
              "  'RT @GerinR91: Divulguem! Quanto mais irmãos conseguirem está lá para participar melhor!!\\nALVORADA É O PONTO!\\nPRESIDENTE BOLSONARO\\nO LADRÃO…'),\n",
              " ('RT @GerinR91: Divulguem! Quanto mais irmãos conseguirem está lá para participar melhor!!\\nALVORADA É O PONTO!\\nPRESIDENTE BOLSONARO\\nO LADRÃO…',\n",
              "  'RT @JornalBSM: Matéria do UOL apontou que funcionários concursados da pasta teriam feito de tudo para prejudicar Bolsonaro. Em setembro, o…'),\n",
              " ('RT @JornalBSM: Matéria do UOL apontou que funcionários concursados da pasta teriam feito de tudo para prejudicar Bolsonaro. Em setembro, o…',\n",
              "  '@astro_pontes @reportersalles Senador me desculpe agora com o fervor das ruas isso não é apropriado o Sr. Ganhou um… https://t.co/84xVC7aJnR')]"
            ]
          },
          "metadata": {},
          "execution_count": 31
        }
      ]
    },
    {
      "cell_type": "code",
      "source": [
        "list (trigrams(tweets))"
      ],
      "metadata": {
        "colab": {
          "base_uri": "https://localhost:8080/"
        },
        "id": "RGcAYCbDYhmv",
        "outputId": "0b4e36c1-5c1c-4bea-ff6d-fa5cffe4b370"
      },
      "execution_count": 33,
      "outputs": [
        {
          "output_type": "execute_result",
          "data": {
            "text/plain": [
              "[('RT @Fasalles: Isso é orgânico, completamente natural, verdadeiro e ninguém do lado de lá entende, políticos, ministros do império do Xandaq…',\n",
              "  'RT @ThiagoResiste: FRACASSOU a tentativa golpista de Bolsonaro hoje!!\\n\\nEsperavam 3 MILHÕES DE PESSOAS e não apareceram nem 1000 (mil)!\\n\\nDei…',\n",
              "  'RT @guilherme_amado: Filho de ministro do STJ deixa disputa entre Richarlison e amigo de Flávio Bolsonaro https://t.co/hqibBMIXPh'),\n",
              " ('RT @ThiagoResiste: FRACASSOU a tentativa golpista de Bolsonaro hoje!!\\n\\nEsperavam 3 MILHÕES DE PESSOAS e não apareceram nem 1000 (mil)!\\n\\nDei…',\n",
              "  'RT @guilherme_amado: Filho de ministro do STJ deixa disputa entre Richarlison e amigo de Flávio Bolsonaro https://t.co/hqibBMIXPh',\n",
              "  'RT @TV_22_Bolsonaro: 📌⤵️Parte 2\\nPresidente Bolsonaro hoje com o povo no Palácio da Alvorada.\\n11/12/2022 🇧🇷🙌 https://t.co/tPFNkLMYBC'),\n",
              " ('RT @guilherme_amado: Filho de ministro do STJ deixa disputa entre Richarlison e amigo de Flávio Bolsonaro https://t.co/hqibBMIXPh',\n",
              "  'RT @TV_22_Bolsonaro: 📌⤵️Parte 2\\nPresidente Bolsonaro hoje com o povo no Palácio da Alvorada.\\n11/12/2022 🇧🇷🙌 https://t.co/tPFNkLMYBC',\n",
              "  'RT @Resist_05: Jair Bolsonaro has confirmed that he is the Supreme Chief of the Armed Forces, and they will back the Brazilian citizens… ht…'),\n",
              " ('RT @TV_22_Bolsonaro: 📌⤵️Parte 2\\nPresidente Bolsonaro hoje com o povo no Palácio da Alvorada.\\n11/12/2022 🇧🇷🙌 https://t.co/tPFNkLMYBC',\n",
              "  'RT @Resist_05: Jair Bolsonaro has confirmed that he is the Supreme Chief of the Armed Forces, and they will back the Brazilian citizens… ht…',\n",
              "  'RT @Susy95910373: Ė o nordeste chegando em Brasília,\\nPatriotas tão firmes na luta, comunismo não, Presidente Bolsonaro fica. https://t.co/P…'),\n",
              " ('RT @Resist_05: Jair Bolsonaro has confirmed that he is the Supreme Chief of the Armed Forces, and they will back the Brazilian citizens… ht…',\n",
              "  'RT @Susy95910373: Ė o nordeste chegando em Brasília,\\nPatriotas tão firmes na luta, comunismo não, Presidente Bolsonaro fica. https://t.co/P…',\n",
              "  'RT @nhtfranco: ➡️Quem estiver no QG, vá para o ALVORADA\\n➡️Quem estiver na Esplanada, vá para o ALVORADA\\n➡️Quem estiver no ALVORADA, permane…'),\n",
              " ('RT @Susy95910373: Ė o nordeste chegando em Brasília,\\nPatriotas tão firmes na luta, comunismo não, Presidente Bolsonaro fica. https://t.co/P…',\n",
              "  'RT @nhtfranco: ➡️Quem estiver no QG, vá para o ALVORADA\\n➡️Quem estiver na Esplanada, vá para o ALVORADA\\n➡️Quem estiver no ALVORADA, permane…',\n",
              "  '@Edivaldord1990 @Paullo_Gustavo Temos que ser justos. Ele foi um dos poucos globais que se posicionou a favor do Bo… https://t.co/x8dS7HVMb1'),\n",
              " ('RT @nhtfranco: ➡️Quem estiver no QG, vá para o ALVORADA\\n➡️Quem estiver na Esplanada, vá para o ALVORADA\\n➡️Quem estiver no ALVORADA, permane…',\n",
              "  '@Edivaldord1990 @Paullo_Gustavo Temos que ser justos. Ele foi um dos poucos globais que se posicionou a favor do Bo… https://t.co/x8dS7HVMb1',\n",
              "  'RT @AlexanderBrasil: De forma inédita acesso ao Palácio do Alvorada ficará aberto ao público essa noite com previsão de pronunciamento do P…'),\n",
              " ('@Edivaldord1990 @Paullo_Gustavo Temos que ser justos. Ele foi um dos poucos globais que se posicionou a favor do Bo… https://t.co/x8dS7HVMb1',\n",
              "  'RT @AlexanderBrasil: De forma inédita acesso ao Palácio do Alvorada ficará aberto ao público essa noite com previsão de pronunciamento do P…',\n",
              "  'RT @NossaRenovacao: COMO A ESTRATEGIA DE @jairbolsonaro QUEBROU O SISTEMA :\\n\\nBOLSONARO SEMPRE VENDEU A IDEIA DE TEMPERAMENTO EXPLOSIVO , O…'),\n",
              " ('RT @AlexanderBrasil: De forma inédita acesso ao Palácio do Alvorada ficará aberto ao público essa noite com previsão de pronunciamento do P…',\n",
              "  'RT @NossaRenovacao: COMO A ESTRATEGIA DE @jairbolsonaro QUEBROU O SISTEMA :\\n\\nBOLSONARO SEMPRE VENDEU A IDEIA DE TEMPERAMENTO EXPLOSIVO , O…',\n",
              "  'RT @MarciaP21163571: PRESIDENTE JAIR BOLSONARO,\\xa0 BRASILEIROS NOSSA BANDEIRA É VERDE E AMARELO. MESMO DISTANTES TODOS ESTÃO UNIDOS EM UM SÓ\\xa0…'),\n",
              " ('RT @NossaRenovacao: COMO A ESTRATEGIA DE @jairbolsonaro QUEBROU O SISTEMA :\\n\\nBOLSONARO SEMPRE VENDEU A IDEIA DE TEMPERAMENTO EXPLOSIVO , O…',\n",
              "  'RT @MarciaP21163571: PRESIDENTE JAIR BOLSONARO,\\xa0 BRASILEIROS NOSSA BANDEIRA É VERDE E AMARELO. MESMO DISTANTES TODOS ESTÃO UNIDOS EM UM SÓ\\xa0…',\n",
              "  'RT @Paulogeneroso: E eu que fui processado pelo delegado que investigou a facada no Bolsonaro por dizer que ele tinha ligação com o PT e ti…'),\n",
              " ('RT @MarciaP21163571: PRESIDENTE JAIR BOLSONARO,\\xa0 BRASILEIROS NOSSA BANDEIRA É VERDE E AMARELO. MESMO DISTANTES TODOS ESTÃO UNIDOS EM UM SÓ\\xa0…',\n",
              "  'RT @Paulogeneroso: E eu que fui processado pelo delegado que investigou a facada no Bolsonaro por dizer que ele tinha ligação com o PT e ti…',\n",
              "  'RT @CamargoDireita: O Palácio da Alvorada, de portões abertos, está no topo do Twitter e humilha a diplomação. \\nBolsonaro tem o povo. Nine…'),\n",
              " ('RT @Paulogeneroso: E eu que fui processado pelo delegado que investigou a facada no Bolsonaro por dizer que ele tinha ligação com o PT e ti…',\n",
              "  'RT @CamargoDireita: O Palácio da Alvorada, de portões abertos, está no topo do Twitter e humilha a diplomação. \\nBolsonaro tem o povo. Nine…',\n",
              "  'RT @brom_elisa: Direto de Goiânia \\n\\nJúlia, a garotinha que abraçou e conversou com Bolsonaro no Alvorada.\\n\\nParabéns Júlia, você representou…'),\n",
              " ('RT @CamargoDireita: O Palácio da Alvorada, de portões abertos, está no topo do Twitter e humilha a diplomação. \\nBolsonaro tem o povo. Nine…',\n",
              "  'RT @brom_elisa: Direto de Goiânia \\n\\nJúlia, a garotinha que abraçou e conversou com Bolsonaro no Alvorada.\\n\\nParabéns Júlia, você representou…',\n",
              "  '@Bel22776152 @Jessica_tacila @LulaOficial Ter repúdio ao Bolsonaro eu entendo.Agora achar que o pt e o mula é a sol… https://t.co/v90M6az4gR'),\n",
              " ('RT @brom_elisa: Direto de Goiânia \\n\\nJúlia, a garotinha que abraçou e conversou com Bolsonaro no Alvorada.\\n\\nParabéns Júlia, você representou…',\n",
              "  '@Bel22776152 @Jessica_tacila @LulaOficial Ter repúdio ao Bolsonaro eu entendo.Agora achar que o pt e o mula é a sol… https://t.co/v90M6az4gR',\n",
              "  'RT @Fabiopf08Fabio: Bolsonaro deixa descomunal herança maldita para novo governo https://t.co/iIQ3SvTihd'),\n",
              " ('@Bel22776152 @Jessica_tacila @LulaOficial Ter repúdio ao Bolsonaro eu entendo.Agora achar que o pt e o mula é a sol… https://t.co/v90M6az4gR',\n",
              "  'RT @Fabiopf08Fabio: Bolsonaro deixa descomunal herança maldita para novo governo https://t.co/iIQ3SvTihd',\n",
              "  '@GFiuza_Oficial CALADO!\\n\\nAntes de falar do Luladrão, vocês precisam pedir perdão a nação por terem viabilizado a vo… https://t.co/R1ZMe5LkNm'),\n",
              " ('RT @Fabiopf08Fabio: Bolsonaro deixa descomunal herança maldita para novo governo https://t.co/iIQ3SvTihd',\n",
              "  '@GFiuza_Oficial CALADO!\\n\\nAntes de falar do Luladrão, vocês precisam pedir perdão a nação por terem viabilizado a vo… https://t.co/R1ZMe5LkNm',\n",
              "  '@deccache @FLSilva97 Vcs querem um outro impeachment ou um outro Bolsonaro.. Não é possível.. Não sei quem \"não apr… https://t.co/XMfp9vLktz'),\n",
              " ('@GFiuza_Oficial CALADO!\\n\\nAntes de falar do Luladrão, vocês precisam pedir perdão a nação por terem viabilizado a vo… https://t.co/R1ZMe5LkNm',\n",
              "  '@deccache @FLSilva97 Vcs querem um outro impeachment ou um outro Bolsonaro.. Não é possível.. Não sei quem \"não apr… https://t.co/XMfp9vLktz',\n",
              "  'RT @GuilhermeBoulos: Hoje é um dia histórico! Lula será diplomado Presidente da República, marcando formalmente a derrota de Bolsonaro e se…'),\n",
              " ('@deccache @FLSilva97 Vcs querem um outro impeachment ou um outro Bolsonaro.. Não é possível.. Não sei quem \"não apr… https://t.co/XMfp9vLktz',\n",
              "  'RT @GuilhermeBoulos: Hoje é um dia histórico! Lula será diplomado Presidente da República, marcando formalmente a derrota de Bolsonaro e se…',\n",
              "  'É isso aí amigos! Continuamos na luta, por Deus, por Nossa Pátria, por Nosso PR, e por Nossa Liberdade! Por isso pe… https://t.co/tfyYTjHndH'),\n",
              " ('RT @GuilhermeBoulos: Hoje é um dia histórico! Lula será diplomado Presidente da República, marcando formalmente a derrota de Bolsonaro e se…',\n",
              "  'É isso aí amigos! Continuamos na luta, por Deus, por Nossa Pátria, por Nosso PR, e por Nossa Liberdade! Por isso pe… https://t.co/tfyYTjHndH',\n",
              "  'RT @mfbr58: BOLSONARO RECOLHEU AS BANDEIRAS DO BRASIL E DO MERCOSUL E DEIXOU APENAS A BANDEIRA DA INDEPENDÊNCIA HASTEADA. TAMBÉM DEIXOU OS…'),\n",
              " ('É isso aí amigos! Continuamos na luta, por Deus, por Nossa Pátria, por Nosso PR, e por Nossa Liberdade! Por isso pe… https://t.co/tfyYTjHndH',\n",
              "  'RT @mfbr58: BOLSONARO RECOLHEU AS BANDEIRAS DO BRASIL E DO MERCOSUL E DEIXOU APENAS A BANDEIRA DA INDEPENDÊNCIA HASTEADA. TAMBÉM DEIXOU OS…',\n",
              "  'RT @acababozo: 22  DIAS PARA O FIM DO GOVERNO BOLSONARO'),\n",
              " ('RT @mfbr58: BOLSONARO RECOLHEU AS BANDEIRAS DO BRASIL E DO MERCOSUL E DEIXOU APENAS A BANDEIRA DA INDEPENDÊNCIA HASTEADA. TAMBÉM DEIXOU OS…',\n",
              "  'RT @acababozo: 22  DIAS PARA O FIM DO GOVERNO BOLSONARO',\n",
              "  'RT @Susy95910373: Ė o nordeste chegando em Brasília,\\nPatriotas tão firmes na luta, comunismo não, Presidente Bolsonaro fica. https://t.co/P…'),\n",
              " ('RT @acababozo: 22  DIAS PARA O FIM DO GOVERNO BOLSONARO',\n",
              "  'RT @Susy95910373: Ė o nordeste chegando em Brasília,\\nPatriotas tão firmes na luta, comunismo não, Presidente Bolsonaro fica. https://t.co/P…',\n",
              "  'RT @mfbr58: BOLSONARO PRECISA DO POVO LOTANDO O ALVORADA PARA PODER AGIR. SE VOCÊ ESTÁ EM BRASÍLIA, VÁ PARA LÁ AGORA!!'),\n",
              " ('RT @Susy95910373: Ė o nordeste chegando em Brasília,\\nPatriotas tão firmes na luta, comunismo não, Presidente Bolsonaro fica. https://t.co/P…',\n",
              "  'RT @mfbr58: BOLSONARO PRECISA DO POVO LOTANDO O ALVORADA PARA PODER AGIR. SE VOCÊ ESTÁ EM BRASÍLIA, VÁ PARA LÁ AGORA!!',\n",
              "  'RT @EliasJrBrasil: Acorda povo\\nURGENTE!!! 🚨\\nQUEM ESTIVER EM BRASÍLIA TODOS A ALVORADA A CASA DO PRESIDENTE\\nPEDINDO INTERVENÇÃO MILITAR COM…'),\n",
              " ('RT @mfbr58: BOLSONARO PRECISA DO POVO LOTANDO O ALVORADA PARA PODER AGIR. SE VOCÊ ESTÁ EM BRASÍLIA, VÁ PARA LÁ AGORA!!',\n",
              "  'RT @EliasJrBrasil: Acorda povo\\nURGENTE!!! 🚨\\nQUEM ESTIVER EM BRASÍLIA TODOS A ALVORADA A CASA DO PRESIDENTE\\nPEDINDO INTERVENÇÃO MILITAR COM…',\n",
              "  'RT @PedroRonchi2: Agradeço a todos os apoiadores do Bolsonaro que fazem comentários nas minhas postagens porque aumenta o engajamento e o n…'),\n",
              " ('RT @EliasJrBrasil: Acorda povo\\nURGENTE!!! 🚨\\nQUEM ESTIVER EM BRASÍLIA TODOS A ALVORADA A CASA DO PRESIDENTE\\nPEDINDO INTERVENÇÃO MILITAR COM…',\n",
              "  'RT @PedroRonchi2: Agradeço a todos os apoiadores do Bolsonaro que fazem comentários nas minhas postagens porque aumenta o engajamento e o n…',\n",
              "  'RT @Paulogeneroso: Mensagem de Natal da família de Eduardo Bolsonaro.  Preste atenção na letra , fala MUITO aos nossos corações https://t.c…'),\n",
              " ('RT @PedroRonchi2: Agradeço a todos os apoiadores do Bolsonaro que fazem comentários nas minhas postagens porque aumenta o engajamento e o n…',\n",
              "  'RT @Paulogeneroso: Mensagem de Natal da família de Eduardo Bolsonaro.  Preste atenção na letra , fala MUITO aos nossos corações https://t.c…',\n",
              "  'RT @J_LIVRES: \"Toda vez que você assistir um vídeo do demissionário chorando, lembre-se que a sua real faceta é essa aqui. Jamais deixaremo…'),\n",
              " ('RT @Paulogeneroso: Mensagem de Natal da família de Eduardo Bolsonaro.  Preste atenção na letra , fala MUITO aos nossos corações https://t.c…',\n",
              "  'RT @J_LIVRES: \"Toda vez que você assistir um vídeo do demissionário chorando, lembre-se que a sua real faceta é essa aqui. Jamais deixaremo…',\n",
              "  'RT @lugubremonotomo: Bom dia Patriotas, como vocês, eu votei 22 com muito orgulho\\nAlvorada virou casa aberta ao povo, será nossa diplomação…'),\n",
              " ('RT @J_LIVRES: \"Toda vez que você assistir um vídeo do demissionário chorando, lembre-se que a sua real faceta é essa aqui. Jamais deixaremo…',\n",
              "  'RT @lugubremonotomo: Bom dia Patriotas, como vocês, eu votei 22 com muito orgulho\\nAlvorada virou casa aberta ao povo, será nossa diplomação…',\n",
              "  'RT @ana_zemuner: Minha conclusão,  Bolsonaro  só foi eleito  em 2018 pq o \"algoritmo\"  não previu  uma diferença tão grande entre os candid…'),\n",
              " ('RT @lugubremonotomo: Bom dia Patriotas, como vocês, eu votei 22 com muito orgulho\\nAlvorada virou casa aberta ao povo, será nossa diplomação…',\n",
              "  'RT @ana_zemuner: Minha conclusão,  Bolsonaro  só foi eleito  em 2018 pq o \"algoritmo\"  não previu  uma diferença tão grande entre os candid…',\n",
              "  'RT @Metropoles: Bolsonaro chora ao abraçar criança em frente ao Alvorada\\n\\nAssim como fez na última sexta (9/12),  #Bolsonaro foi ao encontr…'),\n",
              " ('RT @ana_zemuner: Minha conclusão,  Bolsonaro  só foi eleito  em 2018 pq o \"algoritmo\"  não previu  uma diferença tão grande entre os candid…',\n",
              "  'RT @Metropoles: Bolsonaro chora ao abraçar criança em frente ao Alvorada\\n\\nAssim como fez na última sexta (9/12),  #Bolsonaro foi ao encontr…',\n",
              "  'Alguma novidade ? Cadê o pessoal do mimimi .. aiiiiii o filho do Bolsonaro 🙄 https://t.co/GL2aBfrGIl'),\n",
              " ('RT @Metropoles: Bolsonaro chora ao abraçar criança em frente ao Alvorada\\n\\nAssim como fez na última sexta (9/12),  #Bolsonaro foi ao encontr…',\n",
              "  'Alguma novidade ? Cadê o pessoal do mimimi .. aiiiiii o filho do Bolsonaro 🙄 https://t.co/GL2aBfrGIl',\n",
              "  'RT @AlexanderBrasil: Nossa queridíssima Primeira-dama do Brasil Michele Bolsonaro, acabou de mandar servir lanches para o pessoal que está…'),\n",
              " ('Alguma novidade ? Cadê o pessoal do mimimi .. aiiiiii o filho do Bolsonaro 🙄 https://t.co/GL2aBfrGIl',\n",
              "  'RT @AlexanderBrasil: Nossa queridíssima Primeira-dama do Brasil Michele Bolsonaro, acabou de mandar servir lanches para o pessoal que está…',\n",
              "  'RT @VlogdoLisboa: Impossível não se Emocionar \\nBolsonaro recebeu o Povo hoje veja 11-12-22 https://t.co/lIw1zuRYEg'),\n",
              " ('RT @AlexanderBrasil: Nossa queridíssima Primeira-dama do Brasil Michele Bolsonaro, acabou de mandar servir lanches para o pessoal que está…',\n",
              "  'RT @VlogdoLisboa: Impossível não se Emocionar \\nBolsonaro recebeu o Povo hoje veja 11-12-22 https://t.co/lIw1zuRYEg',\n",
              "  'RT @direitasiqueira: TRISTE DEMAIS QUE A FILHA DO BOLSONARO ESTÁ SOFRENDO BULLYING!!! LI POR AÍ QUE ELA JÁ FOI CHAMADA ATÉ DE FRAQUEJADA PO…'),\n",
              " ('RT @VlogdoLisboa: Impossível não se Emocionar \\nBolsonaro recebeu o Povo hoje veja 11-12-22 https://t.co/lIw1zuRYEg',\n",
              "  'RT @direitasiqueira: TRISTE DEMAIS QUE A FILHA DO BOLSONARO ESTÁ SOFRENDO BULLYING!!! LI POR AÍ QUE ELA JÁ FOI CHAMADA ATÉ DE FRAQUEJADA PO…',\n",
              "  '@senadorhumberto @LulaOficial Óbvio! Quer que torça pra fazer um péssimo governo? Diria que 100% torce pro Brasil i… https://t.co/kCGFFmxsFK'),\n",
              " ('RT @direitasiqueira: TRISTE DEMAIS QUE A FILHA DO BOLSONARO ESTÁ SOFRENDO BULLYING!!! LI POR AÍ QUE ELA JÁ FOI CHAMADA ATÉ DE FRAQUEJADA PO…',\n",
              "  '@senadorhumberto @LulaOficial Óbvio! Quer que torça pra fazer um péssimo governo? Diria que 100% torce pro Brasil i… https://t.co/kCGFFmxsFK',\n",
              "  'RT @EdnaSa16: NÓS AMAMOS O PRESIDENTE BOLSONARO E QUEREMOS ELE GOVERNANDO O BRASIL!! 💚🇧🇷'),\n",
              " ('@senadorhumberto @LulaOficial Óbvio! Quer que torça pra fazer um péssimo governo? Diria que 100% torce pro Brasil i… https://t.co/kCGFFmxsFK',\n",
              "  'RT @EdnaSa16: NÓS AMAMOS O PRESIDENTE BOLSONARO E QUEREMOS ELE GOVERNANDO O BRASIL!! 💚🇧🇷',\n",
              "  'RT @LOBA_DA_NEVE: Fato ou fake?\\nO delegado que investigou a tentativa de homicídio contra o presidente Bolsonaro ganhará um cargo no govern…'),\n",
              " ('RT @EdnaSa16: NÓS AMAMOS O PRESIDENTE BOLSONARO E QUEREMOS ELE GOVERNANDO O BRASIL!! 💚🇧🇷',\n",
              "  'RT @LOBA_DA_NEVE: Fato ou fake?\\nO delegado que investigou a tentativa de homicídio contra o presidente Bolsonaro ganhará um cargo no govern…',\n",
              "  'RT @JornalBSM: Depois de uma oração do Pai Nosso junto a um pastor, o presidente saudou o povo e despediu-se\\nhttps://t.co/At9Cutxasp'),\n",
              " ('RT @LOBA_DA_NEVE: Fato ou fake?\\nO delegado que investigou a tentativa de homicídio contra o presidente Bolsonaro ganhará um cargo no govern…',\n",
              "  'RT @JornalBSM: Depois de uma oração do Pai Nosso junto a um pastor, o presidente saudou o povo e despediu-se\\nhttps://t.co/At9Cutxasp',\n",
              "  'RT @Nynari2003: E vem o Gilmar pedir pacificação. Depois de 4 anos vcs massacrando o Presidente Bolsonaro, perseguindo seus apoiadores, agi…'),\n",
              " ('RT @JornalBSM: Depois de uma oração do Pai Nosso junto a um pastor, o presidente saudou o povo e despediu-se\\nhttps://t.co/At9Cutxasp',\n",
              "  'RT @Nynari2003: E vem o Gilmar pedir pacificação. Depois de 4 anos vcs massacrando o Presidente Bolsonaro, perseguindo seus apoiadores, agi…',\n",
              "  'RT @TerraBrasilnot: Impressionante: governo Bolsonaro paga hoje Auxílio Brasil, vale-gás em dobro, auxílio táxi e auxílio\\xa0caminhoneiro http…'),\n",
              " ('RT @Nynari2003: E vem o Gilmar pedir pacificação. Depois de 4 anos vcs massacrando o Presidente Bolsonaro, perseguindo seus apoiadores, agi…',\n",
              "  'RT @TerraBrasilnot: Impressionante: governo Bolsonaro paga hoje Auxílio Brasil, vale-gás em dobro, auxílio táxi e auxílio\\xa0caminhoneiro http…',\n",
              "  '@MariasbelaC @Paullo_Gustavo Temos que ser justos. Ele foi um dos poucos globais que se posicionou a favor do Bolso… https://t.co/nFLGg7cyvJ'),\n",
              " ('RT @TerraBrasilnot: Impressionante: governo Bolsonaro paga hoje Auxílio Brasil, vale-gás em dobro, auxílio táxi e auxílio\\xa0caminhoneiro http…',\n",
              "  '@MariasbelaC @Paullo_Gustavo Temos que ser justos. Ele foi um dos poucos globais que se posicionou a favor do Bolso… https://t.co/nFLGg7cyvJ',\n",
              "  '@NordestePatrio1 @taoquei1 Bolsonaro é o enviado de Deus para o Brasil e para o Mundo.'),\n",
              " ('@MariasbelaC @Paullo_Gustavo Temos que ser justos. Ele foi um dos poucos globais que se posicionou a favor do Bolso… https://t.co/nFLGg7cyvJ',\n",
              "  '@NordestePatrio1 @taoquei1 Bolsonaro é o enviado de Deus para o Brasil e para o Mundo.',\n",
              "  'RT @Regina_Goiana: E o nome disso é corrupção.\\n\"Todos da elite mandatária são artífices e sócios do furto espetacular, mantido em sigilo et…'),\n",
              " ('@NordestePatrio1 @taoquei1 Bolsonaro é o enviado de Deus para o Brasil e para o Mundo.',\n",
              "  'RT @Regina_Goiana: E o nome disso é corrupção.\\n\"Todos da elite mandatária são artífices e sócios do furto espetacular, mantido em sigilo et…',\n",
              "  'RT @likeazombie: agora q a família não precisa mais manter os personagens michelle largou a mão dos crentes e nunca mais pisou na igreja e…'),\n",
              " ('RT @Regina_Goiana: E o nome disso é corrupção.\\n\"Todos da elite mandatária são artífices e sócios do furto espetacular, mantido em sigilo et…',\n",
              "  'RT @likeazombie: agora q a família não precisa mais manter os personagens michelle largou a mão dos crentes e nunca mais pisou na igreja e…',\n",
              "  'RT @veronikapistore: Não posso negar o poder de Bolsonaro. Ele criou o neonazista negro, a mulher machista, o cristão odioso e o pobre burg…'),\n",
              " ('RT @likeazombie: agora q a família não precisa mais manter os personagens michelle largou a mão dos crentes e nunca mais pisou na igreja e…',\n",
              "  'RT @veronikapistore: Não posso negar o poder de Bolsonaro. Ele criou o neonazista negro, a mulher machista, o cristão odioso e o pobre burg…',\n",
              "  'Que eu saiba o chefe das FFAA é Bolsonaro até 31 de Dezembro.Ou vc copiou a informação do Terra Brasil?Se liga Lisb… https://t.co/AmXOle27rX'),\n",
              " ('RT @veronikapistore: Não posso negar o poder de Bolsonaro. Ele criou o neonazista negro, a mulher machista, o cristão odioso e o pobre burg…',\n",
              "  'Que eu saiba o chefe das FFAA é Bolsonaro até 31 de Dezembro.Ou vc copiou a informação do Terra Brasil?Se liga Lisb… https://t.co/AmXOle27rX',\n",
              "  '@realpfigueiredo Foi lula que o nomeio? Ou foi bolsonaro ?'),\n",
              " ('Que eu saiba o chefe das FFAA é Bolsonaro até 31 de Dezembro.Ou vc copiou a informação do Terra Brasil?Se liga Lisb… https://t.co/AmXOle27rX',\n",
              "  '@realpfigueiredo Foi lula que o nomeio? Ou foi bolsonaro ?',\n",
              "  'Não existe condenação? Aff, a anulação jamais foi por NÃO Cometimento de crime. MENTIROSOS. Mas pode chamar o presi… https://t.co/D4BzNkDNni'),\n",
              " ('@realpfigueiredo Foi lula que o nomeio? Ou foi bolsonaro ?',\n",
              "  'Não existe condenação? Aff, a anulação jamais foi por NÃO Cometimento de crime. MENTIROSOS. Mas pode chamar o presi… https://t.co/D4BzNkDNni',\n",
              "  'NÃO EXISTE INTERVENÇÃO MILITAR COM BOLSONARO NO PODER !!!\\n\\nNa prática significa:\\n\\nGOLPE DE ESTADO COM BOLSONARO DIT… https://t.co/ErqO6qmh2G'),\n",
              " ('Não existe condenação? Aff, a anulação jamais foi por NÃO Cometimento de crime. MENTIROSOS. Mas pode chamar o presi… https://t.co/D4BzNkDNni',\n",
              "  'NÃO EXISTE INTERVENÇÃO MILITAR COM BOLSONARO NO PODER !!!\\n\\nNa prática significa:\\n\\nGOLPE DE ESTADO COM BOLSONARO DIT… https://t.co/ErqO6qmh2G',\n",
              "  'RT @Carolmph: Impressionante: governo Bolsonaro paga hoje Auxílio Brasil, vale-gás em dobro, auxílio táxi e auxílio caminhoneiro  https://t…'),\n",
              " ('NÃO EXISTE INTERVENÇÃO MILITAR COM BOLSONARO NO PODER !!!\\n\\nNa prática significa:\\n\\nGOLPE DE ESTADO COM BOLSONARO DIT… https://t.co/ErqO6qmh2G',\n",
              "  'RT @Carolmph: Impressionante: governo Bolsonaro paga hoje Auxílio Brasil, vale-gás em dobro, auxílio táxi e auxílio caminhoneiro  https://t…',\n",
              "  'RT @flaviocostaf: “Bolsonaro apagou da fila de espera 128 mil famílias q esperam pra receber R$ 600. A ideia era mostrar que o governo cons…'),\n",
              " ('RT @Carolmph: Impressionante: governo Bolsonaro paga hoje Auxílio Brasil, vale-gás em dobro, auxílio táxi e auxílio caminhoneiro  https://t…',\n",
              "  'RT @flaviocostaf: “Bolsonaro apagou da fila de espera 128 mil famílias q esperam pra receber R$ 600. A ideia era mostrar que o governo cons…',\n",
              "  'RT @FernandaY1978: Pelo menos HOJE é de EXTREMA IMPORTÂNCIA que os apoiadores do Presidente Bolsonaro que estão em Brasília se dirijam para…'),\n",
              " ('RT @flaviocostaf: “Bolsonaro apagou da fila de espera 128 mil famílias q esperam pra receber R$ 600. A ideia era mostrar que o governo cons…',\n",
              "  'RT @FernandaY1978: Pelo menos HOJE é de EXTREMA IMPORTÂNCIA que os apoiadores do Presidente Bolsonaro que estão em Brasília se dirijam para…',\n",
              "  '@astro_pontes @reportersalles É direito do Sr. parabenizar quem quiser, mas q soa politicamente inadequado soa, num… https://t.co/xrdDxMU2zM'),\n",
              " ('RT @FernandaY1978: Pelo menos HOJE é de EXTREMA IMPORTÂNCIA que os apoiadores do Presidente Bolsonaro que estão em Brasília se dirijam para…',\n",
              "  '@astro_pontes @reportersalles É direito do Sr. parabenizar quem quiser, mas q soa politicamente inadequado soa, num… https://t.co/xrdDxMU2zM',\n",
              "  'RT @viniciuscfp82: Confere? Se for verdade, então o Bolsonaro quer o povo também no Palácio do Alvorada. https://t.co/fLFAreR14l'),\n",
              " ('@astro_pontes @reportersalles É direito do Sr. parabenizar quem quiser, mas q soa politicamente inadequado soa, num… https://t.co/xrdDxMU2zM',\n",
              "  'RT @viniciuscfp82: Confere? Se for verdade, então o Bolsonaro quer o povo também no Palácio do Alvorada. https://t.co/fLFAreR14l',\n",
              "  '@HeyHipocrita Ué! O presidente é o Bolsonaro, não é?'),\n",
              " ('RT @viniciuscfp82: Confere? Se for verdade, então o Bolsonaro quer o povo também no Palácio do Alvorada. https://t.co/fLFAreR14l',\n",
              "  '@HeyHipocrita Ué! O presidente é o Bolsonaro, não é?',\n",
              "  'RT @BootNirvana: BOLSONARO QUER O POVO NO ALVORADA, SO NAO PODE DIZER\\n#SOSFORCASARMADAS \\n#SOSForcasArmadasSalvemOBrasil \\n#LulaLadraoNaoSobe…'),\n",
              " ('@HeyHipocrita Ué! O presidente é o Bolsonaro, não é?',\n",
              "  'RT @BootNirvana: BOLSONARO QUER O POVO NO ALVORADA, SO NAO PODE DIZER\\n#SOSFORCASARMADAS \\n#SOSForcasArmadasSalvemOBrasil \\n#LulaLadraoNaoSobe…',\n",
              "  'RT @Susy95910373: Ė o nordeste chegando em Brasília,\\nPatriotas tão firmes na luta, comunismo não, Presidente Bolsonaro fica. https://t.co/P…'),\n",
              " ('RT @BootNirvana: BOLSONARO QUER O POVO NO ALVORADA, SO NAO PODE DIZER\\n#SOSFORCASARMADAS \\n#SOSForcasArmadasSalvemOBrasil \\n#LulaLadraoNaoSobe…',\n",
              "  'RT @Susy95910373: Ė o nordeste chegando em Brasília,\\nPatriotas tão firmes na luta, comunismo não, Presidente Bolsonaro fica. https://t.co/P…',\n",
              "  'RT @delucca: Bolsonaristas comemorando que um ator foi assaltado e espancado (ainda durante o governo Bolsonaro, alias) mostra pra gente qu…'),\n",
              " ('RT @Susy95910373: Ė o nordeste chegando em Brasília,\\nPatriotas tão firmes na luta, comunismo não, Presidente Bolsonaro fica. https://t.co/P…',\n",
              "  'RT @delucca: Bolsonaristas comemorando que um ator foi assaltado e espancado (ainda durante o governo Bolsonaro, alias) mostra pra gente qu…',\n",
              "  'RT @LeiaRachor: Eu não disse que essa ESQUERDALHA queria PALANQUE.\\nImaginem isso como primeira dama... TUDO que a 1° Dama Michelle bolsonar…'),\n",
              " ('RT @delucca: Bolsonaristas comemorando que um ator foi assaltado e espancado (ainda durante o governo Bolsonaro, alias) mostra pra gente qu…',\n",
              "  'RT @LeiaRachor: Eu não disse que essa ESQUERDALHA queria PALANQUE.\\nImaginem isso como primeira dama... TUDO que a 1° Dama Michelle bolsonar…',\n",
              "  'RT @c_bede: Fake News propagada pela esquerda, que mulheres,negros ,homossexuais não votam no Bolsonaro.  Mas como o L4drão diz:\"temos que…'),\n",
              " ('RT @LeiaRachor: Eu não disse que essa ESQUERDALHA queria PALANQUE.\\nImaginem isso como primeira dama... TUDO que a 1° Dama Michelle bolsonar…',\n",
              "  'RT @c_bede: Fake News propagada pela esquerda, que mulheres,negros ,homossexuais não votam no Bolsonaro.  Mas como o L4drão diz:\"temos que…',\n",
              "  'RT @brasil247: País está no vermelho também Tribunal Penal Internacional e na Organização Mundial do Comércio; dívida total é de R$ 5,5 bil…'),\n",
              " ('RT @c_bede: Fake News propagada pela esquerda, que mulheres,negros ,homossexuais não votam no Bolsonaro.  Mas como o L4drão diz:\"temos que…',\n",
              "  'RT @brasil247: País está no vermelho também Tribunal Penal Internacional e na Organização Mundial do Comércio; dívida total é de R$ 5,5 bil…',\n",
              "  'RT @nhtfranco: 🇧🇷 Hoje é dia de todos os patriotas se unirem com nosso Presidente Bolsonaro, no Alvorada. Mantenham a base civil no QG e se…'),\n",
              " ('RT @brasil247: País está no vermelho também Tribunal Penal Internacional e na Organização Mundial do Comércio; dívida total é de R$ 5,5 bil…',\n",
              "  'RT @nhtfranco: 🇧🇷 Hoje é dia de todos os patriotas se unirem com nosso Presidente Bolsonaro, no Alvorada. Mantenham a base civil no QG e se…',\n",
              "  'RT @Resist_05: Jair Bolsonaro has confirmed that he is the Supreme Chief of the Armed Forces, and they will back the Brazilian citizens… ht…'),\n",
              " ('RT @nhtfranco: 🇧🇷 Hoje é dia de todos os patriotas se unirem com nosso Presidente Bolsonaro, no Alvorada. Mantenham a base civil no QG e se…',\n",
              "  'RT @Resist_05: Jair Bolsonaro has confirmed that he is the Supreme Chief of the Armed Forces, and they will back the Brazilian citizens… ht…',\n",
              "  'RT @acababozo: 22  DIAS PARA O FIM DO GOVERNO BOLSONARO'),\n",
              " ('RT @Resist_05: Jair Bolsonaro has confirmed that he is the Supreme Chief of the Armed Forces, and they will back the Brazilian citizens… ht…',\n",
              "  'RT @acababozo: 22  DIAS PARA O FIM DO GOVERNO BOLSONARO',\n",
              "  'RT @Resist_05: Jair Bolsonaro has confirmed that he is the Supreme Chief of the Armed Forces, and they will back the Brazilian citizens… ht…'),\n",
              " ('RT @acababozo: 22  DIAS PARA O FIM DO GOVERNO BOLSONARO',\n",
              "  'RT @Resist_05: Jair Bolsonaro has confirmed that he is the Supreme Chief of the Armed Forces, and they will back the Brazilian citizens… ht…',\n",
              "  'RT @denise47613384: Michelle Bolsonaro 👏👏👏👏👏👏👏👏👏👏👏👏👏👏 https://t.co/TkRMUTMfKI'),\n",
              " ('RT @Resist_05: Jair Bolsonaro has confirmed that he is the Supreme Chief of the Armed Forces, and they will back the Brazilian citizens… ht…',\n",
              "  'RT @denise47613384: Michelle Bolsonaro 👏👏👏👏👏👏👏👏👏👏👏👏👏👏 https://t.co/TkRMUTMfKI',\n",
              "  'RT @RTdaFlaTT: SEGURANÇA DO ALVORADA! 🚨\\n\\n\" - A PRIMEIRA DAMA MANDOU UM LANCHINHO PRA VOCÊS!\"\\n\\nMICHELE BOLSONARO MANDOU SERVIR LANCHE PRA QU…'),\n",
              " ('RT @denise47613384: Michelle Bolsonaro 👏👏👏👏👏👏👏👏👏👏👏👏👏👏 https://t.co/TkRMUTMfKI',\n",
              "  'RT @RTdaFlaTT: SEGURANÇA DO ALVORADA! 🚨\\n\\n\" - A PRIMEIRA DAMA MANDOU UM LANCHINHO PRA VOCÊS!\"\\n\\nMICHELE BOLSONARO MANDOU SERVIR LANCHE PRA QU…',\n",
              "  '@olhoconservador @N_Carvalheira Ele votou em Bolsonaro.'),\n",
              " ('RT @RTdaFlaTT: SEGURANÇA DO ALVORADA! 🚨\\n\\n\" - A PRIMEIRA DAMA MANDOU UM LANCHINHO PRA VOCÊS!\"\\n\\nMICHELE BOLSONARO MANDOU SERVIR LANCHE PRA QU…',\n",
              "  '@olhoconservador @N_Carvalheira Ele votou em Bolsonaro.',\n",
              "  '@senadorhumberto O Bolsonaro está sendo acusado por não haver colocado toda a quadrilha petista na cadeia? 🤔 https://t.co/QcZZqk4rSB'),\n",
              " ('@olhoconservador @N_Carvalheira Ele votou em Bolsonaro.',\n",
              "  '@senadorhumberto O Bolsonaro está sendo acusado por não haver colocado toda a quadrilha petista na cadeia? 🤔 https://t.co/QcZZqk4rSB',\n",
              "  'RT @senadorhumberto: Criminosos acima de tudo, Bolsonaro acima de todos. https://t.co/tAADFSJe2Q'),\n",
              " ('@senadorhumberto O Bolsonaro está sendo acusado por não haver colocado toda a quadrilha petista na cadeia? 🤔 https://t.co/QcZZqk4rSB',\n",
              "  'RT @senadorhumberto: Criminosos acima de tudo, Bolsonaro acima de todos. https://t.co/tAADFSJe2Q',\n",
              "  'RT @Belzebu____666: Nao existe apoio de empresários a Bolsonaro, existem empresários  cúmplices de algum crime ou favorecido do ex presiden…'),\n",
              " ('RT @senadorhumberto: Criminosos acima de tudo, Bolsonaro acima de todos. https://t.co/tAADFSJe2Q',\n",
              "  'RT @Belzebu____666: Nao existe apoio de empresários a Bolsonaro, existem empresários  cúmplices de algum crime ou favorecido do ex presiden…',\n",
              "  'RT @Resist_05: Jair Bolsonaro has confirmed that he is the Supreme Chief of the Armed Forces, and they will back the Brazilian citizens… ht…'),\n",
              " ('RT @Belzebu____666: Nao existe apoio de empresários a Bolsonaro, existem empresários  cúmplices de algum crime ou favorecido do ex presiden…',\n",
              "  'RT @Resist_05: Jair Bolsonaro has confirmed that he is the Supreme Chief of the Armed Forces, and they will back the Brazilian citizens… ht…',\n",
              "  'RT @bolsoregrets: Não sei quantas vezes mais eu vou falar que Bolsonaro pegou os conselhos do amigo Bannon e vai fazer IGUAL ao Trump fez n…'),\n",
              " ('RT @Resist_05: Jair Bolsonaro has confirmed that he is the Supreme Chief of the Armed Forces, and they will back the Brazilian citizens… ht…',\n",
              "  'RT @bolsoregrets: Não sei quantas vezes mais eu vou falar que Bolsonaro pegou os conselhos do amigo Bannon e vai fazer IGUAL ao Trump fez n…',\n",
              "  'RT @77_frota: Bom dia 🇧🇷 acordar em Brasilia dia 12 de Dezembro com a Diplomação do Lula às 14 h e sabendo que o Bolsonaro já não apita e n…'),\n",
              " ('RT @bolsoregrets: Não sei quantas vezes mais eu vou falar que Bolsonaro pegou os conselhos do amigo Bannon e vai fazer IGUAL ao Trump fez n…',\n",
              "  'RT @77_frota: Bom dia 🇧🇷 acordar em Brasilia dia 12 de Dezembro com a Diplomação do Lula às 14 h e sabendo que o Bolsonaro já não apita e n…',\n",
              "  'RT @c_bede: Fake News propagada pela esquerda, que mulheres,negros ,homossexuais não votam no Bolsonaro.  Mas como o L4drão diz:\"temos que…'),\n",
              " ('RT @77_frota: Bom dia 🇧🇷 acordar em Brasilia dia 12 de Dezembro com a Diplomação do Lula às 14 h e sabendo que o Bolsonaro já não apita e n…',\n",
              "  'RT @c_bede: Fake News propagada pela esquerda, que mulheres,negros ,homossexuais não votam no Bolsonaro.  Mas como o L4drão diz:\"temos que…',\n",
              "  '@PH08072018 @Paullo_Gustavo @CorreiaAriele Temos que ser justos. Ele foi um dos poucos globais que se posicionou a… https://t.co/UB1iHuIBqi'),\n",
              " ('RT @c_bede: Fake News propagada pela esquerda, que mulheres,negros ,homossexuais não votam no Bolsonaro.  Mas como o L4drão diz:\"temos que…',\n",
              "  '@PH08072018 @Paullo_Gustavo @CorreiaAriele Temos que ser justos. Ele foi um dos poucos globais que se posicionou a… https://t.co/UB1iHuIBqi',\n",
              "  'RT @ElTrumpista: Michelle Bolsonaro, primera dama de Brasil estuvo entregando sandwichs esta noche a los manifestantes que se encuentran pr…'),\n",
              " ('@PH08072018 @Paullo_Gustavo @CorreiaAriele Temos que ser justos. Ele foi um dos poucos globais que se posicionou a… https://t.co/UB1iHuIBqi',\n",
              "  'RT @ElTrumpista: Michelle Bolsonaro, primera dama de Brasil estuvo entregando sandwichs esta noche a los manifestantes que se encuentran pr…',\n",
              "  'RT @carlat_aruiva: Vamos encher o Palácio da Alvorada! Bolsonaro já deu o recado.\\nTODOS PARA O ALVORADA! TODOS PARA O ALVORADA! TODOS PARA…'),\n",
              " ('RT @ElTrumpista: Michelle Bolsonaro, primera dama de Brasil estuvo entregando sandwichs esta noche a los manifestantes que se encuentran pr…',\n",
              "  'RT @carlat_aruiva: Vamos encher o Palácio da Alvorada! Bolsonaro já deu o recado.\\nTODOS PARA O ALVORADA! TODOS PARA O ALVORADA! TODOS PARA…',\n",
              "  'RT @__Domani_: 🇧🇷 Pela primeira vez o Palácio da Alvorada ficará com seu acesso liberado ao público essa noite. Há rumores que o Pr. Bolson…'),\n",
              " ('RT @carlat_aruiva: Vamos encher o Palácio da Alvorada! Bolsonaro já deu o recado.\\nTODOS PARA O ALVORADA! TODOS PARA O ALVORADA! TODOS PARA…',\n",
              "  'RT @__Domani_: 🇧🇷 Pela primeira vez o Palácio da Alvorada ficará com seu acesso liberado ao público essa noite. Há rumores que o Pr. Bolson…',\n",
              "  'RT @rafaelgloves: Mas Bolsonaro é mal-educado https://t.co/oPqZzOo5US'),\n",
              " ('RT @__Domani_: 🇧🇷 Pela primeira vez o Palácio da Alvorada ficará com seu acesso liberado ao público essa noite. Há rumores que o Pr. Bolson…',\n",
              "  'RT @rafaelgloves: Mas Bolsonaro é mal-educado https://t.co/oPqZzOo5US',\n",
              "  'RT @Ercio_Santos: Os portões do Palácio da Alvorada estão abertos. \\n\\nO Presidente Bolsonaro fará um pronunciamento às 11:00 h hoje e está d…'),\n",
              " ('RT @rafaelgloves: Mas Bolsonaro é mal-educado https://t.co/oPqZzOo5US',\n",
              "  'RT @Ercio_Santos: Os portões do Palácio da Alvorada estão abertos. \\n\\nO Presidente Bolsonaro fará um pronunciamento às 11:00 h hoje e está d…',\n",
              "  'RT @rodolfo84cmpsr: Presidente Bolsonaro\\n\\nencarecidamente, vá\\n\\nobrigado! https://t.co/DJgJhf9XVU'),\n",
              " ('RT @Ercio_Santos: Os portões do Palácio da Alvorada estão abertos. \\n\\nO Presidente Bolsonaro fará um pronunciamento às 11:00 h hoje e está d…',\n",
              "  'RT @rodolfo84cmpsr: Presidente Bolsonaro\\n\\nencarecidamente, vá\\n\\nobrigado! https://t.co/DJgJhf9XVU',\n",
              "  '@vozdopovobrazil Eu vejo as pessoas falando muita besteira. Gente, Bolsonaro não pode fugir das 4 linhas senão ele… https://t.co/RNxzcORccG'),\n",
              " ('RT @rodolfo84cmpsr: Presidente Bolsonaro\\n\\nencarecidamente, vá\\n\\nobrigado! https://t.co/DJgJhf9XVU',\n",
              "  '@vozdopovobrazil Eu vejo as pessoas falando muita besteira. Gente, Bolsonaro não pode fugir das 4 linhas senão ele… https://t.co/RNxzcORccG',\n",
              "  'RT @SergioAJBarrett: Mas a Carla Zambelli está então abandonando o barco dos baderneiros golpistas? \\nSerá medo da multa ou de ser presa?…'),\n",
              " ('@vozdopovobrazil Eu vejo as pessoas falando muita besteira. Gente, Bolsonaro não pode fugir das 4 linhas senão ele… https://t.co/RNxzcORccG',\n",
              "  'RT @SergioAJBarrett: Mas a Carla Zambelli está então abandonando o barco dos baderneiros golpistas? \\nSerá medo da multa ou de ser presa?…',\n",
              "  'RT @CentralEleicoes: 🤝Arthur Lira se dispõe a passar a faixa presidencial para Lula.\\n\\nSegundo parlamentares do PT, Lira tem dito, em conver…'),\n",
              " ('RT @SergioAJBarrett: Mas a Carla Zambelli está então abandonando o barco dos baderneiros golpistas? \\nSerá medo da multa ou de ser presa?…',\n",
              "  'RT @CentralEleicoes: 🤝Arthur Lira se dispõe a passar a faixa presidencial para Lula.\\n\\nSegundo parlamentares do PT, Lira tem dito, em conver…',\n",
              "  'RT @fabiofaria: Nada como a verdade dos fatos antes de criarem falsas narrativas.\\nO Brasil foi um dos Países que saiu mais forte da pandemi…'),\n",
              " ('RT @CentralEleicoes: 🤝Arthur Lira se dispõe a passar a faixa presidencial para Lula.\\n\\nSegundo parlamentares do PT, Lira tem dito, em conver…',\n",
              "  'RT @fabiofaria: Nada como a verdade dos fatos antes de criarem falsas narrativas.\\nO Brasil foi um dos Países que saiu mais forte da pandemi…',\n",
              "  'RT @ElisePistola: Bom dia, amigos! \\nOs portões do Palácio da Alvorada estão abertos. \\nO Presidente Bolsonaro fará um pronunciamento às 11:0…'),\n",
              " ('RT @fabiofaria: Nada como a verdade dos fatos antes de criarem falsas narrativas.\\nO Brasil foi um dos Países que saiu mais forte da pandemi…',\n",
              "  'RT @ElisePistola: Bom dia, amigos! \\nOs portões do Palácio da Alvorada estão abertos. \\nO Presidente Bolsonaro fará um pronunciamento às 11:0…',\n",
              "  'RT @ElisePistola: Presidente Bolsonaro NÃO ESTÁ SOZINHO ‼️ \\n👉Vamos fazer teste de alcance com todos Retwittando e curtindo❓\\n👉Que der a 🇧🇷,e…'),\n",
              " ('RT @ElisePistola: Bom dia, amigos! \\nOs portões do Palácio da Alvorada estão abertos. \\nO Presidente Bolsonaro fará um pronunciamento às 11:0…',\n",
              "  'RT @ElisePistola: Presidente Bolsonaro NÃO ESTÁ SOZINHO ‼️ \\n👉Vamos fazer teste de alcance com todos Retwittando e curtindo❓\\n👉Que der a 🇧🇷,e…',\n",
              "  'RT @GeorgMarques: A fila do Auxílio Brasil, que estava artificialmente zerada, voltou a ter agora em novembro 128 mil famílias com cadastro…'),\n",
              " ('RT @ElisePistola: Presidente Bolsonaro NÃO ESTÁ SOZINHO ‼️ \\n👉Vamos fazer teste de alcance com todos Retwittando e curtindo❓\\n👉Que der a 🇧🇷,e…',\n",
              "  'RT @GeorgMarques: A fila do Auxílio Brasil, que estava artificialmente zerada, voltou a ter agora em novembro 128 mil famílias com cadastro…',\n",
              "  '@HeyHipocrita Ele votou no Bolsonaro cara, ele mesmo falou no cara a tapa'),\n",
              " ('RT @GeorgMarques: A fila do Auxílio Brasil, que estava artificialmente zerada, voltou a ter agora em novembro 128 mil famílias com cadastro…',\n",
              "  '@HeyHipocrita Ele votou no Bolsonaro cara, ele mesmo falou no cara a tapa',\n",
              "  'RT @77_frota: Bom dia 🇧🇷 acordar em Brasilia dia 12 de Dezembro com a Diplomação do Lula às 14 h e sabendo que o Bolsonaro já não apita e n…'),\n",
              " ('@HeyHipocrita Ele votou no Bolsonaro cara, ele mesmo falou no cara a tapa',\n",
              "  'RT @77_frota: Bom dia 🇧🇷 acordar em Brasilia dia 12 de Dezembro com a Diplomação do Lula às 14 h e sabendo que o Bolsonaro já não apita e n…',\n",
              "  'RT @BeccohC: Moro no Japão e votei 22 em Oizumi.Fui renovar meu passaporte e acabei de descobrir que zeraram meu voto.Segundo o TSE eu me a…'),\n",
              " ('RT @77_frota: Bom dia 🇧🇷 acordar em Brasilia dia 12 de Dezembro com a Diplomação do Lula às 14 h e sabendo que o Bolsonaro já não apita e n…',\n",
              "  'RT @BeccohC: Moro no Japão e votei 22 em Oizumi.Fui renovar meu passaporte e acabei de descobrir que zeraram meu voto.Segundo o TSE eu me a…',\n",
              "  'RT @crisvalveslds: @IracemaHorta @BarrosVelloso @AlexanderBrasil Há alguns anos eu tinha desistido do Brasil e ido morar fora, mas Bolsonar…'),\n",
              " ('RT @BeccohC: Moro no Japão e votei 22 em Oizumi.Fui renovar meu passaporte e acabei de descobrir que zeraram meu voto.Segundo o TSE eu me a…',\n",
              "  'RT @crisvalveslds: @IracemaHorta @BarrosVelloso @AlexanderBrasil Há alguns anos eu tinha desistido do Brasil e ido morar fora, mas Bolsonar…',\n",
              "  'RT @brasil247: Filha de Bolsonaro é retirada de colégio militar após sofrer bullying https://t.co/roFiQjR64q'),\n",
              " ('RT @crisvalveslds: @IracemaHorta @BarrosVelloso @AlexanderBrasil Há alguns anos eu tinha desistido do Brasil e ido morar fora, mas Bolsonar…',\n",
              "  'RT @brasil247: Filha de Bolsonaro é retirada de colégio militar após sofrer bullying https://t.co/roFiQjR64q',\n",
              "  'RT @fabio_talhari: Bom dia, amigos! Esta é especialmente dirigida aos amigos que estão em Brasília: os portões do Palácio da Alvorada estão…'),\n",
              " ('RT @brasil247: Filha de Bolsonaro é retirada de colégio militar após sofrer bullying https://t.co/roFiQjR64q',\n",
              "  'RT @fabio_talhari: Bom dia, amigos! Esta é especialmente dirigida aos amigos que estão em Brasília: os portões do Palácio da Alvorada estão…',\n",
              "  '@dan_nc Bolsonaro não foi um desastre. O erro do bolsonaro foi não ter se vendido para a grande mídia e para o sist… https://t.co/Dcw1AsEOp5'),\n",
              " ('RT @fabio_talhari: Bom dia, amigos! Esta é especialmente dirigida aos amigos que estão em Brasília: os portões do Palácio da Alvorada estão…',\n",
              "  '@dan_nc Bolsonaro não foi um desastre. O erro do bolsonaro foi não ter se vendido para a grande mídia e para o sist… https://t.co/Dcw1AsEOp5',\n",
              "  'RT @GerinR91: Divulguem! Quanto mais irmãos conseguirem está lá para participar melhor!!\\nALVORADA É O PONTO!\\nPRESIDENTE BOLSONARO\\nO LADRÃO…'),\n",
              " ('@dan_nc Bolsonaro não foi um desastre. O erro do bolsonaro foi não ter se vendido para a grande mídia e para o sist… https://t.co/Dcw1AsEOp5',\n",
              "  'RT @GerinR91: Divulguem! Quanto mais irmãos conseguirem está lá para participar melhor!!\\nALVORADA É O PONTO!\\nPRESIDENTE BOLSONARO\\nO LADRÃO…',\n",
              "  'RT @JornalBSM: Matéria do UOL apontou que funcionários concursados da pasta teriam feito de tudo para prejudicar Bolsonaro. Em setembro, o…'),\n",
              " ('RT @GerinR91: Divulguem! Quanto mais irmãos conseguirem está lá para participar melhor!!\\nALVORADA É O PONTO!\\nPRESIDENTE BOLSONARO\\nO LADRÃO…',\n",
              "  'RT @JornalBSM: Matéria do UOL apontou que funcionários concursados da pasta teriam feito de tudo para prejudicar Bolsonaro. Em setembro, o…',\n",
              "  '@astro_pontes @reportersalles Senador me desculpe agora com o fervor das ruas isso não é apropriado o Sr. Ganhou um… https://t.co/84xVC7aJnR')]"
            ]
          },
          "metadata": {},
          "execution_count": 33
        }
      ]
    },
    {
      "cell_type": "code",
      "source": [],
      "metadata": {
        "id": "EeWTORvNZ49U"
      },
      "execution_count": null,
      "outputs": []
    },
    {
      "cell_type": "markdown",
      "source": [
        "## Tokenizando frases"
      ],
      "metadata": {
        "id": "H6helmYugfJl"
      }
    },
    {
      "cell_type": "code",
      "source": [
        "from nltk import sent_tokenize, word_tokenize"
      ],
      "metadata": {
        "id": "QD94e4TngggA"
      },
      "execution_count": null,
      "outputs": []
    },
    {
      "cell_type": "code",
      "source": [
        "word_tokenize(tweets)"
      ],
      "metadata": {
        "id": "mSGigh3DgnQo"
      },
      "execution_count": null,
      "outputs": []
    },
    {
      "cell_type": "code",
      "source": [],
      "metadata": {
        "id": "Ta-opKmWgtX7"
      },
      "execution_count": null,
      "outputs": []
    }
  ]
}